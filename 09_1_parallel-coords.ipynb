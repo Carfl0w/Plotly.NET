
        {
            "cells": [
          {
           "cell_type": "markdown",
           "metadata": {},
           
           "source": ["// can\u0027t yet format YamlFrontmatter ([\"title: Parallel coordinates\"; \"category: Categorical Charts\"; \"categoryindex: 10\"; \"index: 2\"], Some { StartLine = 2 StartColumn = 0 EndLine = 6 EndColumn = 8 }) to pynb markdown\n",
"\n"]
          }
,
          {
           "cell_type": "code",
           "metadata": {},
            "execution_count": null, "outputs": [], 
           "source": ["#r \"nuget: Plotly.NET, 2.0.0-preview.15\"\n",
"#r \"nuget: Plotly.NET.Interactive, 2.0.0-preview.15\"\n"]
          }
,
          {
           "cell_type": "markdown",
           "metadata": {},
           
           "source": ["# Parallel coordinates\n",
"\n",
"[![Binder](https://plotly.net/img/badge-binder.svg)](https://mybinder.org/v2/gh/plotly/Plotly.NET/gh-pages?filepath=09_1_parallel-coords.ipynb)\u0026emsp;\n",
"[![Script](https://plotly.net/img/badge-script.svg)](https://plotly.net/09_1_parallel-coords.fsx)\u0026emsp;\n",
"[![Notebook](https://plotly.net/img/badge-notebook.svg)](https://plotly.net/09_1_parallel-coords.ipynb)\n",
"\n",
"*Summary:* This example shows how to create parallel coordinates plot in F#.\n",
"\n",
"let\u0027s first create some data for the purpose of creating example charts:\n",
"\n",
"\n"]
          }
,
          {
           "cell_type": "code",
           "metadata": {},
            "execution_count": 3, "outputs": [], 
           "source": ["open Plotly.NET \n",
"\n",
"let data = \n",
"    [\n",
"        \"A\",[1.;4.;3.4;0.7;]\n",
"        \"B\",[3.;1.5;1.7;2.3;]\n",
"        \"C\",[2.;4.;3.1;5.]\n",
"        \"D\",[4.;2.;2.;4.;]\n",
"    ]\n"]
          }
,
          {
           "cell_type": "markdown",
           "metadata": {},
           
           "source": ["Parallel coordinates are a common way of visualizing high-dimensional geometry and analyzing multivariate data.\n",
"To show a set of points in an n-dimensional space, a backdrop is drawn consisting of n parallel lines, typically \n",
"vertical and equally spaced. A point in n-dimensional space is represented as a polyline with vertices on the parallel axes; \n",
"the position of the vertex on the i-th axis corresponds to the i-th coordinate of the point.\n",
"\n"]
          }
,
          {
           "cell_type": "code",
           "metadata": {},
            "execution_count": 4, "outputs": [], 
           "source": ["let parcoords1 =\n",
"    Chart.ParallelCoord(data,Color=Color.fromString \"blue\", UseDefaults = false)\n"]
          }
,
          {
           "cell_type": "code",
           "metadata": {},
            "execution_count": null, "outputs": [
          {
           "data": {
            "text/html": ["\u003cdiv id=\"d37f5cbc-e5cc-4de9-8771-b5052d8efc10\"\u003e\u003c!-- Plotly chart will be drawn inside this DIV --\u003e\u003c/div\u003e",
"\u003cscript type=\"text/javascript\"\u003e",
"",
"            var renderPlotly_d37f5cbce5cc4de98771b5052d8efc10 = function() {",
"            var fsharpPlotlyRequire = requirejs.config({context:\u0027fsharp-plotly\u0027,paths:{plotly:\u0027https://cdn.plot.ly/plotly-2.4.2.min\u0027}}) || require;",
"            fsharpPlotlyRequire([\u0027plotly\u0027], function(Plotly) {",
"",
"            var data = [{\"type\":\"parcoords\",\"dimensions\":[{\"label\":\"A\",\"values\":[1.0,4.0,3.4,0.7],\"axis\":{}},{\"label\":\"B\",\"values\":[3.0,1.5,1.7,2.3],\"axis\":{}},{\"label\":\"C\",\"values\":[2.0,4.0,3.1,5.0],\"axis\":{}},{\"label\":\"D\",\"values\":[4.0,2.0,2.0,4.0],\"axis\":{}}],\"line\":{\"color\":\"blue\"}}];",
"            var layout = {};",
"            var config = {};",
"            Plotly.newPlot(\u0027d37f5cbc-e5cc-4de9-8771-b5052d8efc10\u0027, data, layout, config);",
"});",
"            };",
"            if ((typeof(requirejs) !==  typeof(Function)) || (typeof(requirejs.config) !== typeof(Function))) {",
"                var script = document.createElement(\"script\");",
"                script.setAttribute(\"src\", \"https://cdnjs.cloudflare.com/ajax/libs/require.js/2.3.6/require.min.js\");",
"                script.onload = function(){",
"                    renderPlotly_d37f5cbce5cc4de98771b5052d8efc10();",
"                };",
"                document.getElementsByTagName(\"head\")[0].appendChild(script);",
"            }",
"            else {",
"                renderPlotly_d37f5cbce5cc4de98771b5052d8efc10();",
"            }",
"\u003c/script\u003e",
""]
        },
           "execution_count": null,
           "metadata": {},
           "output_type": "execute_result"
          }], 
           "source": ["parcoords1\n"]
          }
,
          {
           "cell_type": "code",
           "metadata": {},
            "execution_count": 6, "outputs": [], 
           "source": ["open Plotly.NET.TraceObjects\n",
"\n",
"// Dynamic object version\n",
"\n",
"let parcoords = \n",
"    let v = [|\n",
"        Dimension.initParallel(\n",
"            Values = [|1.;4.;|],  \n",
"            Range = StyleParam.Range.MinMax (1.,5.),\n",
"            ConstraintRange = StyleParam.Range.MinMax (1.,2.),\n",
"            Label=\"A\");\n",
"        Dimension.initParallel(\n",
"            Values = [|3.;1.5;|], \n",
"            Range = StyleParam.Range.MinMax (1.,5.),\n",
"            Label=\"B\",\n",
"            Tickvals=[|1.5;3.;4.;5.;|]);\n",
"        Dimension.initParallel(\n",
"            Values = [|2.;4.;|],  \n",
"            Range = StyleParam.Range.MinMax (1.,5.),\n",
"            Label= \"C\",\n",
"            Tickvals=[|1.;2.;4.;5.;|],\n",
"            TickText=[|\"txt 1\";\"txt 2\";\"txt 4\";\"txt 5\";|]);\n",
"        Dimension.initParallel(\n",
"            Values = [|4.;2.;|],  \n",
"            Range = StyleParam.Range.MinMax (1.,5.),\n",
"            Label=\"D\");\n",
"    |]\n",
"\n",
"    let dyn = Trace(\"parcoords\")\n",
"\n",
"    dyn?dimensions \u003c- v\n",
"    dyn?line \u003c- Line.init(Color =Color.fromString \"blue\")\n",
"\n",
"    dyn\n",
"    |\u003e GenericChart.ofTraceObject false\n"]
          }
,
          {
           "cell_type": "code",
           "metadata": {},
            "execution_count": null, "outputs": [
          {
           "data": {
            "text/html": ["\u003cdiv id=\"1832889c-28f2-43c3-bb8b-3ce959b1edb1\"\u003e\u003c!-- Plotly chart will be drawn inside this DIV --\u003e\u003c/div\u003e",
"\u003cscript type=\"text/javascript\"\u003e",
"",
"            var renderPlotly_1832889c28f243c3bb8b3ce959b1edb1 = function() {",
"            var fsharpPlotlyRequire = requirejs.config({context:\u0027fsharp-plotly\u0027,paths:{plotly:\u0027https://cdn.plot.ly/plotly-2.4.2.min\u0027}}) || require;",
"            fsharpPlotlyRequire([\u0027plotly\u0027], function(Plotly) {",
"",
"            var data = [{\"type\":\"parcoords\",\"dimensions\":[{\"label\":\"A\",\"values\":[1.0,4.0],\"constraintrange\":[1.0,2.0],\"range\":[1.0,5.0],\"axis\":{}},{\"label\":\"B\",\"values\":[3.0,1.5],\"range\":[1.0,5.0],\"tickvals\":[1.5,3.0,4.0,5.0],\"axis\":{}},{\"label\":\"C\",\"values\":[2.0,4.0],\"range\":[1.0,5.0],\"ticktext\":[\"txt 1\",\"txt 2\",\"txt 4\",\"txt 5\"],\"tickvals\":[1.0,2.0,4.0,5.0],\"axis\":{}},{\"label\":\"D\",\"values\":[4.0,2.0],\"range\":[1.0,5.0],\"axis\":{}}],\"line\":{\"color\":\"blue\"}}];",
"            var layout = {};",
"            var config = {};",
"            Plotly.newPlot(\u00271832889c-28f2-43c3-bb8b-3ce959b1edb1\u0027, data, layout, config);",
"});",
"            };",
"            if ((typeof(requirejs) !==  typeof(Function)) || (typeof(requirejs.config) !== typeof(Function))) {",
"                var script = document.createElement(\"script\");",
"                script.setAttribute(\"src\", \"https://cdnjs.cloudflare.com/ajax/libs/require.js/2.3.6/require.min.js\");",
"                script.onload = function(){",
"                    renderPlotly_1832889c28f243c3bb8b3ce959b1edb1();",
"                };",
"                document.getElementsByTagName(\"head\")[0].appendChild(script);",
"            }",
"            else {",
"                renderPlotly_1832889c28f243c3bb8b3ce959b1edb1();",
"            }",
"\u003c/script\u003e",
""]
        },
           "execution_count": null,
           "metadata": {},
           "output_type": "execute_result"
          }], 
           "source": ["parcoords\n"]
          }],
            "metadata": {
            "kernelspec": {"display_name": ".NET (F#)", "language": "F#", "name": ".net-fsharp"},
            "langauge_info": {
        "file_extension": ".fs",
        "mimetype": "text/x-fsharp",
        "name": "C#",
        "pygments_lexer": "fsharp",
        "version": "4.5"
        }
        },
            "nbformat": 4,
            "nbformat_minor": 1
        }
        

