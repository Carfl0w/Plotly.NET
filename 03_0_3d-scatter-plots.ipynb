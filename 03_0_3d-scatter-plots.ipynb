
        {
            "cells": [
          {
           "cell_type": "markdown",
           "metadata": {},
           
           "source": ["// can\u0027t yet format YamlFrontmatter ([\"title: 3D point and line charts\"; \"category: 3D Charts\"; \"categoryindex: 4\"; \"index: 1\"], Some { StartLine = 2 StartColumn = 0 EndLine = 6 EndColumn = 8 }) to pynb markdown\n",
"\n"]
          }
,
          {
           "cell_type": "code",
           "metadata": {},
            "execution_count": null, "outputs": [], 
           "source": ["#r \"nuget: Plotly.NET, 2.0.0-preview.12\"\n",
"#r \"nuget: Plotly.NET.Interactive, 2.0.0-preview.12\"\n"]
          }
,
          {
           "cell_type": "markdown",
           "metadata": {},
           
           "source": ["# 3D point plots\n",
"\n",
"[![Binder](https://plotly.net/img/badge-binder.svg)](https://mybinder.org/v2/gh/plotly/Plotly.NET/gh-pages?filepath=03_0_3d-scatter-plots.ipynb)\u0026emsp;\n",
"[![Script](https://plotly.net/img/badge-script.svg)](https://plotly.net/03_0_3d-scatter-plots.fsx)\u0026emsp;\n",
"[![Notebook](https://plotly.net/img/badge-notebook.svg)](https://plotly.net/03_0_3d-scatter-plots.ipynb)\n",
"\n",
"*Summary:* This example shows how to create three-dimensional point and line charts in F#.\n",
"\n",
"A Scatter3d chart report shows a three-dimensional spinnable view of your data\n",
"\n"]
          }
,
          {
           "cell_type": "code",
           "metadata": {},
            "execution_count": 3, "outputs": [], 
           "source": ["open Plotly.NET \n",
"  \n",
"let point3d = \n",
"    Chart.Point3d(\n",
"        [1,3,2; 6,5,4; 7,9,8],\n",
"        Labels = [\"A\"; \"B\"; \"C\"],\n",
"        TextPosition = StyleParam.TextPosition.BottomCenter\n",
"    )\n",
"    |\u003e Chart.withXAxisStyle(\"my x-axis\", Id=StyleParam.SubPlotId.Scene 1) // in contrast to 2D plots, x and y axes of 3D charts have to be set via the scene object\n",
"    |\u003e Chart.withYAxisStyle(\"my y-axis\", Id=StyleParam.SubPlotId.Scene 1) // in contrast to 2D plots, x and y axes of 3D charts have to be set via the scene object\n",
"    |\u003e Chart.withZAxisStyle(\"my z-axis\")\n",
"    |\u003e Chart.withSize(800.,800.)\n"]
          }
,
          {
           "cell_type": "code",
           "metadata": {},
            "execution_count": null, "outputs": [
          {
           "data": {
            "text/html": ["\u003cdiv id=\"f1eb64cc-f8c3-4724-944e-a6a9dc1edd4f\" style=\"width: 600px; height: 600px;\"\u003e\u003c!-- Plotly chart will be drawn inside this DIV --\u003e\u003c/div\u003e",
"\u003cscript type=\"text/javascript\"\u003e",
"",
"            var renderPlotly_f1eb64ccf8c34724944ea6a9dc1edd4f = function() {",
"            var fsharpPlotlyRequire = requirejs.config({context:\u0027fsharp-plotly\u0027,paths:{plotly:\u0027https://cdn.plot.ly/plotly-2.4.2.min\u0027}}) || require;",
"            fsharpPlotlyRequire([\u0027plotly\u0027], function(Plotly) {",
"",
"            var data = [{\"type\":\"scatter3d\",\"mode\":\"markers+text\",\"x\":[1,6,7],\"y\":[3,5,9],\"z\":[2,4,8],\"line\":{},\"marker\":{},\"text\":[\"A\",\"B\",\"C\"],\"textposition\":\"bottom center\"}];",
"            var layout = {\"scene\":{\"xaxis\":{\"title\":{\"text\":\"my x-axis\"}},\"yaxis\":{\"title\":{\"text\":\"my y-axis\"}},\"zaxis\":{\"title\":{\"text\":\"my z-axis\"}}},\"width\":800,\"height\":800};",
"            var config = {};",
"            Plotly.newPlot(\u0027f1eb64cc-f8c3-4724-944e-a6a9dc1edd4f\u0027, data, layout, config);",
"});",
"            };",
"            if ((typeof(requirejs) !==  typeof(Function)) || (typeof(requirejs.config) !== typeof(Function))) {",
"                var script = document.createElement(\"script\");",
"                script.setAttribute(\"src\", \"https://cdnjs.cloudflare.com/ajax/libs/require.js/2.3.6/require.min.js\");",
"                script.onload = function(){",
"                    renderPlotly_f1eb64ccf8c34724944ea6a9dc1edd4f();",
"                };",
"                document.getElementsByTagName(\"head\")[0].appendChild(script);",
"            }",
"            else {",
"                renderPlotly_f1eb64ccf8c34724944ea6a9dc1edd4f();",
"            }",
"\u003c/script\u003e",
""]
        },
           "execution_count": null,
           "metadata": {},
           "output_type": "execute_result"
          }], 
           "source": ["point3d\n"]
          }
,
          {
           "cell_type": "markdown",
           "metadata": {},
           
           "source": ["# 3D Line plots\n",
"\n"]
          }
,
          {
           "cell_type": "code",
           "metadata": {},
            "execution_count": 5, "outputs": [], 
           "source": ["let line3d = \n",
"    Chart.Line3d(\n",
"        [1,3,2; 6,5,4; 7,9,8],\n",
"        Labels = [\"A\"; \"B\"; \"C\"],\n",
"        TextPosition = StyleParam.TextPosition.BottomCenter,\n",
"        ShowMarkers = true\n",
"    )\n"]
          }
,
          {
           "cell_type": "code",
           "metadata": {},
            "execution_count": null, "outputs": [
          {
           "data": {
            "text/html": ["\u003cdiv id=\"4d682cd6-0473-4636-a9d8-bb69847cd922\" style=\"width: 600px; height: 600px;\"\u003e\u003c!-- Plotly chart will be drawn inside this DIV --\u003e\u003c/div\u003e",
"\u003cscript type=\"text/javascript\"\u003e",
"",
"            var renderPlotly_4d682cd604734636a9d8bb69847cd922 = function() {",
"            var fsharpPlotlyRequire = requirejs.config({context:\u0027fsharp-plotly\u0027,paths:{plotly:\u0027https://cdn.plot.ly/plotly-2.4.2.min\u0027}}) || require;",
"            fsharpPlotlyRequire([\u0027plotly\u0027], function(Plotly) {",
"",
"            var data = [{\"type\":\"scatter3d\",\"mode\":\"lines+markers+text\",\"x\":[1,6,7],\"y\":[3,5,9],\"z\":[2,4,8],\"line\":{},\"marker\":{},\"text\":[\"A\",\"B\",\"C\"],\"textposition\":\"bottom center\"}];",
"            var layout = {};",
"            var config = {};",
"            Plotly.newPlot(\u00274d682cd6-0473-4636-a9d8-bb69847cd922\u0027, data, layout, config);",
"});",
"            };",
"            if ((typeof(requirejs) !==  typeof(Function)) || (typeof(requirejs.config) !== typeof(Function))) {",
"                var script = document.createElement(\"script\");",
"                script.setAttribute(\"src\", \"https://cdnjs.cloudflare.com/ajax/libs/require.js/2.3.6/require.min.js\");",
"                script.onload = function(){",
"                    renderPlotly_4d682cd604734636a9d8bb69847cd922();",
"                };",
"                document.getElementsByTagName(\"head\")[0].appendChild(script);",
"            }",
"            else {",
"                renderPlotly_4d682cd604734636a9d8bb69847cd922();",
"            }",
"\u003c/script\u003e",
""]
        },
           "execution_count": null,
           "metadata": {},
           "output_type": "execute_result"
          }], 
           "source": ["line3d\n"]
          }
,
          {
           "cell_type": "markdown",
           "metadata": {},
           
           "source": ["# 3D Bubble plots\n",
"\n"]
          }
,
          {
           "cell_type": "code",
           "metadata": {},
            "execution_count": 7, "outputs": [], 
           "source": ["let bubble3d =\n",
"    Chart.Bubble3d(\n",
"        [1,3,2; 6,5,4; 7,9,8],\n",
"        [10;20;30],\n",
"        Labels = [\"A\"; \"B\"; \"C\"],\n",
"        TextPosition = StyleParam.TextPosition.BottomCenter\n",
"    )\n"]
          }
,
          {
           "cell_type": "code",
           "metadata": {},
            "execution_count": null, "outputs": [
          {
           "data": {
            "text/html": ["\u003cdiv id=\"ca2c103f-5762-4f1e-81e2-ecda71a6123c\" style=\"width: 600px; height: 600px;\"\u003e\u003c!-- Plotly chart will be drawn inside this DIV --\u003e\u003c/div\u003e",
"\u003cscript type=\"text/javascript\"\u003e",
"",
"            var renderPlotly_ca2c103f57624f1e81e2ecda71a6123c = function() {",
"            var fsharpPlotlyRequire = requirejs.config({context:\u0027fsharp-plotly\u0027,paths:{plotly:\u0027https://cdn.plot.ly/plotly-2.4.2.min\u0027}}) || require;",
"            fsharpPlotlyRequire([\u0027plotly\u0027], function(Plotly) {",
"",
"            var data = [{\"type\":\"scatter3d\",\"mode\":\"markers+text\",\"x\":[1,6,7],\"y\":[3,5,9],\"z\":[2,4,8],\"marker\":{\"size\":[10,20,30]},\"text\":[\"A\",\"B\",\"C\"],\"textposition\":\"bottom center\"}];",
"            var layout = {};",
"            var config = {};",
"            Plotly.newPlot(\u0027ca2c103f-5762-4f1e-81e2-ecda71a6123c\u0027, data, layout, config);",
"});",
"            };",
"            if ((typeof(requirejs) !==  typeof(Function)) || (typeof(requirejs.config) !== typeof(Function))) {",
"                var script = document.createElement(\"script\");",
"                script.setAttribute(\"src\", \"https://cdnjs.cloudflare.com/ajax/libs/require.js/2.3.6/require.min.js\");",
"                script.onload = function(){",
"                    renderPlotly_ca2c103f57624f1e81e2ecda71a6123c();",
"                };",
"                document.getElementsByTagName(\"head\")[0].appendChild(script);",
"            }",
"            else {",
"                renderPlotly_ca2c103f57624f1e81e2ecda71a6123c();",
"            }",
"\u003c/script\u003e",
""]
        },
           "execution_count": null,
           "metadata": {},
           "output_type": "execute_result"
          }], 
           "source": ["bubble3d\n"]
          }],
            "metadata": {
            "kernelspec": {"display_name": ".NET (F#)", "language": "F#", "name": ".net-fsharp"},
            "langauge_info": {
        "file_extension": ".fs",
        "mimetype": "text/x-fsharp",
        "name": "C#",
        "pygments_lexer": "fsharp",
        "version": "4.5"
        }
        },
            "nbformat": 4,
            "nbformat_minor": 1
        }
        

