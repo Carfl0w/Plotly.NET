
        {
            "cells": [
          {
           "cell_type": "code",
           "metadata": {},
            "execution_count": null, "outputs": [], 
           "source": ["#r \"nuget: Plotly.NET, 2.0.0-beta1\"\n",
"#r \"nuget: Plotly.NET.Interactive, 2.0.0-alpha5\"\n"]
          }
,
          {
           "cell_type": "markdown",
           "metadata": {},
           
           "source": ["# Bar and column charts\n",
"\n",
"[![Binder](https://mybinder.org/badge_logo.svg)](https://mybinder.org/v2/gh/plotly/Plotly.NET/gh-pages?filepath=bar-and-column-charts.ipynb)\n",
"\n",
"*Summary:* This example shows how to create bar and a column charts in F#.\n",
"\n",
"let\u0027s first create some data for the purpose of creating example charts:\n"]
          }
,
          {
           "cell_type": "code",
           "metadata": {},
            "execution_count": 3, "outputs": [], 
           "source": ["open Plotly.NET \n",
"  \n",
"let values = [20; 14; 23;]\n",
"let keys   = [\"Product A\"; \"Product B\"; \"Product C\";]\n"]
          }
,
          {
           "cell_type": "markdown",
           "metadata": {},
           
           "source": ["A bar chart or bar graph is a chart that presents grouped data with rectangular bars with \n",
"lengths proportional to the values that they represent. The bars can be plotted vertically\n",
"or horizontally. A vertical bar chart is called a column bar chart.\n",
"\n",
"### Column Charts\n"]
          }
,
          {
           "cell_type": "code",
           "metadata": {},
            "execution_count": 4, "outputs": [], 
           "source": ["let column = Chart.Column(keys,values)\n"]
          }
,
          {
           "cell_type": "code",
           "metadata": {},
            "execution_count": null, "outputs": [
          {
           "data": {
            "text/plain": ["No value returned by any evaluator"]
        },
           "execution_count": null,
           "metadata": {},
           "output_type": "execute_result"
          }], 
           "source": ["column\n"]
          }
,
          {
           "cell_type": "markdown",
           "metadata": {},
           
           "source": ["### Bar Charts\n"]
          }
,
          {
           "cell_type": "code",
           "metadata": {},
            "execution_count": 6, "outputs": [], 
           "source": ["let bar =\n",
"    Chart.Bar(keys,values)\n"]
          }
,
          {
           "cell_type": "code",
           "metadata": {},
            "execution_count": null, "outputs": [
          {
           "data": {
            "text/plain": ["No value returned by any evaluator"]
        },
           "execution_count": null,
           "metadata": {},
           "output_type": "execute_result"
          }], 
           "source": ["bar\n"]
          }
,
          {
           "cell_type": "markdown",
           "metadata": {},
           
           "source": ["## Stacked bar chart or column charts\n",
"The following example shows how to create a stacked bar chart by combining bar charts created by combining multiple `Chart.StackedBar` charts: \n",
"\n",
"### Stacked bar Charts\n"]
          }
,
          {
           "cell_type": "code",
           "metadata": {},
            "execution_count": 8, "outputs": [], 
           "source": ["let stackedBar =\n",
"    [\n",
"        Chart.StackedBar(keys,values,Name=\"old\");\n",
"        Chart.StackedBar(keys,[8; 21; 13;],Name=\"new\")\n",
"    ]\n",
"    |\u003e Chart.Combine\n"]
          }
,
          {
           "cell_type": "code",
           "metadata": {},
            "execution_count": null, "outputs": [
          {
           "data": {
            "text/plain": ["No value returned by any evaluator"]
        },
           "execution_count": null,
           "metadata": {},
           "output_type": "execute_result"
          }], 
           "source": ["stackedBar\n"]
          }
,
          {
           "cell_type": "code",
           "metadata": {},
            "execution_count": 10, "outputs": [], 
           "source": ["(*\n",
"### Stacked bar Charts\n",
"*)\n",
"\n",
"let stackedColumn =\n",
"    [\n",
"        Chart.StackedColumn(keys,values,Name=\"old\");\n",
"        Chart.StackedColumn(keys,[8; 21; 13;],Name=\"new\")\n",
"    ]\n",
"    |\u003e Chart.Combine\n"]
          }
,
          {
           "cell_type": "code",
           "metadata": {},
            "execution_count": null, "outputs": [
          {
           "data": {
            "text/plain": ["No value returned by any evaluator"]
        },
           "execution_count": null,
           "metadata": {},
           "output_type": "execute_result"
          }], 
           "source": ["stackedColumn\n"]
          }],
            "metadata": {
            "kernelspec": {"display_name": ".NET (F#)", "language": "F#", "name": ".net-fsharp"},
            "langauge_info": {
        "file_extension": ".fs",
        "mimetype": "text/x-fsharp",
        "name": "C#",
        "pygments_lexer": "fsharp",
        "version": "4.5"
        }
        },
            "nbformat": 4,
            "nbformat_minor": 1
        }
        

