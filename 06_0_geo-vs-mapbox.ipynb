
        {
            "cells": [
          {
           "cell_type": "markdown",
           "metadata": {},
           
           "source": ["// can\u0027t yet format YamlFrontmatter ([\"title: Geo vs. Mapbox\"; \"category: Mapbox map charts\"; \"categoryindex: 7\"; \"index: 1\"], Some { StartLine = 2 StartColumn = 0 EndLine = 6 EndColumn = 8 }) to pynb markdown\n",
"\n"]
          }
,
          {
           "cell_type": "code",
           "metadata": {},
            "execution_count": null, "outputs": [], 
           "source": ["#r \"nuget: Plotly.NET, 2.0.0-preview.12\"\n",
"#r \"nuget: Plotly.NET.Interactive, 2.0.0-preview.12\"\n"]
          }
,
          {
           "cell_type": "markdown",
           "metadata": {},
           
           "source": ["# Mapbox Maps vs Geo Maps\n",
"\n",
"[![Binder](https://plotly.net/img/badge-binder.svg)](https://mybinder.org/v2/gh/plotly/Plotly.NET/gh-pages?filepath=06_0_geo-vs-mapbox.ipynb)\u0026emsp;\n",
"[![Script](https://plotly.net/img/badge-script.svg)](https://plotly.net/06_0_geo-vs-mapbox.fsx)\u0026emsp;\n",
"[![Notebook](https://plotly.net/img/badge-notebook.svg)](https://plotly.net/06_0_geo-vs-mapbox.ipynb)\n",
"\n",
"*Summary:* This introduction shows the differences between Geo and Mapbox based geographical charts.\n",
"\n",
"Plotly and therefore Plotly.NET supports two different kinds of maps:\n",
"\n",
"- **Mapbox maps** are tile-based maps. If your figure is created with a `Chart.*Mapbox` function or otherwise contains one or more traces of type `scattermapbox`, \n",
"    `choroplethmapbox` or `densitymapbox`, the layout.mapbox object in your figure contains configuration information for the map itself.\n",
"    \n",
"- **Geo maps** are outline-based maps. If your figure is created with a `Chart.ScatterGeo, `Chart.PointGeo`, `Chart.LineGeo` or `Chart.Choropleth` function or \n",
"    otherwise contains one or more traces of type `scattergeo` or `choropleth`, the layout.geo object in your figure contains configuration information for the map itself.\n",
"    \n",
"_This page documents Mapbox tile-based maps, and the [Geo map documentation](https://plotly.net//05_0_geo-vs-mapbox.html) describes how to configure outline-based maps_\n",
"\n",
"## How Layers Work in Mapbox Tile Maps\n",
"\n",
"Mapbox tile maps are composed of various layers, of three different types:\n",
"\n",
"- the `style` property of the `Mapbox` object defines is the lowest layers, also known as your \"base map\"\n",
"- The various traces in data are by default rendered above the base map (although this can be controlled via the below attribute).\n",
"- the `layers` property of the `Mapbox` object is an array that defines more layers that are by default rendered above the traces in data (although this can also be controlled via the below attribute).\n",
"    \n",
"a `Mapbox` object where these properties can be set can be initialized via `Mapbox.init`. To use it in a chart, use the `Chart.withMapbox` function:\n",
"\n"]
          }
,
          {
           "cell_type": "code",
           "metadata": {},
            "execution_count": 3, "outputs": [], 
           "source": ["open Plotly.NET\n",
"open Plotly.NET.LayoutObjects\n",
"\n",
"// a simple Mapbox with a OpenStreetMap base layer.\n",
"let mb =\n",
"    Mapbox.init(\n",
"        Style = StyleParam.MapboxStyle.OpenStreetMap\n",
"    )\n",
"\n",
"let baseLayerOnly = \n",
"    Chart.PointMapbox([],[]) // deliberately empty chart to show the base map only\n",
"    |\u003e Chart.withMapbox mb // add the mapBox\n"]
          }
,
          {
           "cell_type": "code",
           "metadata": {},
            "execution_count": null, "outputs": [
          {
           "data": {
            "text/html": ["\u003cdiv id=\"dbe2db6b-c8cd-42dc-83ee-b5cc738c0988\" style=\"width: 600px; height: 600px;\"\u003e\u003c!-- Plotly chart will be drawn inside this DIV --\u003e\u003c/div\u003e",
"\u003cscript type=\"text/javascript\"\u003e",
"",
"            var renderPlotly_dbe2db6bc8cd42dc83eeb5cc738c0988 = function() {",
"            var fsharpPlotlyRequire = requirejs.config({context:\u0027fsharp-plotly\u0027,paths:{plotly:\u0027https://cdn.plot.ly/plotly-2.4.2.min\u0027}}) || require;",
"            fsharpPlotlyRequire([\u0027plotly\u0027], function(Plotly) {",
"",
"            var data = [{\"type\":\"scattermapbox\",\"mode\":\"markers\",\"lon\":[],\"lat\":[],\"line\":{},\"marker\":{}}];",
"            var layout = {\"mapbox\":{\"style\":\"open-street-map\"}};",
"            var config = {};",
"            Plotly.newPlot(\u0027dbe2db6b-c8cd-42dc-83ee-b5cc738c0988\u0027, data, layout, config);",
"});",
"            };",
"            if ((typeof(requirejs) !==  typeof(Function)) || (typeof(requirejs.config) !== typeof(Function))) {",
"                var script = document.createElement(\"script\");",
"                script.setAttribute(\"src\", \"https://cdnjs.cloudflare.com/ajax/libs/require.js/2.3.6/require.min.js\");",
"                script.onload = function(){",
"                    renderPlotly_dbe2db6bc8cd42dc83eeb5cc738c0988();",
"                };",
"                document.getElementsByTagName(\"head\")[0].appendChild(script);",
"            }",
"            else {",
"                renderPlotly_dbe2db6bc8cd42dc83eeb5cc738c0988();",
"            }",
"\u003c/script\u003e",
""]
        },
           "execution_count": null,
           "metadata": {},
           "output_type": "execute_result"
          }], 
           "source": ["baseLayerOnly\n"]
          }
,
          {
           "cell_type": "markdown",
           "metadata": {},
           
           "source": ["## Mapbox Access Tokens and When You Need Them\n",
"\n",
"The word \"mapbox\" in the trace names and layout.mapbox refers to the Mapbox GL JS open-source library, which is integrated into Plotly.NET. \n",
"\n",
"If your basemap uses data from the Mapbox service, then you will need to register for a free account at https://mapbox.com/ \n",
"and obtain a Mapbox Access token. \n",
"\n",
"This token should be provided via the `AccessToken` property:\n",
"\n"]
          }
,
          {
           "cell_type": "code",
           "metadata": {},
            "execution_count": 5, "outputs": [], 
           "source": ["let mbWithToken =\n",
"    Mapbox.init(\n",
"        Style = StyleParam.MapboxStyle.OpenStreetMap,\n",
"        AccessToken = \"your_token_here\"\n",
"    )\n"]
          }
,
          {
           "cell_type": "markdown",
           "metadata": {},
           
           "source": ["If your base map does not use data from the Mapbox service, you do not need to register for a Mapbox account.\n",
"\n",
"## Base Maps\n",
"\n",
"- `WhiteBG` yields an empty white canvas which results in no external HTTP requests\n",
"- The plotly presets yield maps composed of raster tiles from various public tile servers which do not require signups or access tokens\n",
"- The Mapbox presets yield maps composed of vector tiles from the Mapbox service, and do require a Mapbox Access Token or an on-premise Mapbox installation.\n",
"- Use `StyleParam.MapboxStyle.Custom` for:\n",
"    - Mapbox service style URL, which requires a Mapbox Access Token or an on-premise Mapbox installation.\n",
"    - A Mapbox Style object as defined at https://docs.mapbox.com/mapbox-gl-js/style-spec/\n",
"\n",
"\n",
"The accepted values for the `style` property of the `Mapbox` object are represented in `StyleParam.MapboxStyle`:\n",
"\n",
"\n"]
          }
,
          {
           "cell_type": "code",
           "metadata": {},
            "execution_count": 6, "outputs": [], 
           "source": ["type MapboxStyle =\n",
"    // plotly presets, no token needed\n",
"    | WhiteBG\n",
"    | OpenStreetMap\n",
"    | CartoPositron\n",
"    | CartoDarkmatter\n",
"    | StamenTerrain\n",
"    | StamenToner\n",
"    | StamenWatercolor\n",
"\n",
"    // Mapbox presets, you might need a free token\n",
"    | MapboxBasic\n",
"    | MapboxStreets\n",
"    | MapboxOutdoors\n",
"    | MapboxLight\n",
"    | MapboxDark\n",
"    | MapboxSatellite\n",
"    | MapboxSatelliteStreets\n",
"\n",
"    //Custom - provide custom maps\n",
"    | Custom of string\n"]
          }],
            "metadata": {
            "kernelspec": {"display_name": ".NET (F#)", "language": "F#", "name": ".net-fsharp"},
            "langauge_info": {
        "file_extension": ".fs",
        "mimetype": "text/x-fsharp",
        "name": "C#",
        "pygments_lexer": "fsharp",
        "version": "4.5"
        }
        },
            "nbformat": 4,
            "nbformat_minor": 1
        }
        

