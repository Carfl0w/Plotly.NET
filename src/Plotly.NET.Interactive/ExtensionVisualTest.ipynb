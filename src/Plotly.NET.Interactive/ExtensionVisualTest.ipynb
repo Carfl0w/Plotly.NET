{
 "cells": [
  {
   "cell_type": "code",
   "execution_count": null,
   "metadata": {
    "dotnet_interactive": {
     "language": "pwsh"
    }
   },
   "outputs": [],
   "source": [
    "# notebook paths should be absolute - change this for your setup\r\n",
    "$projectRootDir = \"/path/to/your/project/Plotly.NET\"\r\n",
    "cd $projectRootDir\r\n",
    "\r\n",
    "dotnet tool restore\r\n",
    "dotnet fake build\r\n",
    "\r\n",
    "# changing versions here if you try out a new version helps you to bust the nuget cache\r\n",
    "# you still have to restart your notebook kernel, though, if you already loaded a package\r\n",
    "dotnet pack /p:PackageVersion=2.0.0-dev4 -o \"$projectRootDir/pkg\"\r\n",
    "\r\n",
    "ls \"$projectRootDir/pkg\""
   ]
  },
  {
   "cell_type": "code",
   "execution_count": null,
   "metadata": {
    "dotnet_interactive": {
     "language": "fsharp"
    }
   },
   "outputs": [
    {
     "data": {
      "text/html": "<div><strong>Restore sources</strong><ul><li><span> C:/Users/grego/source/repos/Plotly.NET/pkg</span></li></ul></div>"
     },
     "output_type": "unknown"
    },
    {
     "data": {
      "text/plain": "Installed package Plotly.NET.Interactive version 2.0.0-dev4"
     },
     "output_type": "unknown"
    },
    {
     "data": {
      "text/plain": "Installed package Plotly.NET version 2.0.0-dev4"
     },
     "output_type": "unknown"
    },
    {
     "data": {
      "text/markdown": "Loading extensions from `Plotly.NET.Interactive.dll`"
     },
     "output_type": "unknown"
    },
    {
     "data": {
      "text/markdown": "Added Kernel Extension including formatters for GenericChart"
     },
     "output_type": "unknown"
    }
   ],
   "source": [
    "// be advised, that you always should set absolute paths for local nuget packages - change this to reflect your own setup\r\n",
    "#i \"nuget: /path/to/your/project/Plotly.NET/pkg\"\r\n",
    "#r \"nuget: Plotly.NET, 2.0.0-dev4\"\r\n",
    "#r \"nuget: Plotly.NET.Interactive, 2.0.0-dev4\""
   ]
  },
  {
   "cell_type": "code",
   "execution_count": null,
   "metadata": {
    "dotnet_interactive": {
     "language": "fsharp"
    }
   },
   "outputs": [
    {
     "data": {
      "text/html": "<div id=\"17f1bcde-e8b1-4490-bf76-14bd936c9aa0\" style=\"width: 600px; height: 600px;\"><!-- Plotly chart will be drawn inside this DIV --></div>\r\n<script type=\"text/javascript\">\r\n\n            var renderPlotly_17f1bcdee8b14490bf7614bd936c9aa0 = function() {\n            var fsharpPlotlyRequire = requirejs.config({context:'fsharp-plotly',paths:{plotly:'https://cdn.plot.ly/plotly-latest.min'}}) || require;\n            fsharpPlotlyRequire(['plotly'], function(Plotly) {\r\n\n            var data = [{\"type\":\"scatter\",\"x\":[-20.0,-19.0,-18.0,-17.0,-16.0,-15.0,-14.0,-13.0,-12.0,-11.0,-10.0,-9.0,-8.0,-7.0,-6.0,-5.0,-4.0,-3.0,-2.0,-1.0,0.0,1.0,2.0,3.0,4.0,5.0,6.0,7.0,8.0,9.0,10.0,11.0,12.0,13.0,14.0,15.0,16.0,17.0,18.0,19.0,20.0],\"y\":[400.0,361.0,324.0,289.0,256.0,225.0,196.0,169.0,144.0,121.0,100.0,81.0,64.0,49.0,36.0,25.0,16.0,9.0,4.0,1.0,0.0,1.0,4.0,9.0,16.0,25.0,36.0,49.0,64.0,81.0,100.0,121.0,144.0,169.0,196.0,225.0,256.0,289.0,324.0,361.0,400.0],\"mode\":\"markers\",\"marker\":{}}];\n            var layout = {};\n            var config = {};\n            Plotly.newPlot('17f1bcde-e8b1-4490-bf76-14bd936c9aa0', data, layout, config);\r\n});\n            };\n            if ((typeof(requirejs) !==  typeof(Function)) || (typeof(requirejs.config) !== typeof(Function))) {\n                var script = document.createElement(\"script\");\n                script.setAttribute(\"src\", \"https://cdnjs.cloudflare.com/ajax/libs/require.js/2.3.6/require.min.js\");\n                script.onload = function(){\n                    renderPlotly_17f1bcdee8b14490bf7614bd936c9aa0();\n                };\n                document.getElementsByTagName(\"head\")[0].appendChild(script);\n            }\n            else {\n                renderPlotly_17f1bcdee8b14490bf7614bd936c9aa0();\n            }\r\n</script>\r\n"
     },
     "output_type": "unknown"
    }
   ],
   "source": [
    "open Plotly.NET\r\n",
    "\r\n",
    "let xs = [ -20f..20f ]\r\n",
    "let ys = [ for x in xs do x ** 2f ]\r\n",
    "\r\n",
    "List.zip xs ys\r\n",
    "|> Chart.Point"
   ]
  }
 ],
 "metadata": {
  "kernelspec": {
   "display_name": ".NET (C#)",
   "language": "C#",
   "name": ".net-csharp"
  },
  "language_info": {
   "file_extension": ".cs",
   "mimetype": "text/x-csharp",
   "name": "csharp",
   "pygments_lexer": "csharp",
   "version": "8.0"
  }
 },
 "nbformat": 4,
 "nbformat_minor": 4
}