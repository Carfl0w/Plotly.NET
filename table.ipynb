
        {
            "cells": [
          {
           "cell_type": "code",
           "metadata": {},
            "execution_count": null, "outputs": [], 
           "source": ["#r \"nuget: Plotly.NET, 2.0.0-beta1\"\n",
"#r \"nuget: Plotly.NET.Interactive, 2.0.0-alpha5\"\n"]
          }
,
          {
           "cell_type": "markdown",
           "metadata": {},
           
           "source": ["# Tables\n",
"\n",
"[![Binder](https://mybinder.org/badge_logo.svg)](https://mybinder.org/v2/gh/plotly/Plotly.NET/gh-pages?filepath=table.ipynb)\n",
"\n",
"This example shows how to create tables in F#.\n",
"\n",
"let\u0027s first create some data for the purpose of creating example charts:\n",
"\n"]
          }
,
          {
           "cell_type": "code",
           "metadata": {},
            "execution_count": 3, "outputs": [], 
           "source": ["open Plotly.NET \n",
"open Plotly.NET.StyleParam\n",
"  \n",
"let header = [\"\u003cb\u003eRowIndex\u003c/b\u003e\";\"A\";\"simple\";\"table\"]\n",
"let rows = \n",
"    [\n",
"     [\"0\";\"I\"     ;\"am\"     ;\"a\"]        \n",
"     [\"1\";\"little\";\"example\";\"!\"]       \n",
"    ]\n",
"\n",
"\n",
"let table1 = Chart.Table(header, rows)\n"]
          }
,
          {
           "cell_type": "code",
           "metadata": {},
            "execution_count": null, "outputs": [
          {
           "data": {
            "text/plain": ["No value returned by any evaluator"]
        },
           "execution_count": null,
           "metadata": {},
           "output_type": "execute_result"
          }], 
           "source": ["table1\n"]
          }
,
          {
           "cell_type": "markdown",
           "metadata": {},
           
           "source": ["A little bit of styling:\n"]
          }
,
          {
           "cell_type": "code",
           "metadata": {},
            "execution_count": 5, "outputs": [], 
           "source": ["let table2 =\n",
"    Chart.Table(\n",
"        header,\n",
"        rows,\n",
"        //sets global header alignment\n",
"        AlignHeader = [HorizontalAlign.Center],\n",
"        //sets alignment for each column separately \n",
"        //(The last alignment is applied to all potential following columns)\n",
"        AlignCells  = [HorizontalAlign.Left;HorizontalAlign.Center;HorizontalAlign.Right],\n",
"        //sets global header color\n",
"        ColorHeader = \"#45546a\",    \n",
"        //sets specific color to each header column\n",
"        //ColorHeader=[\"#45546a\";\"#deebf7\";\"#45546a\";\"#deebf7\"],    \n",
"        //sets global cell color\n",
"        //ColorRows = \"#deebf7\",\n",
"        //sets cell column colors\n",
"        ColorCells  = [\"#deebf7\";\"lightgrey\";\"#deebf7\";\"lightgrey\"],\n",
"        //sets cell row colors\n",
"        //ColorCells=[[\"#deebf7\";\"lightgrey\"]],\n",
"        //sets font of header\n",
"        FontHeader  = Font.init(FontFamily.Courier_New, Size=12, Color=\"white\"),      \n",
"        //sets the height of the header\n",
"        HeightHeader= 30.,\n",
"        //sets lines of header\n",
"        LineHeader  = Line.init(2.,\"black\"),                     \n",
"        ColumnWidth = [70;50;100;70],      \n",
"        //defines order of columns\n",
"        ColumnOrder = [1;2;3;4]                                  \n",
"        )\n"]
          }
,
          {
           "cell_type": "code",
           "metadata": {},
            "execution_count": null, "outputs": [
          {
           "data": {
            "text/plain": ["No value returned by any evaluator"]
        },
           "execution_count": null,
           "metadata": {},
           "output_type": "execute_result"
          }], 
           "source": ["table2\n"]
          }
,
          {
           "cell_type": "markdown",
           "metadata": {},
           
           "source": ["Value dependent cell coloring:\n"]
          }
,
          {
           "cell_type": "code",
           "metadata": {},
            "execution_count": 7, "outputs": [], 
           "source": ["let header2 = [\"Identifier\";\"T0\";\"T1\";\"T2\";\"T3\"]\n",
"let rowvalues = \n",
"    [\n",
"     [10001.;0.2;2.0;4.0;5.0]\n",
"     [10002.;2.1;2.0;1.8;2.1]\n",
"     [10003.;4.5;3.0;2.0;2.5]\n",
"     [10004.;0.0;0.1;0.3;0.2]\n",
"     [10005.;1.0;1.6;1.8;2.2]\n",
"     [10006.;1.0;0.8;1.5;0.7]\n",
"     [10007.;2.0;2.0;2.1;1.9]\n",
"    ]\n",
"    |\u003e Seq.sortBy (fun x -\u003e x.[1])\n",
"\n",
"//map color from value to hex representation\n",
"let mapColor min max value = \n",
"    let proportion = \n",
"        (255. * (value - min) / (max - min))\n",
"        |\u003e int\n",
"    Colors.fromRgb 255 (255 - proportion) proportion\n",
"    |\u003e Colors.toWebColor\n",
"    \n",
"//Assign a color to every cell seperately. Matrix must be transposed for correct orientation.\n",
"let cellcolor = \n",
"     rowvalues\n",
"     |\u003e Seq.map (fun row -\u003e\n",
"        row \n",
"        |\u003e Seq.mapi (fun index value -\u003e \n",
"            if index = 0 then \"white\"\n",
"            else mapColor 0. 5. value\n",
"            )\n",
"        )\n",
"    |\u003e Seq.transpose\n",
"\n",
"let table3 = Chart.Table(header2,rowvalues,ColorCells=cellcolor)\n"]
          }
,
          {
           "cell_type": "code",
           "metadata": {},
            "execution_count": null, "outputs": [
          {
           "data": {
            "text/plain": ["No value returned by any evaluator"]
        },
           "execution_count": null,
           "metadata": {},
           "output_type": "execute_result"
          }], 
           "source": ["table3\n"]
          }
,
          {
           "cell_type": "markdown",
           "metadata": {},
           
           "source": ["Sequence representation:\n",
"\n"]
          }
,
          {
           "cell_type": "code",
           "metadata": {},
            "execution_count": 9, "outputs": [], 
           "source": ["let sequence =\n",
"        [\n",
"        \"ATGAGACGTCGAGACTGATAGACGTCGATAGACGTCGATAGACCG\"\n",
"        \"ATAGACTCGTGATAGACGTCGATAGACGTCGATAGAGTATAGACC\"\n",
"        \"GTGATAGACGTCGAGAAGACGTCGATAGACGTCGATAGACGTCGA\"\n",
"        \"TAGAGATAGACGTCGATAGACCGTATAGAAGACGTCGATAGATAG\"\n",
"        \"ACGTCGATAGACCGTAGACGTCGATAGACGTCGATAGACCGT\"\n",
"        ]\n",
"        |\u003e String.concat \"\"\n",
"\n",
"let elementsPerRow = 60\n",
"\n",
"let headers = \n",
"    [0..elementsPerRow] \n",
"    |\u003e Seq.map (fun x -\u003e \n",
"        if x%10=0 \u0026\u0026 x \u003c\u003e 0 then \"|\" \n",
"        else \"\"\n",
"        )\n",
"\n",
"let cells = \n",
"    sequence\n",
"    |\u003e Seq.chunkBySize elementsPerRow\n",
"    |\u003e Seq.mapi (fun i x -\u003e Seq.append [string (i * elementsPerRow)] (Seq.map string x))\n",
"\n",
"let cellcolors =\n",
"    cells\n",
"    |\u003e Seq.map (fun row -\u003e \n",
"        row \n",
"        |\u003e Seq.map (fun element -\u003e \n",
"            match element with\n",
"            //colors taken from DRuMS \n",
"            //(http://biomodel.uah.es/en/model4/dna/atgc.htm)\n",
"            | \"A\" -\u003e \"#5050FF\" \n",
"            | \"T\" -\u003e \"#E6E600\"\n",
"            | \"G\" -\u003e \"#00C000\"\n",
"            | \"C\" -\u003e \"#E00000\"\n",
"            | \"U\" -\u003e \"#B48100\"\n",
"            | _   -\u003e \"white\"\n",
"            )\n",
"        )\n",
"    |\u003e Seq.transpose\n",
"    |\u003e Seq.map (fun x -\u003e Seq.append x (seq [\"white\"]))\n",
"\n",
"let font = Font.init(FontFamily.Consolas,Size=14)\n",
"let line = Line.init(0,\"white\")\n",
"let chartwidth = 50. + 10. * float elementsPerRow\n",
"\n",
"let table4 =\n",
"    Chart.Table(\n",
"        headers,\n",
"        cells,\n",
"        LineCells   = line,\n",
"        LineHeader  = line,\n",
"        HeightCells = 20,\n",
"        FontHeader  = font,\n",
"        FontCells   = font,\n",
"        ColumnWidth = [50;10],\n",
"        AlignCells  = [HorizontalAlign.Right;HorizontalAlign.Center],\n",
"        ColorCells  = cellcolors\n",
"        )\n",
"    |\u003e Chart.withSize(chartwidth,nan)\n",
"    |\u003e Chart.withTitle \"Sequence A\"\n"]
          }
,
          {
           "cell_type": "code",
           "metadata": {},
            "execution_count": null, "outputs": [
          {
           "data": {
            "text/plain": ["No value returned by any evaluator"]
        },
           "execution_count": null,
           "metadata": {},
           "output_type": "execute_result"
          }], 
           "source": ["table4\n"]
          }],
            "metadata": {
            "kernelspec": {"display_name": ".NET (F#)", "language": "F#", "name": ".net-fsharp"},
            "langauge_info": {
        "file_extension": ".fs",
        "mimetype": "text/x-fsharp",
        "name": "C#",
        "pygments_lexer": "fsharp",
        "version": "4.5"
        }
        },
            "nbformat": 4,
            "nbformat_minor": 1
        }
        

