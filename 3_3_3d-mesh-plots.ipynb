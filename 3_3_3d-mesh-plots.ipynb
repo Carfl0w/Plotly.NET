
        {
            "cells": [
          {
           "cell_type": "markdown",
           "metadata": {},
           
           "source": ["// can\u0027t yet format YamlFrontmatter ([\"title: 3D Mesh plots\"; \"category: 3D Charts\"; \"categoryindex: 4\"; \"index: 4\"], Some { StartLine = 2 StartColumn = 0 EndLine = 6 EndColumn = 8 }) to pynb markdown\n",
"\n"]
          }
,
          {
           "cell_type": "code",
           "metadata": {},
            "execution_count": null, "outputs": [], 
           "source": ["#r \"nuget: Plotly.NET, 2.0.0-preview.1\"\n",
"#r \"nuget: Plotly.NET.Interactive, 2.0.0-preview.1\"\n"]
          }
,
          {
           "cell_type": "markdown",
           "metadata": {},
           
           "source": ["# 3D Mesh plots\n",
"\n",
"[![Binder](https://plotly.net/img/badge-binder.svg)](https://mybinder.org/v2/gh/plotly/Plotly.NET/gh-pages?filepath=3_3_3d-mesh-plots.ipynb)\u0026emsp;\n",
"[![Script](https://plotly.net/img/badge-script.svg)](https://plotly.net/3_3_3d-mesh-plots.fsx)\u0026emsp;\n",
"[![Notebook](https://plotly.net/img/badge-notebook.svg)](https://plotly.net/3_3_3d-mesh-plots.ipynb)\n",
"\n",
"*Summary:* This example shows how to create 3D-Mesh charts in F#.\n",
"\n",
"let\u0027s first create some data for the purpose of creating example charts:\n"]
          }
,
          {
           "cell_type": "code",
           "metadata": {},
            "execution_count": 3, "outputs": [], 
           "source": ["open System\n",
"open Plotly.NET \n",
"\n",
"\n",
"//---------------------- Generate linearly spaced vector ----------------------\n",
"let linspace (min,max,n) = \n",
"    if n \u003c= 2 then failwithf \"n needs to be larger then 2\"\n",
"    let bw = float (max - min) / (float n - 1.)\n",
"    Array.init n (fun i -\u003e min + (bw * float i))\n",
"    //[|min ..bw ..max|]\n",
"\n",
"//---------------------- Create example data ----------------------\n",
"let size = 100\n",
"let x = linspace(-2. * Math.PI, 2. * Math.PI, size)\n",
"let y = linspace(-2. * Math.PI, 2. * Math.PI, size)\n",
"\n",
"let f x y = - (5. * x / (x**2. + y**2. + 1.) )\n",
"\n",
"let z = \n",
"    Array.init size (fun i -\u003e \n",
"        Array.init size (fun j -\u003e \n",
"            f x.[j] y.[i] \n",
"        )\n",
"    )\n",
"\n",
"let rnd = System.Random()\n",
"let a = Array.init 50 (fun _ -\u003e rnd.NextDouble())\n",
"let b = Array.init 50 (fun _ -\u003e rnd.NextDouble())\n",
"let c = Array.init 50 (fun _ -\u003e rnd.NextDouble())\n",
"\n",
"\n",
"let mesh3d =\n",
"    Trace3d.initMesh3d \n",
"        (fun mesh3d -\u003e\n",
"            mesh3d?x \u003c- a\n",
"            mesh3d?y \u003c- b\n",
"            mesh3d?z \u003c- c\n",
"            mesh3d?flatshading \u003c- true\n",
"            mesh3d?contour \u003c- Contours.initXyz(Show=true)\n",
"            mesh3d\n",
"            )\n",
"    |\u003e GenericChart.ofTraceObject \n",
"    \n"]
          }
,
          {
           "cell_type": "code",
           "metadata": {},
            "execution_count": null, "outputs": [
          {
           "data": {
            "text/html": ["\u003cdiv id=\"8b082de2-0191-4323-8e04-2208742a2576\" style=\"width: 600px; height: 600px;\"\u003e\u003c!-- Plotly chart will be drawn inside this DIV --\u003e\u003c/div\u003e",
"",
"\u003cscript type=\"text/javascript\"\u003e",
"",
"",
"            var renderPlotly_8b082de2019143238e042208742a2576 = function() {",
"            var fsharpPlotlyRequire = requirejs.config({context:\u0027fsharp-plotly\u0027,paths:{plotly:\u0027https://cdn.plot.ly/plotly-latest.min\u0027}}) || require;",
"            fsharpPlotlyRequire([\u0027plotly\u0027], function(Plotly) {",
"",
"",
"            var data = [{\"type\":\"mesh3d\",\"x\":[0.951137149218068,0.7676077535225114,0.6632583670612696,0.2714586980973644,0.560279022231828,0.38283102092464966,0.5741684378935809,0.7762319002189823,0.23420757764680664,0.6703819272436118,0.6112731344119054,0.46144482095793116,0.3279708257540925,0.969722365015057,0.003927366809885654,0.04454710802275087,0.22622155967458224,0.7747553283231124,0.838270288816779,0.5407074571311042,0.3893350685896981,0.007513911001157905,0.04614577677387082,0.4390064121405624,0.8730928534050905,0.06059040737365857,0.05314092480258128,0.5359757060818261,0.48623801278240886,0.4124043981602436,0.8482681283952054,0.284715043047776,0.6688987243310077,0.2904373143289412,0.39924184950033287,0.012275097431743097,0.846100487208972,0.3691829300342048,0.19122759215125237,0.853758060770928,0.29944168557386924,0.20914403172635662,0.30181001979010647,0.2608785714306303,0.9530840487932246,0.116408323923316,0.4722003161312082,0.10569996577952986,0.10635740920266015,0.3499309473437867],\"y\":[0.8139760591154807,0.09187399972783122,0.6338393728406352,0.7958247306737233,0.47506837522381373,0.9436232382169102,0.7214619767486407,0.22425195492070724,0.39836584469227393,0.4996886148581694,0.3296900961220684,0.03819273181175475,0.28999388743657334,0.821803179486563,0.8221137988484063,0.3265580913641295,0.7925460966269234,0.03753351142515126,0.5704805155147242,0.9916522693781425,0.1984466208137789,0.8570386296403775,0.5835277361718602,0.9845122280458511,0.24126577155723505,0.18019103686334148,0.7057038912110515,0.7852672053432405,0.48592236334733774,0.7566845294817744,0.5883900912424503,0.9474409590230514,0.4296182968791659,0.13630706543862217,0.5984283390447629,0.7563941286673742,0.6508756702071408,0.8730739936572844,0.8153689391051274,0.45561861128342274,0.29081312068310244,0.6218485322882648,0.9708170853419309,0.691538977293083,0.5240679646488595,0.2612489537621145,0.9191501442897833,0.4800068403035434,0.438764772582224,0.6265259574290951],\"z\":[0.3238622272963925,0.43466680470605695,0.5352194502648057,0.1147051398245176,0.1514843265300078,0.9569374294751032,0.5083462635559711,0.649327144794784,0.5545589591164882,0.29487733836047225,0.2379193470058587,0.9361947714054001,0.7383295915733695,0.6416813152104995,0.9112985236157191,0.382249137099017,0.6085744349325888,0.15368682199795117,0.22337484044180012,0.06571967018103211,0.6756824211569886,0.9194721029696391,0.22216457232002382,0.11486190423130146,0.70083914869504,0.5765980885255142,0.8862215442984466,0.8919887588787772,0.4604442633969915,0.9800168177951205,0.2610408925735582,0.22569705090750802,0.3465024327610165,0.8593964059182426,0.4328223021853819,0.15372328653639336,0.41222150875824576,0.31491315705464834,0.9848227389086144,0.6414909095696597,0.24804786511140312,0.0015485254123567256,0.3185150345407962,0.5204916007446552,0.21769926427756403,0.3546183492777023,0.8835189407148952,0.3291357701314314,0.7802404536773639,0.14181882754984257],\"flatshading\":true,\"contour\":{\"x\":{\"show\":true},\"y\":{\"show\":true},\"z\":{\"show\":true}}}];",
"            var layout = {};",
"            var config = {};",
"            Plotly.newPlot(\u00278b082de2-0191-4323-8e04-2208742a2576\u0027, data, layout, config);",
"",
"});",
"            };",
"            if ((typeof(requirejs) !==  typeof(Function)) || (typeof(requirejs.config) !== typeof(Function))) {",
"                var script = document.createElement(\"script\");",
"                script.setAttribute(\"src\", \"https://cdnjs.cloudflare.com/ajax/libs/require.js/2.3.6/require.min.js\");",
"                script.onload = function(){",
"                    renderPlotly_8b082de2019143238e042208742a2576();",
"                };",
"                document.getElementsByTagName(\"head\")[0].appendChild(script);",
"            }",
"            else {",
"                renderPlotly_8b082de2019143238e042208742a2576();",
"            }",
"",
"\u003c/script\u003e",
"",
""]
        },
           "execution_count": null,
           "metadata": {},
           "output_type": "execute_result"
          }], 
           "source": ["mesh3d\n"]
          }],
            "metadata": {
            "kernelspec": {"display_name": ".NET (F#)", "language": "F#", "name": ".net-fsharp"},
            "langauge_info": {
        "file_extension": ".fs",
        "mimetype": "text/x-fsharp",
        "name": "C#",
        "pygments_lexer": "fsharp",
        "version": "4.5"
        }
        },
            "nbformat": 4,
            "nbformat_minor": 1
        }
        

