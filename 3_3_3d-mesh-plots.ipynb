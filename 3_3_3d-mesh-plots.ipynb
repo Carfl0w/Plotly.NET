
        {
            "cells": [
          {
           "cell_type": "code",
           "metadata": {},
            "execution_count": null, "outputs": [], 
           "source": ["#r \"nuget: Plotly.NET, 2.0.0-beta5\"\n",
"#r \"nuget: Plotly.NET.Interactive, 2.0.0-beta5\"\n"]
          }
,
          {
           "cell_type": "markdown",
           "metadata": {},
           
           "source": ["# 3D Mesh plots\n",
"\n",
"[![Binder](https://mybinder.org/badge_logo.svg)](https://mybinder.org/v2/gh/plotly/Plotly.NET/gh-pages?filepath=3_3_3d-mesh-plots.ipynb)\n",
"\n",
"*Summary:* This example shows how to create 3D-Mesh charts in F#.\n",
"\n",
"let\u0027s first create some data for the purpose of creating example charts:\n"]
          }
,
          {
           "cell_type": "code",
           "metadata": {},
            "execution_count": 3, "outputs": [], 
           "source": ["open System\n",
"open Plotly.NET \n",
"\n",
"\n",
"//---------------------- Generate linearly spaced vector ----------------------\n",
"let linspace (min,max,n) = \n",
"    if n \u003c= 2 then failwithf \"n needs to be larger then 2\"\n",
"    let bw = float (max - min) / (float n - 1.)\n",
"    Array.init n (fun i -\u003e min + (bw * float i))\n",
"    //[|min ..bw ..max|]\n",
"\n",
"//---------------------- Create example data ----------------------\n",
"let size = 100\n",
"let x = linspace(-2. * Math.PI, 2. * Math.PI, size)\n",
"let y = linspace(-2. * Math.PI, 2. * Math.PI, size)\n",
"\n",
"let f x y = - (5. * x / (x**2. + y**2. + 1.) )\n",
"\n",
"let z = \n",
"    Array.init size (fun i -\u003e \n",
"        Array.init size (fun j -\u003e \n",
"            f x.[j] y.[i] \n",
"        )\n",
"    )\n",
"\n",
"let rnd = System.Random()\n",
"let a = Array.init 50 (fun _ -\u003e rnd.NextDouble())\n",
"let b = Array.init 50 (fun _ -\u003e rnd.NextDouble())\n",
"let c = Array.init 50 (fun _ -\u003e rnd.NextDouble())\n",
"\n",
"\n",
"let mesh3d =\n",
"    Trace3d.initMesh3d \n",
"        (fun mesh3d -\u003e\n",
"            mesh3d?x \u003c- a\n",
"            mesh3d?y \u003c- b\n",
"            mesh3d?z \u003c- c\n",
"            mesh3d?flatshading \u003c- true\n",
"            mesh3d?contour \u003c- Contours.initXyz(Show=true)\n",
"            mesh3d\n",
"            )\n",
"    |\u003e GenericChart.ofTraceObject \n",
"    \n"]
          }
,
          {
           "cell_type": "code",
           "metadata": {},
            "execution_count": null, "outputs": [
          {
           "data": {
            "text/html": ["\u003cdiv id=\"484ed1f4-97e9-42db-a116-f5891209eee1\" style=\"width: 600px; height: 600px;\"\u003e\u003c!-- Plotly chart will be drawn inside this DIV --\u003e\u003c/div\u003e",
"",
"\u003cscript type=\"text/javascript\"\u003e",
"",
"",
"            var renderPlotly_484ed1f497e942dba116f5891209eee1 = function() {",
"            var fsharpPlotlyRequire = requirejs.config({context:\u0027fsharp-plotly\u0027,paths:{plotly:\u0027https://cdn.plot.ly/plotly-latest.min\u0027}}) || require;",
"            fsharpPlotlyRequire([\u0027plotly\u0027], function(Plotly) {",
"",
"",
"            var data = [{\"type\":\"mesh3d\",\"x\":[0.8435936085151479,0.17306463288751647,0.519922800604218,0.5742180215074765,0.7951366094849709,0.057942170676748346,0.893227264701029,0.7915176599246998,0.9670657920497776,0.19670620895768806,0.24569055356350286,0.16419676000447794,0.3978575767939247,0.6536989266302897,0.8652354450268835,0.44135263256791635,0.7485773697256005,0.6818929606498652,0.7684547490293415,0.19285613260830572,0.035948123799612805,0.6365918613209351,0.5572182156877677,0.7812591589900009,0.7096979914743909,0.19358160122930146,0.6037041892314815,0.3239960052650403,0.03366388894322509,0.27996641643343795,0.43880954265539046,0.7893466999704701,0.31855989448659117,0.4122449021843471,0.1552175833635114,0.9323827554156924,0.18608787757628034,0.2818414500364295,0.4593986684733064,0.3898857624222924,0.19482134012264263,0.47706933900577453,0.4433288171157841,0.31229372802762956,0.13218268013195258,0.3931385587868926,0.9033969887082451,0.109192661526237,0.5469074675566086,0.819062366066064],\"y\":[0.6282556325328795,0.14386868390434826,0.09974876516486926,0.37593728787076536,0.11391088558077388,0.20700174719421274,0.6158464171997488,0.7386636416142172,0.8645200300330855,0.6015550082556694,0.45423798144526684,0.5692312594359886,0.7578537709814747,0.6870993756163397,0.7578966663022976,0.45634385359303276,0.8456368655178867,0.9856126746095776,0.49848134326677834,0.9328526896111913,0.25526475499163603,0.466735919689171,0.22249429217655878,0.37856898660704913,0.9980347924856631,0.5588787847938383,0.19326304420515106,0.24492448766013816,0.6490764788580483,0.31655943268749837,0.2901846125210564,0.4945115277052445,0.7770885377084318,0.21460152287716117,0.6517107839005584,0.2949408587510422,0.6895979348056008,0.9426226066158259,0.2983340166035732,0.9482158361692986,0.31653633821594357,0.4474242359620632,0.41732142000334405,0.857843660217637,0.9356477809770255,0.625590080686654,0.7192155680242999,0.7562294414994444,0.554397061725332,0.6758388265389198],\"z\":[0.5475016932690059,0.9177843140986675,0.6107113182594587,0.6140547779454173,0.5637976110744279,0.16151971284370856,0.9213743917277895,0.7211797785578201,0.37790249538510223,0.5550321007869355,0.01373870298906169,0.3709219295396106,0.08958716275616882,0.5479605973455871,0.311370395734613,0.9597264537400224,0.7921427217275568,0.5432522481043135,0.03538859171578129,0.46295580755125537,0.7667459187874318,0.9030142589020609,0.6872786580060044,0.5502655070974797,0.6163163513952477,0.8078405190295729,0.049414499685826944,0.3646506319589217,0.4429212056300236,0.3724447117990091,0.8396632167695385,0.4370336027057067,0.6905274259348062,0.9732376523191285,0.7690577394184925,0.37240029842238886,0.8838002094457859,0.1630337597630144,0.6508039118027332,0.49019107105684984,0.37356646702325275,0.9684181562477807,0.5647201112307236,0.7433019158166376,0.934477133180237,0.945614408676333,0.35783707320589436,0.8693608226577569,0.546473264483024,0.9759213272370032],\"flatshading\":true,\"contour\":{\"x\":{\"show\":true},\"y\":{\"show\":true},\"z\":{\"show\":true}}}];",
"            var layout = {};",
"            var config = {};",
"            Plotly.newPlot(\u0027484ed1f4-97e9-42db-a116-f5891209eee1\u0027, data, layout, config);",
"",
"});",
"            };",
"            if ((typeof(requirejs) !==  typeof(Function)) || (typeof(requirejs.config) !== typeof(Function))) {",
"                var script = document.createElement(\"script\");",
"                script.setAttribute(\"src\", \"https://cdnjs.cloudflare.com/ajax/libs/require.js/2.3.6/require.min.js\");",
"                script.onload = function(){",
"                    renderPlotly_484ed1f497e942dba116f5891209eee1();",
"                };",
"                document.getElementsByTagName(\"head\")[0].appendChild(script);",
"            }",
"            else {",
"                renderPlotly_484ed1f497e942dba116f5891209eee1();",
"            }",
"",
"\u003c/script\u003e",
"",
""]
        },
           "execution_count": null,
           "metadata": {},
           "output_type": "execute_result"
          }], 
           "source": ["mesh3d\n"]
          }],
            "metadata": {
            "kernelspec": {"display_name": ".NET (F#)", "language": "F#", "name": ".net-fsharp"},
            "langauge_info": {
        "file_extension": ".fs",
        "mimetype": "text/x-fsharp",
        "name": "C#",
        "pygments_lexer": "fsharp",
        "version": "4.5"
        }
        },
            "nbformat": 4,
            "nbformat_minor": 1
        }
        

