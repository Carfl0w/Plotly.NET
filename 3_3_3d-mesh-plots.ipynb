
        {
            "cells": [
          {
           "cell_type": "code",
           "metadata": {},
            "execution_count": null, "outputs": [], 
           "source": ["#r \"nuget: Plotly.NET, 2.0.0-beta4\"\n",
"#r \"nuget: Plotly.NET.Interactive, 2.0.0-beta4\"\n"]
          }
,
          {
           "cell_type": "markdown",
           "metadata": {},
           
           "source": ["# 3D Mesh plots\n",
"\n",
"[![Binder](https://mybinder.org/badge_logo.svg)](https://mybinder.org/v2/gh/plotly/Plotly.NET/gh-pages?filepath=3_3_3d-mesh-plots.ipynb)\n",
"\n",
"*Summary:* This example shows how to create 3D-Mesh charts in F#.\n",
"\n",
"let\u0027s first create some data for the purpose of creating example charts:\n"]
          }
,
          {
           "cell_type": "code",
           "metadata": {},
            "execution_count": 3, "outputs": [], 
           "source": ["open System\n",
"open Plotly.NET \n",
"\n",
"\n",
"//---------------------- Generate linearly spaced vector ----------------------\n",
"let linspace (min,max,n) = \n",
"    if n \u003c= 2 then failwithf \"n needs to be larger then 2\"\n",
"    let bw = float (max - min) / (float n - 1.)\n",
"    Array.init n (fun i -\u003e min + (bw * float i))\n",
"    //[|min ..bw ..max|]\n",
"\n",
"//---------------------- Create example data ----------------------\n",
"let size = 100\n",
"let x = linspace(-2. * Math.PI, 2. * Math.PI, size)\n",
"let y = linspace(-2. * Math.PI, 2. * Math.PI, size)\n",
"\n",
"let f x y = - (5. * x / (x**2. + y**2. + 1.) )\n",
"\n",
"let z = \n",
"    Array.init size (fun i -\u003e \n",
"        Array.init size (fun j -\u003e \n",
"            f x.[j] y.[i] \n",
"        )\n",
"    )\n",
"\n",
"let rnd = System.Random()\n",
"let a = Array.init 50 (fun _ -\u003e rnd.NextDouble())\n",
"let b = Array.init 50 (fun _ -\u003e rnd.NextDouble())\n",
"let c = Array.init 50 (fun _ -\u003e rnd.NextDouble())\n",
"\n",
"\n",
"let mesh3d =\n",
"    Trace3d.initMesh3d \n",
"        (fun mesh3d -\u003e\n",
"            mesh3d?x \u003c- a\n",
"            mesh3d?y \u003c- b\n",
"            mesh3d?z \u003c- c\n",
"            mesh3d?flatshading \u003c- true\n",
"            mesh3d?contour \u003c- Contours.initXyz(Show=true)\n",
"            mesh3d\n",
"            )\n",
"    |\u003e GenericChart.ofTraceObject \n",
"    \n"]
          }
,
          {
           "cell_type": "code",
           "metadata": {},
            "execution_count": null, "outputs": [
          {
           "data": {
            "text/html": ["\u003cdiv id=\"9c1f4596-a1a9-433e-b737-af632091e607\" style=\"width: 600px; height: 600px;\"\u003e\u003c!-- Plotly chart will be drawn inside this DIV --\u003e\u003c/div\u003e",
"",
"\u003cscript type=\"text/javascript\"\u003e",
"",
"",
"            var renderPlotly_9c1f4596a1a9433eb737af632091e607 = function() {",
"            var fsharpPlotlyRequire = requirejs.config({context:\u0027fsharp-plotly\u0027,paths:{plotly:\u0027https://cdn.plot.ly/plotly-latest.min\u0027}}) || require;",
"            fsharpPlotlyRequire([\u0027plotly\u0027], function(Plotly) {",
"",
"",
"            var data = [{\"type\":\"mesh3d\",\"x\":[0.4269078543535005,0.9030637908275536,0.7975189540523658,0.9420873238435422,0.06907456464556724,0.5229332943088064,0.936465014673986,0.09685246837178826,0.789635156648995,0.7056907274321144,0.6212486739369336,0.18230123966108133,0.39499363275011706,0.5863884238462841,0.5301190919848714,0.8118457732777324,0.8014037901542167,0.9718297170343947,0.9315354926192833,0.7876482157910467,0.5123192619124052,0.39479715861137826,0.5695028037622119,0.022157161041236093,0.2395288130452525,0.7727729518771046,0.6367531920023044,0.6067061864802177,0.3387179688265165,0.6916253760883703,0.6247488873194665,0.0767860380358929,0.9082589661275311,0.46901272771368396,0.2329163282331621,0.7749009149963506,0.5000536690932017,0.36353582253844285,0.4393692260791404,0.435185894107067,0.09800774981174978,0.25788068550540166,0.1090374547564599,0.051804702753110186,0.3863305274333481,0.7577171501506665,0.4579139572837921,0.3860846722433738,0.8183032999831733,0.44632631887045054],\"y\":[0.19574231244425397,0.6855915774058511,0.6373470922174617,0.8265338963021216,0.7843840582223535,0.03211069574212222,0.33356098706534176,0.7753617930111297,0.7025585107982897,0.2963016127684627,0.886180102306502,0.32975882819376834,0.7581344995452718,0.09800978056062469,0.08094184011264789,0.5444626359010407,0.2740422735335502,0.925980905036433,0.35347209561312204,0.7552181769885208,0.31179210418453074,0.4378679676157739,0.5324604909552543,0.4963495985122163,0.689640465979297,0.25443857640700346,0.28575970385491833,0.5176981010091016,0.6358266336078879,0.48181166289458593,0.3148589945933125,0.2506685197589307,0.7884028864970444,0.892391649956066,0.49588306364411633,0.9391573099136153,0.4394389458184312,0.08172506982540947,0.6846286694913305,0.20080563249103986,0.44133992793100885,0.724691876082072,0.6609773117401532,0.14306761331067774,0.549005791800565,0.7682489216179815,0.49974618596012993,0.011027674195835216,0.9708628626404623,0.8418678915323075],\"z\":[0.48367487661711633,0.531933052247359,0.03261257663025175,0.06308512299465253,0.1345342146859198,0.75787434482848,0.15313108645059684,0.14099749370524542,0.13689343032282472,0.52994548181535,0.7463509918872039,0.8158628860562401,0.1395351594032418,0.22074684790370375,0.9814426181751502,0.6355115825475713,0.5413559416967239,0.8657428495892058,0.6021267169165083,0.14178453019903253,0.1050236900826095,0.19231720370814073,0.24135223554510263,0.15266646312208215,0.31387824905751194,0.5871002281024588,0.7768906558756208,0.38939287764457653,0.9473438067116513,0.9213915443613154,0.7546923904468735,0.2747320296590831,0.5468352383686393,0.7939587420755805,0.9981367862774696,0.7829259423459535,0.21805594312867893,0.7253177635023919,0.7578574352701462,0.7380087188156362,0.7860262234630185,0.29844145211318573,0.9448316395025848,0.15468318767598047,0.454454640603836,0.6254770418747687,0.5851567166788302,0.4402304638364494,0.16162499513552755,0.9134942092529936],\"flatshading\":true,\"contour\":{\"x\":{\"show\":true},\"y\":{\"show\":true},\"z\":{\"show\":true}}}];",
"            var layout = {};",
"            var config = {};",
"            Plotly.newPlot(\u00279c1f4596-a1a9-433e-b737-af632091e607\u0027, data, layout, config);",
"",
"});",
"            };",
"            if ((typeof(requirejs) !==  typeof(Function)) || (typeof(requirejs.config) !== typeof(Function))) {",
"                var script = document.createElement(\"script\");",
"                script.setAttribute(\"src\", \"https://cdnjs.cloudflare.com/ajax/libs/require.js/2.3.6/require.min.js\");",
"                script.onload = function(){",
"                    renderPlotly_9c1f4596a1a9433eb737af632091e607();",
"                };",
"                document.getElementsByTagName(\"head\")[0].appendChild(script);",
"            }",
"            else {",
"                renderPlotly_9c1f4596a1a9433eb737af632091e607();",
"            }",
"",
"\u003c/script\u003e",
"",
""]
        },
           "execution_count": null,
           "metadata": {},
           "output_type": "execute_result"
          }], 
           "source": ["mesh3d\n"]
          }],
            "metadata": {
            "kernelspec": {"display_name": ".NET (F#)", "language": "F#", "name": ".net-fsharp"},
            "langauge_info": {
        "file_extension": ".fs",
        "mimetype": "text/x-fsharp",
        "name": "C#",
        "pygments_lexer": "fsharp",
        "version": "4.5"
        }
        },
            "nbformat": 4,
            "nbformat_minor": 1
        }
        

