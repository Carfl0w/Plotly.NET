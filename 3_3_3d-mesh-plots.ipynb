
        {
            "cells": [
          {
           "cell_type": "markdown",
           "metadata": {},
           
           "source": ["// can\u0027t yet format YamlFrontmatter ([\"title: 3D Mesh plots\"; \"category: 3D Charts\"; \"categoryindex: 4\"; \"index: 4\"], Some { StartLine = 2 StartColumn = 0 EndLine = 6 EndColumn = 8 }) to pynb markdown\n",
"\n"]
          }
,
          {
           "cell_type": "code",
           "metadata": {},
            "execution_count": null, "outputs": [], 
           "source": ["#r \"nuget: Plotly.NET, 2.0.0-preview.6\"\n",
"#r \"nuget: Plotly.NET.Interactive, 2.0.0-preview.6\"\n"]
          }
,
          {
           "cell_type": "markdown",
           "metadata": {},
           
           "source": ["# 3D Mesh plots\n",
"\n",
"[![Binder](https://plotly.net/img/badge-binder.svg)](https://mybinder.org/v2/gh/plotly/Plotly.NET/gh-pages?filepath=3_3_3d-mesh-plots.ipynb)\u0026emsp;\n",
"[![Script](https://plotly.net/img/badge-script.svg)](https://plotly.net/3_3_3d-mesh-plots.fsx)\u0026emsp;\n",
"[![Notebook](https://plotly.net/img/badge-notebook.svg)](https://plotly.net/3_3_3d-mesh-plots.ipynb)\n",
"\n",
"*Summary:* This example shows how to create 3D-Mesh charts in F#.\n",
"\n",
"let\u0027s first create some data for the purpose of creating example charts:\n"]
          }
,
          {
           "cell_type": "code",
           "metadata": {},
            "execution_count": 3, "outputs": [], 
           "source": ["open System\n",
"open Plotly.NET \n",
"\n",
"\n",
"//---------------------- Generate linearly spaced vector ----------------------\n",
"let linspace (min,max,n) = \n",
"    if n \u003c= 2 then failwithf \"n needs to be larger then 2\"\n",
"    let bw = float (max - min) / (float n - 1.)\n",
"    Array.init n (fun i -\u003e min + (bw * float i))\n",
"    //[|min ..bw ..max|]\n",
"\n",
"//---------------------- Create example data ----------------------\n",
"let size = 100\n",
"let x = linspace(-2. * Math.PI, 2. * Math.PI, size)\n",
"let y = linspace(-2. * Math.PI, 2. * Math.PI, size)\n",
"\n",
"let f x y = - (5. * x / (x**2. + y**2. + 1.) )\n",
"\n",
"let z = \n",
"    Array.init size (fun i -\u003e \n",
"        Array.init size (fun j -\u003e \n",
"            f x.[j] y.[i] \n",
"        )\n",
"    )\n",
"\n",
"let rnd = System.Random()\n",
"let a = Array.init 50 (fun _ -\u003e rnd.NextDouble())\n",
"let b = Array.init 50 (fun _ -\u003e rnd.NextDouble())\n",
"let c = Array.init 50 (fun _ -\u003e rnd.NextDouble())\n",
"\n",
"\n",
"let mesh3d =\n",
"    Trace3d.initMesh3d \n",
"        (fun mesh3d -\u003e\n",
"            mesh3d?x \u003c- a\n",
"            mesh3d?y \u003c- b\n",
"            mesh3d?z \u003c- c\n",
"            mesh3d?flatshading \u003c- true\n",
"            mesh3d?contour \u003c- Contours.initXyz(Show=true)\n",
"            mesh3d\n",
"            )\n",
"    |\u003e GenericChart.ofTraceObject \n",
"    \n"]
          }
,
          {
           "cell_type": "code",
           "metadata": {},
            "execution_count": null, "outputs": [
          {
           "data": {
            "text/html": ["\u003cdiv id=\"f81ebd64-d088-4857-a343-a4da2948504e\" style=\"width: 600px; height: 600px;\"\u003e\u003c!-- Plotly chart will be drawn inside this DIV --\u003e\u003c/div\u003e",
"",
"\u003cscript type=\"text/javascript\"\u003e",
"",
"",
"            var renderPlotly_f81ebd64d0884857a343a4da2948504e = function() {",
"            var fsharpPlotlyRequire = requirejs.config({context:\u0027fsharp-plotly\u0027,paths:{plotly:\u0027https://cdn.plot.ly/plotly-latest.min\u0027}}) || require;",
"            fsharpPlotlyRequire([\u0027plotly\u0027], function(Plotly) {",
"",
"",
"            var data = [{\"type\":\"mesh3d\",\"x\":[0.28801153939590396,0.2830365664712324,0.1345200674303435,0.3789589830576251,0.07903981352180234,0.05212682581140046,0.6022832433703743,0.7464487733070034,0.3151756736054903,0.29264744105406454,0.07997940670697923,0.11551941796928616,0.9315182566323869,0.43071168075814453,0.8852653069818697,0.8449093018867584,0.40673511214867936,0.5856801818989591,0.06023563913080638,0.1288460069935983,0.0503993071850386,0.9343995232760904,0.0012011504737665646,0.5045839773978033,0.9517048094196733,0.3090040391818639,0.6367712270639703,0.8921541766692671,0.1993441992436276,0.5712266520463054,0.7541248322250903,0.1485841363429018,0.7430240045036302,0.21675299024989503,0.05283024909572222,0.9277860559186834,0.6641694724858597,0.4977818073228848,0.7570036383145505,0.9538472713687677,0.25313796114788295,0.3019744792496667,0.707981547204769,0.3867284880889247,0.16698990770009808,0.8819114113607963,0.8891632188526742,0.8048377655469057,0.8398360856062901,0.16272003444038333],\"y\":[0.9095090743664229,0.35283414337450364,0.6310778845246312,0.4365823582916438,0.749732722411739,0.3536120161198136,0.2818354159974658,0.6299360900325403,0.4272541736379518,0.7700357743399384,0.41535559874743017,0.7101290667011072,0.5471045740633759,0.7439490215591849,0.5385226088289743,0.9313952703640774,0.37249541346565607,0.7147652663824918,0.37788143166242233,0.9574792510631863,0.1807398294008988,0.9089533048257945,0.8286765435844085,0.10638836776203865,0.8757080458457154,0.7484248279353719,0.2264179760713214,0.6144726623848419,0.3375940696977051,0.06979339805887705,0.4198408203291897,0.8319334615170646,0.052318091062977023,0.03662416480324425,0.6617175776798826,0.4012906888505866,0.5175062518182706,0.3064416462119863,0.467020267838156,0.6992182329759087,0.6459506399212175,0.034233382453319326,0.07052763368493302,0.9869678639746121,0.5384916726213376,0.5430088944467757,0.7548699051862908,0.9640325256455841,0.8482058792599504,0.23559463733602065],\"z\":[0.5094159978951402,0.17439795247018242,0.42695633388448334,0.8823568345431038,0.9819802050394846,0.000555769540628311,0.5241575997900951,0.5246895167625926,0.5608743124459284,0.0013078944763671115,0.12719404004849216,0.6673627536126239,0.2923420203348352,0.35746077557907474,0.35019495401074874,0.5834221372303656,0.6578109756381302,0.5104804092601316,0.08223144387930233,0.13723191997838763,0.4138890185458069,0.0660537672536698,0.24774499854433582,0.6786631986865137,0.3115286111419688,0.14650644694757947,0.8384256711408615,0.8417086796097963,0.5678966951407011,0.33269915139893963,0.9935549227490811,0.2623854504257373,0.7662667831248915,0.10199943236168448,0.5603774001637368,0.24544286785900726,0.4049771276325812,0.1699612565198733,0.05464395976375973,0.6611618081392543,0.8771330890604915,0.9928167350556779,0.7455673337660578,0.4657123733617889,0.5720241929274165,0.9785878863085936,0.7418913621184842,0.7130668581058582,0.6367729099638634,0.955069535390972],\"flatshading\":true,\"contour\":{\"x\":{\"show\":true},\"y\":{\"show\":true},\"z\":{\"show\":true}}}];",
"            var layout = {};",
"            var config = {};",
"            Plotly.newPlot(\u0027f81ebd64-d088-4857-a343-a4da2948504e\u0027, data, layout, config);",
"",
"});",
"            };",
"            if ((typeof(requirejs) !==  typeof(Function)) || (typeof(requirejs.config) !== typeof(Function))) {",
"                var script = document.createElement(\"script\");",
"                script.setAttribute(\"src\", \"https://cdnjs.cloudflare.com/ajax/libs/require.js/2.3.6/require.min.js\");",
"                script.onload = function(){",
"                    renderPlotly_f81ebd64d0884857a343a4da2948504e();",
"                };",
"                document.getElementsByTagName(\"head\")[0].appendChild(script);",
"            }",
"            else {",
"                renderPlotly_f81ebd64d0884857a343a4da2948504e();",
"            }",
"",
"\u003c/script\u003e",
"",
""]
        },
           "execution_count": null,
           "metadata": {},
           "output_type": "execute_result"
          }], 
           "source": ["mesh3d\n"]
          }],
            "metadata": {
            "kernelspec": {"display_name": ".NET (F#)", "language": "F#", "name": ".net-fsharp"},
            "langauge_info": {
        "file_extension": ".fs",
        "mimetype": "text/x-fsharp",
        "name": "C#",
        "pygments_lexer": "fsharp",
        "version": "4.5"
        }
        },
            "nbformat": 4,
            "nbformat_minor": 1
        }
        

