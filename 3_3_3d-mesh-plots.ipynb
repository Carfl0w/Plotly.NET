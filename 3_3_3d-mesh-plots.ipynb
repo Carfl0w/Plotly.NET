
        {
            "cells": [
          {
           "cell_type": "markdown",
           "metadata": {},
           
           "source": ["// can\u0027t yet format YamlFrontmatter ([\"title: 3D Mesh plots\"; \"category: 3D Charts\"; \"categoryindex: 4\"; \"index: 4\"], Some { StartLine = 2 StartColumn = 0 EndLine = 6 EndColumn = 8 }) to pynb markdown\n",
"\n"]
          }
,
          {
           "cell_type": "code",
           "metadata": {},
            "execution_count": null, "outputs": [], 
           "source": ["#r \"nuget: Plotly.NET, 2.0.0-preview.5\"\n",
"#r \"nuget: Plotly.NET.Interactive, 2.0.0-preview.5\"\n"]
          }
,
          {
           "cell_type": "markdown",
           "metadata": {},
           
           "source": ["# 3D Mesh plots\n",
"\n",
"[![Binder](https://plotly.net/img/badge-binder.svg)](https://mybinder.org/v2/gh/plotly/Plotly.NET/gh-pages?filepath=3_3_3d-mesh-plots.ipynb)\u0026emsp;\n",
"[![Script](https://plotly.net/img/badge-script.svg)](https://plotly.net/3_3_3d-mesh-plots.fsx)\u0026emsp;\n",
"[![Notebook](https://plotly.net/img/badge-notebook.svg)](https://plotly.net/3_3_3d-mesh-plots.ipynb)\n",
"\n",
"*Summary:* This example shows how to create 3D-Mesh charts in F#.\n",
"\n",
"let\u0027s first create some data for the purpose of creating example charts:\n"]
          }
,
          {
           "cell_type": "code",
           "metadata": {},
            "execution_count": 3, "outputs": [], 
           "source": ["open System\n",
"open Plotly.NET \n",
"\n",
"\n",
"//---------------------- Generate linearly spaced vector ----------------------\n",
"let linspace (min,max,n) = \n",
"    if n \u003c= 2 then failwithf \"n needs to be larger then 2\"\n",
"    let bw = float (max - min) / (float n - 1.)\n",
"    Array.init n (fun i -\u003e min + (bw * float i))\n",
"    //[|min ..bw ..max|]\n",
"\n",
"//---------------------- Create example data ----------------------\n",
"let size = 100\n",
"let x = linspace(-2. * Math.PI, 2. * Math.PI, size)\n",
"let y = linspace(-2. * Math.PI, 2. * Math.PI, size)\n",
"\n",
"let f x y = - (5. * x / (x**2. + y**2. + 1.) )\n",
"\n",
"let z = \n",
"    Array.init size (fun i -\u003e \n",
"        Array.init size (fun j -\u003e \n",
"            f x.[j] y.[i] \n",
"        )\n",
"    )\n",
"\n",
"let rnd = System.Random()\n",
"let a = Array.init 50 (fun _ -\u003e rnd.NextDouble())\n",
"let b = Array.init 50 (fun _ -\u003e rnd.NextDouble())\n",
"let c = Array.init 50 (fun _ -\u003e rnd.NextDouble())\n",
"\n",
"\n",
"let mesh3d =\n",
"    Trace3d.initMesh3d \n",
"        (fun mesh3d -\u003e\n",
"            mesh3d?x \u003c- a\n",
"            mesh3d?y \u003c- b\n",
"            mesh3d?z \u003c- c\n",
"            mesh3d?flatshading \u003c- true\n",
"            mesh3d?contour \u003c- Contours.initXyz(Show=true)\n",
"            mesh3d\n",
"            )\n",
"    |\u003e GenericChart.ofTraceObject \n",
"    \n"]
          }
,
          {
           "cell_type": "code",
           "metadata": {},
            "execution_count": null, "outputs": [
          {
           "data": {
            "text/html": ["\u003cdiv id=\"6d6d7112-d1cb-41f7-9ba4-e22ec8365e0f\" style=\"width: 600px; height: 600px;\"\u003e\u003c!-- Plotly chart will be drawn inside this DIV --\u003e\u003c/div\u003e",
"",
"\u003cscript type=\"text/javascript\"\u003e",
"",
"",
"            var renderPlotly_6d6d7112d1cb41f79ba4e22ec8365e0f = function() {",
"            var fsharpPlotlyRequire = requirejs.config({context:\u0027fsharp-plotly\u0027,paths:{plotly:\u0027https://cdn.plot.ly/plotly-latest.min\u0027}}) || require;",
"            fsharpPlotlyRequire([\u0027plotly\u0027], function(Plotly) {",
"",
"",
"            var data = [{\"type\":\"mesh3d\",\"x\":[0.6086306202265577,0.8280713701751415,0.11461575381207083,0.9568918118983935,0.3537696801842049,0.5142568799267788,0.5255093055430378,0.6390274034994782,0.6919716879222411,0.05275000028905925,0.6558660043663652,0.6077327111771949,0.13157643756436949,0.40941715306109616,0.28474064370838026,0.9032151363339346,0.3829243240798471,0.7233502728507623,0.04518978858608277,0.7175008015322968,0.45788626161305523,0.37850433465955047,0.16836560665088035,0.94614563833277,0.4520036580283212,0.5359703579619389,0.8295199157807603,0.5134565045654106,0.3448173889633349,0.06041316690873968,0.021049083685990927,0.9445666884745316,0.1524888370896172,0.6415561845719611,0.8729196665216794,0.3974944485339776,0.7061316644335779,0.3004739048427315,0.3383465694907804,0.3198136805183318,0.5166521647556928,0.37259807268744244,0.741335963709902,0.8359767412003022,0.1622518073591645,0.220448895925865,0.06403276606650686,0.13526227424631931,0.3503796301551068,0.1559157092850263],\"y\":[0.9413633173989893,0.19198637744038663,0.7173374643164395,0.7167922573707962,0.11847315734181235,0.23012628556700715,0.6597057635242612,0.1684701154793008,0.5048881538700722,0.817799322222266,0.6847369641460185,0.012052800977627188,0.29421001453614326,0.6315585210135013,0.03170091660306831,0.7112993158918337,0.4552438740875776,0.4900202529924085,0.5364974865394168,0.8872461951744026,0.1970834719003567,0.08245041923711562,0.38500370335998185,0.725376108067751,0.20084863677660406,0.08528818892561281,0.6371683709496485,0.3323888654505782,0.7838938309736055,0.23155476210245618,0.471937591895432,0.694257641534441,0.16307687441030372,0.18890167967830862,0.11904984950975042,0.8290627062456043,0.22722922415809205,0.43569657971882103,0.5230830272301487,0.6427933809546723,0.7377886850097164,0.5376615489542771,0.7955857509726592,0.5205472472685143,0.6350767163723133,0.5045993637780656,0.07838805815129916,0.10977744269640066,0.8042758245972338,0.45095249146733085],\"z\":[0.7652050218382873,0.5740125130740984,0.5987647877069027,0.4631334349807042,0.9588322373846696,0.8589128981618737,0.8069826740804048,0.9919613562486885,0.5159436205941921,0.03318496841619954,0.5929579146173587,0.32731689807368297,0.38457628450569525,0.2733333917676161,0.345861730326834,0.9904793226115775,0.8489759265673235,0.10530833485783465,0.5125086715037509,0.20263821035746402,0.4840700917337416,0.019547294368756605,0.9669372257622598,0.8937041055847444,0.14945751016468625,0.6594219229460796,0.2868646682644564,0.8644564560914675,0.09029939169543767,0.6962492729985384,0.006900130774313645,0.5273909282532478,0.5281130408533444,0.3329413395062747,0.4663497402641688,0.8979250788213337,0.09549285382753836,0.6999434394295996,0.23006944229363904,0.2601369513478768,0.022080032165199534,0.23526786790940346,0.919752959124629,0.48989805881394916,0.04983546633731363,0.4104717869360334,0.15308526444858186,0.5222523592050431,0.17468551694168036,0.6445973937607358],\"flatshading\":true,\"contour\":{\"x\":{\"show\":true},\"y\":{\"show\":true},\"z\":{\"show\":true}}}];",
"            var layout = {};",
"            var config = {};",
"            Plotly.newPlot(\u00276d6d7112-d1cb-41f7-9ba4-e22ec8365e0f\u0027, data, layout, config);",
"",
"});",
"            };",
"            if ((typeof(requirejs) !==  typeof(Function)) || (typeof(requirejs.config) !== typeof(Function))) {",
"                var script = document.createElement(\"script\");",
"                script.setAttribute(\"src\", \"https://cdnjs.cloudflare.com/ajax/libs/require.js/2.3.6/require.min.js\");",
"                script.onload = function(){",
"                    renderPlotly_6d6d7112d1cb41f79ba4e22ec8365e0f();",
"                };",
"                document.getElementsByTagName(\"head\")[0].appendChild(script);",
"            }",
"            else {",
"                renderPlotly_6d6d7112d1cb41f79ba4e22ec8365e0f();",
"            }",
"",
"\u003c/script\u003e",
"",
""]
        },
           "execution_count": null,
           "metadata": {},
           "output_type": "execute_result"
          }], 
           "source": ["mesh3d\n"]
          }],
            "metadata": {
            "kernelspec": {"display_name": ".NET (F#)", "language": "F#", "name": ".net-fsharp"},
            "langauge_info": {
        "file_extension": ".fs",
        "mimetype": "text/x-fsharp",
        "name": "C#",
        "pygments_lexer": "fsharp",
        "version": "4.5"
        }
        },
            "nbformat": 4,
            "nbformat_minor": 1
        }
        

