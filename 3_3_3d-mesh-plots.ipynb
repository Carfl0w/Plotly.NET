
        {
            "cells": [
          {
           "cell_type": "markdown",
           "metadata": {},
           
           "source": ["// can\u0027t yet format YamlFrontmatter ([\"title: 3D Mesh plots\"; \"category: 3D Charts\"; \"categoryindex: 4\"; \"index: 4\"], Some { StartLine = 2 StartColumn = 0 EndLine = 6 EndColumn = 8 }) to pynb markdown\n",
"\n"]
          }
,
          {
           "cell_type": "code",
           "metadata": {},
            "execution_count": null, "outputs": [], 
           "source": ["#r \"nuget: Plotly.NET, 2.0.0-preview.6\"\n",
"#r \"nuget: Plotly.NET.Interactive, 2.0.0-preview.6\"\n"]
          }
,
          {
           "cell_type": "markdown",
           "metadata": {},
           
           "source": ["# 3D Mesh plots\n",
"\n",
"[![Binder](https://plotly.net/img/badge-binder.svg)](https://mybinder.org/v2/gh/plotly/Plotly.NET/gh-pages?filepath=3_3_3d-mesh-plots.ipynb)\u0026emsp;\n",
"[![Script](https://plotly.net/img/badge-script.svg)](https://plotly.net/3_3_3d-mesh-plots.fsx)\u0026emsp;\n",
"[![Notebook](https://plotly.net/img/badge-notebook.svg)](https://plotly.net/3_3_3d-mesh-plots.ipynb)\n",
"\n",
"*Summary:* This example shows how to create 3D-Mesh charts in F#.\n",
"\n",
"let\u0027s first create some data for the purpose of creating example charts:\n"]
          }
,
          {
           "cell_type": "code",
           "metadata": {},
            "execution_count": 3, "outputs": [], 
           "source": ["open System\n",
"open Plotly.NET \n",
"\n",
"\n",
"//---------------------- Generate linearly spaced vector ----------------------\n",
"let linspace (min,max,n) = \n",
"    if n \u003c= 2 then failwithf \"n needs to be larger then 2\"\n",
"    let bw = float (max - min) / (float n - 1.)\n",
"    Array.init n (fun i -\u003e min + (bw * float i))\n",
"    //[|min ..bw ..max|]\n",
"\n",
"//---------------------- Create example data ----------------------\n",
"let size = 100\n",
"let x = linspace(-2. * Math.PI, 2. * Math.PI, size)\n",
"let y = linspace(-2. * Math.PI, 2. * Math.PI, size)\n",
"\n",
"let f x y = - (5. * x / (x**2. + y**2. + 1.) )\n",
"\n",
"let z = \n",
"    Array.init size (fun i -\u003e \n",
"        Array.init size (fun j -\u003e \n",
"            f x.[j] y.[i] \n",
"        )\n",
"    )\n",
"\n",
"let rnd = System.Random()\n",
"let a = Array.init 50 (fun _ -\u003e rnd.NextDouble())\n",
"let b = Array.init 50 (fun _ -\u003e rnd.NextDouble())\n",
"let c = Array.init 50 (fun _ -\u003e rnd.NextDouble())\n",
"\n",
"\n",
"let mesh3d =\n",
"    Trace3d.initMesh3d \n",
"        (fun mesh3d -\u003e\n",
"            mesh3d?x \u003c- a\n",
"            mesh3d?y \u003c- b\n",
"            mesh3d?z \u003c- c\n",
"            mesh3d?flatshading \u003c- true\n",
"            mesh3d?contour \u003c- Contours.initXyz(Show=true)\n",
"            mesh3d\n",
"            )\n",
"    |\u003e GenericChart.ofTraceObject \n",
"    \n"]
          }
,
          {
           "cell_type": "code",
           "metadata": {},
            "execution_count": null, "outputs": [
          {
           "data": {
            "text/html": ["\u003cdiv id=\"1c16e891-b800-48d6-b039-81d5e79a5249\" style=\"width: 600px; height: 600px;\"\u003e\u003c!-- Plotly chart will be drawn inside this DIV --\u003e\u003c/div\u003e",
"",
"\u003cscript type=\"text/javascript\"\u003e",
"",
"",
"            var renderPlotly_1c16e891b80048d6b03981d5e79a5249 = function() {",
"            var fsharpPlotlyRequire = requirejs.config({context:\u0027fsharp-plotly\u0027,paths:{plotly:\u0027https://cdn.plot.ly/plotly-latest.min\u0027}}) || require;",
"            fsharpPlotlyRequire([\u0027plotly\u0027], function(Plotly) {",
"",
"",
"            var data = [{\"type\":\"mesh3d\",\"x\":[0.6437433094921258,0.8072475845959259,0.42137648836773656,0.22613617741788558,0.04971728895312049,0.5815102917056113,0.5302905587154862,0.7569754103929621,0.23586344776482482,0.19263660125091514,0.10362347406503906,0.08809862988446775,0.36243034729847234,0.09953336282611515,0.7582621540679886,0.41310596950962486,0.2208193965353162,0.9849731507641138,0.8121702977512825,0.39361570700705784,0.8537267972034062,0.39598914021439346,0.5547638589305635,0.19283138177955123,0.15073008376673333,0.9773109890414918,0.6971692730193815,0.545008840293162,0.10860743937483404,0.13527523266862856,0.282295144294526,0.9666189253174788,0.36872015444967904,0.9993175496344071,0.8376837022778036,0.7094326935286785,0.986410334234317,0.8786279195354451,0.09553602249153705,0.7096613718707401,0.9794019171872185,0.7257080789309498,0.1521320655719061,0.8853790801416054,0.7187387387821166,0.8971095261616211,0.1146309278507861,0.5518382794930778,0.4565594175162536,0.7304242657173537],\"y\":[0.8913267333485776,0.44151484241779654,0.9040113761574083,0.5934055026589918,0.5702387348610157,0.24775416927773233,0.2524837256653624,0.22854510658818536,0.07540609365115226,0.07240629991162861,0.8843410186862298,0.9852817184223243,0.648367971018128,0.10058821509619625,0.9103414569563891,0.13700454874756027,0.7193784754347887,0.3631127976640653,0.2618496605483115,0.04882946053930999,0.42669563527530785,0.3421914769998712,0.8894371282725768,0.10250892588054246,0.4142137898198393,0.1280187182724563,0.24385707464248738,0.6693847787889581,0.47409264299743464,0.2536205576051122,0.8626800611907057,0.14533099352630366,0.08844942277690834,0.3781831736574802,0.24394849932005094,0.8407803018767295,0.06260754916007051,0.7753146517906871,0.4290788147733914,0.5899295330000713,0.4569489678633162,0.7578652276461316,0.8032218258842928,0.02312972257990843,0.8253203531845101,0.9941201987648942,0.07734010791282174,0.051543850475709814,0.9750376231852163,0.5817341900345563],\"z\":[0.17773105072683237,0.7515181301867208,0.2899886189447663,0.40772995697694364,0.3037286304420459,0.5491352563487064,0.5520777141452198,0.8015024502768658,0.17919171283915253,0.44222001658855936,0.003897094635244969,0.5830989468764043,0.7544524635907507,0.82178553604604,0.20972623872092283,0.7390100251599262,0.8968322956454159,0.2701847973606478,0.8566397157761453,0.06956115507965961,0.07439699958748976,0.9440638236441016,0.9340339828906739,0.6719201275482402,0.5918804926759939,0.6688304076291762,0.5389696511155785,0.8663074056926684,0.27718857269603225,0.42009359105494504,0.05067861035963456,0.19231322416677754,0.6943471556037418,0.8923584529628784,0.07588950687827985,0.11116193100398496,0.8553423745815374,0.6807194657999647,0.07445454321543432,0.6948132429713445,0.28870258773150975,0.26110509888320466,0.5961229389515347,0.986858798184832,0.5860324383648263,0.8738500209869119,0.0034127640553809537,0.9814362898382527,0.8134034838589855,0.08631032802458402],\"flatshading\":true,\"contour\":{\"x\":{\"show\":true},\"y\":{\"show\":true},\"z\":{\"show\":true}}}];",
"            var layout = {};",
"            var config = {};",
"            Plotly.newPlot(\u00271c16e891-b800-48d6-b039-81d5e79a5249\u0027, data, layout, config);",
"",
"});",
"            };",
"            if ((typeof(requirejs) !==  typeof(Function)) || (typeof(requirejs.config) !== typeof(Function))) {",
"                var script = document.createElement(\"script\");",
"                script.setAttribute(\"src\", \"https://cdnjs.cloudflare.com/ajax/libs/require.js/2.3.6/require.min.js\");",
"                script.onload = function(){",
"                    renderPlotly_1c16e891b80048d6b03981d5e79a5249();",
"                };",
"                document.getElementsByTagName(\"head\")[0].appendChild(script);",
"            }",
"            else {",
"                renderPlotly_1c16e891b80048d6b03981d5e79a5249();",
"            }",
"",
"\u003c/script\u003e",
"",
""]
        },
           "execution_count": null,
           "metadata": {},
           "output_type": "execute_result"
          }], 
           "source": ["mesh3d\n"]
          }],
            "metadata": {
            "kernelspec": {"display_name": ".NET (F#)", "language": "F#", "name": ".net-fsharp"},
            "langauge_info": {
        "file_extension": ".fs",
        "mimetype": "text/x-fsharp",
        "name": "C#",
        "pygments_lexer": "fsharp",
        "version": "4.5"
        }
        },
            "nbformat": 4,
            "nbformat_minor": 1
        }
        

