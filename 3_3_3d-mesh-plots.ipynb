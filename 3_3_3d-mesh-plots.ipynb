
        {
            "cells": [
          {
           "cell_type": "markdown",
           "metadata": {},
           
           "source": ["// can\u0027t yet format YamlFrontmatter ([\"title: 3D Mesh plots\"; \"category: 3D Charts\"; \"categoryindex: 4\"; \"index: 4\"], Some { StartLine = 2 StartColumn = 0 EndLine = 6 EndColumn = 8 }) to pynb markdown\n",
"\n"]
          }
,
          {
           "cell_type": "code",
           "metadata": {},
            "execution_count": null, "outputs": [], 
           "source": ["#r \"nuget: Plotly.NET, 2.0.0-beta.10\"\n",
"#r \"nuget: Plotly.NET.Interactive, 2.0.0-beta.10\"\n"]
          }
,
          {
           "cell_type": "markdown",
           "metadata": {},
           
           "source": ["# 3D Mesh plots\n",
"\n",
"[![Binder](https://plotly.net/img/badge-binder.svg)](https://mybinder.org/v2/gh/plotly/Plotly.NET/gh-pages?filepath=3_3_3d-mesh-plots.ipynb)\u0026emsp;\n",
"[![Script](https://plotly.net/img/badge-script.svg)](https://plotly.net/3_3_3d-mesh-plots.fsx)\u0026emsp;\n",
"[![Notebook](https://plotly.net/img/badge-notebook.svg)](https://plotly.net/3_3_3d-mesh-plots.ipynb)\n",
"\n",
"*Summary:* This example shows how to create 3D-Mesh charts in F#.\n",
"\n",
"let\u0027s first create some data for the purpose of creating example charts:\n"]
          }
,
          {
           "cell_type": "code",
           "metadata": {},
            "execution_count": 3, "outputs": [], 
           "source": ["open System\n",
"open Plotly.NET \n",
"\n",
"\n",
"//---------------------- Generate linearly spaced vector ----------------------\n",
"let linspace (min,max,n) = \n",
"    if n \u003c= 2 then failwithf \"n needs to be larger then 2\"\n",
"    let bw = float (max - min) / (float n - 1.)\n",
"    Array.init n (fun i -\u003e min + (bw * float i))\n",
"    //[|min ..bw ..max|]\n",
"\n",
"//---------------------- Create example data ----------------------\n",
"let size = 100\n",
"let x = linspace(-2. * Math.PI, 2. * Math.PI, size)\n",
"let y = linspace(-2. * Math.PI, 2. * Math.PI, size)\n",
"\n",
"let f x y = - (5. * x / (x**2. + y**2. + 1.) )\n",
"\n",
"let z = \n",
"    Array.init size (fun i -\u003e \n",
"        Array.init size (fun j -\u003e \n",
"            f x.[j] y.[i] \n",
"        )\n",
"    )\n",
"\n",
"let rnd = System.Random()\n",
"let a = Array.init 50 (fun _ -\u003e rnd.NextDouble())\n",
"let b = Array.init 50 (fun _ -\u003e rnd.NextDouble())\n",
"let c = Array.init 50 (fun _ -\u003e rnd.NextDouble())\n",
"\n",
"\n",
"let mesh3d =\n",
"    Trace3d.initMesh3d \n",
"        (fun mesh3d -\u003e\n",
"            mesh3d?x \u003c- a\n",
"            mesh3d?y \u003c- b\n",
"            mesh3d?z \u003c- c\n",
"            mesh3d?flatshading \u003c- true\n",
"            mesh3d?contour \u003c- Contours.initXyz(Show=true)\n",
"            mesh3d\n",
"            )\n",
"    |\u003e GenericChart.ofTraceObject \n",
"    \n"]
          }
,
          {
           "cell_type": "code",
           "metadata": {},
            "execution_count": null, "outputs": [
          {
           "data": {
            "text/html": ["\u003cdiv id=\"e362ab90-67a1-435d-b340-927b3e983174\" style=\"width: 600px; height: 600px;\"\u003e\u003c!-- Plotly chart will be drawn inside this DIV --\u003e\u003c/div\u003e",
"",
"\u003cscript type=\"text/javascript\"\u003e",
"",
"",
"            var renderPlotly_e362ab9067a1435db340927b3e983174 = function() {",
"            var fsharpPlotlyRequire = requirejs.config({context:\u0027fsharp-plotly\u0027,paths:{plotly:\u0027https://cdn.plot.ly/plotly-latest.min\u0027}}) || require;",
"            fsharpPlotlyRequire([\u0027plotly\u0027], function(Plotly) {",
"",
"",
"            var data = [{\"type\":\"mesh3d\",\"x\":[0.5387048314040084,0.7139635066101158,0.16662427557940793,0.8012652163399687,0.05877630880976855,0.7110911895106972,0.7353243696202172,0.38339880312951224,0.0382175366572186,0.20115394014918894,0.3563897518238005,0.08173967156640238,0.8799635203927586,0.48062695585220444,0.6490423756879952,0.8586665288818378,0.34016038958922046,0.7773082390321923,0.7939427717560635,0.7524158408643752,0.6218459026989741,0.08139019137313133,0.7256824005049106,0.5247199174597487,0.5573067164781069,0.5020241162283459,0.2442137786393118,0.0313020297471909,0.8121308567058905,0.9070648699566093,0.8142610321819135,0.17588357169920746,0.17913756807294562,0.28955735931618015,0.33558014563078997,0.5779766578124728,0.21908505736807596,0.6001082289033142,0.7804971210567733,0.10408461052183277,0.4641841102690362,0.37169513170220664,0.9629093562080103,0.09225214463297843,0.5152953194991198,0.20139366677095819,0.5544143885161794,0.18336166310280638,0.7985645773813895,0.7572293699519845],\"y\":[0.26866425772601005,0.9949535308382258,0.7712455805257175,0.4434184173324231,0.08805435853454022,0.457314640030877,0.9882811061052051,0.6419043581196593,0.2439584998618618,0.5567521925814227,0.46687741087138535,0.7040223398730263,0.5712679464236218,0.13115266670060935,0.38689290796727543,0.18050618012459305,0.9026021034934568,0.5904061610765784,0.14504681022141447,0.07106571787552243,0.6395814715137619,0.7400521606859063,0.996811117975419,0.6898581612342308,0.28823173059533896,0.25015077099676747,0.11848083516512105,0.6334302558719321,0.009424597960628847,0.3559130497071487,0.9476097277121663,0.06085211553650541,0.23273745236580143,0.05490148675390588,0.6384006122305992,0.8193075013436878,0.4046379911734899,0.7357191507405225,0.20150300078163993,0.878265505599913,0.5896955517072675,0.5771806992484166,0.35614972904145237,0.22374492847535057,0.6372071996504475,0.76016177039601,0.8004271852785848,0.8317566895074009,0.705359236665703,0.33478913937452676],\"z\":[0.2987915632775014,0.9640082274396011,0.03831485288139193,0.727498859505867,0.11764789843822265,0.5286120970401038,0.9981424128628068,0.0813874192914867,0.15518668673708416,0.8379035875377727,0.338833804865756,0.35485085023327306,0.6324797601590304,0.8880454501547131,0.6091424648692564,0.4060252953348799,0.47128488750722486,0.516366459669716,0.49275205447001014,0.5675854066235877,0.7758681889511031,0.16688295275293427,0.38890316029493843,0.2667813046215015,0.4813701661682549,0.06240077226534522,0.38390243164445387,0.7730661895000684,0.052650961583783365,0.5280699601993291,0.44972358571818266,0.2867241456577201,0.9280710192062291,0.6746354585861021,0.0571214864296473,0.9836015002725653,0.02253726265511348,0.5052385928599343,0.9372535883156832,0.10978851519049541,0.821165088480881,0.32325057188200323,0.5805324640034384,0.3635994132438672,0.539431700734157,0.2348447014739945,0.9447009390893862,0.4681042788867393,0.6146024636060943,0.23118190431556754],\"flatshading\":true,\"contour\":{\"x\":{\"show\":true},\"y\":{\"show\":true},\"z\":{\"show\":true}}}];",
"            var layout = {};",
"            var config = {};",
"            Plotly.newPlot(\u0027e362ab90-67a1-435d-b340-927b3e983174\u0027, data, layout, config);",
"",
"});",
"            };",
"            if ((typeof(requirejs) !==  typeof(Function)) || (typeof(requirejs.config) !== typeof(Function))) {",
"                var script = document.createElement(\"script\");",
"                script.setAttribute(\"src\", \"https://cdnjs.cloudflare.com/ajax/libs/require.js/2.3.6/require.min.js\");",
"                script.onload = function(){",
"                    renderPlotly_e362ab9067a1435db340927b3e983174();",
"                };",
"                document.getElementsByTagName(\"head\")[0].appendChild(script);",
"            }",
"            else {",
"                renderPlotly_e362ab9067a1435db340927b3e983174();",
"            }",
"",
"\u003c/script\u003e",
"",
""]
        },
           "execution_count": null,
           "metadata": {},
           "output_type": "execute_result"
          }], 
           "source": ["mesh3d\n"]
          }],
            "metadata": {
            "kernelspec": {"display_name": ".NET (F#)", "language": "F#", "name": ".net-fsharp"},
            "langauge_info": {
        "file_extension": ".fs",
        "mimetype": "text/x-fsharp",
        "name": "C#",
        "pygments_lexer": "fsharp",
        "version": "4.5"
        }
        },
            "nbformat": 4,
            "nbformat_minor": 1
        }
        

