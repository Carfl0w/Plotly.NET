
        {
            "cells": [
          {
           "cell_type": "markdown",
           "metadata": {},
           
           "source": ["// can\u0027t yet format YamlFrontmatter ([\"title: 3D Mesh plots\"; \"category: 3D Charts\"; \"categoryindex: 4\"; \"index: 4\"], Some { StartLine = 2 StartColumn = 0 EndLine = 6 EndColumn = 8 }) to pynb markdown\n",
"\n"]
          }
,
          {
           "cell_type": "code",
           "metadata": {},
            "execution_count": null, "outputs": [], 
           "source": ["#r \"nuget: Plotly.NET, 2.0.0-preview.01\"\n",
"#r \"nuget: Plotly.NET.Interactive, 2.0.0-preview.01\"\n"]
          }
,
          {
           "cell_type": "markdown",
           "metadata": {},
           
           "source": ["# 3D Mesh plots\n",
"\n",
"[![Binder](https://plotly.net/img/badge-binder.svg)](https://mybinder.org/v2/gh/plotly/Plotly.NET/gh-pages?filepath=3_3_3d-mesh-plots.ipynb)\u0026emsp;\n",
"[![Script](https://plotly.net/img/badge-script.svg)](https://plotly.net/3_3_3d-mesh-plots.fsx)\u0026emsp;\n",
"[![Notebook](https://plotly.net/img/badge-notebook.svg)](https://plotly.net/3_3_3d-mesh-plots.ipynb)\n",
"\n",
"*Summary:* This example shows how to create 3D-Mesh charts in F#.\n",
"\n",
"let\u0027s first create some data for the purpose of creating example charts:\n"]
          }
,
          {
           "cell_type": "code",
           "metadata": {},
            "execution_count": 3, "outputs": [], 
           "source": ["open System\n",
"open Plotly.NET \n",
"\n",
"\n",
"//---------------------- Generate linearly spaced vector ----------------------\n",
"let linspace (min,max,n) = \n",
"    if n \u003c= 2 then failwithf \"n needs to be larger then 2\"\n",
"    let bw = float (max - min) / (float n - 1.)\n",
"    Array.init n (fun i -\u003e min + (bw * float i))\n",
"    //[|min ..bw ..max|]\n",
"\n",
"//---------------------- Create example data ----------------------\n",
"let size = 100\n",
"let x = linspace(-2. * Math.PI, 2. * Math.PI, size)\n",
"let y = linspace(-2. * Math.PI, 2. * Math.PI, size)\n",
"\n",
"let f x y = - (5. * x / (x**2. + y**2. + 1.) )\n",
"\n",
"let z = \n",
"    Array.init size (fun i -\u003e \n",
"        Array.init size (fun j -\u003e \n",
"            f x.[j] y.[i] \n",
"        )\n",
"    )\n",
"\n",
"let rnd = System.Random()\n",
"let a = Array.init 50 (fun _ -\u003e rnd.NextDouble())\n",
"let b = Array.init 50 (fun _ -\u003e rnd.NextDouble())\n",
"let c = Array.init 50 (fun _ -\u003e rnd.NextDouble())\n",
"\n",
"\n",
"let mesh3d =\n",
"    Trace3d.initMesh3d \n",
"        (fun mesh3d -\u003e\n",
"            mesh3d?x \u003c- a\n",
"            mesh3d?y \u003c- b\n",
"            mesh3d?z \u003c- c\n",
"            mesh3d?flatshading \u003c- true\n",
"            mesh3d?contour \u003c- Contours.initXyz(Show=true)\n",
"            mesh3d\n",
"            )\n",
"    |\u003e GenericChart.ofTraceObject \n",
"    \n"]
          }
,
          {
           "cell_type": "code",
           "metadata": {},
            "execution_count": null, "outputs": [
          {
           "data": {
            "text/html": ["\u003cdiv id=\"df84e43b-6a6f-498a-9bdd-2581e031ce8e\" style=\"width: 600px; height: 600px;\"\u003e\u003c!-- Plotly chart will be drawn inside this DIV --\u003e\u003c/div\u003e",
"",
"\u003cscript type=\"text/javascript\"\u003e",
"",
"",
"            var renderPlotly_df84e43b6a6f498a9bdd2581e031ce8e = function() {",
"            var fsharpPlotlyRequire = requirejs.config({context:\u0027fsharp-plotly\u0027,paths:{plotly:\u0027https://cdn.plot.ly/plotly-latest.min\u0027}}) || require;",
"            fsharpPlotlyRequire([\u0027plotly\u0027], function(Plotly) {",
"",
"",
"            var data = [{\"type\":\"mesh3d\",\"x\":[0.8165778116400251,0.6311979715857645,0.8606685408673569,0.2826431734872252,0.2982922682065015,0.39833528613594144,0.28911019130102833,0.7179409413216361,0.9618214424521763,0.5838498387410538,0.4352197658434602,0.5378013320908888,0.04177213741548925,0.4726632388647009,0.20200659111235597,0.5440758329555745,0.695563483841514,0.9461838653991855,0.910700161899766,0.9884260906783986,0.051898097177919975,0.9793161358587985,0.1707757372273019,0.917791685516849,0.3109753077435192,0.5290096516390376,0.557124000302108,0.9211351815243881,0.5286537145863537,0.5433563853350265,0.5006600257478002,0.6504199261080567,0.9632762158118543,0.2024761294957605,0.5596015814503662,0.3863189124438534,0.8448924589179887,0.8204675302004756,0.06546958212995417,0.4669318215301874,0.8184144440192797,0.44134380176725974,0.07069613415314636,0.7560375015046622,0.546474373688211,0.8144862623021408,0.06173195133997684,0.5589600329096243,0.07571371787959418,0.833149801396369],\"y\":[0.840675888508873,0.964716938773504,0.8949052891204624,0.8382471589549664,0.44445330763443064,0.8372616757812266,0.46042223435846263,0.9428768553505078,0.9716678657437059,0.7692826165674639,0.8412112858338334,0.3679750097766402,0.18928722673528234,0.4184650571171497,0.0831898129932535,0.7847998397354036,0.5745251162790345,0.8392960079197288,0.9130616574143346,0.8156876786685026,0.6991833740375859,0.8750959536410383,0.8807142832692313,0.44376834036957863,0.1700116466591189,0.6105542954106602,0.9086200017056522,0.4147382357226397,0.3713173118286381,0.4964890454413784,0.46727770029906074,0.9981639673924837,0.845421463644794,0.6955039131899848,0.7026804968261535,0.5359430869742963,0.7555146369875942,0.1250290568568879,0.7580228218613299,0.7223399056691396,0.9258966780853908,0.9020156035674809,0.8487996644567697,0.29618696556249025,0.625720535696354,0.45043943424263944,0.2520565750319774,0.6522310770359966,0.6728476885114087,0.7616745339528074],\"z\":[0.23996114602310636,0.22243594342024808,0.6458983754952896,0.26002603921109163,0.13396642735878306,0.9655799348678347,0.08400265550427262,0.4511369487508838,0.6682355122958475,0.8338990122237704,0.9286416740755744,0.045683998635822905,0.5715595435218697,0.47517882030232755,0.30200491626840315,0.8430473184413497,0.5225535461318462,0.49378331354529753,0.7157845602909962,0.5472467260189572,0.029285202747809328,0.44949605942214654,0.0812731860583989,0.190721751745195,0.8897910005831118,0.797167770470105,0.026296289184268698,0.584527317706741,0.8180478046732246,0.7195722124164795,0.3584977203786828,0.25638892466965546,0.7418905472112309,0.6096427778758308,0.25652789941827203,0.24484175687881268,0.3522655918971941,0.5853954244337023,0.5615374858312018,0.7371005619583189,0.45194043147002366,0.30437768823671046,0.4567935445610404,0.9241238096375595,0.7936982315935652,0.8802126794495679,0.3304560600456111,0.37362084415444213,0.9941820492940872,0.7826732172550043],\"flatshading\":true,\"contour\":{\"x\":{\"show\":true},\"y\":{\"show\":true},\"z\":{\"show\":true}}}];",
"            var layout = {};",
"            var config = {};",
"            Plotly.newPlot(\u0027df84e43b-6a6f-498a-9bdd-2581e031ce8e\u0027, data, layout, config);",
"",
"});",
"            };",
"            if ((typeof(requirejs) !==  typeof(Function)) || (typeof(requirejs.config) !== typeof(Function))) {",
"                var script = document.createElement(\"script\");",
"                script.setAttribute(\"src\", \"https://cdnjs.cloudflare.com/ajax/libs/require.js/2.3.6/require.min.js\");",
"                script.onload = function(){",
"                    renderPlotly_df84e43b6a6f498a9bdd2581e031ce8e();",
"                };",
"                document.getElementsByTagName(\"head\")[0].appendChild(script);",
"            }",
"            else {",
"                renderPlotly_df84e43b6a6f498a9bdd2581e031ce8e();",
"            }",
"",
"\u003c/script\u003e",
"",
""]
        },
           "execution_count": null,
           "metadata": {},
           "output_type": "execute_result"
          }], 
           "source": ["mesh3d\n"]
          }],
            "metadata": {
            "kernelspec": {"display_name": ".NET (F#)", "language": "F#", "name": ".net-fsharp"},
            "langauge_info": {
        "file_extension": ".fs",
        "mimetype": "text/x-fsharp",
        "name": "C#",
        "pygments_lexer": "fsharp",
        "version": "4.5"
        }
        },
            "nbformat": 4,
            "nbformat_minor": 1
        }
        

