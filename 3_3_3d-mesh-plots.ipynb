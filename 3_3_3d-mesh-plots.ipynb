
        {
            "cells": [
          {
           "cell_type": "markdown",
           "metadata": {},
           
           "source": ["// can\u0027t yet format YamlFrontmatter ([\"title: 3D Mesh plots\"; \"category: 3D Charts\"; \"categoryindex: 4\"; \"index: 4\"], Some { StartLine = 2 StartColumn = 0 EndLine = 6 EndColumn = 8 }) to pynb markdown\n",
"\n"]
          }
,
          {
           "cell_type": "code",
           "metadata": {},
            "execution_count": null, "outputs": [], 
           "source": ["#r \"nuget: Plotly.NET, 2.0.0-preview.3\"\n",
"#r \"nuget: Plotly.NET.Interactive, 2.0.0-preview.3\"\n"]
          }
,
          {
           "cell_type": "markdown",
           "metadata": {},
           
           "source": ["# 3D Mesh plots\n",
"\n",
"[![Binder](https://plotly.net/img/badge-binder.svg)](https://mybinder.org/v2/gh/plotly/Plotly.NET/gh-pages?filepath=3_3_3d-mesh-plots.ipynb)\u0026emsp;\n",
"[![Script](https://plotly.net/img/badge-script.svg)](https://plotly.net/3_3_3d-mesh-plots.fsx)\u0026emsp;\n",
"[![Notebook](https://plotly.net/img/badge-notebook.svg)](https://plotly.net/3_3_3d-mesh-plots.ipynb)\n",
"\n",
"*Summary:* This example shows how to create 3D-Mesh charts in F#.\n",
"\n",
"let\u0027s first create some data for the purpose of creating example charts:\n"]
          }
,
          {
           "cell_type": "code",
           "metadata": {},
            "execution_count": 3, "outputs": [], 
           "source": ["open System\n",
"open Plotly.NET \n",
"\n",
"\n",
"//---------------------- Generate linearly spaced vector ----------------------\n",
"let linspace (min,max,n) = \n",
"    if n \u003c= 2 then failwithf \"n needs to be larger then 2\"\n",
"    let bw = float (max - min) / (float n - 1.)\n",
"    Array.init n (fun i -\u003e min + (bw * float i))\n",
"    //[|min ..bw ..max|]\n",
"\n",
"//---------------------- Create example data ----------------------\n",
"let size = 100\n",
"let x = linspace(-2. * Math.PI, 2. * Math.PI, size)\n",
"let y = linspace(-2. * Math.PI, 2. * Math.PI, size)\n",
"\n",
"let f x y = - (5. * x / (x**2. + y**2. + 1.) )\n",
"\n",
"let z = \n",
"    Array.init size (fun i -\u003e \n",
"        Array.init size (fun j -\u003e \n",
"            f x.[j] y.[i] \n",
"        )\n",
"    )\n",
"\n",
"let rnd = System.Random()\n",
"let a = Array.init 50 (fun _ -\u003e rnd.NextDouble())\n",
"let b = Array.init 50 (fun _ -\u003e rnd.NextDouble())\n",
"let c = Array.init 50 (fun _ -\u003e rnd.NextDouble())\n",
"\n",
"\n",
"let mesh3d =\n",
"    Trace3d.initMesh3d \n",
"        (fun mesh3d -\u003e\n",
"            mesh3d?x \u003c- a\n",
"            mesh3d?y \u003c- b\n",
"            mesh3d?z \u003c- c\n",
"            mesh3d?flatshading \u003c- true\n",
"            mesh3d?contour \u003c- Contours.initXyz(Show=true)\n",
"            mesh3d\n",
"            )\n",
"    |\u003e GenericChart.ofTraceObject \n",
"    \n"]
          }
,
          {
           "cell_type": "code",
           "metadata": {},
            "execution_count": null, "outputs": [
          {
           "data": {
            "text/html": ["\u003cdiv id=\"15cf3ac5-009b-4f5e-af04-022ff6a108b7\" style=\"width: 600px; height: 600px;\"\u003e\u003c!-- Plotly chart will be drawn inside this DIV --\u003e\u003c/div\u003e",
"",
"\u003cscript type=\"text/javascript\"\u003e",
"",
"",
"            var renderPlotly_15cf3ac5009b4f5eaf04022ff6a108b7 = function() {",
"            var fsharpPlotlyRequire = requirejs.config({context:\u0027fsharp-plotly\u0027,paths:{plotly:\u0027https://cdn.plot.ly/plotly-latest.min\u0027}}) || require;",
"            fsharpPlotlyRequire([\u0027plotly\u0027], function(Plotly) {",
"",
"",
"            var data = [{\"type\":\"mesh3d\",\"x\":[0.42463068497582834,0.7904195253692659,0.6562674141750985,0.05414474525216256,0.2974307398765491,0.023379206202635172,0.2260729429433462,0.4997969588729539,0.6480613772981154,0.42766299165210825,0.19870894551217042,0.6475048985553462,0.8044371725080708,0.19482232359928187,0.4465876414657513,0.889572999388712,0.7928757410463299,0.17864202530060058,0.09489637897112238,0.0499047823482681,0.11313167778455265,0.14043881238458622,0.3411238921532053,0.876808649802957,0.30911165164276566,0.8407493740509959,0.31053157910263707,0.42789394894051086,0.11969948053345991,0.837015612906318,0.6321801541522984,0.660335765993379,0.13927740237641958,0.524087720794644,0.5692637532806321,0.7101878732024636,0.14087136282626136,0.9044271348530553,0.8152916449193338,0.3918029407001114,0.19116742871290418,0.2819817263083447,0.02595585865245939,0.7173270134801637,0.14673566219710543,0.398402053117008,0.199713359214232,0.8709524226705322,0.06674080577992872,0.9324779477587333],\"y\":[0.3250849076197878,0.6330717907441183,0.09801918272768109,0.015615442309349515,0.15691952973460757,0.2841918725912421,0.44929563321606053,0.7794587643721415,0.7450330936093968,0.45668136582555313,0.7128476270999982,0.7981789940028353,0.380097478339494,0.8110457643917974,0.7954828374998099,0.5383731795187915,0.5082274961789267,0.28034945171342673,0.6255585703186498,0.7363997682632877,0.7487016365624506,0.8884486061932746,0.36335038038126677,0.703093438271011,0.858737353635364,0.831149951476208,0.11448295373212683,0.6237968786730417,0.7300729876058516,0.9107095985257577,0.641036014836764,0.4395791564321048,0.3611531431605821,0.18722153277472664,0.5119307052865302,0.9991083634081801,0.5623165832656979,0.12366196006707007,0.3671681910600365,0.28507188068938993,0.26089223998640304,0.36141259845411994,0.1593940412436584,0.3586102790937807,0.6789553136001133,0.39298843471006883,0.9018842479688508,0.2149100942606619,0.9218441759803538,0.6083624826783139],\"z\":[0.8901745569380813,0.9193639075008053,0.24539385235188244,0.33034103751664096,0.18377631119628265,0.4366363014265133,0.2697214103628515,0.3949257444566701,0.15687808867398562,0.32576957825839964,0.1697089188591153,0.8254987545430189,0.04938577676628985,0.8343234950836391,0.8156453509887892,0.2732684706678933,0.43702585084225326,0.1928759455647673,0.2991150591052673,0.7963744740916298,0.9760565962530936,0.3845655361118566,0.9131812606533902,0.3404866896292598,0.4755075282768847,0.3872890381083307,0.7290545649496161,0.004740101287486078,0.024138124670897668,0.4657489189252951,0.9292657035073572,0.8995728594714649,0.7019527026926878,0.12171050492753764,0.020535041587676408,0.7216721073359587,0.19418530408022242,0.03081210564394114,0.0034452215784439915,0.07529440386001691,0.7293869530453286,0.16739083880902772,0.9667838713930844,0.041398612801636855,0.11536296183027465,0.43539348544338413,0.3120268216878301,0.32507054616001924,0.5429649281049915,0.40568684293222],\"flatshading\":true,\"contour\":{\"x\":{\"show\":true},\"y\":{\"show\":true},\"z\":{\"show\":true}}}];",
"            var layout = {};",
"            var config = {};",
"            Plotly.newPlot(\u002715cf3ac5-009b-4f5e-af04-022ff6a108b7\u0027, data, layout, config);",
"",
"});",
"            };",
"            if ((typeof(requirejs) !==  typeof(Function)) || (typeof(requirejs.config) !== typeof(Function))) {",
"                var script = document.createElement(\"script\");",
"                script.setAttribute(\"src\", \"https://cdnjs.cloudflare.com/ajax/libs/require.js/2.3.6/require.min.js\");",
"                script.onload = function(){",
"                    renderPlotly_15cf3ac5009b4f5eaf04022ff6a108b7();",
"                };",
"                document.getElementsByTagName(\"head\")[0].appendChild(script);",
"            }",
"            else {",
"                renderPlotly_15cf3ac5009b4f5eaf04022ff6a108b7();",
"            }",
"",
"\u003c/script\u003e",
"",
""]
        },
           "execution_count": null,
           "metadata": {},
           "output_type": "execute_result"
          }], 
           "source": ["mesh3d\n"]
          }],
            "metadata": {
            "kernelspec": {"display_name": ".NET (F#)", "language": "F#", "name": ".net-fsharp"},
            "langauge_info": {
        "file_extension": ".fs",
        "mimetype": "text/x-fsharp",
        "name": "C#",
        "pygments_lexer": "fsharp",
        "version": "4.5"
        }
        },
            "nbformat": 4,
            "nbformat_minor": 1
        }
        

