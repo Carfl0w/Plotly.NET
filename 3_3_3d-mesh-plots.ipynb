
        {
            "cells": [
          {
           "cell_type": "code",
           "metadata": {},
            "execution_count": null, "outputs": [], 
           "source": ["#r \"nuget: Plotly.NET, 2.0.0-beta8\"\n",
"#r \"nuget: Plotly.NET.Interactive, 2.0.0-beta8\"\n"]
          }
,
          {
           "cell_type": "markdown",
           "metadata": {},
           
           "source": ["# 3D Mesh plots\n",
"\n",
"[![Binder](https://mybinder.org/badge_logo.svg)](https://mybinder.org/v2/gh/plotly/Plotly.NET/gh-pages?filepath=3_3_3d-mesh-plots.ipynb)\n",
"\n",
"*Summary:* This example shows how to create 3D-Mesh charts in F#.\n",
"\n",
"let\u0027s first create some data for the purpose of creating example charts:\n"]
          }
,
          {
           "cell_type": "code",
           "metadata": {},
            "execution_count": 3, "outputs": [], 
           "source": ["open System\n",
"open Plotly.NET \n",
"\n",
"\n",
"//---------------------- Generate linearly spaced vector ----------------------\n",
"let linspace (min,max,n) = \n",
"    if n \u003c= 2 then failwithf \"n needs to be larger then 2\"\n",
"    let bw = float (max - min) / (float n - 1.)\n",
"    Array.init n (fun i -\u003e min + (bw * float i))\n",
"    //[|min ..bw ..max|]\n",
"\n",
"//---------------------- Create example data ----------------------\n",
"let size = 100\n",
"let x = linspace(-2. * Math.PI, 2. * Math.PI, size)\n",
"let y = linspace(-2. * Math.PI, 2. * Math.PI, size)\n",
"\n",
"let f x y = - (5. * x / (x**2. + y**2. + 1.) )\n",
"\n",
"let z = \n",
"    Array.init size (fun i -\u003e \n",
"        Array.init size (fun j -\u003e \n",
"            f x.[j] y.[i] \n",
"        )\n",
"    )\n",
"\n",
"let rnd = System.Random()\n",
"let a = Array.init 50 (fun _ -\u003e rnd.NextDouble())\n",
"let b = Array.init 50 (fun _ -\u003e rnd.NextDouble())\n",
"let c = Array.init 50 (fun _ -\u003e rnd.NextDouble())\n",
"\n",
"\n",
"let mesh3d =\n",
"    Trace3d.initMesh3d \n",
"        (fun mesh3d -\u003e\n",
"            mesh3d?x \u003c- a\n",
"            mesh3d?y \u003c- b\n",
"            mesh3d?z \u003c- c\n",
"            mesh3d?flatshading \u003c- true\n",
"            mesh3d?contour \u003c- Contours.initXyz(Show=true)\n",
"            mesh3d\n",
"            )\n",
"    |\u003e GenericChart.ofTraceObject \n",
"    \n"]
          }
,
          {
           "cell_type": "code",
           "metadata": {},
            "execution_count": null, "outputs": [
          {
           "data": {
            "text/html": ["\u003cdiv id=\"c50cb731-1d25-4aef-88d2-d74fdf7aeeb6\" style=\"width: 600px; height: 600px;\"\u003e\u003c!-- Plotly chart will be drawn inside this DIV --\u003e\u003c/div\u003e",
"",
"\u003cscript type=\"text/javascript\"\u003e",
"",
"",
"            var renderPlotly_c50cb7311d254aef88d2d74fdf7aeeb6 = function() {",
"            var fsharpPlotlyRequire = requirejs.config({context:\u0027fsharp-plotly\u0027,paths:{plotly:\u0027https://cdn.plot.ly/plotly-latest.min\u0027}}) || require;",
"            fsharpPlotlyRequire([\u0027plotly\u0027], function(Plotly) {",
"",
"",
"            var data = [{\"type\":\"mesh3d\",\"x\":[0.980136699499626,0.4513842810184622,0.2046100214145193,0.1666367324845105,0.634304279756874,0.0003048055806685265,0.3968236350439599,0.026883559314014184,0.8262689760077134,0.25779710489222646,0.34976180472865787,0.49440820771009114,0.6290682808631418,0.25426256901317396,0.5522211783343093,0.786255518806286,0.42034224673190257,0.7604082775117867,0.9281760346741303,0.6300258131837593,0.2238398521318286,0.31499674418708157,0.9859179411949208,0.43889206854574947,0.2062498406536178,0.6684718805684111,0.49887001397966874,0.40341824684451255,0.2022177219401196,0.25075584475451884,0.04696371548202062,0.06017178020448041,0.22901548129926225,0.9476326424384641,0.5653402165348363,0.9782455544817473,0.9383814790930513,0.16232858279828383,0.328720350902863,0.6179721172051375,0.4653923690623568,0.09925330714287856,0.8395138084141136,0.3256009413514291,0.14505314507756994,0.8044471669962849,0.54810002285433,0.4278093797284222,0.892696529111218,0.7675487691385433],\"y\":[0.45082004296165895,0.2671805700600057,0.4555461329666647,0.9748465069452518,0.6194495612845987,0.6651399553125444,0.4654663398235414,0.7657179528687699,0.9603868918308928,0.9658323991884629,0.5014347916009998,0.9934053881994473,0.8246658373738945,0.5755131312531946,0.21083338941020582,0.2895900245241774,0.2653927264108289,0.6814356384246776,0.6889223524783377,0.573975623852562,0.8478740397132346,0.25801366393361874,0.4316879266089238,0.31020391746899295,0.16463344412140243,0.12458654498895004,0.47548293577296796,0.6603169998434917,0.2938389234681795,0.40180267365733285,0.12037185771408111,0.07106063425124652,0.5107217177332946,0.4346689528015763,0.79993580179286,0.779783145422015,0.6046256472378158,0.25416897435401054,0.32818308115386546,0.9002002612222919,0.512779214658206,0.1726635262242814,0.2019416909673911,0.3628879517144002,0.11653732560413765,0.47198698086290947,0.274587469768984,0.264000677160919,0.11476755194122323,0.8554631205533925],\"z\":[0.539054440585456,0.8666643844296524,0.7388870272500846,0.318720905258656,0.9196747294253086,0.19280637902804015,0.8354926434510819,0.14534221549767173,0.8102130628238493,0.49486301629564866,0.1896570195395765,0.8051493399800497,0.47187902940059034,0.5585842181735599,0.8454605414743818,0.43037415734975326,0.4826836704661528,0.38999688457231824,0.7755773294603346,0.4310502439881909,0.6849643772863617,0.01122375205681834,0.3532525572708121,0.7887220912560458,0.061196409194356025,0.6752105134889532,0.056071972966227665,0.06879997489452361,0.1936665918648553,0.692646463258493,0.8499990752199661,0.21148225861204895,0.5455494479022684,0.438375802914787,0.8627482330718768,0.2537074732844287,0.33217360700116194,0.1920008124746386,0.5149942233762677,0.6071294227648197,0.944290501970933,0.459283431740144,0.44395591153016123,0.8333200648582169,0.7105432416827153,0.7076298746781563,0.700784496823691,0.6433574727938313,0.5174274102400185,0.6861631682543844],\"flatshading\":true,\"contour\":{\"x\":{\"show\":true},\"y\":{\"show\":true},\"z\":{\"show\":true}}}];",
"            var layout = {};",
"            var config = {};",
"            Plotly.newPlot(\u0027c50cb731-1d25-4aef-88d2-d74fdf7aeeb6\u0027, data, layout, config);",
"",
"});",
"            };",
"            if ((typeof(requirejs) !==  typeof(Function)) || (typeof(requirejs.config) !== typeof(Function))) {",
"                var script = document.createElement(\"script\");",
"                script.setAttribute(\"src\", \"https://cdnjs.cloudflare.com/ajax/libs/require.js/2.3.6/require.min.js\");",
"                script.onload = function(){",
"                    renderPlotly_c50cb7311d254aef88d2d74fdf7aeeb6();",
"                };",
"                document.getElementsByTagName(\"head\")[0].appendChild(script);",
"            }",
"            else {",
"                renderPlotly_c50cb7311d254aef88d2d74fdf7aeeb6();",
"            }",
"",
"\u003c/script\u003e",
"",
""]
        },
           "execution_count": null,
           "metadata": {},
           "output_type": "execute_result"
          }], 
           "source": ["mesh3d\n"]
          }],
            "metadata": {
            "kernelspec": {"display_name": ".NET (F#)", "language": "F#", "name": ".net-fsharp"},
            "langauge_info": {
        "file_extension": ".fs",
        "mimetype": "text/x-fsharp",
        "name": "C#",
        "pygments_lexer": "fsharp",
        "version": "4.5"
        }
        },
            "nbformat": 4,
            "nbformat_minor": 1
        }
        

