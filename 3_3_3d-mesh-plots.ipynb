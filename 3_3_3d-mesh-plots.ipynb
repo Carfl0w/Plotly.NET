
        {
            "cells": [
          {
           "cell_type": "code",
           "metadata": {},
            "execution_count": null, "outputs": [], 
           "source": ["#r \"nuget: Plotly.NET, 2.0.0-beta5\"\n",
"#r \"nuget: Plotly.NET.Interactive, 2.0.0-beta5\"\n"]
          }
,
          {
           "cell_type": "markdown",
           "metadata": {},
           
           "source": ["# 3D Mesh plots\n",
"\n",
"[![Binder](https://mybinder.org/badge_logo.svg)](https://mybinder.org/v2/gh/plotly/Plotly.NET/gh-pages?filepath=3_3_3d-mesh-plots.ipynb)\n",
"\n",
"*Summary:* This example shows how to create 3D-Mesh charts in F#.\n",
"\n",
"let\u0027s first create some data for the purpose of creating example charts:\n"]
          }
,
          {
           "cell_type": "code",
           "metadata": {},
            "execution_count": 3, "outputs": [], 
           "source": ["open System\n",
"open Plotly.NET \n",
"\n",
"\n",
"//---------------------- Generate linearly spaced vector ----------------------\n",
"let linspace (min,max,n) = \n",
"    if n \u003c= 2 then failwithf \"n needs to be larger then 2\"\n",
"    let bw = float (max - min) / (float n - 1.)\n",
"    Array.init n (fun i -\u003e min + (bw * float i))\n",
"    //[|min ..bw ..max|]\n",
"\n",
"//---------------------- Create example data ----------------------\n",
"let size = 100\n",
"let x = linspace(-2. * Math.PI, 2. * Math.PI, size)\n",
"let y = linspace(-2. * Math.PI, 2. * Math.PI, size)\n",
"\n",
"let f x y = - (5. * x / (x**2. + y**2. + 1.) )\n",
"\n",
"let z = \n",
"    Array.init size (fun i -\u003e \n",
"        Array.init size (fun j -\u003e \n",
"            f x.[j] y.[i] \n",
"        )\n",
"    )\n",
"\n",
"let rnd = System.Random()\n",
"let a = Array.init 50 (fun _ -\u003e rnd.NextDouble())\n",
"let b = Array.init 50 (fun _ -\u003e rnd.NextDouble())\n",
"let c = Array.init 50 (fun _ -\u003e rnd.NextDouble())\n",
"\n",
"\n",
"let mesh3d =\n",
"    Trace3d.initMesh3d \n",
"        (fun mesh3d -\u003e\n",
"            mesh3d?x \u003c- a\n",
"            mesh3d?y \u003c- b\n",
"            mesh3d?z \u003c- c\n",
"            mesh3d?flatshading \u003c- true\n",
"            mesh3d?contour \u003c- Contours.initXyz(Show=true)\n",
"            mesh3d\n",
"            )\n",
"    |\u003e GenericChart.ofTraceObject \n",
"    \n"]
          }
,
          {
           "cell_type": "code",
           "metadata": {},
            "execution_count": null, "outputs": [
          {
           "data": {
            "text/html": ["\u003cdiv id=\"c8958528-4610-453c-8e09-9b3e1f25626f\" style=\"width: 600px; height: 600px;\"\u003e\u003c!-- Plotly chart will be drawn inside this DIV --\u003e\u003c/div\u003e",
"",
"\u003cscript type=\"text/javascript\"\u003e",
"",
"",
"            var renderPlotly_c89585284610453c8e099b3e1f25626f = function() {",
"            var fsharpPlotlyRequire = requirejs.config({context:\u0027fsharp-plotly\u0027,paths:{plotly:\u0027https://cdn.plot.ly/plotly-latest.min\u0027}}) || require;",
"            fsharpPlotlyRequire([\u0027plotly\u0027], function(Plotly) {",
"",
"",
"            var data = [{\"type\":\"mesh3d\",\"x\":[0.2412962430349068,0.5884008540717889,0.3691641000887212,0.8286038338339905,0.6604592444656693,0.01921751863286715,0.806120641439278,0.5019226518934232,0.36551632097247816,0.5412237358005828,0.7780107882702774,0.5534008767238823,0.7661331476485976,0.2863937263779313,0.7888830237970142,0.4486465768183798,0.15814411368134623,0.17212151976866719,0.3773122245340199,0.774122164945175,0.9257694021453007,0.8047362010948063,0.39091104287230927,0.021049465993907987,0.118822790737647,0.29931656005760493,0.7953727495835036,0.4327138831991301,0.4748475102124957,0.25680072477869725,0.9118970506414291,0.7033326279853157,0.4894443673498204,0.9100249292841297,0.9545409735080511,0.07718022357541147,0.4028765263049288,0.22657353581235443,0.5191606434617009,0.617777438190662,0.3259333131489965,0.3859830742636617,0.8964610495122434,0.06668874112269317,0.6546529189937994,0.9174119354772438,0.9417277420599608,0.025634188216940586,0.4757051670345036,0.5019983255779363],\"y\":[0.0605691080263672,0.9863833938661886,0.8376871747140248,0.4716353353446514,0.058436116696538455,0.4365600419401005,0.19748981119947964,0.3481146340948132,0.7097810430963435,0.3611426844080643,0.22384476904936357,0.37340675824014785,0.027075141680927547,0.10871559619378093,0.6293266851591536,0.07467816028496164,0.06395650937406183,0.8561082183644679,0.3318527528698802,0.7117028002216028,0.04577005051345101,0.9315705778689918,0.6529608763069663,0.7595347863433579,0.44818885179617857,0.539786327881639,0.9082751515825629,0.3242223017496161,0.36639654700010854,0.20141085526040328,0.3575888179976441,0.769738561366563,0.9570087161646265,0.9728491846345594,0.19623161675233003,0.9255136567752407,0.8656454532712909,0.01780903200516898,0.8515888125875912,0.5179809315679506,0.8796904123759318,0.054761892210115626,0.5167924927160109,0.1580179590536365,0.3939326691412985,0.9525265549088486,0.3589079325827341,0.7877454533184625,0.43736205596353955,0.5799747587088377],\"z\":[0.8534554261031819,0.08561952369549289,0.6937814353470604,0.7640023668129008,0.45622827506448527,0.1289985301573754,0.3334225175592222,0.07815238837066683,0.02344648354847286,0.5186497888148994,0.5282848903575376,0.8732675094498635,0.9817180870947047,0.5083701878359402,0.003553866410420214,0.4541062076828006,0.41639804207552134,0.05422595704636814,0.9124839794414509,0.703813028383913,0.2090327070136707,0.04614747736889286,0.00451940577687668,0.8138718213019296,0.832012387845671,0.9910081583033353,0.4147780851529809,0.49494291725332984,0.36560211720205943,0.49566229688732993,0.18087839529890493,0.12052969826410045,0.8868602457860765,0.7864217882912707,0.34795542915722144,0.2719692943021512,0.07595712601950258,0.1930063493517257,0.5166209095700741,0.06723308659495464,0.5920911392160184,0.7874930649006241,0.9943625484566961,0.33293902377269186,0.989696041210413,0.006422902926068242,0.07304380511541096,0.008422304880070642,0.15446409264321628,0.9398264614584979],\"flatshading\":true,\"contour\":{\"x\":{\"show\":true},\"y\":{\"show\":true},\"z\":{\"show\":true}}}];",
"            var layout = {};",
"            var config = {};",
"            Plotly.newPlot(\u0027c8958528-4610-453c-8e09-9b3e1f25626f\u0027, data, layout, config);",
"",
"});",
"            };",
"            if ((typeof(requirejs) !==  typeof(Function)) || (typeof(requirejs.config) !== typeof(Function))) {",
"                var script = document.createElement(\"script\");",
"                script.setAttribute(\"src\", \"https://cdnjs.cloudflare.com/ajax/libs/require.js/2.3.6/require.min.js\");",
"                script.onload = function(){",
"                    renderPlotly_c89585284610453c8e099b3e1f25626f();",
"                };",
"                document.getElementsByTagName(\"head\")[0].appendChild(script);",
"            }",
"            else {",
"                renderPlotly_c89585284610453c8e099b3e1f25626f();",
"            }",
"",
"\u003c/script\u003e",
"",
""]
        },
           "execution_count": null,
           "metadata": {},
           "output_type": "execute_result"
          }], 
           "source": ["mesh3d\n"]
          }],
            "metadata": {
            "kernelspec": {"display_name": ".NET (F#)", "language": "F#", "name": ".net-fsharp"},
            "langauge_info": {
        "file_extension": ".fs",
        "mimetype": "text/x-fsharp",
        "name": "C#",
        "pygments_lexer": "fsharp",
        "version": "4.5"
        }
        },
            "nbformat": 4,
            "nbformat_minor": 1
        }
        

