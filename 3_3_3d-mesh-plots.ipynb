
        {
            "cells": [
          {
           "cell_type": "markdown",
           "metadata": {},
           
           "source": ["// can\u0027t yet format YamlFrontmatter ([\"title: 3D Mesh plots\"; \"category: 3D Charts\"; \"categoryindex: 4\"; \"index: 4\"], Some { StartLine = 2 StartColumn = 0 EndLine = 6 EndColumn = 8 }) to pynb markdown\n",
"\n"]
          }
,
          {
           "cell_type": "code",
           "metadata": {},
            "execution_count": null, "outputs": [], 
           "source": ["#r \"nuget: Plotly.NET, 2.0.0-preview.4\"\n",
"#r \"nuget: Plotly.NET.Interactive, 2.0.0-preview.4\"\n"]
          }
,
          {
           "cell_type": "markdown",
           "metadata": {},
           
           "source": ["# 3D Mesh plots\n",
"\n",
"[![Binder](https://plotly.net/img/badge-binder.svg)](https://mybinder.org/v2/gh/plotly/Plotly.NET/gh-pages?filepath=3_3_3d-mesh-plots.ipynb)\u0026emsp;\n",
"[![Script](https://plotly.net/img/badge-script.svg)](https://plotly.net/3_3_3d-mesh-plots.fsx)\u0026emsp;\n",
"[![Notebook](https://plotly.net/img/badge-notebook.svg)](https://plotly.net/3_3_3d-mesh-plots.ipynb)\n",
"\n",
"*Summary:* This example shows how to create 3D-Mesh charts in F#.\n",
"\n",
"let\u0027s first create some data for the purpose of creating example charts:\n"]
          }
,
          {
           "cell_type": "code",
           "metadata": {},
            "execution_count": 3, "outputs": [], 
           "source": ["open System\n",
"open Plotly.NET \n",
"\n",
"\n",
"//---------------------- Generate linearly spaced vector ----------------------\n",
"let linspace (min,max,n) = \n",
"    if n \u003c= 2 then failwithf \"n needs to be larger then 2\"\n",
"    let bw = float (max - min) / (float n - 1.)\n",
"    Array.init n (fun i -\u003e min + (bw * float i))\n",
"    //[|min ..bw ..max|]\n",
"\n",
"//---------------------- Create example data ----------------------\n",
"let size = 100\n",
"let x = linspace(-2. * Math.PI, 2. * Math.PI, size)\n",
"let y = linspace(-2. * Math.PI, 2. * Math.PI, size)\n",
"\n",
"let f x y = - (5. * x / (x**2. + y**2. + 1.) )\n",
"\n",
"let z = \n",
"    Array.init size (fun i -\u003e \n",
"        Array.init size (fun j -\u003e \n",
"            f x.[j] y.[i] \n",
"        )\n",
"    )\n",
"\n",
"let rnd = System.Random()\n",
"let a = Array.init 50 (fun _ -\u003e rnd.NextDouble())\n",
"let b = Array.init 50 (fun _ -\u003e rnd.NextDouble())\n",
"let c = Array.init 50 (fun _ -\u003e rnd.NextDouble())\n",
"\n",
"\n",
"let mesh3d =\n",
"    Trace3d.initMesh3d \n",
"        (fun mesh3d -\u003e\n",
"            mesh3d?x \u003c- a\n",
"            mesh3d?y \u003c- b\n",
"            mesh3d?z \u003c- c\n",
"            mesh3d?flatshading \u003c- true\n",
"            mesh3d?contour \u003c- Contours.initXyz(Show=true)\n",
"            mesh3d\n",
"            )\n",
"    |\u003e GenericChart.ofTraceObject \n",
"    \n"]
          }
,
          {
           "cell_type": "code",
           "metadata": {},
            "execution_count": null, "outputs": [
          {
           "data": {
            "text/html": ["\u003cdiv id=\"dbac2f05-9766-4dc6-8886-c87c40ea2608\" style=\"width: 600px; height: 600px;\"\u003e\u003c!-- Plotly chart will be drawn inside this DIV --\u003e\u003c/div\u003e",
"",
"\u003cscript type=\"text/javascript\"\u003e",
"",
"",
"            var renderPlotly_dbac2f0597664dc68886c87c40ea2608 = function() {",
"            var fsharpPlotlyRequire = requirejs.config({context:\u0027fsharp-plotly\u0027,paths:{plotly:\u0027https://cdn.plot.ly/plotly-latest.min\u0027}}) || require;",
"            fsharpPlotlyRequire([\u0027plotly\u0027], function(Plotly) {",
"",
"",
"            var data = [{\"type\":\"mesh3d\",\"x\":[0.6919645260516389,0.36563293978834194,0.9400687040482036,0.4389247104706823,0.9699931028159303,0.42515196624451873,0.4301653371332983,0.3330354980812573,0.4173130492760395,0.8877730075678663,0.8844932354448798,0.8892416627561868,0.26621723932503594,0.9667369760418018,0.22848714246809815,0.5519129203408552,0.4131951692575566,0.5501530219568652,0.863147932506701,0.43338540495996614,0.09015930448200521,0.13383783452857184,0.625247993797645,0.27178341069807455,0.17105644902729264,0.10559429140090676,0.233632761628196,0.2714247462672297,0.7566436989031005,0.7239777188394115,0.3654389601971204,0.9643039977943078,0.40034791193918695,0.46387398963043186,0.48372331703255106,0.46819311262489904,0.0909260842441237,0.4625390444242112,0.15957059392685563,0.8875418244337392,0.9462566598999578,0.5522872458921221,0.5092082752423399,0.15770291916919077,0.7834966954698305,0.8001569392160311,0.7739122099121624,0.948217052942243,0.041563264579308805,0.5865096433956687],\"y\":[0.2689748072386602,0.32686851794219973,0.23212216199940172,0.01942306851009981,0.027041507897452223,0.558126691523067,0.740384945990697,0.6682852933501291,0.2678682614433897,0.8643988114150235,0.19151920461632274,0.15874059086606865,0.5763917991781569,0.693335330436628,0.5223340473707458,0.9201892376505719,0.4888937508169998,0.8023432496946041,0.48301365900925064,0.760294029843199,0.4609868360967314,0.9506561248333455,0.3905824280300096,0.9756061080729618,0.48712874506000836,0.5378720585898832,0.6246295592862319,0.4675450746284542,0.4882867152282441,0.37089950981126146,0.3316820814887444,0.285415708685953,0.22986148168792087,0.17013405550743177,0.4550029116007513,0.0385704422549207,0.732181835794906,0.3809248434290871,0.4368324817329796,0.9255966255094841,0.7278081666342021,0.42264079089399464,0.19467078298082147,0.29517178251183207,0.6960226198174164,0.7875160690338892,0.9758954467139651,0.8158729448057119,0.6353688717984449,0.8633074578192586],\"z\":[0.3112631883990314,0.9715689602175583,0.4652033939329923,0.2812692347361097,0.12552280729893725,0.31831868240531475,0.9362860899121901,0.25651605392644,0.5322943234500914,0.48916944930756906,0.9334971322368352,0.2728398713622428,0.179998578121885,0.8969687516321283,0.5327167299262792,0.9061034959303698,0.9288791091781478,0.40625774367072515,0.2383324188358767,0.4837636051158251,0.18800740185566592,0.10796890738791269,0.36551076796162446,0.5574170334997666,0.032485863208997,0.03834604520273677,0.755985341852524,0.09541064551817749,0.27958348825554524,0.6996126760261192,0.5619766118759181,0.8087566144805199,0.8321762028300093,0.6249792574089855,0.05963632141223006,0.3601131212711861,0.8202123147529607,0.9485922469518111,0.044611248208494506,0.13668422919543657,0.10228435234273055,0.4756657818684661,0.8486305199789956,0.9476630324254106,0.9920994932726489,0.4549682952719593,0.24264221277210965,0.2977020313486932,0.7624550525855529,0.7899191238870468],\"flatshading\":true,\"contour\":{\"x\":{\"show\":true},\"y\":{\"show\":true},\"z\":{\"show\":true}}}];",
"            var layout = {};",
"            var config = {};",
"            Plotly.newPlot(\u0027dbac2f05-9766-4dc6-8886-c87c40ea2608\u0027, data, layout, config);",
"",
"});",
"            };",
"            if ((typeof(requirejs) !==  typeof(Function)) || (typeof(requirejs.config) !== typeof(Function))) {",
"                var script = document.createElement(\"script\");",
"                script.setAttribute(\"src\", \"https://cdnjs.cloudflare.com/ajax/libs/require.js/2.3.6/require.min.js\");",
"                script.onload = function(){",
"                    renderPlotly_dbac2f0597664dc68886c87c40ea2608();",
"                };",
"                document.getElementsByTagName(\"head\")[0].appendChild(script);",
"            }",
"            else {",
"                renderPlotly_dbac2f0597664dc68886c87c40ea2608();",
"            }",
"",
"\u003c/script\u003e",
"",
""]
        },
           "execution_count": null,
           "metadata": {},
           "output_type": "execute_result"
          }], 
           "source": ["mesh3d\n"]
          }],
            "metadata": {
            "kernelspec": {"display_name": ".NET (F#)", "language": "F#", "name": ".net-fsharp"},
            "langauge_info": {
        "file_extension": ".fs",
        "mimetype": "text/x-fsharp",
        "name": "C#",
        "pygments_lexer": "fsharp",
        "version": "4.5"
        }
        },
            "nbformat": 4,
            "nbformat_minor": 1
        }
        

