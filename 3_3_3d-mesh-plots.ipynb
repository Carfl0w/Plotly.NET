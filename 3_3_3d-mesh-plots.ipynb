
        {
            "cells": [
          {
           "cell_type": "markdown",
           "metadata": {},
           
           "source": ["// can\u0027t yet format YamlFrontmatter ([\"title: 3D Mesh plots\"; \"category: 3D Charts\"; \"categoryindex: 4\"; \"index: 4\"], Some { StartLine = 2 StartColumn = 0 EndLine = 6 EndColumn = 8 }) to pynb markdown\n",
"\n"]
          }
,
          {
           "cell_type": "code",
           "metadata": {},
            "execution_count": null, "outputs": [], 
           "source": ["#r \"nuget: Plotly.NET, 2.0.0-beta10\"\n",
"#r \"nuget: Plotly.NET.Interactive, 2.0.0-beta10\"\n"]
          }
,
          {
           "cell_type": "markdown",
           "metadata": {},
           
           "source": ["# 3D Mesh plots\n",
"\n",
"[![Binder](https://plotly.net/img/badge-binder.svg)](https://mybinder.org/v2/gh/plotly/Plotly.NET/gh-pages?filepath=3_3_3d-mesh-plots.ipynb)\u0026emsp;\n",
"[![Script](https://plotly.net/img/badge-script.svg)](https://plotly.net/3_3_3d-mesh-plots.fsx)\u0026emsp;\n",
"[![Notebook](https://plotly.net/img/badge-notebook.svg)](https://plotly.net/3_3_3d-mesh-plots.ipynb)\n",
"\n",
"*Summary:* This example shows how to create 3D-Mesh charts in F#.\n",
"\n",
"let\u0027s first create some data for the purpose of creating example charts:\n"]
          }
,
          {
           "cell_type": "code",
           "metadata": {},
            "execution_count": 3, "outputs": [], 
           "source": ["open System\n",
"open Plotly.NET \n",
"\n",
"\n",
"//---------------------- Generate linearly spaced vector ----------------------\n",
"let linspace (min,max,n) = \n",
"    if n \u003c= 2 then failwithf \"n needs to be larger then 2\"\n",
"    let bw = float (max - min) / (float n - 1.)\n",
"    Array.init n (fun i -\u003e min + (bw * float i))\n",
"    //[|min ..bw ..max|]\n",
"\n",
"//---------------------- Create example data ----------------------\n",
"let size = 100\n",
"let x = linspace(-2. * Math.PI, 2. * Math.PI, size)\n",
"let y = linspace(-2. * Math.PI, 2. * Math.PI, size)\n",
"\n",
"let f x y = - (5. * x / (x**2. + y**2. + 1.) )\n",
"\n",
"let z = \n",
"    Array.init size (fun i -\u003e \n",
"        Array.init size (fun j -\u003e \n",
"            f x.[j] y.[i] \n",
"        )\n",
"    )\n",
"\n",
"let rnd = System.Random()\n",
"let a = Array.init 50 (fun _ -\u003e rnd.NextDouble())\n",
"let b = Array.init 50 (fun _ -\u003e rnd.NextDouble())\n",
"let c = Array.init 50 (fun _ -\u003e rnd.NextDouble())\n",
"\n",
"\n",
"let mesh3d =\n",
"    Trace3d.initMesh3d \n",
"        (fun mesh3d -\u003e\n",
"            mesh3d?x \u003c- a\n",
"            mesh3d?y \u003c- b\n",
"            mesh3d?z \u003c- c\n",
"            mesh3d?flatshading \u003c- true\n",
"            mesh3d?contour \u003c- Contours.initXyz(Show=true)\n",
"            mesh3d\n",
"            )\n",
"    |\u003e GenericChart.ofTraceObject \n",
"    \n"]
          }
,
          {
           "cell_type": "code",
           "metadata": {},
            "execution_count": null, "outputs": [
          {
           "data": {
            "text/html": ["\u003cdiv id=\"779cae2a-0b85-4107-862f-815e6b895931\" style=\"width: 600px; height: 600px;\"\u003e\u003c!-- Plotly chart will be drawn inside this DIV --\u003e\u003c/div\u003e",
"",
"\u003cscript type=\"text/javascript\"\u003e",
"",
"",
"            var renderPlotly_779cae2a0b854107862f815e6b895931 = function() {",
"            var fsharpPlotlyRequire = requirejs.config({context:\u0027fsharp-plotly\u0027,paths:{plotly:\u0027https://cdn.plot.ly/plotly-latest.min\u0027}}) || require;",
"            fsharpPlotlyRequire([\u0027plotly\u0027], function(Plotly) {",
"",
"",
"            var data = [{\"type\":\"mesh3d\",\"x\":[0.6831794123552644,0.345949816212966,0.9613841259672232,0.07499050305923005,0.4228574584344669,0.5400344536360514,0.5711233744263292,0.9946093014416328,0.03904281139329207,0.027528841526959485,0.6922053395268533,0.568139660436725,0.7400717626978046,0.4098789535508859,0.47976132970292185,0.537958668795395,0.9667331464433732,0.8087612552609115,0.38746280194607696,0.0440451838281216,0.43707544237239077,0.2980394122647305,0.7329995696120893,0.7913203396794015,0.7747944760018934,0.44356185404749676,0.27294649475856986,0.3027766041004921,0.7750490860897344,0.42883707509787616,0.5781371833654759,0.6097046228170883,0.30731254644101136,0.7132925767047762,0.1341587301037082,0.15537932103284602,0.5596108560262298,0.44272852569945553,0.5289452944551339,0.1226851405215846,0.6553646198731682,0.8369210217319992,0.8903963681731356,0.506940802329658,0.2651779792575063,0.728089635133785,0.5074454655439805,0.9257191051383126,0.773318584902826,0.10713508031663256],\"y\":[0.32381509818314347,0.38453333935911455,0.020747715616946907,0.18136208792280503,0.3708282659625766,0.38514000009053384,0.6129502466008767,0.17006378628782173,0.30019602705733667,0.9792956043869702,0.2670879588774815,0.2683467703258371,0.21956021535189832,0.6102057362954159,0.4493916581614835,0.08250071670976501,0.2608271139957137,0.026779185993028427,0.27572022344717767,0.3243820086700758,0.9783478127691652,0.5240046207439176,0.2798159608057774,0.2647776614244923,0.3886805639549534,0.6001544206403915,0.4076430440915949,0.22605876728243138,0.5261423604218952,0.04670484086810837,0.9361163885035163,0.34722738962025723,0.5294580191976661,0.6679140057731019,0.10502197691473271,0.19360384400636138,0.5889569072001413,0.12595045851820635,0.3424643107421996,0.7490187300131743,0.5424290744319693,0.38954706973840814,0.1425324986421189,0.5496496900681638,0.8555971816441031,0.38701784954733115,0.6173608063801009,0.2801906318777197,0.05754914416817443,0.1826772625477413],\"z\":[0.4672625211380713,0.48066627955095204,0.649998881691135,0.44893657623275024,0.1287872675474674,0.7998104774392258,0.10471737855333713,0.7559700541924546,0.7926815239678516,0.7706738453221851,0.9774969559989389,0.3868914793184453,0.6439214258659265,0.2534911861892283,0.04317921588345394,0.9198605692572243,0.738888751128171,0.5516462095787964,0.5051837593806832,0.2557878141551222,0.49354380950962373,0.13487665547750735,0.6843148752508289,0.5267014934340033,0.7819529342381064,0.588800743030757,0.3814721221017987,0.7301662707376136,0.40918047978038924,0.0016627144076222155,0.9827936142602905,0.12745241221387518,0.16850962311425693,0.3434650978741539,0.579442319730037,0.4554501089525642,0.6972285079291223,0.08052144296491585,0.5391267382256345,0.30521149947550685,0.08888646545302424,0.8329868530076867,0.33326893455035467,0.5717904654200144,0.7715217740142354,0.15553759511352405,0.7456256438724816,0.8890413124528906,0.5064704741847098,0.9357366123868789],\"flatshading\":true,\"contour\":{\"x\":{\"show\":true},\"y\":{\"show\":true},\"z\":{\"show\":true}}}];",
"            var layout = {};",
"            var config = {};",
"            Plotly.newPlot(\u0027779cae2a-0b85-4107-862f-815e6b895931\u0027, data, layout, config);",
"",
"});",
"            };",
"            if ((typeof(requirejs) !==  typeof(Function)) || (typeof(requirejs.config) !== typeof(Function))) {",
"                var script = document.createElement(\"script\");",
"                script.setAttribute(\"src\", \"https://cdnjs.cloudflare.com/ajax/libs/require.js/2.3.6/require.min.js\");",
"                script.onload = function(){",
"                    renderPlotly_779cae2a0b854107862f815e6b895931();",
"                };",
"                document.getElementsByTagName(\"head\")[0].appendChild(script);",
"            }",
"            else {",
"                renderPlotly_779cae2a0b854107862f815e6b895931();",
"            }",
"",
"\u003c/script\u003e",
"",
""]
        },
           "execution_count": null,
           "metadata": {},
           "output_type": "execute_result"
          }], 
           "source": ["mesh3d\n"]
          }],
            "metadata": {
            "kernelspec": {"display_name": ".NET (F#)", "language": "F#", "name": ".net-fsharp"},
            "langauge_info": {
        "file_extension": ".fs",
        "mimetype": "text/x-fsharp",
        "name": "C#",
        "pygments_lexer": "fsharp",
        "version": "4.5"
        }
        },
            "nbformat": 4,
            "nbformat_minor": 1
        }
        

