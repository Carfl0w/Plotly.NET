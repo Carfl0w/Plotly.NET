
        {
            "cells": [
          {
           "cell_type": "markdown",
           "metadata": {},
           
           "source": ["// can\u0027t yet format YamlFrontmatter ([\"title: 3D Mesh plots\"; \"category: 3D Charts\"; \"categoryindex: 4\"; \"index: 4\"], Some { StartLine = 2 StartColumn = 0 EndLine = 6 EndColumn = 8 }) to pynb markdown\n",
"\n"]
          }
,
          {
           "cell_type": "code",
           "metadata": {},
            "execution_count": null, "outputs": [], 
           "source": ["#r \"nuget: Plotly.NET, 2.0.0-beta9\"\n",
"#r \"nuget: Plotly.NET.Interactive, 2.0.0-beta9\"\n"]
          }
,
          {
           "cell_type": "markdown",
           "metadata": {},
           
           "source": ["# 3D Mesh plots\n",
"\n",
"[![Binder](https://plotly.github.io/Plotly.NET/img/badge-binder.svg)](https://mybinder.org/v2/gh/plotly/Plotly.NET/gh-pages?filepath=3_3_3d-mesh-plots.ipynb)\u0026emsp;\n",
"[![Script](https://plotly.github.io/Plotly.NET/img/badge-script.svg)](https://plotly.github.io/Plotly.NET/3_3_3d-mesh-plots.fsx)\u0026emsp;\n",
"[![Notebook](https://plotly.github.io/Plotly.NET/img/badge-notebook.svg)](https://plotly.github.io/Plotly.NET/3_3_3d-mesh-plots.ipynb)\n",
"\n",
"*Summary:* This example shows how to create 3D-Mesh charts in F#.\n",
"\n",
"let\u0027s first create some data for the purpose of creating example charts:\n"]
          }
,
          {
           "cell_type": "code",
           "metadata": {},
            "execution_count": 3, "outputs": [], 
           "source": ["open System\n",
"open Plotly.NET \n",
"\n",
"\n",
"//---------------------- Generate linearly spaced vector ----------------------\n",
"let linspace (min,max,n) = \n",
"    if n \u003c= 2 then failwithf \"n needs to be larger then 2\"\n",
"    let bw = float (max - min) / (float n - 1.)\n",
"    Array.init n (fun i -\u003e min + (bw * float i))\n",
"    //[|min ..bw ..max|]\n",
"\n",
"//---------------------- Create example data ----------------------\n",
"let size = 100\n",
"let x = linspace(-2. * Math.PI, 2. * Math.PI, size)\n",
"let y = linspace(-2. * Math.PI, 2. * Math.PI, size)\n",
"\n",
"let f x y = - (5. * x / (x**2. + y**2. + 1.) )\n",
"\n",
"let z = \n",
"    Array.init size (fun i -\u003e \n",
"        Array.init size (fun j -\u003e \n",
"            f x.[j] y.[i] \n",
"        )\n",
"    )\n",
"\n",
"let rnd = System.Random()\n",
"let a = Array.init 50 (fun _ -\u003e rnd.NextDouble())\n",
"let b = Array.init 50 (fun _ -\u003e rnd.NextDouble())\n",
"let c = Array.init 50 (fun _ -\u003e rnd.NextDouble())\n",
"\n",
"\n",
"let mesh3d =\n",
"    Trace3d.initMesh3d \n",
"        (fun mesh3d -\u003e\n",
"            mesh3d?x \u003c- a\n",
"            mesh3d?y \u003c- b\n",
"            mesh3d?z \u003c- c\n",
"            mesh3d?flatshading \u003c- true\n",
"            mesh3d?contour \u003c- Contours.initXyz(Show=true)\n",
"            mesh3d\n",
"            )\n",
"    |\u003e GenericChart.ofTraceObject \n",
"    \n"]
          }
,
          {
           "cell_type": "code",
           "metadata": {},
            "execution_count": null, "outputs": [
          {
           "data": {
            "text/html": ["\u003cdiv id=\"ce1417df-9e5b-4e54-99d1-3ada4ce87ce5\" style=\"width: 600px; height: 600px;\"\u003e\u003c!-- Plotly chart will be drawn inside this DIV --\u003e\u003c/div\u003e",
"",
"\u003cscript type=\"text/javascript\"\u003e",
"",
"",
"            var renderPlotly_ce1417df9e5b4e5499d13ada4ce87ce5 = function() {",
"            var fsharpPlotlyRequire = requirejs.config({context:\u0027fsharp-plotly\u0027,paths:{plotly:\u0027https://cdn.plot.ly/plotly-latest.min\u0027}}) || require;",
"            fsharpPlotlyRequire([\u0027plotly\u0027], function(Plotly) {",
"",
"",
"            var data = [{\"type\":\"mesh3d\",\"x\":[0.811644330998717,0.4486119088011849,0.6104004236917945,0.3189984687226817,0.6044777317924787,0.022471051673624225,0.5347568129816823,0.9499794919742176,0.7453761770135612,0.008896402553141305,0.3158068136851335,0.08202017195616856,0.9245041082261615,0.7058472934671898,0.8312484118301647,0.5689389997017286,0.3171169628934548,0.9395209811346238,0.25097410299394934,0.5937041577853748,0.8319052699170566,0.7840617139749516,0.6622889119490464,0.07729654576503511,0.10038040676171911,0.714070151426862,0.7579347462197462,0.3514857391600896,0.9395477655062209,0.6709116891356706,0.8252234919114148,0.8515027192661085,0.8730674962853395,0.0798768313042246,0.8996646552810746,0.21377780019015902,0.3115078724508676,0.11941381316604736,0.6995035990604682,0.9657505401250676,0.5466602149171104,0.24191800097092894,0.00858994294357949,0.505687229570787,0.5148200776962657,0.9629053016951798,0.3216714590423142,0.1522853482292431,0.2661509892279985,0.3706166894969608],\"y\":[0.2675798978971224,0.4194222210996888,0.48448049718722724,0.0030466136536778012,0.20347909731952432,0.027582617023765396,0.7863229968521386,0.5331038779267594,0.21861806196096262,0.8904075803656166,0.264536305453878,0.18327107382159263,0.010431726467996708,0.0744644878778907,0.18367291064172653,0.4643040944190249,0.20895267567082898,0.844627276921937,0.8061826381861151,0.6174706116400056,0.257431127250861,0.19770314972740743,0.24001738207415554,0.2852235628688818,0.04704394286826437,0.5899872689461276,0.7754717710313721,0.15660168237825933,0.5624764680687694,0.13747510506653932,0.3923986923845479,0.6056493979905031,0.0853347499320911,0.5689310760092601,0.4033317912385481,0.405801270811726,0.36702222207888135,0.8700208826316618,0.8763977339847003,0.8720820382573092,0.4274548033380205,0.7784039945241082,0.9007957512050847,0.8090960186948516,0.7012142346711896,0.36338914109551773,0.23148627450293222,0.9341254550656888,0.3220143189290605,0.05051598327724076],\"z\":[0.7539526260243509,0.4770441821203773,0.346102710043128,0.6486803775879929,0.11318556224609984,0.06987674816971494,0.17940483902553322,0.19925693431834549,0.9560026707854135,0.6134918283733967,0.25211084599239325,0.6297213144738792,0.9706274098579899,0.08114295689442333,0.49800888798106874,0.658886907463375,0.09793632388950155,0.44150065045873665,0.6711326966393426,0.7778716398300005,0.0972818723401436,0.3389317930391672,0.9682295429372366,0.9341005999288059,0.19001580830198517,0.47902713272675274,0.29690739852232273,0.430921363379304,0.5840093281976922,0.6836548017727466,0.3585009944431954,0.8413463159656833,0.8345873634491988,0.5119604847915287,0.3835224790421885,0.9153545102641706,0.25954668794737507,0.4366543723440982,0.4557455137631602,0.3334550430688332,0.2263964317861928,0.16776528776053584,0.9140182118462483,0.2629059056113036,0.619971192264916,0.7977334888641413,0.8077765846661183,0.8196527943106614,0.3110871307137828,0.04232732720781459],\"flatshading\":true,\"contour\":{\"x\":{\"show\":true},\"y\":{\"show\":true},\"z\":{\"show\":true}}}];",
"            var layout = {};",
"            var config = {};",
"            Plotly.newPlot(\u0027ce1417df-9e5b-4e54-99d1-3ada4ce87ce5\u0027, data, layout, config);",
"",
"});",
"            };",
"            if ((typeof(requirejs) !==  typeof(Function)) || (typeof(requirejs.config) !== typeof(Function))) {",
"                var script = document.createElement(\"script\");",
"                script.setAttribute(\"src\", \"https://cdnjs.cloudflare.com/ajax/libs/require.js/2.3.6/require.min.js\");",
"                script.onload = function(){",
"                    renderPlotly_ce1417df9e5b4e5499d13ada4ce87ce5();",
"                };",
"                document.getElementsByTagName(\"head\")[0].appendChild(script);",
"            }",
"            else {",
"                renderPlotly_ce1417df9e5b4e5499d13ada4ce87ce5();",
"            }",
"",
"\u003c/script\u003e",
"",
""]
        },
           "execution_count": null,
           "metadata": {},
           "output_type": "execute_result"
          }], 
           "source": ["mesh3d\n"]
          }],
            "metadata": {
            "kernelspec": {"display_name": ".NET (F#)", "language": "F#", "name": ".net-fsharp"},
            "langauge_info": {
        "file_extension": ".fs",
        "mimetype": "text/x-fsharp",
        "name": "C#",
        "pygments_lexer": "fsharp",
        "version": "4.5"
        }
        },
            "nbformat": 4,
            "nbformat_minor": 1
        }
        

