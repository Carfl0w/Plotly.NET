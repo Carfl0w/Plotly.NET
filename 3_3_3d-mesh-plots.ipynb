
        {
            "cells": [
          {
           "cell_type": "markdown",
           "metadata": {},
           
           "source": ["// can\u0027t yet format YamlFrontmatter ([\"title: 3D Mesh plots\"; \"category: 3D Charts\"; \"categoryindex: 4\"; \"index: 4\"], Some { StartLine = 2 StartColumn = 0 EndLine = 6 EndColumn = 8 }) to pynb markdown\n",
"\n"]
          }
,
          {
           "cell_type": "code",
           "metadata": {},
            "execution_count": null, "outputs": [], 
           "source": ["#r \"nuget: Plotly.NET, 2.0.0-beta10\"\n",
"#r \"nuget: Plotly.NET.Interactive, 2.0.0-beta10\"\n"]
          }
,
          {
           "cell_type": "markdown",
           "metadata": {},
           
           "source": ["# 3D Mesh plots\n",
"\n",
"[![Binder](https://plotly.net/img/badge-binder.svg)](https://mybinder.org/v2/gh/plotly/Plotly.NET/gh-pages?filepath=3_3_3d-mesh-plots.ipynb)\u0026emsp;\n",
"[![Script](https://plotly.net/img/badge-script.svg)](https://plotly.net/3_3_3d-mesh-plots.fsx)\u0026emsp;\n",
"[![Notebook](https://plotly.net/img/badge-notebook.svg)](https://plotly.net/3_3_3d-mesh-plots.ipynb)\n",
"\n",
"*Summary:* This example shows how to create 3D-Mesh charts in F#.\n",
"\n",
"let\u0027s first create some data for the purpose of creating example charts:\n"]
          }
,
          {
           "cell_type": "code",
           "metadata": {},
            "execution_count": 3, "outputs": [], 
           "source": ["open System\n",
"open Plotly.NET \n",
"\n",
"\n",
"//---------------------- Generate linearly spaced vector ----------------------\n",
"let linspace (min,max,n) = \n",
"    if n \u003c= 2 then failwithf \"n needs to be larger then 2\"\n",
"    let bw = float (max - min) / (float n - 1.)\n",
"    Array.init n (fun i -\u003e min + (bw * float i))\n",
"    //[|min ..bw ..max|]\n",
"\n",
"//---------------------- Create example data ----------------------\n",
"let size = 100\n",
"let x = linspace(-2. * Math.PI, 2. * Math.PI, size)\n",
"let y = linspace(-2. * Math.PI, 2. * Math.PI, size)\n",
"\n",
"let f x y = - (5. * x / (x**2. + y**2. + 1.) )\n",
"\n",
"let z = \n",
"    Array.init size (fun i -\u003e \n",
"        Array.init size (fun j -\u003e \n",
"            f x.[j] y.[i] \n",
"        )\n",
"    )\n",
"\n",
"let rnd = System.Random()\n",
"let a = Array.init 50 (fun _ -\u003e rnd.NextDouble())\n",
"let b = Array.init 50 (fun _ -\u003e rnd.NextDouble())\n",
"let c = Array.init 50 (fun _ -\u003e rnd.NextDouble())\n",
"\n",
"\n",
"let mesh3d =\n",
"    Trace3d.initMesh3d \n",
"        (fun mesh3d -\u003e\n",
"            mesh3d?x \u003c- a\n",
"            mesh3d?y \u003c- b\n",
"            mesh3d?z \u003c- c\n",
"            mesh3d?flatshading \u003c- true\n",
"            mesh3d?contour \u003c- Contours.initXyz(Show=true)\n",
"            mesh3d\n",
"            )\n",
"    |\u003e GenericChart.ofTraceObject \n",
"    \n"]
          }
,
          {
           "cell_type": "code",
           "metadata": {},
            "execution_count": null, "outputs": [
          {
           "data": {
            "text/html": ["\u003cdiv id=\"067aecb6-7f42-4e7a-8be2-351fecfb8aa5\" style=\"width: 600px; height: 600px;\"\u003e\u003c!-- Plotly chart will be drawn inside this DIV --\u003e\u003c/div\u003e",
"",
"\u003cscript type=\"text/javascript\"\u003e",
"",
"",
"            var renderPlotly_067aecb67f424e7a8be2351fecfb8aa5 = function() {",
"            var fsharpPlotlyRequire = requirejs.config({context:\u0027fsharp-plotly\u0027,paths:{plotly:\u0027https://cdn.plot.ly/plotly-latest.min\u0027}}) || require;",
"            fsharpPlotlyRequire([\u0027plotly\u0027], function(Plotly) {",
"",
"",
"            var data = [{\"type\":\"mesh3d\",\"x\":[0.9312035832233744,0.01932060114076389,0.6526122366323193,0.5656387990180584,0.8783571132823625,0.49582260031989894,0.9888012232206768,0.9819287871857774,0.8965274895990861,0.48180099226618234,0.140604523076026,0.7795543813982766,0.258937880051759,0.5860198715636599,0.9829998542475513,0.05003952144181333,0.7050757998158577,0.41233254988320756,0.34610529166930604,0.13073189842083113,0.6942314266665985,0.0930561917335988,0.6433438233301714,0.8433053306505575,0.2752963408247085,0.4004214198330517,0.4230872855629247,0.5662787163473101,0.1936338977858582,0.8268941034688121,0.0327557246353271,0.10423252736415366,0.8230487149316114,0.43973248472424803,0.7881989068296733,0.9438480948767849,0.43420911088316194,0.6232482561018543,0.980778785879155,0.19127800883319135,0.030346417348061882,0.046306482537792286,0.6372686720626749,0.5706794814070125,0.09391718036211896,0.042782285736306706,0.22097407803916097,0.33862220046046293,0.21202235958167462,0.6677903941216834],\"y\":[0.6428257988965259,0.24101033585193116,0.9960106946509382,0.8256219042584402,0.21170601025768834,0.8381473914897756,0.3759767778105926,0.8093069059817618,0.29034245819334986,0.4779356934493108,0.07273531475697426,0.4225225068733667,0.7882948893999191,0.06963338613027399,0.4490452676308552,0.03637199571187235,0.9565056664666653,0.8192053953275109,0.7978209647339867,0.03915175937076647,0.6158304105586514,0.08182754371400343,0.4315537640040525,0.15482728283611466,0.10038548107276926,0.6479249441288062,0.45578751967092396,0.07266434192315878,0.7493881502884385,0.2325140550884018,0.17944734179389074,0.08446508510246178,0.3542563567656355,0.5258435036641749,0.18406830457228623,0.791745388783396,0.10822183271321553,0.9974268106731711,0.2280264744665597,0.9500515153398977,0.5678713170661923,0.6249022049014001,0.3329057979085044,0.5028430924298443,0.1185426940762171,0.6078239104746952,0.25801159313787314,0.5676352859324009,0.12163421377615734,0.057545184650246606],\"z\":[0.0862766192696414,0.40176868271165,0.5408012357264763,0.17287060021090814,0.05195998356303199,0.5609982551825224,0.8094565718478787,0.8411834118148235,0.7252364231856709,0.5637810661288821,0.3823598718188516,0.3033124358874338,0.05991875569332333,0.057828403104948065,0.2984883516554201,0.9882702296545125,0.06826615010773118,0.26245138573574434,0.8855650815579877,0.6572998788474593,0.9281501629986568,0.9590788557934942,0.5911789208609513,0.8477694493940889,0.47128044230457417,0.9909282056572513,0.748921745805499,0.9287106715742083,0.036284588759897554,0.49256157059807404,0.38991335099093305,0.888152233738523,0.9510301281470014,0.6918429656381919,0.1462374358187604,0.7776786590822408,0.5436638493759854,0.18138575655472733,0.4738835201011428,0.6230700493897637,0.9822888169355173,0.2670384208983921,0.27219038748750013,0.6642454083376775,0.5676916435210461,0.26455888117875853,0.5649834492080767,0.2750773948035563,0.20435474077442417,0.13027246442170462],\"flatshading\":true,\"contour\":{\"x\":{\"show\":true},\"y\":{\"show\":true},\"z\":{\"show\":true}}}];",
"            var layout = {};",
"            var config = {};",
"            Plotly.newPlot(\u0027067aecb6-7f42-4e7a-8be2-351fecfb8aa5\u0027, data, layout, config);",
"",
"});",
"            };",
"            if ((typeof(requirejs) !==  typeof(Function)) || (typeof(requirejs.config) !== typeof(Function))) {",
"                var script = document.createElement(\"script\");",
"                script.setAttribute(\"src\", \"https://cdnjs.cloudflare.com/ajax/libs/require.js/2.3.6/require.min.js\");",
"                script.onload = function(){",
"                    renderPlotly_067aecb67f424e7a8be2351fecfb8aa5();",
"                };",
"                document.getElementsByTagName(\"head\")[0].appendChild(script);",
"            }",
"            else {",
"                renderPlotly_067aecb67f424e7a8be2351fecfb8aa5();",
"            }",
"",
"\u003c/script\u003e",
"",
""]
        },
           "execution_count": null,
           "metadata": {},
           "output_type": "execute_result"
          }], 
           "source": ["mesh3d\n"]
          }],
            "metadata": {
            "kernelspec": {"display_name": ".NET (F#)", "language": "F#", "name": ".net-fsharp"},
            "langauge_info": {
        "file_extension": ".fs",
        "mimetype": "text/x-fsharp",
        "name": "C#",
        "pygments_lexer": "fsharp",
        "version": "4.5"
        }
        },
            "nbformat": 4,
            "nbformat_minor": 1
        }
        

