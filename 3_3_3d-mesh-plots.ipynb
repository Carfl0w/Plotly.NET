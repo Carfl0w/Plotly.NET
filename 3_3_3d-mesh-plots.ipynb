
        {
            "cells": [
          {
           "cell_type": "markdown",
           "metadata": {},
           
           "source": ["// can\u0027t yet format YamlFrontmatter ([\"title: 3D Mesh plots\"; \"category: 3D Charts\"; \"categoryindex: 4\"; \"index: 4\"], Some { StartLine = 2 StartColumn = 0 EndLine = 6 EndColumn = 8 }) to pynb markdown\n",
"\n"]
          }
,
          {
           "cell_type": "code",
           "metadata": {},
            "execution_count": null, "outputs": [], 
           "source": ["#r \"nuget: Plotly.NET, 2.0.0-beta9\"\n",
"#r \"nuget: Plotly.NET.Interactive, 2.0.0-beta9\"\n"]
          }
,
          {
           "cell_type": "markdown",
           "metadata": {},
           
           "source": ["# 3D Mesh plots\n",
"\n",
"[![Binder](https://plotly.net/img/badge-binder.svg)](https://mybinder.org/v2/gh/plotly/Plotly.NET/gh-pages?filepath=3_3_3d-mesh-plots.ipynb)\u0026emsp;\n",
"[![Script](https://plotly.net/img/badge-script.svg)](https://plotly.net/3_3_3d-mesh-plots.fsx)\u0026emsp;\n",
"[![Notebook](https://plotly.net/img/badge-notebook.svg)](https://plotly.net/3_3_3d-mesh-plots.ipynb)\n",
"\n",
"*Summary:* This example shows how to create 3D-Mesh charts in F#.\n",
"\n",
"let\u0027s first create some data for the purpose of creating example charts:\n"]
          }
,
          {
           "cell_type": "code",
           "metadata": {},
            "execution_count": 3, "outputs": [], 
           "source": ["open System\n",
"open Plotly.NET \n",
"\n",
"\n",
"//---------------------- Generate linearly spaced vector ----------------------\n",
"let linspace (min,max,n) = \n",
"    if n \u003c= 2 then failwithf \"n needs to be larger then 2\"\n",
"    let bw = float (max - min) / (float n - 1.)\n",
"    Array.init n (fun i -\u003e min + (bw * float i))\n",
"    //[|min ..bw ..max|]\n",
"\n",
"//---------------------- Create example data ----------------------\n",
"let size = 100\n",
"let x = linspace(-2. * Math.PI, 2. * Math.PI, size)\n",
"let y = linspace(-2. * Math.PI, 2. * Math.PI, size)\n",
"\n",
"let f x y = - (5. * x / (x**2. + y**2. + 1.) )\n",
"\n",
"let z = \n",
"    Array.init size (fun i -\u003e \n",
"        Array.init size (fun j -\u003e \n",
"            f x.[j] y.[i] \n",
"        )\n",
"    )\n",
"\n",
"let rnd = System.Random()\n",
"let a = Array.init 50 (fun _ -\u003e rnd.NextDouble())\n",
"let b = Array.init 50 (fun _ -\u003e rnd.NextDouble())\n",
"let c = Array.init 50 (fun _ -\u003e rnd.NextDouble())\n",
"\n",
"\n",
"let mesh3d =\n",
"    Trace3d.initMesh3d \n",
"        (fun mesh3d -\u003e\n",
"            mesh3d?x \u003c- a\n",
"            mesh3d?y \u003c- b\n",
"            mesh3d?z \u003c- c\n",
"            mesh3d?flatshading \u003c- true\n",
"            mesh3d?contour \u003c- Contours.initXyz(Show=true)\n",
"            mesh3d\n",
"            )\n",
"    |\u003e GenericChart.ofTraceObject \n",
"    \n"]
          }
,
          {
           "cell_type": "code",
           "metadata": {},
            "execution_count": null, "outputs": [
          {
           "data": {
            "text/html": ["\u003cdiv id=\"accb5d26-18db-4227-92ee-4be85ee27c60\" style=\"width: 600px; height: 600px;\"\u003e\u003c!-- Plotly chart will be drawn inside this DIV --\u003e\u003c/div\u003e",
"",
"\u003cscript type=\"text/javascript\"\u003e",
"",
"",
"            var renderPlotly_accb5d2618db422792ee4be85ee27c60 = function() {",
"            var fsharpPlotlyRequire = requirejs.config({context:\u0027fsharp-plotly\u0027,paths:{plotly:\u0027https://cdn.plot.ly/plotly-latest.min\u0027}}) || require;",
"            fsharpPlotlyRequire([\u0027plotly\u0027], function(Plotly) {",
"",
"",
"            var data = [{\"type\":\"mesh3d\",\"x\":[0.373499142645625,0.4626801328094118,0.46868692499989967,0.9939412889042596,0.28699349392531137,0.054678718584905715,0.7255679898548723,0.5378670355015747,0.08021594541157406,0.584693464257146,0.6097406892151296,0.7002315049526429,0.3371491419790076,0.40305289365493363,0.4812472767574933,0.6381569121210635,0.30439550909418406,0.17485155964961813,0.5073846273624266,0.3577754271020067,0.3919177592694376,0.23159995127078142,0.030642631012314292,0.3052736554785043,0.3618549668983812,0.6382274085833819,0.25637346098961933,0.33291798659270533,0.1981331017790982,0.9318369161020205,0.14407335601005394,0.13190666080075628,0.8957080924397838,0.6782096250346906,0.9604204967433683,0.5484954680076314,0.1426174115122377,0.00015672948218729789,0.695152820411675,0.8924402859492415,0.7948821321105967,0.0018833340154417483,0.9699041591817067,0.003360813950822136,0.042212854624825,0.5229695190316855,0.5402574485820986,0.6497312386751786,0.035767002047862394,0.9714985382610459],\"y\":[0.7217564381294681,0.8131657125489626,0.4944048377193533,0.7026256167807735,0.2576769386686743,0.14189919137484355,0.4320375017970975,0.16341326952139534,0.6320863220058783,0.6487660853419295,0.7983052575952864,0.39265000326216687,0.33973393372247646,0.14837902930955357,0.440620108247092,0.4778340284143733,0.8045234125128591,0.658939516944317,0.4426323969115654,0.932751808749862,0.49553950060882584,0.30423877961199675,0.4796987392379431,0.6149443414131852,0.56289329499141,0.3900344252539959,0.26169579208907473,0.02728181706149216,0.26306080085367933,0.8388854478666957,0.0979699600012833,0.6066422223144408,0.29715098454484296,0.22663456351805225,0.21008047797255242,0.3309076434610913,0.6375018230814029,0.1930824756590102,0.4205326863660164,0.8185213053685246,0.11645796621053385,0.9792041419908424,0.3680704074763089,0.04638673506974556,0.09413502835395514,0.40223212884842985,0.6621494002929653,0.8215251298721531,0.5627407057037301,0.5643788262104517],\"z\":[0.7184461065188265,0.8813179316377816,0.2070988417636132,0.10301519329800046,0.47595903765222014,0.41751765851747136,0.3334669733110196,0.8794604963061682,0.13973232178936354,0.8676425134146784,0.8802033992857689,0.40475568473560536,0.900352468667716,0.7932008741391827,0.5507961253406461,0.1916630352808456,0.0954990187173239,0.11309937020442419,0.9382985513370011,0.10971246478600076,0.8403322053329704,0.6114409368538488,0.23840683057830056,0.6241110915430408,0.8162938425393281,0.5163353586179834,0.9361683721356878,0.43331200416819754,0.5208093130592301,0.16066116614298018,0.7278850249610306,0.44017066221692164,0.46454111135776205,0.6986819746432277,0.12043934134786918,0.21665202836350167,0.39954338055082755,0.1941357912468425,0.7506755258658321,0.792562819455081,0.9974406701500717,0.7580413267752348,0.05335015386964667,0.5528901729513379,0.9383179060827559,0.7117022814749285,0.07885167332312636,0.5748695333371263,0.49559060972909935,0.9024719930731095],\"flatshading\":true,\"contour\":{\"x\":{\"show\":true},\"y\":{\"show\":true},\"z\":{\"show\":true}}}];",
"            var layout = {};",
"            var config = {};",
"            Plotly.newPlot(\u0027accb5d26-18db-4227-92ee-4be85ee27c60\u0027, data, layout, config);",
"",
"});",
"            };",
"            if ((typeof(requirejs) !==  typeof(Function)) || (typeof(requirejs.config) !== typeof(Function))) {",
"                var script = document.createElement(\"script\");",
"                script.setAttribute(\"src\", \"https://cdnjs.cloudflare.com/ajax/libs/require.js/2.3.6/require.min.js\");",
"                script.onload = function(){",
"                    renderPlotly_accb5d2618db422792ee4be85ee27c60();",
"                };",
"                document.getElementsByTagName(\"head\")[0].appendChild(script);",
"            }",
"            else {",
"                renderPlotly_accb5d2618db422792ee4be85ee27c60();",
"            }",
"",
"\u003c/script\u003e",
"",
""]
        },
           "execution_count": null,
           "metadata": {},
           "output_type": "execute_result"
          }], 
           "source": ["mesh3d\n"]
          }],
            "metadata": {
            "kernelspec": {"display_name": ".NET (F#)", "language": "F#", "name": ".net-fsharp"},
            "langauge_info": {
        "file_extension": ".fs",
        "mimetype": "text/x-fsharp",
        "name": "C#",
        "pygments_lexer": "fsharp",
        "version": "4.5"
        }
        },
            "nbformat": 4,
            "nbformat_minor": 1
        }
        

