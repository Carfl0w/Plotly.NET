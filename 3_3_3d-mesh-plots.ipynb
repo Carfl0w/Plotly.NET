
        {
            "cells": [
          {
           "cell_type": "markdown",
           "metadata": {},
           
           "source": ["// can\u0027t yet format YamlFrontmatter ([\"title: 3D Mesh plots\"; \"category: 3D Charts\"; \"categoryindex: 4\"; \"index: 4\"], Some { StartLine = 2 StartColumn = 0 EndLine = 6 EndColumn = 8 }) to pynb markdown\n",
"\n"]
          }
,
          {
           "cell_type": "code",
           "metadata": {},
            "execution_count": null, "outputs": [], 
           "source": ["#r \"nuget: Plotly.NET, 2.0.0-beta9\"\n",
"#r \"nuget: Plotly.NET.Interactive, 2.0.0-beta9\"\n"]
          }
,
          {
           "cell_type": "markdown",
           "metadata": {},
           
           "source": ["# 3D Mesh plots\n",
"\n",
"[![Binder](https://plotly.github.io/Plotly.NET/img/badge-binder.svg)](https://mybinder.org/v2/gh/plotly/Plotly.NET/gh-pages?filepath=3_3_3d-mesh-plots.ipynb)\u0026emsp;\n",
"[![Script](https://plotly.github.io/Plotly.NET/img/badge-script.svg)](https://plotly.github.io/Plotly.NET/3_3_3d-mesh-plots.fsx)\u0026emsp;\n",
"[![Notebook](https://plotly.github.io/Plotly.NET/img/badge-notebook.svg)](https://plotly.github.io/Plotly.NET/3_3_3d-mesh-plots.ipynb)\n",
"\n",
"*Summary:* This example shows how to create 3D-Mesh charts in F#.\n",
"\n",
"let\u0027s first create some data for the purpose of creating example charts:\n"]
          }
,
          {
           "cell_type": "code",
           "metadata": {},
            "execution_count": 3, "outputs": [], 
           "source": ["open System\n",
"open Plotly.NET \n",
"\n",
"\n",
"//---------------------- Generate linearly spaced vector ----------------------\n",
"let linspace (min,max,n) = \n",
"    if n \u003c= 2 then failwithf \"n needs to be larger then 2\"\n",
"    let bw = float (max - min) / (float n - 1.)\n",
"    Array.init n (fun i -\u003e min + (bw * float i))\n",
"    //[|min ..bw ..max|]\n",
"\n",
"//---------------------- Create example data ----------------------\n",
"let size = 100\n",
"let x = linspace(-2. * Math.PI, 2. * Math.PI, size)\n",
"let y = linspace(-2. * Math.PI, 2. * Math.PI, size)\n",
"\n",
"let f x y = - (5. * x / (x**2. + y**2. + 1.) )\n",
"\n",
"let z = \n",
"    Array.init size (fun i -\u003e \n",
"        Array.init size (fun j -\u003e \n",
"            f x.[j] y.[i] \n",
"        )\n",
"    )\n",
"\n",
"let rnd = System.Random()\n",
"let a = Array.init 50 (fun _ -\u003e rnd.NextDouble())\n",
"let b = Array.init 50 (fun _ -\u003e rnd.NextDouble())\n",
"let c = Array.init 50 (fun _ -\u003e rnd.NextDouble())\n",
"\n",
"\n",
"let mesh3d =\n",
"    Trace3d.initMesh3d \n",
"        (fun mesh3d -\u003e\n",
"            mesh3d?x \u003c- a\n",
"            mesh3d?y \u003c- b\n",
"            mesh3d?z \u003c- c\n",
"            mesh3d?flatshading \u003c- true\n",
"            mesh3d?contour \u003c- Contours.initXyz(Show=true)\n",
"            mesh3d\n",
"            )\n",
"    |\u003e GenericChart.ofTraceObject \n",
"    \n"]
          }
,
          {
           "cell_type": "code",
           "metadata": {},
            "execution_count": null, "outputs": [
          {
           "data": {
            "text/html": ["\u003cdiv id=\"2679e25b-32d3-4c9f-935c-7411db946d67\" style=\"width: 600px; height: 600px;\"\u003e\u003c!-- Plotly chart will be drawn inside this DIV --\u003e\u003c/div\u003e",
"",
"\u003cscript type=\"text/javascript\"\u003e",
"",
"",
"            var renderPlotly_2679e25b32d34c9f935c7411db946d67 = function() {",
"            var fsharpPlotlyRequire = requirejs.config({context:\u0027fsharp-plotly\u0027,paths:{plotly:\u0027https://cdn.plot.ly/plotly-latest.min\u0027}}) || require;",
"            fsharpPlotlyRequire([\u0027plotly\u0027], function(Plotly) {",
"",
"",
"            var data = [{\"type\":\"mesh3d\",\"x\":[0.9993574442338932,0.11105295043022044,0.087877734605166,0.4177985579789609,0.8998543791937895,0.34740155672067846,0.6098277050116229,0.29309696112437966,0.24888386868354112,0.5017532447826831,0.7630207183598637,0.03603904463166326,0.8175741796463608,0.8329789060321539,0.27635584924200357,0.5737644855742178,0.03014264909091529,0.8163866544218672,0.28144815390997013,0.6624382849142134,0.2893464939153504,0.9132159263422787,0.021866614009191567,0.7456920713864695,0.14949827508511873,0.955129442715612,0.9182242378211694,0.07109290644111713,0.38906643604350577,0.13326095609611877,0.7685589118714253,0.33047700688730786,0.45636208749206836,0.2322252845541692,0.8589217345504657,0.8571907476788344,0.3499182222177825,0.10331957279859091,0.4151328249904946,0.7230634464524051,0.38693306752803414,0.021064587878559058,0.5011941224807847,0.16308424489716267,0.8396190269103362,0.7853401935591084,0.6700014209700755,0.8954190620665528,0.2721767547876466,0.6411993557779115],\"y\":[0.858666920968642,0.5912600027356576,0.6160471558645587,0.3704306098494821,0.1601853073389201,0.08614151789161448,0.08918633642102887,0.3421856632186964,0.2683002828938422,0.9447249364781776,0.42917731889950916,0.5387347985705058,0.9040305250808739,0.11562291258742237,0.7331943329112578,0.4325437114725559,0.5796769571395949,0.5853488950921916,0.9740571714816881,0.4191651015631692,0.22384626335643523,0.9268230762923244,0.4012538294313726,0.5583847074575651,0.2755052173861792,0.26828190603679136,0.41202180386149406,0.8587823691120289,0.9060730444761333,0.3641580815260103,0.2851280217455365,0.022805175754616585,0.7989161516534705,0.7478670802655942,0.2745940351274768,0.17729890913576768,0.7144298510227491,0.08593147764258621,0.07203997721524909,0.7727802166588512,0.7680044112578055,0.007732558999086059,0.8350192899047487,0.470407888512317,0.2938861275528959,0.8481982689575284,0.11703406279768519,0.38557120989336224,0.42988991198590487,0.40707531543778036],\"z\":[0.20566323641951348,0.0846525258778839,0.9213618905848646,0.8530116532244774,0.4173530924214763,0.9318438446763175,0.19000617330428501,0.05766244840699362,0.0949253924633029,0.8919034013021288,0.6741197140301204,0.23040396730899995,0.43611261874256313,0.9041422013678319,0.659596914732641,0.4063721431448926,0.7398186469170351,0.15616344481527966,0.8410288774599456,0.5558954237754901,0.7181138604498067,0.4937454794970087,0.5133089178769425,0.2012769548228369,0.6511606903053637,0.21611370435734917,0.09180378638757569,0.9308459409190556,0.26449857990466924,0.4273069484286508,0.15124784323910617,0.026450593968131857,0.42889245712612406,0.49899772903835293,0.15849484510649686,0.2004754958676526,0.10144328516975198,0.9459044984289932,0.3305139878441179,0.34275019045115923,0.9872927358314827,0.6567674026157555,0.9910060851792833,0.18013657591312032,0.09866050262873084,0.5376004439488056,0.571619940256523,0.9308770885369168,0.810810973779676,0.8875139844080032],\"flatshading\":true,\"contour\":{\"x\":{\"show\":true},\"y\":{\"show\":true},\"z\":{\"show\":true}}}];",
"            var layout = {};",
"            var config = {};",
"            Plotly.newPlot(\u00272679e25b-32d3-4c9f-935c-7411db946d67\u0027, data, layout, config);",
"",
"});",
"            };",
"            if ((typeof(requirejs) !==  typeof(Function)) || (typeof(requirejs.config) !== typeof(Function))) {",
"                var script = document.createElement(\"script\");",
"                script.setAttribute(\"src\", \"https://cdnjs.cloudflare.com/ajax/libs/require.js/2.3.6/require.min.js\");",
"                script.onload = function(){",
"                    renderPlotly_2679e25b32d34c9f935c7411db946d67();",
"                };",
"                document.getElementsByTagName(\"head\")[0].appendChild(script);",
"            }",
"            else {",
"                renderPlotly_2679e25b32d34c9f935c7411db946d67();",
"            }",
"",
"\u003c/script\u003e",
"",
""]
        },
           "execution_count": null,
           "metadata": {},
           "output_type": "execute_result"
          }], 
           "source": ["mesh3d\n"]
          }],
            "metadata": {
            "kernelspec": {"display_name": ".NET (F#)", "language": "F#", "name": ".net-fsharp"},
            "langauge_info": {
        "file_extension": ".fs",
        "mimetype": "text/x-fsharp",
        "name": "C#",
        "pygments_lexer": "fsharp",
        "version": "4.5"
        }
        },
            "nbformat": 4,
            "nbformat_minor": 1
        }
        

