
        {
            "cells": [
          {
           "cell_type": "code",
           "metadata": {},
            "execution_count": null, "outputs": [], 
           "source": ["#r \"nuget: Plotly.NET, 2.0.0-beta7\"\n",
"#r \"nuget: Plotly.NET.Interactive, 2.0.0-beta7\"\n"]
          }
,
          {
           "cell_type": "markdown",
           "metadata": {},
           
           "source": ["# 3D Mesh plots\n",
"\n",
"[![Binder](https://mybinder.org/badge_logo.svg)](https://mybinder.org/v2/gh/plotly/Plotly.NET/gh-pages?filepath=3_3_3d-mesh-plots.ipynb)\n",
"\n",
"*Summary:* This example shows how to create 3D-Mesh charts in F#.\n",
"\n",
"let\u0027s first create some data for the purpose of creating example charts:\n"]
          }
,
          {
           "cell_type": "code",
           "metadata": {},
            "execution_count": 3, "outputs": [], 
           "source": ["open System\n",
"open Plotly.NET \n",
"\n",
"\n",
"//---------------------- Generate linearly spaced vector ----------------------\n",
"let linspace (min,max,n) = \n",
"    if n \u003c= 2 then failwithf \"n needs to be larger then 2\"\n",
"    let bw = float (max - min) / (float n - 1.)\n",
"    Array.init n (fun i -\u003e min + (bw * float i))\n",
"    //[|min ..bw ..max|]\n",
"\n",
"//---------------------- Create example data ----------------------\n",
"let size = 100\n",
"let x = linspace(-2. * Math.PI, 2. * Math.PI, size)\n",
"let y = linspace(-2. * Math.PI, 2. * Math.PI, size)\n",
"\n",
"let f x y = - (5. * x / (x**2. + y**2. + 1.) )\n",
"\n",
"let z = \n",
"    Array.init size (fun i -\u003e \n",
"        Array.init size (fun j -\u003e \n",
"            f x.[j] y.[i] \n",
"        )\n",
"    )\n",
"\n",
"let rnd = System.Random()\n",
"let a = Array.init 50 (fun _ -\u003e rnd.NextDouble())\n",
"let b = Array.init 50 (fun _ -\u003e rnd.NextDouble())\n",
"let c = Array.init 50 (fun _ -\u003e rnd.NextDouble())\n",
"\n",
"\n",
"let mesh3d =\n",
"    Trace3d.initMesh3d \n",
"        (fun mesh3d -\u003e\n",
"            mesh3d?x \u003c- a\n",
"            mesh3d?y \u003c- b\n",
"            mesh3d?z \u003c- c\n",
"            mesh3d?flatshading \u003c- true\n",
"            mesh3d?contour \u003c- Contours.initXyz(Show=true)\n",
"            mesh3d\n",
"            )\n",
"    |\u003e GenericChart.ofTraceObject \n",
"    \n"]
          }
,
          {
           "cell_type": "code",
           "metadata": {},
            "execution_count": null, "outputs": [
          {
           "data": {
            "text/html": ["\u003cdiv id=\"c3e6de66-9c21-4717-9b11-8810af782a51\" style=\"width: 600px; height: 600px;\"\u003e\u003c!-- Plotly chart will be drawn inside this DIV --\u003e\u003c/div\u003e",
"",
"\u003cscript type=\"text/javascript\"\u003e",
"",
"",
"            var renderPlotly_c3e6de669c2147179b118810af782a51 = function() {",
"            var fsharpPlotlyRequire = requirejs.config({context:\u0027fsharp-plotly\u0027,paths:{plotly:\u0027https://cdn.plot.ly/plotly-latest.min\u0027}}) || require;",
"            fsharpPlotlyRequire([\u0027plotly\u0027], function(Plotly) {",
"",
"",
"            var data = [{\"type\":\"mesh3d\",\"x\":[0.9211402707365994,0.5465779437434757,0.7266837692478131,0.6728041757237185,0.39687490388605506,0.5662187238066544,0.09102083839989307,0.40142064932799926,0.47434900117774914,0.982702060128889,0.265959286720473,0.21069168961173468,0.10775459655921654,0.7111416895460065,0.9908152273813333,0.4579522830704005,0.38921853778381765,0.7360441371500698,0.2573461119352589,0.167873177755565,0.586408562765647,0.31305730124612213,0.8264778823715065,0.8259786743791675,0.718457730821547,0.3577878085699807,0.05622156572352236,0.2899391503492087,0.27813981253567144,0.9830749751921161,0.7663836645737214,0.8702940656199558,0.1850250722770696,0.8493718150301706,0.7388505790097875,0.5115000403074083,0.4639908766671973,0.7619402626352106,0.007423352453589138,0.1919112630150799,0.7024852063984076,0.2705147635520039,0.8437225245142926,0.4679598260987363,0.816015679303564,0.79015388981912,0.3248889587469813,0.7932232296062741,0.3752333965968496,0.009380022533880558],\"y\":[0.9250971786329044,0.7828035376885922,0.9519139802790778,0.48008021129298967,0.46607725995875765,0.6080829694904774,0.7201000613719691,0.9007050948686456,0.9543464449021716,0.03908709531607437,0.5099971580831321,0.8010816880506844,0.12328083679232785,0.491274025985633,0.21631839555516763,0.39566522110051716,0.025666617334665087,0.25838278152904604,0.9722911105362191,0.4793151870739251,0.9939614064032032,0.627278275148607,0.7286207846964806,0.06543484892017899,0.4653879713571574,0.3158937992136431,0.4693347767318295,0.3585180562727703,0.009962995075603479,0.928303841002427,0.03289884982299937,0.2629983361172482,0.9147057537523591,0.2687597900017909,0.0579777965592117,0.9835801268851292,0.918380085340878,0.7049448609840799,0.38329455507141286,0.1307676095193101,0.7913999789354391,0.5632857817985517,0.8075938177330391,0.9683362571375148,0.6819141049319478,0.9014035183477231,0.14723392675967603,0.35244849852865956,0.25164143054356863,0.4203504582030468],\"z\":[0.7644872724844549,0.0665061772179353,0.820932119070055,0.8959182095229244,0.015418616130677338,0.2978189034842974,0.05418275299211161,0.8864791313588988,0.01469223993583221,0.15018346074511457,0.1387481927586478,0.3615820050991988,0.8907420997930421,0.02604260389974462,0.006188245493074993,0.24699882196588388,0.8863759342983253,0.854521046790537,0.4332962294264213,0.23273826867003844,0.47728513575963916,0.32072175635058514,0.8750882264576332,0.841523501016909,0.6879152081384861,0.43067562460465153,0.819684457415568,0.7602845275589658,0.38352074398823116,0.5639844530094342,0.16865987245396705,0.11688627820316995,0.10687662572920165,0.5896125368725567,0.16381656851797205,0.9663926726050641,0.4420662170471932,0.018787544229434593,0.25334117387111355,0.7601588930749142,0.9293973738930176,0.031900953981979265,0.6902526210482477,0.23311109432629826,0.9920194167606623,0.4298179738362403,0.6725436820055096,0.7815512138332944,0.9621480116444397,0.43491528296606397],\"flatshading\":true,\"contour\":{\"x\":{\"show\":true},\"y\":{\"show\":true},\"z\":{\"show\":true}}}];",
"            var layout = {};",
"            var config = {};",
"            Plotly.newPlot(\u0027c3e6de66-9c21-4717-9b11-8810af782a51\u0027, data, layout, config);",
"",
"});",
"            };",
"            if ((typeof(requirejs) !==  typeof(Function)) || (typeof(requirejs.config) !== typeof(Function))) {",
"                var script = document.createElement(\"script\");",
"                script.setAttribute(\"src\", \"https://cdnjs.cloudflare.com/ajax/libs/require.js/2.3.6/require.min.js\");",
"                script.onload = function(){",
"                    renderPlotly_c3e6de669c2147179b118810af782a51();",
"                };",
"                document.getElementsByTagName(\"head\")[0].appendChild(script);",
"            }",
"            else {",
"                renderPlotly_c3e6de669c2147179b118810af782a51();",
"            }",
"",
"\u003c/script\u003e",
"",
""]
        },
           "execution_count": null,
           "metadata": {},
           "output_type": "execute_result"
          }], 
           "source": ["mesh3d\n"]
          }],
            "metadata": {
            "kernelspec": {"display_name": ".NET (F#)", "language": "F#", "name": ".net-fsharp"},
            "langauge_info": {
        "file_extension": ".fs",
        "mimetype": "text/x-fsharp",
        "name": "C#",
        "pygments_lexer": "fsharp",
        "version": "4.5"
        }
        },
            "nbformat": 4,
            "nbformat_minor": 1
        }
        

