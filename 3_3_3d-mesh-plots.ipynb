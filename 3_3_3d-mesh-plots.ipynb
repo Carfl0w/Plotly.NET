
        {
            "cells": [
          {
           "cell_type": "markdown",
           "metadata": {},
           
           "source": ["// can\u0027t yet format YamlFrontmatter ([\"title: 3D Mesh plots\"; \"category: 3D Charts\"; \"categoryindex: 4\"; \"index: 4\"], Some { StartLine = 2 StartColumn = 0 EndLine = 6 EndColumn = 8 }) to pynb markdown\n",
"\n"]
          }
,
          {
           "cell_type": "code",
           "metadata": {},
            "execution_count": null, "outputs": [], 
           "source": ["#r \"nuget: Plotly.NET, 2.0.0-preview.2\"\n",
"#r \"nuget: Plotly.NET.Interactive, 2.0.0-preview.2\"\n"]
          }
,
          {
           "cell_type": "markdown",
           "metadata": {},
           
           "source": ["# 3D Mesh plots\n",
"\n",
"[![Binder](https://plotly.net/img/badge-binder.svg)](https://mybinder.org/v2/gh/plotly/Plotly.NET/gh-pages?filepath=3_3_3d-mesh-plots.ipynb)\u0026emsp;\n",
"[![Script](https://plotly.net/img/badge-script.svg)](https://plotly.net/3_3_3d-mesh-plots.fsx)\u0026emsp;\n",
"[![Notebook](https://plotly.net/img/badge-notebook.svg)](https://plotly.net/3_3_3d-mesh-plots.ipynb)\n",
"\n",
"*Summary:* This example shows how to create 3D-Mesh charts in F#.\n",
"\n",
"let\u0027s first create some data for the purpose of creating example charts:\n"]
          }
,
          {
           "cell_type": "code",
           "metadata": {},
            "execution_count": 3, "outputs": [], 
           "source": ["open System\n",
"open Plotly.NET \n",
"\n",
"\n",
"//---------------------- Generate linearly spaced vector ----------------------\n",
"let linspace (min,max,n) = \n",
"    if n \u003c= 2 then failwithf \"n needs to be larger then 2\"\n",
"    let bw = float (max - min) / (float n - 1.)\n",
"    Array.init n (fun i -\u003e min + (bw * float i))\n",
"    //[|min ..bw ..max|]\n",
"\n",
"//---------------------- Create example data ----------------------\n",
"let size = 100\n",
"let x = linspace(-2. * Math.PI, 2. * Math.PI, size)\n",
"let y = linspace(-2. * Math.PI, 2. * Math.PI, size)\n",
"\n",
"let f x y = - (5. * x / (x**2. + y**2. + 1.) )\n",
"\n",
"let z = \n",
"    Array.init size (fun i -\u003e \n",
"        Array.init size (fun j -\u003e \n",
"            f x.[j] y.[i] \n",
"        )\n",
"    )\n",
"\n",
"let rnd = System.Random()\n",
"let a = Array.init 50 (fun _ -\u003e rnd.NextDouble())\n",
"let b = Array.init 50 (fun _ -\u003e rnd.NextDouble())\n",
"let c = Array.init 50 (fun _ -\u003e rnd.NextDouble())\n",
"\n",
"\n",
"let mesh3d =\n",
"    Trace3d.initMesh3d \n",
"        (fun mesh3d -\u003e\n",
"            mesh3d?x \u003c- a\n",
"            mesh3d?y \u003c- b\n",
"            mesh3d?z \u003c- c\n",
"            mesh3d?flatshading \u003c- true\n",
"            mesh3d?contour \u003c- Contours.initXyz(Show=true)\n",
"            mesh3d\n",
"            )\n",
"    |\u003e GenericChart.ofTraceObject \n",
"    \n"]
          }
,
          {
           "cell_type": "code",
           "metadata": {},
            "execution_count": null, "outputs": [
          {
           "data": {
            "text/html": ["\u003cdiv id=\"ac0d0776-b892-462f-bcf8-2e7eb0f5ba32\" style=\"width: 600px; height: 600px;\"\u003e\u003c!-- Plotly chart will be drawn inside this DIV --\u003e\u003c/div\u003e",
"",
"\u003cscript type=\"text/javascript\"\u003e",
"",
"",
"            var renderPlotly_ac0d0776b892462fbcf82e7eb0f5ba32 = function() {",
"            var fsharpPlotlyRequire = requirejs.config({context:\u0027fsharp-plotly\u0027,paths:{plotly:\u0027https://cdn.plot.ly/plotly-latest.min\u0027}}) || require;",
"            fsharpPlotlyRequire([\u0027plotly\u0027], function(Plotly) {",
"",
"",
"            var data = [{\"type\":\"mesh3d\",\"x\":[0.255486989978462,0.13196569035386932,0.18438442805054803,0.027818761778911,0.42916145661341093,0.12223585840418742,0.6689730452694804,0.018722352580503726,0.7874831747205384,0.19520562989414,0.3636583696881581,0.2968831287216782,0.5112427899200669,0.2008177625019186,0.14322768344694176,0.1675264091079712,0.5892889302174044,0.423365565679672,0.22191919536419175,0.10711408690880708,0.7406307480952846,0.4653007571889557,0.3536968232848201,0.4570975506012782,0.6348264732560266,0.6821308926130323,0.3992175615388982,0.27541246371130107,0.3497590396319325,0.2797172797283704,0.5586695696966115,0.6334620302698863,0.3998466056770862,0.8053694804224043,0.470654076650112,0.7892986074040171,0.9555729678625116,0.6469518722253628,0.1795930458137733,0.6294461836244195,0.3623976806934912,0.5539089262270875,0.40523915337642613,0.6224816709861539,0.8364636734297796,0.5480405406784455,0.6254711964286264,0.3135804805502205,0.030487526688020457,0.2698371756215753],\"y\":[0.6569630492743864,0.5543881620068047,0.2765105046688162,0.6685783149062555,0.6040023186262707,0.7901862327895063,0.7782688670690492,0.7272868774492698,0.39299228852288437,0.7470305640003786,0.7230182968652893,0.39356058155817936,0.6689633129485711,0.5077658949921681,0.6365360601975285,0.7301963394182717,0.897036523044592,0.7058733094976625,0.7301636858518066,0.35392907604292456,0.2119534412454597,0.9423370579920416,0.24377251986589865,0.5924730117397723,0.7447164062153159,0.18672182186819697,0.06006160381252952,0.7312151522986662,0.6206338771714986,0.08678593257758112,0.05665969618440592,0.08563708098867773,0.24492493702328064,0.07992186401035724,0.622754230453984,0.004281407689806729,0.35695152560107013,0.7312682907708308,0.20136716179613356,0.6804678438606057,0.011029740334967961,0.2282860904132417,0.25395958370247834,0.4325624818133947,0.9064278867591302,0.9688370991353118,0.8849456132785164,0.8974732583842582,0.9859456107886255,0.10626733401150784],\"z\":[0.6510040176338535,0.9195978869309639,0.5834167946984138,0.6765584506450959,0.0578837343761156,0.7146259912823448,0.31061564214090615,0.6840374929290439,0.9238619086909396,0.4172804967580738,0.7301246289769768,0.047053714770383066,0.10665300027777115,0.30620635594530327,0.6903708678159727,0.6373812158766116,0.14863564453489875,0.589041448938214,0.885011664538184,0.6322546525077217,0.37324481381720154,0.16576823227376128,0.5045061477015289,0.04969584199120097,0.3428993357079566,0.983667350832218,0.6883774742895632,0.811210038052504,0.6860451249806421,0.7758793070800041,0.3017762085896806,0.16258834542827139,0.7452695415100407,0.5143665431599909,0.43578191494372764,0.13706180925344202,0.5022202862902639,0.5683664863781848,0.022038129634241635,0.9081282391716392,0.6936657655489006,0.6729140326720262,0.8074063820798911,0.7840866650380598,0.9503432148836288,0.9639760255645848,0.12163309013547054,0.9477532277571751,0.742191613997422,0.2690466708825187],\"flatshading\":true,\"contour\":{\"x\":{\"show\":true},\"y\":{\"show\":true},\"z\":{\"show\":true}}}];",
"            var layout = {};",
"            var config = {};",
"            Plotly.newPlot(\u0027ac0d0776-b892-462f-bcf8-2e7eb0f5ba32\u0027, data, layout, config);",
"",
"});",
"            };",
"            if ((typeof(requirejs) !==  typeof(Function)) || (typeof(requirejs.config) !== typeof(Function))) {",
"                var script = document.createElement(\"script\");",
"                script.setAttribute(\"src\", \"https://cdnjs.cloudflare.com/ajax/libs/require.js/2.3.6/require.min.js\");",
"                script.onload = function(){",
"                    renderPlotly_ac0d0776b892462fbcf82e7eb0f5ba32();",
"                };",
"                document.getElementsByTagName(\"head\")[0].appendChild(script);",
"            }",
"            else {",
"                renderPlotly_ac0d0776b892462fbcf82e7eb0f5ba32();",
"            }",
"",
"\u003c/script\u003e",
"",
""]
        },
           "execution_count": null,
           "metadata": {},
           "output_type": "execute_result"
          }], 
           "source": ["mesh3d\n"]
          }],
            "metadata": {
            "kernelspec": {"display_name": ".NET (F#)", "language": "F#", "name": ".net-fsharp"},
            "langauge_info": {
        "file_extension": ".fs",
        "mimetype": "text/x-fsharp",
        "name": "C#",
        "pygments_lexer": "fsharp",
        "version": "4.5"
        }
        },
            "nbformat": 4,
            "nbformat_minor": 1
        }
        

