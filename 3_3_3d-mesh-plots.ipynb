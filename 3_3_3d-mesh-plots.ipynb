
        {
            "cells": [
          {
           "cell_type": "markdown",
           "metadata": {},
           
           "source": ["// can\u0027t yet format YamlFrontmatter ([\"title: 3D Mesh plots\"; \"category: 3D Charts\"; \"categoryindex: 4\"; \"index: 4\"], Some { StartLine = 2 StartColumn = 0 EndLine = 6 EndColumn = 8 }) to pynb markdown\n",
"\n"]
          }
,
          {
           "cell_type": "code",
           "metadata": {},
            "execution_count": null, "outputs": [], 
           "source": ["#r \"nuget: Plotly.NET, 2.0.0-beta9\"\n",
"#r \"nuget: Plotly.NET.Interactive, 2.0.0-beta9\"\n"]
          }
,
          {
           "cell_type": "markdown",
           "metadata": {},
           
           "source": ["# 3D Mesh plots\n",
"\n",
"[![Binder](https://plotly.github.io/Plotly.NET/img/badge-binder.svg)](https://mybinder.org/v2/gh/plotly/Plotly.NET/gh-pages?filepath=3_3_3d-mesh-plots.ipynb)\u0026emsp;\n",
"[![Script](https://plotly.github.io/Plotly.NET/img/badge-script.svg)](https://plotly.github.io/Plotly.NET/3_3_3d-mesh-plots.fsx)\u0026emsp;\n",
"[![Notebook](https://plotly.github.io/Plotly.NET/img/badge-notebook.svg)](https://plotly.github.io/Plotly.NET/3_3_3d-mesh-plots.ipynb)\n",
"\n",
"*Summary:* This example shows how to create 3D-Mesh charts in F#.\n",
"\n",
"let\u0027s first create some data for the purpose of creating example charts:\n"]
          }
,
          {
           "cell_type": "code",
           "metadata": {},
            "execution_count": 3, "outputs": [], 
           "source": ["open System\n",
"open Plotly.NET \n",
"\n",
"\n",
"//---------------------- Generate linearly spaced vector ----------------------\n",
"let linspace (min,max,n) = \n",
"    if n \u003c= 2 then failwithf \"n needs to be larger then 2\"\n",
"    let bw = float (max - min) / (float n - 1.)\n",
"    Array.init n (fun i -\u003e min + (bw * float i))\n",
"    //[|min ..bw ..max|]\n",
"\n",
"//---------------------- Create example data ----------------------\n",
"let size = 100\n",
"let x = linspace(-2. * Math.PI, 2. * Math.PI, size)\n",
"let y = linspace(-2. * Math.PI, 2. * Math.PI, size)\n",
"\n",
"let f x y = - (5. * x / (x**2. + y**2. + 1.) )\n",
"\n",
"let z = \n",
"    Array.init size (fun i -\u003e \n",
"        Array.init size (fun j -\u003e \n",
"            f x.[j] y.[i] \n",
"        )\n",
"    )\n",
"\n",
"let rnd = System.Random()\n",
"let a = Array.init 50 (fun _ -\u003e rnd.NextDouble())\n",
"let b = Array.init 50 (fun _ -\u003e rnd.NextDouble())\n",
"let c = Array.init 50 (fun _ -\u003e rnd.NextDouble())\n",
"\n",
"\n",
"let mesh3d =\n",
"    Trace3d.initMesh3d \n",
"        (fun mesh3d -\u003e\n",
"            mesh3d?x \u003c- a\n",
"            mesh3d?y \u003c- b\n",
"            mesh3d?z \u003c- c\n",
"            mesh3d?flatshading \u003c- true\n",
"            mesh3d?contour \u003c- Contours.initXyz(Show=true)\n",
"            mesh3d\n",
"            )\n",
"    |\u003e GenericChart.ofTraceObject \n",
"    \n"]
          }
,
          {
           "cell_type": "code",
           "metadata": {},
            "execution_count": null, "outputs": [
          {
           "data": {
            "text/html": ["\u003cdiv id=\"516a89a9-01a4-4dfe-a145-2480fb460ca6\" style=\"width: 600px; height: 600px;\"\u003e\u003c!-- Plotly chart will be drawn inside this DIV --\u003e\u003c/div\u003e",
"",
"\u003cscript type=\"text/javascript\"\u003e",
"",
"",
"            var renderPlotly_516a89a901a44dfea1452480fb460ca6 = function() {",
"            var fsharpPlotlyRequire = requirejs.config({context:\u0027fsharp-plotly\u0027,paths:{plotly:\u0027https://cdn.plot.ly/plotly-latest.min\u0027}}) || require;",
"            fsharpPlotlyRequire([\u0027plotly\u0027], function(Plotly) {",
"",
"",
"            var data = [{\"type\":\"mesh3d\",\"x\":[0.1767428890693667,0.5965937509185606,0.662086564424488,0.3565018919094009,0.58608364154868,0.4750750937848702,0.9285301551821317,0.6938989631337574,0.46906685851005225,0.7236865375766933,0.6338914947742091,0.788674264582188,0.8894283142357265,0.19601915459894537,0.5569307881206883,0.2745266083043658,0.719517371952309,0.25975873566221386,0.5314352649876081,0.7710086725517217,0.979920778879859,0.18876354079170318,0.1360164420381265,0.10185539913450153,0.4108934148265484,0.34273127948061155,0.8442777753082467,0.7577788111557154,0.31849847515975055,0.6026584746328455,0.26782317704885417,0.6741743924441628,0.9235498322749277,0.4295540146667296,0.697876189229021,0.06841972566601807,0.4629495919043895,0.9662035936332325,0.1390005937493409,0.09795479900108409,0.08197236670273,0.843674960473401,0.5328397581041044,0.1457138178617292,0.6327595601942202,0.853684335413242,0.7815203479405122,0.5728411672510398,0.8613016376557302,0.5289686995227676],\"y\":[0.41883216817808905,0.0002686074004828033,0.10870421496625254,0.8175308773375726,0.33940228649387244,0.9879793482776635,0.460577308880434,0.5602311652899865,0.9456084770828524,0.2433523620680684,0.6307973184766236,0.17075134402641623,0.37540048797400694,0.8664083838772068,0.4558633605278392,0.9597171023300463,0.8651244323072603,0.4598742995689969,0.4981429653699244,0.48851106245467024,0.8115770163999764,0.7533137783190765,0.12075814191287297,0.433480465986524,0.6890363058489917,0.13624581840645794,0.6559237826875988,0.9903026241763973,0.46909583894028134,0.5572090794133064,0.5612109315400994,0.27143660805720676,0.8964771734999852,0.789529775636983,0.18382630645475645,0.2675545696483713,0.5654701774779103,0.10601895493735511,0.09015172817285719,0.7098968409513574,0.607842416785584,0.902718426614403,0.020595116550379954,0.8956482316812725,0.46715748052446054,0.9112210226763138,0.4682744724993941,0.6664313742268977,0.68985045733389,0.6730424578641739],\"z\":[0.9885599031059816,0.3216460483715153,0.07469820188111542,0.37279057520105996,0.7173916831227912,0.6655183898590125,0.8795104654876098,0.6752237489797286,0.12849457148858093,0.2031564680874145,0.33205556559006477,0.47027468470403677,0.09113532634970514,0.388399397669546,0.682141430527969,0.35936071041941675,0.274274170526431,0.5858707123370239,0.6825820774224504,0.18830879087946786,0.394246924852136,0.7591054773699052,0.36972257139613973,0.788246124418567,0.8806686456690862,0.9088585897855733,0.7327186617686966,0.22510991023160049,0.9663229854620634,0.7778152831726779,0.6679713459070639,0.9894924084607011,0.30045216684250725,0.7960533810761075,0.5686491763073249,0.23956488316858415,0.19673840617609137,0.5236865982989253,0.0721380925141918,0.5183079165957439,0.3880441041607615,0.8902464284981817,0.9775243834487741,0.8869952600854427,0.37784127536129264,0.13756773208154727,0.8115831002646978,0.6321957188808339,0.2135068011533035,0.10779677010504378],\"flatshading\":true,\"contour\":{\"x\":{\"show\":true},\"y\":{\"show\":true},\"z\":{\"show\":true}}}];",
"            var layout = {};",
"            var config = {};",
"            Plotly.newPlot(\u0027516a89a9-01a4-4dfe-a145-2480fb460ca6\u0027, data, layout, config);",
"",
"});",
"            };",
"            if ((typeof(requirejs) !==  typeof(Function)) || (typeof(requirejs.config) !== typeof(Function))) {",
"                var script = document.createElement(\"script\");",
"                script.setAttribute(\"src\", \"https://cdnjs.cloudflare.com/ajax/libs/require.js/2.3.6/require.min.js\");",
"                script.onload = function(){",
"                    renderPlotly_516a89a901a44dfea1452480fb460ca6();",
"                };",
"                document.getElementsByTagName(\"head\")[0].appendChild(script);",
"            }",
"            else {",
"                renderPlotly_516a89a901a44dfea1452480fb460ca6();",
"            }",
"",
"\u003c/script\u003e",
"",
""]
        },
           "execution_count": null,
           "metadata": {},
           "output_type": "execute_result"
          }], 
           "source": ["mesh3d\n"]
          }],
            "metadata": {
            "kernelspec": {"display_name": ".NET (F#)", "language": "F#", "name": ".net-fsharp"},
            "langauge_info": {
        "file_extension": ".fs",
        "mimetype": "text/x-fsharp",
        "name": "C#",
        "pygments_lexer": "fsharp",
        "version": "4.5"
        }
        },
            "nbformat": 4,
            "nbformat_minor": 1
        }
        

