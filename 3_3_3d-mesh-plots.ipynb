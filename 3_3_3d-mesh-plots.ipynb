
        {
            "cells": [
          {
           "cell_type": "code",
           "metadata": {},
            "execution_count": null, "outputs": [], 
           "source": ["#r \"nuget: Plotly.NET, 2.0.0-beta8\"\n",
"#r \"nuget: Plotly.NET.Interactive, 2.0.0-beta8\"\n"]
          }
,
          {
           "cell_type": "markdown",
           "metadata": {},
           
           "source": ["# 3D Mesh plots\n",
"\n",
"[![Binder](https://mybinder.org/badge_logo.svg)](https://mybinder.org/v2/gh/plotly/Plotly.NET/gh-pages?filepath=3_3_3d-mesh-plots.ipynb)\n",
"\n",
"*Summary:* This example shows how to create 3D-Mesh charts in F#.\n",
"\n",
"let\u0027s first create some data for the purpose of creating example charts:\n"]
          }
,
          {
           "cell_type": "code",
           "metadata": {},
            "execution_count": 3, "outputs": [], 
           "source": ["open System\n",
"open Plotly.NET \n",
"\n",
"\n",
"//---------------------- Generate linearly spaced vector ----------------------\n",
"let linspace (min,max,n) = \n",
"    if n \u003c= 2 then failwithf \"n needs to be larger then 2\"\n",
"    let bw = float (max - min) / (float n - 1.)\n",
"    Array.init n (fun i -\u003e min + (bw * float i))\n",
"    //[|min ..bw ..max|]\n",
"\n",
"//---------------------- Create example data ----------------------\n",
"let size = 100\n",
"let x = linspace(-2. * Math.PI, 2. * Math.PI, size)\n",
"let y = linspace(-2. * Math.PI, 2. * Math.PI, size)\n",
"\n",
"let f x y = - (5. * x / (x**2. + y**2. + 1.) )\n",
"\n",
"let z = \n",
"    Array.init size (fun i -\u003e \n",
"        Array.init size (fun j -\u003e \n",
"            f x.[j] y.[i] \n",
"        )\n",
"    )\n",
"\n",
"let rnd = System.Random()\n",
"let a = Array.init 50 (fun _ -\u003e rnd.NextDouble())\n",
"let b = Array.init 50 (fun _ -\u003e rnd.NextDouble())\n",
"let c = Array.init 50 (fun _ -\u003e rnd.NextDouble())\n",
"\n",
"\n",
"let mesh3d =\n",
"    Trace3d.initMesh3d \n",
"        (fun mesh3d -\u003e\n",
"            mesh3d?x \u003c- a\n",
"            mesh3d?y \u003c- b\n",
"            mesh3d?z \u003c- c\n",
"            mesh3d?flatshading \u003c- true\n",
"            mesh3d?contour \u003c- Contours.initXyz(Show=true)\n",
"            mesh3d\n",
"            )\n",
"    |\u003e GenericChart.ofTraceObject \n",
"    \n"]
          }
,
          {
           "cell_type": "code",
           "metadata": {},
            "execution_count": null, "outputs": [
          {
           "data": {
            "text/html": ["\u003cdiv id=\"3fc0bb1f-eb25-4e71-bbfb-b1143f2cc872\" style=\"width: 600px; height: 600px;\"\u003e\u003c!-- Plotly chart will be drawn inside this DIV --\u003e\u003c/div\u003e",
"",
"\u003cscript type=\"text/javascript\"\u003e",
"",
"",
"            var renderPlotly_3fc0bb1feb254e71bbfbb1143f2cc872 = function() {",
"            var fsharpPlotlyRequire = requirejs.config({context:\u0027fsharp-plotly\u0027,paths:{plotly:\u0027https://cdn.plot.ly/plotly-latest.min\u0027}}) || require;",
"            fsharpPlotlyRequire([\u0027plotly\u0027], function(Plotly) {",
"",
"",
"            var data = [{\"type\":\"mesh3d\",\"x\":[0.35210288472105883,0.29699238962353786,0.0275800638029259,0.24901454860764302,0.18553137555044674,0.886969234276083,0.38356002112085,0.06043456777019173,0.4278249202425708,0.5757149916960462,0.6428237774608767,0.15222160432125517,0.6911526130005496,0.7014241179923639,0.1237914814258886,0.9200132689066293,0.939528206335161,0.3748341199824745,0.275395939254852,0.3341963362573629,0.37563399103266837,0.47845686109664703,0.3500955870142652,0.7786480410856419,0.6739708709874986,0.0009218174968482077,0.9982403754248472,0.4629161471793969,0.010859480132749063,0.19780711745741178,0.32209297563978145,0.5151735122851904,0.35532135952046207,0.462320477451347,0.8865925650515559,0.952933374304759,0.3306553877567199,0.5394296238848146,0.24764167482389216,0.033243404716832285,0.4962729706877251,0.3032878149781785,0.2635330596303256,0.0788208144152634,0.6876212520001556,0.7858911104434594,0.03657288711358462,0.7639275848697534,0.1776260482974472,0.09302862086008705],\"y\":[0.9623144077892948,0.9694986552789335,0.11057137283988827,0.32706206772805285,0.2672823771216359,0.8736460236244118,0.9468968026092727,0.24893202271728404,0.5750436776201444,0.18460955805359852,0.8887288588512358,0.9206438739414531,0.04957508763744267,0.230017802785159,0.2536220160562648,0.12765026517568634,0.7969002448007931,0.22883213554920262,0.814831552940808,0.17085810712112956,0.5893578811499094,0.40009858245034635,0.12719244515858238,0.2421525345380197,0.8379233655696378,0.07234617605448988,0.21492380146632148,0.2712747725990018,0.09102678908548634,0.8880797605440391,0.9643489303832636,0.2343127905550938,0.2852900988819497,0.9178308592726621,0.23549270966811697,0.3525943203608479,0.40460213944530216,0.028259291792409165,0.19503810032971114,0.012946541427144102,0.00603657169548635,0.08172336503943585,0.9643859462646702,0.06303211677029362,0.14451454586559653,0.5756290967462719,0.25371272734073586,0.03351525684516656,0.8251987983589987,0.5599709868244692],\"z\":[0.9889908656426663,0.807740751564382,0.9490960319289453,0.006767941176317605,0.5036707397101776,0.5622158253389484,0.8423062101203511,0.8684188383018686,0.4891387021584151,0.19493620106714601,0.6587222221580903,0.6756220300102709,0.1579052336317977,0.6869639170761053,0.22026062767033494,0.654416068296142,0.6353537750595034,0.13174422836478064,0.9945250931170421,0.9010276956954169,0.7230481257303842,0.768640953008384,0.033794035219491474,0.801885011513664,0.1648215354256432,0.5076345161104735,0.4357126361856762,0.06416032838828876,0.09763798867242317,0.2622942688233658,0.8186334487137541,0.1814085446211549,0.4460759742400031,0.5310558022610171,0.8990888949013729,0.1566081788188816,0.2852167586261485,0.2785221577056321,0.4141601195624844,0.6732768843291685,0.5102881102404967,0.5361833011434336,0.5391205896339941,0.0001018992625651412,0.3542243192690538,0.33041454168521545,0.9238181314076381,0.277422029188565,0.8427714890999587,0.49009847756945457],\"flatshading\":true,\"contour\":{\"x\":{\"show\":true},\"y\":{\"show\":true},\"z\":{\"show\":true}}}];",
"            var layout = {};",
"            var config = {};",
"            Plotly.newPlot(\u00273fc0bb1f-eb25-4e71-bbfb-b1143f2cc872\u0027, data, layout, config);",
"",
"});",
"            };",
"            if ((typeof(requirejs) !==  typeof(Function)) || (typeof(requirejs.config) !== typeof(Function))) {",
"                var script = document.createElement(\"script\");",
"                script.setAttribute(\"src\", \"https://cdnjs.cloudflare.com/ajax/libs/require.js/2.3.6/require.min.js\");",
"                script.onload = function(){",
"                    renderPlotly_3fc0bb1feb254e71bbfbb1143f2cc872();",
"                };",
"                document.getElementsByTagName(\"head\")[0].appendChild(script);",
"            }",
"            else {",
"                renderPlotly_3fc0bb1feb254e71bbfbb1143f2cc872();",
"            }",
"",
"\u003c/script\u003e",
"",
""]
        },
           "execution_count": null,
           "metadata": {},
           "output_type": "execute_result"
          }], 
           "source": ["mesh3d\n"]
          }],
            "metadata": {
            "kernelspec": {"display_name": ".NET (F#)", "language": "F#", "name": ".net-fsharp"},
            "langauge_info": {
        "file_extension": ".fs",
        "mimetype": "text/x-fsharp",
        "name": "C#",
        "pygments_lexer": "fsharp",
        "version": "4.5"
        }
        },
            "nbformat": 4,
            "nbformat_minor": 1
        }
        

