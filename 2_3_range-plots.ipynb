
        {
            "cells": [
          {
           "cell_type": "code",
           "metadata": {},
            "execution_count": null, "outputs": [], 
           "source": ["#r \"nuget: Plotly.NET, 2.0.0-beta8\"\n",
"#r \"nuget: Plotly.NET.Interactive, 2.0.0-beta8\"\n"]
          }
,
          {
           "cell_type": "markdown",
           "metadata": {},
           
           "source": ["# Range plots\n",
"\n",
"[![Binder](https://mybinder.org/badge_logo.svg)](https://mybinder.org/v2/gh/plotly/Plotly.NET/gh-pages?filepath=2_3_range-plots.ipynb)\n",
"\n",
"*Summary:* This example shows how to create Range plot charts in F#.\n",
"\n",
"let\u0027s first create some data for the purpose of creating example charts:\n",
"\n"]
          }
,
          {
           "cell_type": "code",
           "metadata": {},
            "execution_count": 3, "outputs": [], 
           "source": ["open Plotly.NET \n",
"\n",
"let rnd = System.Random()\n",
"\n",
"let x  = [1.; 2.; 3.; 4.; 5.; 6.; 7.; 8.; 9.; 10.; ]\n",
"let y = [2.; 1.5; 5.; 1.5; 3.; 2.5; 2.5; 1.5; 3.5; 1.]\n",
"\n",
"let yUpper = y |\u003e List.map (fun v -\u003e v + rnd.NextDouble())\n",
"let yLower = y |\u003e List.map (fun v -\u003e v - rnd.NextDouble())\n"]
          }
,
          {
           "cell_type": "markdown",
           "metadata": {},
           
           "source": ["A range plot is commonly used to indicate some property of data that lies in a certain range around a central value,\n",
"for example the range of all predictions from different models, scattering around a central tendency.\n"]
          }
,
          {
           "cell_type": "code",
           "metadata": {},
            "execution_count": 4, "outputs": [], 
           "source": ["let range1 =\n",
"    Chart.Range(\n",
"        x,y,yUpper,yLower,\n",
"        StyleParam.Mode.Lines_Markers,\n",
"        Color=\"grey\",\n",
"        RangeColor=\"lightblue\")\n"]
          }
,
          {
           "cell_type": "code",
           "metadata": {},
            "execution_count": null, "outputs": [
          {
           "data": {
            "text/html": ["\u003cdiv id=\"269a78ee-82eb-4b9c-8d63-11ae72f27f51\" style=\"width: 600px; height: 600px;\"\u003e\u003c!-- Plotly chart will be drawn inside this DIV --\u003e\u003c/div\u003e",
"",
"\u003cscript type=\"text/javascript\"\u003e",
"",
"",
"            var renderPlotly_269a78ee82eb4b9c8d6311ae72f27f51 = function() {",
"            var fsharpPlotlyRequire = requirejs.config({context:\u0027fsharp-plotly\u0027,paths:{plotly:\u0027https://cdn.plot.ly/plotly-latest.min\u0027}}) || require;",
"            fsharpPlotlyRequire([\u0027plotly\u0027], function(Plotly) {",
"",
"",
"            var data = [{\"type\":\"scatter\",\"x\":[1.0,2.0,3.0,4.0,5.0,6.0,7.0,8.0,9.0,10.0],\"y\":[1.935134023863419,1.3455831482287417,4.186378089332198,0.600028845528154,2.91287325365137,2.4033284019228667,2.4077859618271638,1.1781088931849735,3.1656973928519045,0.4715406547633655],\"mode\":\"lines\",\"fillcolor\":\"lightblue\",\"showlegend\":false,\"line\":{\"width\":0},\"marker\":{\"color\":\"lightblue\"}},{\"type\":\"scatter\",\"x\":[1.0,2.0,3.0,4.0,5.0,6.0,7.0,8.0,9.0,10.0],\"y\":[2.0459940470969276,2.4156521954180916,5.008032678630218,1.8818168576722112,3.296043683446964,2.5473806206357574,2.835059583808789,2.11617530026295,4.48554571903569,1.8801331617311263],\"mode\":\"lines\",\"fill\":\"tonexty\",\"fillcolor\":\"lightblue\",\"showlegend\":false,\"line\":{\"width\":0},\"marker\":{\"color\":\"lightblue\"}},{\"type\":\"scatter\",\"x\":[1.0,2.0,3.0,4.0,5.0,6.0,7.0,8.0,9.0,10.0],\"y\":[2.0,1.5,5.0,1.5,3.0,2.5,2.5,1.5,3.5,1.0],\"mode\":\"lines+markers\",\"fillcolor\":\"grey\",\"line\":{\"width\":{},\"color\":\"grey\"},\"marker\":{\"color\":\"grey\"}}];",
"            var layout = {};",
"            var config = {};",
"            Plotly.newPlot(\u0027269a78ee-82eb-4b9c-8d63-11ae72f27f51\u0027, data, layout, config);",
"",
"});",
"            };",
"            if ((typeof(requirejs) !==  typeof(Function)) || (typeof(requirejs.config) !== typeof(Function))) {",
"                var script = document.createElement(\"script\");",
"                script.setAttribute(\"src\", \"https://cdnjs.cloudflare.com/ajax/libs/require.js/2.3.6/require.min.js\");",
"                script.onload = function(){",
"                    renderPlotly_269a78ee82eb4b9c8d6311ae72f27f51();",
"                };",
"                document.getElementsByTagName(\"head\")[0].appendChild(script);",
"            }",
"            else {",
"                renderPlotly_269a78ee82eb4b9c8d6311ae72f27f51();",
"            }",
"",
"\u003c/script\u003e",
"",
""]
        },
           "execution_count": null,
           "metadata": {},
           "output_type": "execute_result"
          }], 
           "source": ["range1\n"]
          }],
            "metadata": {
            "kernelspec": {"display_name": ".NET (F#)", "language": "F#", "name": ".net-fsharp"},
            "langauge_info": {
        "file_extension": ".fs",
        "mimetype": "text/x-fsharp",
        "name": "C#",
        "pygments_lexer": "fsharp",
        "version": "4.5"
        }
        },
            "nbformat": 4,
            "nbformat_minor": 1
        }
        

