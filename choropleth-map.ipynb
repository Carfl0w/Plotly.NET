
        {
            "cells": [
          {
           "cell_type": "code",
           "metadata": {},
            "execution_count": null, "outputs": [], 
           "source": ["#r \"nuget: Plotly.NET, 2.0.0-beta1\"\n",
"#r \"nuget: Plotly.NET.Interactive, 2.0.0-alpha5\"\n"]
          }
,
          {
           "cell_type": "markdown",
           "metadata": {},
           
           "source": ["# Choropleth maps\n",
"\n",
"[![Binder](https://mybinder.org/badge_logo.svg)](https://mybinder.org/v2/gh/plotly/Plotly.NET/gh-pages?filepath=choropleth-map.ipynb)\n",
"\n",
"*Summary:* This example shows how to create choropleth map in F#.\n",
"\n",
"let\u0027s first create some data for the purpose of creating example charts:\n",
"\n"]
          }
,
          {
           "cell_type": "code",
           "metadata": {},
            "execution_count": 3, "outputs": [], 
           "source": ["open Plotly.NET \n",
"\n",
"// Pure alcohol consumption among adults (age 15+) in 2010\n",
"let locations,z = \n",
"   [(\"Belarus\",17.5); (\"Moldova\",16.8);(\"Lithuania\",15.4);(\"Russia\",15.1);\n",
"    (\"Romania\",14.4);(\"Ukraine\",13.9);(\"Andorra\",13.8);(\"Hungary\",13.3);\n",
"    (\"Czech Republic\",13.);(\"Slovakia\",13.);(\"Portugal\",12.9);(\"Serbia\",12.6);\n",
"    (\"Grenada\",12.5);(\"Poland\",12.5);(\"Latvia\",12.3);(\"Finland\",12.3);\n",
"    (\"South Korea\",12.3);(\"France\",12.2);(\"Australia\",12.2);(\"Croatia\",12.2);\n",
"    (\"Ireland\",11.9);(\"Luxembourg\",11.9);(\"Germany\",11.8);(\"Slovenia\",11.6);\n",
"    (\"United Kingdom\",11.6);(\"Denmark\",11.4);(\"Bulgaria\",11.4);(\"Spain\",11.2);\n",
"    (\"Belgium\",11.);(\"South Africa\",11.);(\"New Zealand\",10.9);(\"Gabon\",10.9);\n",
"    (\"Namibia\",10.8);(\"Switzerland\",10.7);(\"Saint Lucia\",10.4);(\"Austria\",10.3);\n",
"    (\"Estonia\",10.3);(\"Greece\",10.3);(\"Kazakhstan\",10.3);(\"Canada\",10.2);\n",
"    (\"Nigeria\",10.1);(\"Netherlands\",9.9);(\"Uganda\",9.8);(\"Rwanda\",9.8);\n",
"    (\"Chile\",9.6);(\"Argentina\",9.3);(\"Burundi\",9.3);(\"United States\",9.2);\n",
"    (\"Cyprus\",9.2);(\"Sweden\",9.2);(\"Venezuela\",8.9);(\"Paraguay\",8.8);(\"Brazil\",8.7);\n",
"    (\"Sierra Leone\",8.7);(\"Montenegro\",8.7);(\"Belize\",8.5);(\"Cameroon\",8.4);\n",
"    (\"Botswana\",8.4);(\"Saint Kitts and Nevis\",8.2);(\"Guyana\",8.1);(\"Peru\",8.1);\n",
"    (\"Panama\",8.);(\"Niue\",8.);(\"Palau\",7.9);(\"Norway\",7.7);(\"Tanzania\",7.7);\n",
"    (\"Georgia\",7.7);(\"Uruguay\",7.6);(\"Angola\",7.5);(\"Laos\",7.3);(\"Japan\",7.2);\n",
"    (\"Mexico\",7.2);(\"Ecuador\",7.2);(\"Dominica\",7.1);(\"Iceland\",7.1);\n",
"    (\"Thailand\",7.1);(\"Bosnia and Herzegovina\",7.1);(\"Sao Tome and Principe\",7.1);\n",
"    (\"Malta\",7.);(\"Albania\",7.);(\"Bahamas\",6.9);(\"Dominican Republic\",6.9);\n",
"    (\"Mongolia\",6.9);(\"Cape Verde\",6.9);(\"Barbados\",6.8);(\"Burkina Faso\",6.8);\n",
"    (\"Italy\",6.7);(\"Trinidad and Tobago\",6.7);(\"China\",6.7);(\"Macedonia\",6.7);\n",
"    (\"Saint Vincent and the Grenadines\",6.6);(\"Equatorial Guinea\",6.6);\n",
"    (\"Suriname\",6.6);(\"Vietnam\",6.6);(\"Lesotho\",6.5);(\"Haiti\",6.4);\n",
"    (\"Cook Islands\",6.4);(\"Colombia\",6.2);(\"Ivory Coast\",6.);(\"Bolivia\",5.9);\n",
"    (\"Swaziland\",5.7);(\"Zimbabwe\",5.7);(\"Seychelles\",5.6);(\"Cambodia\",5.5);\n",
"    (\"Puerto Rico\",5.4);(\"Netherlands Antilles\",5.4);(\"Philippines\",5.4);\n",
"    (\"Costa Rica\",5.4);(\"Armenia\",5.3);(\"Cuba\",5.2);(\"Nicaragua\",5.);\n",
"    (\"Jamaica\",4.9);(\"Ghana\",4.8);(\"Liberia\",4.7);(\"Uzbekistan\",4.6);\n",
"    (\"Chad\",4.4);(\"United Arab Emirates\",4.3);(\"Kyrgyzstan\",4.3);(\"India\",4.3);\n",
"    (\"Turkmenistan\",4.3);(\"Kenya\",4.3);(\"Ethiopia\",4.2);(\"Honduras\",4.);\n",
"    (\"Guinea-Bissau\",4.);(\"Zambia\",4.);(\"Republic of the Congo\",3.9);(\"Guatemala\",3.8);\n",
"    (\"Central African Republic\",3.8);(\"North Korea\",3.7);(\"Sri Lanka\",3.7);\n",
"    (\"Mauritius\",3.6);(\"Samoa\",3.6);(\"Democratic Republic of the Congo\",3.6);\n",
"    (\"Nauru\",3.5);(\"Gambia\",3.4);(\"Federated States of Micronesia\",3.3);\n",
"    (\"El Salvador\",3.2);(\"Fiji\",3.);(\"Papua New Guinea\",3.);(\"Kiribati\",3.);\n",
"    (\"Tajikistan\",2.8);(\"Israel\",2.8);(\"Sudan\",2.7);(\"Malawi\",2.5);(\"Lebanon\",2.4);\n",
"    (\"Azerbaijan\",2.3);(\"Mozambique\",2.3);(\"Togo\",2.3);(\"Nepal\",2.2);(\"Brunei\",2.1);\n",
"    (\"Benin\",2.1);(\"Singapore\",2.);(\"Turkey\",2.);(\"Madagascar\",1.8);(\"Solomon Islands\",1.7);\n",
"    (\"Tonga\",1.6);(\"Tunisia\",1.5);(\"Tuvalu\",1.5);(\"Qatar\",1.5);(\"Vanuatu\",1.4);\n",
"    (\"Djibouti\",1.3);(\"Malaysia\",1.3);(\"Syria\",1.2);(\"Maldives\",1.2);(\"Mali\",1.1);\n",
"    (\"Eritrea\",1.1);(\"Algeria\",1.);(\"Iran\",1.);(\"Oman\",0.9);(\"Brunei\",0.9);\n",
"    (\"Morocco\",0.9);(\"Jordan\",0.7);(\"Bhutan\",0.7);(\"Guinea\",0.7);(\"Burma\",0.7);\n",
"    (\"Afghanistan\",0.7);(\"Senegal\",0.6);(\"Indonesia\",0.6);(\"Timor-Leste\",0.6);\n",
"    (\"Iraq\",0.5);(\"Somalia\",0.5);(\"Egypt\",0.4);(\"Niger\",0.3);(\"Yemen\",0.3);\n",
"    (\"Comoros\",0.2);(\"Saudi Arabia\",0.2);(\"Bangladesh\",0.2);(\"Kuwait\",0.1);\n",
"    (\"Libya\",0.1);(\"Mauritania\",0.1);(\"Pakistan\",0.1);]\n",
"    |\u003e List.unzip\n"]
          }
,
          {
           "cell_type": "markdown",
           "metadata": {},
           
           "source": ["Choropleth Maps display divided geographical areas or regions that are coloured, shaded or patterned in relation to \n",
"a data variable. This provides a way to visualise values over a geographical area, which can show variation or \n",
"patterns across the displayed location.\n"]
          }
,
          {
           "cell_type": "code",
           "metadata": {},
            "execution_count": 4, "outputs": [], 
           "source": ["let choroplethMap1 =\n",
"    Chart.ChoroplethMap(\n",
"        locations,z,\n",
"        Locationmode=StyleParam.LocationFormat.CountryNames\n",
"    )\n"]
          }
,
          {
           "cell_type": "code",
           "metadata": {},
            "execution_count": null, "outputs": [
          {
           "data": {
            "text/plain": ["No value returned by any evaluator"]
        },
           "execution_count": null,
           "metadata": {},
           "output_type": "execute_result"
          }], 
           "source": ["choroplethMap1\n"]
          }
,
          {
           "cell_type": "markdown",
           "metadata": {},
           
           "source": ["## Map styling\n",
"\n",
"you can access various map styles via `Chart.withMapStyle`, such as the projection type, lake/ocean color, and so on.\n"]
          }
,
          {
           "cell_type": "code",
           "metadata": {},
            "execution_count": 6, "outputs": [], 
           "source": ["let choroplethMap2 =\n",
"    Chart.ChoroplethMap(\n",
"        locations,z,\n",
"        Locationmode=StyleParam.LocationFormat.CountryNames\n",
"    )\n",
"    |\u003e Chart.withMapStyle(\n",
"        Projection=GeoProjection.init(projectionType=StyleParam.GeoProjectionType.Mollweide),\n",
"        ShowLakes=true,\n",
"        ShowOcean=true,\n",
"        OceanColor=\"lightblue\",\n",
"        ShowRivers=true)\n",
"    |\u003e Chart.withColorBarStyle (\"Alcohol consumption[l/y]\",Length=0.5)\n"]
          }
,
          {
           "cell_type": "code",
           "metadata": {},
            "execution_count": null, "outputs": [
          {
           "data": {
            "text/plain": ["No value returned by any evaluator"]
        },
           "execution_count": null,
           "metadata": {},
           "output_type": "execute_result"
          }], 
           "source": ["choroplethMap2\n"]
          }],
            "metadata": {
            "kernelspec": {"display_name": ".NET (F#)", "language": "F#", "name": ".net-fsharp"},
            "langauge_info": {
        "file_extension": ".fs",
        "mimetype": "text/x-fsharp",
        "name": "C#",
        "pygments_lexer": "fsharp",
        "version": "4.5"
        }
        },
            "nbformat": 4,
            "nbformat_minor": 1
        }
        

