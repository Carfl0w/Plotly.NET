
        {
            "cells": [
          {
           "cell_type": "code",
           "metadata": {},
            "execution_count": null, "outputs": [], 
           "source": ["#r \"nuget: Plotly.NET, 2.0.0-beta1\"\n",
"#r \"nuget: Plotly.NET.Interactive, 2.0.0-alpha5\"\n"]
          }
,
          {
           "cell_type": "markdown",
           "metadata": {},
           
           "source": ["# Sankey charts\n",
"\n",
"[![Binder](https://mybinder.org/badge_logo.svg)](https://mybinder.org/v2/gh/plotly/Plotly.NET/gh-pages?filepath=sankey.ipynb)\n",
"\n",
"*Summary:* This example shows how to create sankey charts in F#.\n",
"\n",
"Sankey charts are a visualization of multiple, linked graphs layed out linearly. \n",
"These are usually used to depict flow between nodes or stations.\n",
"To create Sankey, a set of nodes and links between them are required. \n",
"These are created using the provided Node and Link structures.\n"]
          }
,
          {
           "cell_type": "code",
           "metadata": {},
            "execution_count": 3, "outputs": [], 
           "source": ["open Plotly.NET \n",
"\n",
"// create nodes\n",
"let n1 = Node.Create(\"a\",color=\"Black\")\n",
"let n2 = Node.Create(\"b\",color=\"Red\")\n",
"let n3 = Node.Create(\"c\",color=\"Purple\")\n",
"let n4 = Node.Create(\"d\",color=\"Green\")\n",
"let n5 = Node.Create(\"e\",color=\"Orange\")\n",
"\n",
"// create links between nodes\n",
"let link1 = Link.Create(n1,n2,value=1.0)\n",
"let link2 = Link.Create(n2,n3,value=2.0)\n",
"let link3 = Link.Create(n1,n5,value=1.3)\n",
"let link4 = Link.Create(n4,n5,value=1.5)\n",
"let link5 = Link.Create(n3,n5,value=0.5)\n",
"\n",
"let sankey1 = \n",
"    Chart.Sankey(\n",
"        [n1;n2;n3;n4;n5],\n",
"        [link1;link2;link3;link4;link5]\n",
"    )\n",
"    |\u003e Chart.withTitle \"Sankey Sample\"\n"]
          }
,
          {
           "cell_type": "code",
           "metadata": {},
            "execution_count": null, "outputs": [
          {
           "data": {
            "text/plain": ["No value returned by any evaluator"]
        },
           "execution_count": null,
           "metadata": {},
           "output_type": "execute_result"
          }], 
           "source": ["sankey1\n"]
          }],
            "metadata": {
            "kernelspec": {"display_name": ".NET (F#)", "language": "F#", "name": ".net-fsharp"},
            "langauge_info": {
        "file_extension": ".fs",
        "mimetype": "text/x-fsharp",
        "name": "C#",
        "pygments_lexer": "fsharp",
        "version": "4.5"
        }
        },
            "nbformat": 4,
            "nbformat_minor": 1
        }
        

