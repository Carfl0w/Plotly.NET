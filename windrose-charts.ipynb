
        {
            "cells": [
          {
           "cell_type": "code",
           "metadata": {},
            "execution_count": null, "outputs": [], 
           "source": ["#r \"nuget: Plotly.NET, 2.0.0-beta1\"\n",
"#r \"nuget: Plotly.NET.Interactive, 2.0.0-alpha5\"\n"]
          }
,
          {
           "cell_type": "markdown",
           "metadata": {},
           
           "source": ["# Wind rose charts\n",
"\n",
"[![Binder](https://mybinder.org/badge_logo.svg)](https://mybinder.org/v2/gh/plotly/Plotly.NET/gh-pages?filepath=windrose-charts.ipynb)\n",
"\n",
"*Summary:* This example shows how to create wind rose charts in F#.\n",
"\n",
"let\u0027s first create some data for the purpose of creating example charts:\n",
"\n"]
          }
,
          {
           "cell_type": "code",
           "metadata": {},
            "execution_count": 3, "outputs": [], 
           "source": ["open Plotly.NET \n",
"  \n",
"let r    = [77.5; 72.5; 70.0; 45.0; 22.5; 42.5; 40.0; 62.5]\n",
"let r\u0027   = [57.5; 50.0; 45.0; 35.0; 20.0; 22.5; 37.5; 55.0]\n",
"let r\u0027\u0027  = [40.0; 30.0; 30.0; 35.0; 7.5; 7.5; 32.5; 40.0]\n",
"let r\u0027\u0027\u0027 = [20.0; 7.5; 15.0; 22.5; 2.5; 2.5; 12.5; 22.5]\n",
"\n",
"let t = [\"North\"; \"N-E\"; \"East\"; \"S-E\"; \"South\"; \"S-W\"; \"West\"; \"N-W\"]\n"]
          }
,
          {
           "cell_type": "markdown",
           "metadata": {},
           
           "source": ["A wind rose is a graphic tool used by meteorologists to give a succinct view \n",
"of how wind speed and direction are typically distributed at a particular location.\n"]
          }
,
          {
           "cell_type": "code",
           "metadata": {},
            "execution_count": 4, "outputs": [], 
           "source": ["let windrose1 =\n",
"    [\n",
"        Chart.WindRose (r   ,t,Name=\"11-14 m/s\")\n",
"        Chart.WindRose (r\u0027  ,t,Name=\"8-11 m/s\")\n",
"        Chart.WindRose (r\u0027\u0027 ,t,Name=\"5-8 m/s\")\n",
"        Chart.WindRose (r\u0027\u0027\u0027,t,Name=\"\u003c 5 m/s\")\n",
"    ]\n",
"    |\u003e Chart.Combine\n"]
          }
,
          {
           "cell_type": "code",
           "metadata": {},
            "execution_count": null, "outputs": [
          {
           "data": {
            "text/plain": ["No value returned by any evaluator"]
        },
           "execution_count": null,
           "metadata": {},
           "output_type": "execute_result"
          }], 
           "source": ["windrose1\n"]
          }],
            "metadata": {
            "kernelspec": {"display_name": ".NET (F#)", "language": "F#", "name": ".net-fsharp"},
            "langauge_info": {
        "file_extension": ".fs",
        "mimetype": "text/x-fsharp",
        "name": "C#",
        "pygments_lexer": "fsharp",
        "version": "4.5"
        }
        },
            "nbformat": 4,
            "nbformat_minor": 1
        }
        

