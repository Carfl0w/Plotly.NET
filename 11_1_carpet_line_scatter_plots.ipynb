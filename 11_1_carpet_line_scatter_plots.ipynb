
        {
            "cells": [
          {
           "cell_type": "markdown",
           "metadata": {},
           
           "source": ["// can\u0027t yet format YamlFrontmatter ([\"title: Carpet line and scatter plots\"; \"category: Carpet Plots\"; \"categoryindex: 12\"; \"index: 1\"], Some { StartLine = 2 StartColumn = 0 EndLine = 6 EndColumn = 8 }) to pynb markdown\n",
"\n"]
          }
,
          {
           "cell_type": "code",
           "metadata": {},
            "execution_count": null, "outputs": [], 
           "source": ["#r \"nuget: Plotly.NET, 2.0.0-preview.9\"\n",
"#r \"nuget: Plotly.NET.Interactive, 2.0.0-preview.9\"\n"]
          }
,
          {
           "cell_type": "markdown",
           "metadata": {},
           
           "source": ["# Carpet charts\n",
"\n",
"[![Binder](https://plotly.net/img/badge-binder.svg)](https://mybinder.org/v2/gh/plotly/Plotly.NET/gh-pages?filepath=11_1_carpet_line_scatter_plots.ipynb)\u0026emsp;\n",
"[![Script](https://plotly.net/img/badge-script.svg)](https://plotly.net/11_1_carpet_line_scatter_plots.fsx)\u0026emsp;\n",
"[![Notebook](https://plotly.net/img/badge-notebook.svg)](https://plotly.net/11_1_carpet_line_scatter_plots.ipynb)\n",
"\n",
"*Summary:* This example shows how to create carpet charts in F#.\n",
"\n",
"let\u0027s first create some data for the purpose of creating example charts:\n",
"\n",
"\n"]
          }
,
          {
           "cell_type": "code",
           "metadata": {},
            "execution_count": 3, "outputs": [], 
           "source": ["open Plotly.NET \n",
"  \n",
"//carpet coordinate data\n",
"let a = [4.; 4.; 4.; 4.5; 4.5; 4.5; 5.; 5.; 5.; 6.; 6.; 6.]\n",
"let b = [1.; 2.; 3.; 1.; 2.; 3.; 1.; 2.; 3.; 1.; 2.; 3.]\n",
"let y = [2.; 3.5; 4.; 3.; 4.5; 5.; 5.5; 6.5; 7.5; 8.; 8.5; 10.]\n",
"\n",
"//carpet plot data\n",
"let aData = [4.; 5.; 5.; 6.]\n",
"let bData = [1.; 1.; 2.; 3.]\n",
"let sizes = [5; 10; 15; 20]\n"]
          }
,
          {
           "cell_type": "markdown",
           "metadata": {},
           
           "source": ["A carpet plot is any of a few different specific types of plot. The more common plot referred to as a carpet plot is one that illustrates the interaction between two or more independent variables and one or more dependent variables in a two-dimensional plot. \n",
"\n",
"Besides the ability to incorporate more variables, another feature that distinguishes a carpet plot from an equivalent contour plot or 3D surface plot is that a carpet plot can be used to more accurately interpolate data points. \n",
"\n",
"A conventional carpet plot can capture the interaction of up to three independent variables and three dependent variables and still be easily read and interpolated.\n",
"\n",
"Carpet plots have common applications within areas such as material science for showing elastic modulus in laminates,and within aeronautics.\n",
"\n",
"A carpet plot with two independent variables and one dependent variable is often called a cheater plot for the use of a phantom \"cheater\" axis instead of the horizontal axis. \n",
"\n",
"(https://en.wikipedia.org/wiki/Carpet_plot)\n",
"\n",
"## Carpet Traces\n",
"\n",
"In plotly, carpet plots are different to all other trace types in the regard that the coordinate system of the carpet is not set on the layout, but is itself a trace.\n",
"\n",
"Use `Chart.Carpet` to define these `coordinate traces`. All carpets have a mandatory identifier, which will be used by other traces to define which carpet coordinate system to use.\n",
"\n"]
          }
,
          {
           "cell_type": "code",
           "metadata": {},
            "execution_count": 4, "outputs": [], 
           "source": ["let carpet = Chart.Carpet(\"carpetIdentifier\", A = a, B = b, Y = y)\n"]
          }
,
          {
           "cell_type": "code",
           "metadata": {},
            "execution_count": null, "outputs": [
          {
           "data": {
            "text/html": ["\u003cdiv id=\"e7213541-f0bb-4e48-a369-262bf2144782\" style=\"width: 600px; height: 600px;\"\u003e\u003c!-- Plotly chart will be drawn inside this DIV --\u003e\u003c/div\u003e",
"\u003cscript type=\"text/javascript\"\u003e",
"",
"            var renderPlotly_e7213541f0bb4e48a369262bf2144782 = function() {",
"            var fsharpPlotlyRequire = requirejs.config({context:\u0027fsharp-plotly\u0027,paths:{plotly:\u0027https://cdn.plot.ly/plotly-2.4.2.min\u0027}}) || require;",
"            fsharpPlotlyRequire([\u0027plotly\u0027], function(Plotly) {",
"",
"            var data = [{\"type\":\"carpet\",\"y\":[2.0,3.5,4.0,3.0,4.5,5.0,5.5,6.5,7.5,8.0,8.5,10.0],\"a\":[4.0,4.0,4.0,4.5,4.5,4.5,5.0,5.0,5.0,6.0,6.0,6.0],\"b\":[1.0,2.0,3.0,1.0,2.0,3.0,1.0,2.0,3.0,1.0,2.0,3.0],\"carpet\":\"carpetIdentifier\"}];",
"            var layout = {};",
"            var config = {};",
"            Plotly.newPlot(\u0027e7213541-f0bb-4e48-a369-262bf2144782\u0027, data, layout, config);",
"});",
"            };",
"            if ((typeof(requirejs) !==  typeof(Function)) || (typeof(requirejs.config) !== typeof(Function))) {",
"                var script = document.createElement(\"script\");",
"                script.setAttribute(\"src\", \"https://cdnjs.cloudflare.com/ajax/libs/require.js/2.3.6/require.min.js\");",
"                script.onload = function(){",
"                    renderPlotly_e7213541f0bb4e48a369262bf2144782();",
"                };",
"                document.getElementsByTagName(\"head\")[0].appendChild(script);",
"            }",
"            else {",
"                renderPlotly_e7213541f0bb4e48a369262bf2144782();",
"            }",
"\u003c/script\u003e",
""]
        },
           "execution_count": null,
           "metadata": {},
           "output_type": "execute_result"
          }], 
           "source": ["carpet\n"]
          }
,
          {
           "cell_type": "markdown",
           "metadata": {},
           
           "source": ["## Carpet point charts\n",
"\n",
"use `Chart.PointCarpet` to create a point plot on the referenced carpet coordinate system:\n",
"\n"]
          }
,
          {
           "cell_type": "code",
           "metadata": {},
            "execution_count": 6, "outputs": [], 
           "source": ["let carpetPoint = \n",
"    [\n",
"        carpet\n",
"        Chart.PointCarpet(aData,bData,\"carpetIdentifier\", Name = \"Point\")\n",
"    ]\n",
"    |\u003e Chart.combine\n"]
          }
,
          {
           "cell_type": "code",
           "metadata": {},
            "execution_count": null, "outputs": [
          {
           "data": {
            "text/html": ["\u003cdiv id=\"aff0958f-eba2-4900-a260-2e0af798344e\" style=\"width: 600px; height: 600px;\"\u003e\u003c!-- Plotly chart will be drawn inside this DIV --\u003e\u003c/div\u003e",
"\u003cscript type=\"text/javascript\"\u003e",
"",
"            var renderPlotly_aff0958feba24900a2602e0af798344e = function() {",
"            var fsharpPlotlyRequire = requirejs.config({context:\u0027fsharp-plotly\u0027,paths:{plotly:\u0027https://cdn.plot.ly/plotly-2.4.2.min\u0027}}) || require;",
"            fsharpPlotlyRequire([\u0027plotly\u0027], function(Plotly) {",
"",
"            var data = [{\"type\":\"carpet\",\"y\":[2.0,3.5,4.0,3.0,4.5,5.0,5.5,6.5,7.5,8.0,8.5,10.0],\"a\":[4.0,4.0,4.0,4.5,4.5,4.5,5.0,5.0,5.0,6.0,6.0,6.0],\"b\":[1.0,2.0,3.0,1.0,2.0,3.0,1.0,2.0,3.0,1.0,2.0,3.0],\"carpet\":\"carpetIdentifier\"},{\"type\":\"scattercarpet\",\"name\":\"Point\",\"mode\":\"markers\",\"a\":[4.0,5.0,5.0,6.0],\"b\":[1.0,1.0,2.0,3.0],\"carpet\":\"carpetIdentifier\",\"marker\":{}}];",
"            var layout = {};",
"            var config = {};",
"            Plotly.newPlot(\u0027aff0958f-eba2-4900-a260-2e0af798344e\u0027, data, layout, config);",
"});",
"            };",
"            if ((typeof(requirejs) !==  typeof(Function)) || (typeof(requirejs.config) !== typeof(Function))) {",
"                var script = document.createElement(\"script\");",
"                script.setAttribute(\"src\", \"https://cdnjs.cloudflare.com/ajax/libs/require.js/2.3.6/require.min.js\");",
"                script.onload = function(){",
"                    renderPlotly_aff0958feba24900a2602e0af798344e();",
"                };",
"                document.getElementsByTagName(\"head\")[0].appendChild(script);",
"            }",
"            else {",
"                renderPlotly_aff0958feba24900a2602e0af798344e();",
"            }",
"\u003c/script\u003e",
""]
        },
           "execution_count": null,
           "metadata": {},
           "output_type": "execute_result"
          }], 
           "source": ["carpetPoint\n"]
          }
,
          {
           "cell_type": "markdown",
           "metadata": {},
           
           "source": ["## Carpet line charts\n",
"\n",
"use `Chart.LineCarpet` to create a line plot on the referenced carpet coordinate system:\n",
"\n"]
          }
,
          {
           "cell_type": "code",
           "metadata": {},
            "execution_count": 8, "outputs": [], 
           "source": ["let carpetLine = \n",
"    [\n",
"        carpet\n",
"        Chart.LineCarpet(aData,bData,\"carpetIdentifier\",Name = \"Line\")\n",
"    ]\n",
"    |\u003e Chart.combine\n"]
          }
,
          {
           "cell_type": "code",
           "metadata": {},
            "execution_count": null, "outputs": [
          {
           "data": {
            "text/html": ["\u003cdiv id=\"f0f60778-e24e-4682-b47e-77cc3cac5ddf\" style=\"width: 600px; height: 600px;\"\u003e\u003c!-- Plotly chart will be drawn inside this DIV --\u003e\u003c/div\u003e",
"\u003cscript type=\"text/javascript\"\u003e",
"",
"            var renderPlotly_f0f60778e24e4682b47e77cc3cac5ddf = function() {",
"            var fsharpPlotlyRequire = requirejs.config({context:\u0027fsharp-plotly\u0027,paths:{plotly:\u0027https://cdn.plot.ly/plotly-2.4.2.min\u0027}}) || require;",
"            fsharpPlotlyRequire([\u0027plotly\u0027], function(Plotly) {",
"",
"            var data = [{\"type\":\"carpet\",\"y\":[2.0,3.5,4.0,3.0,4.5,5.0,5.5,6.5,7.5,8.0,8.5,10.0],\"a\":[4.0,4.0,4.0,4.5,4.5,4.5,5.0,5.0,5.0,6.0,6.0,6.0],\"b\":[1.0,2.0,3.0,1.0,2.0,3.0,1.0,2.0,3.0,1.0,2.0,3.0],\"carpet\":\"carpetIdentifier\"},{\"type\":\"scattercarpet\",\"name\":\"Line\",\"mode\":\"lines\",\"a\":[4.0,5.0,5.0,6.0],\"b\":[1.0,1.0,2.0,3.0],\"carpet\":\"carpetIdentifier\",\"marker\":{},\"line\":{}}];",
"            var layout = {};",
"            var config = {};",
"            Plotly.newPlot(\u0027f0f60778-e24e-4682-b47e-77cc3cac5ddf\u0027, data, layout, config);",
"});",
"            };",
"            if ((typeof(requirejs) !==  typeof(Function)) || (typeof(requirejs.config) !== typeof(Function))) {",
"                var script = document.createElement(\"script\");",
"                script.setAttribute(\"src\", \"https://cdnjs.cloudflare.com/ajax/libs/require.js/2.3.6/require.min.js\");",
"                script.onload = function(){",
"                    renderPlotly_f0f60778e24e4682b47e77cc3cac5ddf();",
"                };",
"                document.getElementsByTagName(\"head\")[0].appendChild(script);",
"            }",
"            else {",
"                renderPlotly_f0f60778e24e4682b47e77cc3cac5ddf();",
"            }",
"\u003c/script\u003e",
""]
        },
           "execution_count": null,
           "metadata": {},
           "output_type": "execute_result"
          }], 
           "source": ["carpetLine\n"]
          }
,
          {
           "cell_type": "markdown",
           "metadata": {},
           
           "source": ["## Carpet Spline charts\n",
"\n",
"use `Chart.LineCarpet` to create a spline plot on the referenced carpet coordinate system:\n",
"\n"]
          }
,
          {
           "cell_type": "code",
           "metadata": {},
            "execution_count": 10, "outputs": [], 
           "source": ["let carpetSpline = \n",
"    [\n",
"        carpet\n",
"        Chart.SplineCarpet(aData,bData,\"carpetIdentifier\",Name = \"Spline\")\n",
"    ]\n",
"    |\u003e Chart.combine\n"]
          }
,
          {
           "cell_type": "code",
           "metadata": {},
            "execution_count": null, "outputs": [
          {
           "data": {
            "text/html": ["\u003cdiv id=\"25bf3fc2-af70-4168-b6b1-dff39e0b1688\" style=\"width: 600px; height: 600px;\"\u003e\u003c!-- Plotly chart will be drawn inside this DIV --\u003e\u003c/div\u003e",
"\u003cscript type=\"text/javascript\"\u003e",
"",
"            var renderPlotly_25bf3fc2af704168b6b1dff39e0b1688 = function() {",
"            var fsharpPlotlyRequire = requirejs.config({context:\u0027fsharp-plotly\u0027,paths:{plotly:\u0027https://cdn.plot.ly/plotly-2.4.2.min\u0027}}) || require;",
"            fsharpPlotlyRequire([\u0027plotly\u0027], function(Plotly) {",
"",
"            var data = [{\"type\":\"carpet\",\"y\":[2.0,3.5,4.0,3.0,4.5,5.0,5.5,6.5,7.5,8.0,8.5,10.0],\"a\":[4.0,4.0,4.0,4.5,4.5,4.5,5.0,5.0,5.0,6.0,6.0,6.0],\"b\":[1.0,2.0,3.0,1.0,2.0,3.0,1.0,2.0,3.0,1.0,2.0,3.0],\"carpet\":\"carpetIdentifier\"},{\"type\":\"scattercarpet\",\"name\":\"Spline\",\"mode\":\"lines\",\"a\":[4.0,5.0,5.0,6.0],\"b\":[1.0,1.0,2.0,3.0],\"carpet\":\"carpetIdentifier\",\"marker\":{},\"line\":{\"shape\":\"spline\"}}];",
"            var layout = {};",
"            var config = {};",
"            Plotly.newPlot(\u002725bf3fc2-af70-4168-b6b1-dff39e0b1688\u0027, data, layout, config);",
"});",
"            };",
"            if ((typeof(requirejs) !==  typeof(Function)) || (typeof(requirejs.config) !== typeof(Function))) {",
"                var script = document.createElement(\"script\");",
"                script.setAttribute(\"src\", \"https://cdnjs.cloudflare.com/ajax/libs/require.js/2.3.6/require.min.js\");",
"                script.onload = function(){",
"                    renderPlotly_25bf3fc2af704168b6b1dff39e0b1688();",
"                };",
"                document.getElementsByTagName(\"head\")[0].appendChild(script);",
"            }",
"            else {",
"                renderPlotly_25bf3fc2af704168b6b1dff39e0b1688();",
"            }",
"\u003c/script\u003e",
""]
        },
           "execution_count": null,
           "metadata": {},
           "output_type": "execute_result"
          }], 
           "source": ["carpetSpline\n"]
          }
,
          {
           "cell_type": "markdown",
           "metadata": {},
           
           "source": ["## Carpet bubble charts\n",
"\n",
"use `Chart.LineCarpet` to create a bubble plot on the referenced carpet coordinate system:\n",
"\n"]
          }
,
          {
           "cell_type": "code",
           "metadata": {},
            "execution_count": 12, "outputs": [], 
           "source": ["let carpetBubble = \n",
"    [\n",
"        carpet\n",
"        Chart.BubbleCarpet((Seq.zip3 aData bData sizes),\"carpetIdentifier\",Name = \"Bubble\")\n",
"    ]\n",
"    |\u003e Chart.combine\n"]
          }
,
          {
           "cell_type": "code",
           "metadata": {},
            "execution_count": null, "outputs": [
          {
           "data": {
            "text/html": ["\u003cdiv id=\"c5086939-5c11-4685-a860-e66e82163bb9\" style=\"width: 600px; height: 600px;\"\u003e\u003c!-- Plotly chart will be drawn inside this DIV --\u003e\u003c/div\u003e",
"\u003cscript type=\"text/javascript\"\u003e",
"",
"            var renderPlotly_c50869395c114685a860e66e82163bb9 = function() {",
"            var fsharpPlotlyRequire = requirejs.config({context:\u0027fsharp-plotly\u0027,paths:{plotly:\u0027https://cdn.plot.ly/plotly-2.4.2.min\u0027}}) || require;",
"            fsharpPlotlyRequire([\u0027plotly\u0027], function(Plotly) {",
"",
"            var data = [{\"type\":\"carpet\",\"y\":[2.0,3.5,4.0,3.0,4.5,5.0,5.5,6.5,7.5,8.0,8.5,10.0],\"a\":[4.0,4.0,4.0,4.5,4.5,4.5,5.0,5.0,5.0,6.0,6.0,6.0],\"b\":[1.0,2.0,3.0,1.0,2.0,3.0,1.0,2.0,3.0,1.0,2.0,3.0],\"carpet\":\"carpetIdentifier\"},{\"type\":\"scattercarpet\",\"name\":\"Bubble\",\"mode\":\"markers\",\"a\":[4.0,5.0,5.0,6.0],\"b\":[1.0,1.0,2.0,3.0],\"carpet\":\"carpetIdentifier\",\"marker\":{\"size\":[5,10,15,20]}}];",
"            var layout = {};",
"            var config = {};",
"            Plotly.newPlot(\u0027c5086939-5c11-4685-a860-e66e82163bb9\u0027, data, layout, config);",
"});",
"            };",
"            if ((typeof(requirejs) !==  typeof(Function)) || (typeof(requirejs.config) !== typeof(Function))) {",
"                var script = document.createElement(\"script\");",
"                script.setAttribute(\"src\", \"https://cdnjs.cloudflare.com/ajax/libs/require.js/2.3.6/require.min.js\");",
"                script.onload = function(){",
"                    renderPlotly_c50869395c114685a860e66e82163bb9();",
"                };",
"                document.getElementsByTagName(\"head\")[0].appendChild(script);",
"            }",
"            else {",
"                renderPlotly_c50869395c114685a860e66e82163bb9();",
"            }",
"\u003c/script\u003e",
""]
        },
           "execution_count": null,
           "metadata": {},
           "output_type": "execute_result"
          }], 
           "source": ["carpetBubble\n"]
          }],
            "metadata": {
            "kernelspec": {"display_name": ".NET (F#)", "language": "F#", "name": ".net-fsharp"},
            "langauge_info": {
        "file_extension": ".fs",
        "mimetype": "text/x-fsharp",
        "name": "C#",
        "pygments_lexer": "fsharp",
        "version": "4.5"
        }
        },
            "nbformat": 4,
            "nbformat_minor": 1
        }
        

