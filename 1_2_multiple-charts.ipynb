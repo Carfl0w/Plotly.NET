
        {
            "cells": [
          {
           "cell_type": "markdown",
           "metadata": {},
           
           "source": ["// can\u0027t yet format YamlFrontmatter ([\"title: Multicharts and subplots\"; \"category: Chart Layout\"; \"categoryindex: 2\"; \"index: 3\"], Some { StartLine = 2 StartColumn = 0 EndLine = 6 EndColumn = 8 }) to pynb markdown\n",
"\n"]
          }
,
          {
           "cell_type": "code",
           "metadata": {},
            "execution_count": null, "outputs": [], 
           "source": ["#r \"nuget: Plotly.NET, 2.0.0-preview.7\"\n",
"#r \"nuget: Plotly.NET.Interactive, 2.0.0-preview.7\"\n"]
          }
,
          {
           "cell_type": "markdown",
           "metadata": {},
           
           "source": ["# Multicharts and subplots\n",
"\n",
"[![Binder](https://plotly.net/img/badge-binder.svg)](https://mybinder.org/v2/gh/plotly/Plotly.NET/gh-pages?filepath=1_2_multiple-charts.ipynb)\u0026emsp;\n",
"[![Script](https://plotly.net/img/badge-script.svg)](https://plotly.net/1_2_multiple-charts.fsx)\u0026emsp;\n",
"[![Notebook](https://plotly.net/img/badge-notebook.svg)](https://plotly.net/1_2_multiple-charts.ipynb)\n",
"\n",
"*Summary:* This example shows how to create charts with multiple subplots in F#.\n",
"\n",
"let\u0027s first create some data for the purpose of creating example charts:\n",
"\n"]
          }
,
          {
           "cell_type": "code",
           "metadata": {},
            "execution_count": 3, "outputs": [], 
           "source": ["open Plotly.NET \n",
"  \n",
"let x = [1.; 2.; 3.; 4.; 5.; 6.; 7.; 8.; 9.; 10.; ]\n",
"let y = [2.; 1.5; 5.; 1.5; 3.; 2.5; 2.5; 1.5; 3.5; 1.]\n"]
          }
,
          {
           "cell_type": "markdown",
           "metadata": {},
           
           "source": ["## Combining charts\n",
"\n",
"`Chart.Combine` takes a sequence of charts, and attempts to combine their layouts to \n",
"produce a composite chart with one layout containing all traces of the input:\n",
"\n"]
          }
,
          {
           "cell_type": "code",
           "metadata": {},
            "execution_count": 4, "outputs": [
          {
           "data": {
            "text/html": ["\u003cdiv id=\"f9eba334-9a39-4479-b1a9-0e1256e14d44\" style=\"width: 600px; height: 600px;\"\u003e\u003c!-- Plotly chart will be drawn inside this DIV --\u003e\u003c/div\u003e",
"",
"\u003cscript type=\"text/javascript\"\u003e",
"",
"",
"            var renderPlotly_f9eba3349a394479b1a90e1256e14d44 = function() {",
"            var fsharpPlotlyRequire = requirejs.config({context:\u0027fsharp-plotly\u0027,paths:{plotly:\u0027https://cdn.plot.ly/plotly-latest.min\u0027}}) || require;",
"            fsharpPlotlyRequire([\u0027plotly\u0027], function(Plotly) {",
"",
"",
"            var data = [{\"type\":\"scatter\",\"x\":[1.0,2.0,3.0,4.0,5.0,6.0,7.0,8.0,9.0,10.0],\"y\":[2.0,1.5,5.0,1.5,3.0,2.5,2.5,1.5,3.5,1.0],\"mode\":\"lines\",\"line\":{},\"name\":\"first\",\"marker\":{}},{\"type\":\"scatter\",\"x\":[2.0,1.5,5.0,1.5,3.0,2.5,2.5,1.5,3.5,1.0],\"y\":[1.0,2.0,3.0,4.0,5.0,6.0,7.0,8.0,9.0,10.0],\"mode\":\"lines\",\"line\":{},\"name\":\"second\",\"marker\":{}}];",
"            var layout = {};",
"            var config = {};",
"            Plotly.newPlot(\u0027f9eba334-9a39-4479-b1a9-0e1256e14d44\u0027, data, layout, config);",
"",
"});",
"            };",
"            if ((typeof(requirejs) !==  typeof(Function)) || (typeof(requirejs.config) !== typeof(Function))) {",
"                var script = document.createElement(\"script\");",
"                script.setAttribute(\"src\", \"https://cdnjs.cloudflare.com/ajax/libs/require.js/2.3.6/require.min.js\");",
"                script.onload = function(){",
"                    renderPlotly_f9eba3349a394479b1a90e1256e14d44();",
"                };",
"                document.getElementsByTagName(\"head\")[0].appendChild(script);",
"            }",
"            else {",
"                renderPlotly_f9eba3349a394479b1a90e1256e14d44();",
"            }",
"",
"\u003c/script\u003e",
"",
""]
        },
           "execution_count": 4,
           "metadata": {},
           "output_type": "execute_result"
          }], 
           "source": ["let combinedChart = \n",
"    [\n",
"        Chart.Line(x,y,Name=\"first\")\n",
"        Chart.Line(y,x,Name=\"second\")\n",
"    ]\n",
"    |\u003e Chart.combine\n",
"\n",
"combinedChart\n",
"#endif // end cell with chart value in a notebook context\n"]
          }
,
          {
           "cell_type": "markdown",
           "metadata": {},
           
           "source": ["## Chart subplot grids\n",
"\n",
"### Chart.Grid\n",
"\n",
"`Chart.Grid` creates a subplot grid. There are two overloads:\n",
"\n",
"You can either use Chart.Grid with a 1 dimensional sequence of Charts and specify the amount of rows and columns:\n",
"\n"]
          }
,
          {
           "cell_type": "code",
           "metadata": {},
            "execution_count": 6, "outputs": [], 
           "source": ["//simple 2x2 subplot grid\n",
"let grid = \n",
"    [\n",
"        Chart.Point(x,y,Name=\"1,1\")\n",
"        |\u003e Chart.withXAxisStyle \"x1\"\n",
"        |\u003e Chart.withYAxisStyle \"y1\"    \n",
"        Chart.Line(x,y,Name=\"1,2\")\n",
"        |\u003e Chart.withXAxisStyle \"x2\"\n",
"        |\u003e Chart.withYAxisStyle \"y2\"\n",
"        Chart.Spline(x,y,Name=\"2,1\")\n",
"        |\u003e Chart.withXAxisStyle \"x3\"\n",
"        |\u003e Chart.withYAxisStyle \"y3\"    \n",
"        Chart.Point(x,y,Name=\"2,2\")\n",
"        |\u003e Chart.withXAxisStyle \"x4\"\n",
"        |\u003e Chart.withYAxisStyle \"y4\"\n",
"    ]\n",
"    |\u003e Chart.Grid(2,2)\n"]
          }
,
          {
           "cell_type": "code",
           "metadata": {},
            "execution_count": null, "outputs": [
          {
           "data": {
            "text/html": ["\u003cdiv id=\"564a6987-dda8-4947-b2dd-6dc8017b3052\" style=\"width: 600px; height: 600px;\"\u003e\u003c!-- Plotly chart will be drawn inside this DIV --\u003e\u003c/div\u003e",
"",
"\u003cscript type=\"text/javascript\"\u003e",
"",
"",
"            var renderPlotly_564a6987dda84947b2dd6dc8017b3052 = function() {",
"            var fsharpPlotlyRequire = requirejs.config({context:\u0027fsharp-plotly\u0027,paths:{plotly:\u0027https://cdn.plot.ly/plotly-latest.min\u0027}}) || require;",
"            fsharpPlotlyRequire([\u0027plotly\u0027], function(Plotly) {",
"",
"",
"            var data = [{\"type\":\"scatter\",\"x\":[1.0,2.0,3.0,4.0,5.0,6.0,7.0,8.0,9.0,10.0],\"y\":[2.0,1.5,5.0,1.5,3.0,2.5,2.5,1.5,3.5,1.0],\"mode\":\"markers\",\"name\":\"1,1\",\"marker\":{},\"xaxis\":\"x\",\"yaxis\":\"y\"},{\"type\":\"scatter\",\"x\":[1.0,2.0,3.0,4.0,5.0,6.0,7.0,8.0,9.0,10.0],\"y\":[2.0,1.5,5.0,1.5,3.0,2.5,2.5,1.5,3.5,1.0],\"mode\":\"lines\",\"line\":{},\"name\":\"1,2\",\"marker\":{},\"xaxis\":\"x2\",\"yaxis\":\"y2\"},{\"type\":\"scatter\",\"x\":[1.0,2.0,3.0,4.0,5.0,6.0,7.0,8.0,9.0,10.0],\"y\":[2.0,1.5,5.0,1.5,3.0,2.5,2.5,1.5,3.5,1.0],\"mode\":\"lines\",\"name\":\"2,1\",\"line\":{\"shape\":\"spline\"},\"marker\":{},\"xaxis\":\"x3\",\"yaxis\":\"y3\"},{\"type\":\"scatter\",\"x\":[1.0,2.0,3.0,4.0,5.0,6.0,7.0,8.0,9.0,10.0],\"y\":[2.0,1.5,5.0,1.5,3.0,2.5,2.5,1.5,3.5,1.0],\"mode\":\"markers\",\"name\":\"2,2\",\"marker\":{},\"xaxis\":\"x4\",\"yaxis\":\"y4\"}];",
"            var layout = {\"xaxis\":{\"title\":{\"text\":\"x1\"}},\"yaxis\":{\"title\":{\"text\":\"y1\"}},\"xaxis2\":{\"title\":{\"text\":\"x2\"}},\"yaxis2\":{\"title\":{\"text\":\"y2\"}},\"xaxis3\":{\"title\":{\"text\":\"x3\"}},\"yaxis3\":{\"title\":{\"text\":\"y3\"}},\"xaxis4\":{\"title\":{\"text\":\"x4\"}},\"yaxis4\":{\"title\":{\"text\":\"y4\"}},\"grid\":{\"rows\":2,\"columns\":2,\"pattern\":\"independent\"}};",
"            var config = {};",
"            Plotly.newPlot(\u0027564a6987-dda8-4947-b2dd-6dc8017b3052\u0027, data, layout, config);",
"",
"});",
"            };",
"            if ((typeof(requirejs) !==  typeof(Function)) || (typeof(requirejs.config) !== typeof(Function))) {",
"                var script = document.createElement(\"script\");",
"                script.setAttribute(\"src\", \"https://cdnjs.cloudflare.com/ajax/libs/require.js/2.3.6/require.min.js\");",
"                script.onload = function(){",
"                    renderPlotly_564a6987dda84947b2dd6dc8017b3052();",
"                };",
"                document.getElementsByTagName(\"head\")[0].appendChild(script);",
"            }",
"            else {",
"                renderPlotly_564a6987dda84947b2dd6dc8017b3052();",
"            }",
"",
"\u003c/script\u003e",
"",
""]
        },
           "execution_count": null,
           "metadata": {},
           "output_type": "execute_result"
          }], 
           "source": ["grid\n"]
          }
,
          {
           "cell_type": "markdown",
           "metadata": {},
           
           "source": ["or provide a 2-dimensional Chart sequence as input, the dimensions of the input will then be used to set the dimensions of the grid:\n"]
          }
,
          {
           "cell_type": "code",
           "metadata": {},
            "execution_count": 8, "outputs": [], 
           "source": ["//simple 2x2 subplot grid using a 2x2 2D chart sequence as input\n",
"let grid2 = \n",
"    [\n",
"        [\n",
"            Chart.Point(x,y,Name=\"1,1\")\n",
"            |\u003e Chart.withXAxisStyle \"x1\"\n",
"            |\u003e Chart.withYAxisStyle \"y1\"    \n",
"            Chart.Line(x,y,Name=\"1,2\")\n",
"            |\u003e Chart.withXAxisStyle \"x2\"\n",
"            |\u003e Chart.withYAxisStyle \"y2\"\n",
"        ]\n",
"        [\n",
"            Chart.Spline(x,y,Name=\"2,1\")\n",
"            |\u003e Chart.withXAxisStyle \"x3\"\n",
"            |\u003e Chart.withYAxisStyle \"y3\"    \n",
"            Chart.Point(x,y,Name=\"2,2\")\n",
"            |\u003e Chart.withXAxisStyle \"x4\"\n",
"            |\u003e Chart.withYAxisStyle \"y4\"\n",
"        \n",
"        ]\n",
"    ]\n",
"    |\u003e Chart.Grid()\n"]
          }
,
          {
           "cell_type": "code",
           "metadata": {},
            "execution_count": null, "outputs": [
          {
           "data": {
            "text/html": ["\u003cdiv id=\"81ad6ea5-ebc3-4811-8fcf-01eb1584ced9\" style=\"width: 600px; height: 600px;\"\u003e\u003c!-- Plotly chart will be drawn inside this DIV --\u003e\u003c/div\u003e",
"",
"\u003cscript type=\"text/javascript\"\u003e",
"",
"",
"            var renderPlotly_81ad6ea5ebc348118fcf01eb1584ced9 = function() {",
"            var fsharpPlotlyRequire = requirejs.config({context:\u0027fsharp-plotly\u0027,paths:{plotly:\u0027https://cdn.plot.ly/plotly-latest.min\u0027}}) || require;",
"            fsharpPlotlyRequire([\u0027plotly\u0027], function(Plotly) {",
"",
"",
"            var data = [{\"type\":\"scatter\",\"x\":[1.0,2.0,3.0,4.0,5.0,6.0,7.0,8.0,9.0,10.0],\"y\":[2.0,1.5,5.0,1.5,3.0,2.5,2.5,1.5,3.5,1.0],\"mode\":\"markers\",\"name\":\"1,1\",\"marker\":{},\"xaxis\":\"x\",\"yaxis\":\"y\"},{\"type\":\"scatter\",\"x\":[1.0,2.0,3.0,4.0,5.0,6.0,7.0,8.0,9.0,10.0],\"y\":[2.0,1.5,5.0,1.5,3.0,2.5,2.5,1.5,3.5,1.0],\"mode\":\"lines\",\"line\":{},\"name\":\"1,2\",\"marker\":{},\"xaxis\":\"x2\",\"yaxis\":\"y2\"},{\"type\":\"scatter\",\"x\":[1.0,2.0,3.0,4.0,5.0,6.0,7.0,8.0,9.0,10.0],\"y\":[2.0,1.5,5.0,1.5,3.0,2.5,2.5,1.5,3.5,1.0],\"mode\":\"lines\",\"name\":\"2,1\",\"line\":{\"shape\":\"spline\"},\"marker\":{},\"xaxis\":\"x3\",\"yaxis\":\"y3\"},{\"type\":\"scatter\",\"x\":[1.0,2.0,3.0,4.0,5.0,6.0,7.0,8.0,9.0,10.0],\"y\":[2.0,1.5,5.0,1.5,3.0,2.5,2.5,1.5,3.5,1.0],\"mode\":\"markers\",\"name\":\"2,2\",\"marker\":{},\"xaxis\":\"x4\",\"yaxis\":\"y4\"}];",
"            var layout = {\"xaxis\":{\"title\":{\"text\":\"x1\"}},\"yaxis\":{\"title\":{\"text\":\"y1\"}},\"xaxis2\":{\"title\":{\"text\":\"x2\"}},\"yaxis2\":{\"title\":{\"text\":\"y2\"}},\"xaxis3\":{\"title\":{\"text\":\"x3\"}},\"yaxis3\":{\"title\":{\"text\":\"y3\"}},\"xaxis4\":{\"title\":{\"text\":\"x4\"}},\"yaxis4\":{\"title\":{\"text\":\"y4\"}},\"grid\":{\"rows\":2,\"columns\":2,\"pattern\":\"independent\"}};",
"            var config = {};",
"            Plotly.newPlot(\u002781ad6ea5-ebc3-4811-8fcf-01eb1584ced9\u0027, data, layout, config);",
"",
"});",
"            };",
"            if ((typeof(requirejs) !==  typeof(Function)) || (typeof(requirejs.config) !== typeof(Function))) {",
"                var script = document.createElement(\"script\");",
"                script.setAttribute(\"src\", \"https://cdnjs.cloudflare.com/ajax/libs/require.js/2.3.6/require.min.js\");",
"                script.onload = function(){",
"                    renderPlotly_81ad6ea5ebc348118fcf01eb1584ced9();",
"                };",
"                document.getElementsByTagName(\"head\")[0].appendChild(script);",
"            }",
"            else {",
"                renderPlotly_81ad6ea5ebc348118fcf01eb1584ced9();",
"            }",
"",
"\u003c/script\u003e",
"",
""]
        },
           "execution_count": null,
           "metadata": {},
           "output_type": "execute_result"
          }], 
           "source": ["grid2\n"]
          }
,
          {
           "cell_type": "markdown",
           "metadata": {},
           
           "source": ["To leave cells of the grid empty, you have to fill it with dummy charts via `Chart.Invisible()`.\n",
"Pleas enote that when using a 2D sequence with unequal amounts of charts in the rows, the column amount will be set\n",
"to the row with the highest amount of charts, and the other rows will be filled by invisible charts to the right.\n"]
          }
,
          {
           "cell_type": "code",
           "metadata": {},
            "execution_count": 10, "outputs": [], 
           "source": ["//simple 2x2 subplot grid with an empty cell at position 1,2\n",
"let grid3 = \n",
"    [\n",
"        Chart.Point(x,y,Name=\"1,1\")\n",
"        |\u003e Chart.withXAxisStyle \"x1\"\n",
"        |\u003e Chart.withYAxisStyle \"y1\"    \n",
"\n",
"        Chart.Invisible()\n",
"\n",
"        Chart.Spline(x,y,Name=\"2,1\")\n",
"        |\u003e Chart.withXAxisStyle \"x3\"\n",
"        |\u003e Chart.withYAxisStyle \"y3\"    \n",
"\n",
"        Chart.Point(x,y,Name=\"2,2\")\n",
"        |\u003e Chart.withXAxisStyle \"x4\"\n",
"        |\u003e Chart.withYAxisStyle \"y4\"\n",
"    ]\n",
"    |\u003e Chart.Grid(2,2)\n"]
          }
,
          {
           "cell_type": "code",
           "metadata": {},
            "execution_count": null, "outputs": [
          {
           "data": {
            "text/html": ["\u003cdiv id=\"293ee46b-44b9-4b0f-a983-f6adc4acf73d\" style=\"width: 600px; height: 600px;\"\u003e\u003c!-- Plotly chart will be drawn inside this DIV --\u003e\u003c/div\u003e",
"",
"\u003cscript type=\"text/javascript\"\u003e",
"",
"",
"            var renderPlotly_293ee46b44b94b0fa983f6adc4acf73d = function() {",
"            var fsharpPlotlyRequire = requirejs.config({context:\u0027fsharp-plotly\u0027,paths:{plotly:\u0027https://cdn.plot.ly/plotly-latest.min\u0027}}) || require;",
"            fsharpPlotlyRequire([\u0027plotly\u0027], function(Plotly) {",
"",
"",
"            var data = [{\"type\":\"scatter\",\"x\":[1.0,2.0,3.0,4.0,5.0,6.0,7.0,8.0,9.0,10.0],\"y\":[2.0,1.5,5.0,1.5,3.0,2.5,2.5,1.5,3.5,1.0],\"mode\":\"markers\",\"name\":\"1,1\",\"marker\":{},\"xaxis\":\"x\",\"yaxis\":\"y\"},{\"type\":null,\"xaxis\":\"x2\",\"yaxis\":\"y2\"},{\"type\":\"scatter\",\"x\":[1.0,2.0,3.0,4.0,5.0,6.0,7.0,8.0,9.0,10.0],\"y\":[2.0,1.5,5.0,1.5,3.0,2.5,2.5,1.5,3.5,1.0],\"mode\":\"lines\",\"name\":\"2,1\",\"line\":{\"shape\":\"spline\"},\"marker\":{},\"xaxis\":\"x3\",\"yaxis\":\"y3\"},{\"type\":\"scatter\",\"x\":[1.0,2.0,3.0,4.0,5.0,6.0,7.0,8.0,9.0,10.0],\"y\":[2.0,1.5,5.0,1.5,3.0,2.5,2.5,1.5,3.5,1.0],\"mode\":\"markers\",\"name\":\"2,2\",\"marker\":{},\"xaxis\":\"x4\",\"yaxis\":\"y4\"}];",
"            var layout = {\"xaxis\":{\"title\":{\"text\":\"x1\"}},\"yaxis\":{\"title\":{\"text\":\"y1\"}},\"xaxis2\":{\"showticklabels\":false,\"showline\":false,\"showgrid\":false,\"zeroline\":false},\"yaxis2\":{\"showticklabels\":false,\"showline\":false,\"showgrid\":false,\"zeroline\":false},\"xaxis3\":{\"title\":{\"text\":\"x3\"}},\"yaxis3\":{\"title\":{\"text\":\"y3\"}},\"xaxis4\":{\"title\":{\"text\":\"x4\"}},\"yaxis4\":{\"title\":{\"text\":\"y4\"}},\"grid\":{\"rows\":2,\"columns\":2,\"pattern\":\"independent\"}};",
"            var config = {};",
"            Plotly.newPlot(\u0027293ee46b-44b9-4b0f-a983-f6adc4acf73d\u0027, data, layout, config);",
"",
"});",
"            };",
"            if ((typeof(requirejs) !==  typeof(Function)) || (typeof(requirejs.config) !== typeof(Function))) {",
"                var script = document.createElement(\"script\");",
"                script.setAttribute(\"src\", \"https://cdnjs.cloudflare.com/ajax/libs/require.js/2.3.6/require.min.js\");",
"                script.onload = function(){",
"                    renderPlotly_293ee46b44b94b0fa983f6adc4acf73d();",
"                };",
"                document.getElementsByTagName(\"head\")[0].appendChild(script);",
"            }",
"            else {",
"                renderPlotly_293ee46b44b94b0fa983f6adc4acf73d();",
"            }",
"",
"\u003c/script\u003e",
"",
""]
        },
           "execution_count": null,
           "metadata": {},
           "output_type": "execute_result"
          }], 
           "source": ["grid3\n"]
          }
,
          {
           "cell_type": "markdown",
           "metadata": {},
           
           "source": ["use `Pattern=StyleParam.LayoutGridPatter.Coupled` to use one shared x axis per column and one shared y axis per row. \n",
"(Try zooming in the single subplots below)\n"]
          }
,
          {
           "cell_type": "code",
           "metadata": {},
            "execution_count": 12, "outputs": [], 
           "source": ["let grid4 =\n",
"    [\n",
"        Chart.Point(x,y,Name=\"1,1\")\n",
"        |\u003e Chart.withXAxisStyle \"x1\"\n",
"        |\u003e Chart.withYAxisStyle \"y1\"    \n",
"        Chart.Line(x,y,Name=\"1,2\")\n",
"        |\u003e Chart.withXAxisStyle \"x2\"\n",
"        |\u003e Chart.withYAxisStyle \"y2\"\n",
"        Chart.Spline(x,y,Name=\"2,1\")\n",
"        |\u003e Chart.withXAxisStyle \"x3\"\n",
"        |\u003e Chart.withYAxisStyle \"y3\"    \n",
"        Chart.Point(x,y,Name=\"2,2\")\n",
"        |\u003e Chart.withXAxisStyle \"x4\"\n",
"        |\u003e Chart.withYAxisStyle \"y4\"\n",
"    ]\n",
"    |\u003e Chart.Grid(2,2,Pattern=StyleParam.LayoutGridPattern.Coupled)\n"]
          }
,
          {
           "cell_type": "code",
           "metadata": {},
            "execution_count": null, "outputs": [
          {
           "data": {
            "text/html": ["\u003cdiv id=\"57ed84ac-1847-4a01-ad0a-33346708d47f\" style=\"width: 600px; height: 600px;\"\u003e\u003c!-- Plotly chart will be drawn inside this DIV --\u003e\u003c/div\u003e",
"",
"\u003cscript type=\"text/javascript\"\u003e",
"",
"",
"            var renderPlotly_57ed84ac18474a01ad0a33346708d47f = function() {",
"            var fsharpPlotlyRequire = requirejs.config({context:\u0027fsharp-plotly\u0027,paths:{plotly:\u0027https://cdn.plot.ly/plotly-latest.min\u0027}}) || require;",
"            fsharpPlotlyRequire([\u0027plotly\u0027], function(Plotly) {",
"",
"",
"            var data = [{\"type\":\"scatter\",\"x\":[1.0,2.0,3.0,4.0,5.0,6.0,7.0,8.0,9.0,10.0],\"y\":[2.0,1.5,5.0,1.5,3.0,2.5,2.5,1.5,3.5,1.0],\"mode\":\"markers\",\"name\":\"1,1\",\"marker\":{},\"xaxis\":\"x\",\"yaxis\":\"y\"},{\"type\":\"scatter\",\"x\":[1.0,2.0,3.0,4.0,5.0,6.0,7.0,8.0,9.0,10.0],\"y\":[2.0,1.5,5.0,1.5,3.0,2.5,2.5,1.5,3.5,1.0],\"mode\":\"lines\",\"line\":{},\"name\":\"1,2\",\"marker\":{},\"xaxis\":\"x2\",\"yaxis\":\"y\"},{\"type\":\"scatter\",\"x\":[1.0,2.0,3.0,4.0,5.0,6.0,7.0,8.0,9.0,10.0],\"y\":[2.0,1.5,5.0,1.5,3.0,2.5,2.5,1.5,3.5,1.0],\"mode\":\"lines\",\"name\":\"2,1\",\"line\":{\"shape\":\"spline\"},\"marker\":{},\"xaxis\":\"x\",\"yaxis\":\"y2\"},{\"type\":\"scatter\",\"x\":[1.0,2.0,3.0,4.0,5.0,6.0,7.0,8.0,9.0,10.0],\"y\":[2.0,1.5,5.0,1.5,3.0,2.5,2.5,1.5,3.5,1.0],\"mode\":\"markers\",\"name\":\"2,2\",\"marker\":{},\"xaxis\":\"x2\",\"yaxis\":\"y2\"}];",
"            var layout = {\"xaxis\":{\"title\":{\"text\":\"x1\"}},\"yaxis\":{\"title\":{\"text\":\"y1\"}},\"xaxis2\":{\"title\":{\"text\":\"x2\"}},\"yaxis2\":{\"title\":{\"text\":\"y2\"}},\"xaxis3\":{\"title\":{\"text\":\"x3\"}},\"yaxis3\":{\"title\":{\"text\":\"y3\"}},\"xaxis4\":{\"title\":{\"text\":\"x4\"}},\"yaxis4\":{\"title\":{\"text\":\"y4\"}},\"grid\":{\"rows\":2,\"columns\":2,\"pattern\":\"coupled\"}};",
"            var config = {};",
"            Plotly.newPlot(\u002757ed84ac-1847-4a01-ad0a-33346708d47f\u0027, data, layout, config);",
"",
"});",
"            };",
"            if ((typeof(requirejs) !==  typeof(Function)) || (typeof(requirejs.config) !== typeof(Function))) {",
"                var script = document.createElement(\"script\");",
"                script.setAttribute(\"src\", \"https://cdnjs.cloudflare.com/ajax/libs/require.js/2.3.6/require.min.js\");",
"                script.onload = function(){",
"                    renderPlotly_57ed84ac18474a01ad0a33346708d47f();",
"                };",
"                document.getElementsByTagName(\"head\")[0].appendChild(script);",
"            }",
"            else {",
"                renderPlotly_57ed84ac18474a01ad0a33346708d47f();",
"            }",
"",
"\u003c/script\u003e",
"",
""]
        },
           "execution_count": null,
           "metadata": {},
           "output_type": "execute_result"
          }], 
           "source": ["grid4\n"]
          }
,
          {
           "cell_type": "markdown",
           "metadata": {},
           
           "source": ["### Chart.SingleStack\n",
"\n",
"The `Chart.SingleStack` function is a special version of Chart.Grid that creates only one column from a 1D input chart sequence.\n",
"It uses a shared x axis per default.\n",
"\n",
"As with all grid charts, you can also use the Chart.withLayoutGridStyle to style subplot grids:\n",
"\n"]
          }
,
          {
           "cell_type": "code",
           "metadata": {},
            "execution_count": 14, "outputs": [], 
           "source": ["let singleStack =\n",
"    [\n",
"        Chart.Point(x,y) \n",
"        |\u003e Chart.withYAxisStyle(\"This title must\")\n",
"\n",
"        Chart.Line(x,y) \n",
"        |\u003e Chart.withYAxisStyle(\"be set on the\")\n",
"        \n",
"        Chart.Spline(x,y) \n",
"        |\u003e Chart.withYAxisStyle(\"respective subplots\")\n",
"    ]\n",
"    |\u003e Chart.SingleStack(Pattern= StyleParam.LayoutGridPattern.Coupled)\n",
"    //increase spacing between plots by using the withLayoutGridStyle function\n",
"    |\u003e Chart.withLayoutGridStyle(YGap= 0.1)\n",
"    |\u003e Chart.withTitle(\"Hi i am the new SingleStackChart\")\n",
"    |\u003e Chart.withXAxisStyle(\"im the shared xAxis\")\n"]
          }
,
          {
           "cell_type": "code",
           "metadata": {},
            "execution_count": null, "outputs": [
          {
           "data": {
            "text/html": ["\u003cdiv id=\"39ec4dc4-19d1-40cf-a618-01317becde73\" style=\"width: 600px; height: 600px;\"\u003e\u003c!-- Plotly chart will be drawn inside this DIV --\u003e\u003c/div\u003e",
"",
"\u003cscript type=\"text/javascript\"\u003e",
"",
"",
"            var renderPlotly_39ec4dc419d140cfa61801317becde73 = function() {",
"            var fsharpPlotlyRequire = requirejs.config({context:\u0027fsharp-plotly\u0027,paths:{plotly:\u0027https://cdn.plot.ly/plotly-latest.min\u0027}}) || require;",
"            fsharpPlotlyRequire([\u0027plotly\u0027], function(Plotly) {",
"",
"",
"            var data = [{\"type\":\"scatter\",\"x\":[1.0,2.0,3.0,4.0,5.0,6.0,7.0,8.0,9.0,10.0],\"y\":[2.0,1.5,5.0,1.5,3.0,2.5,2.5,1.5,3.5,1.0],\"mode\":\"markers\",\"marker\":{},\"xaxis\":\"x\",\"yaxis\":\"y\"},{\"type\":\"scatter\",\"x\":[1.0,2.0,3.0,4.0,5.0,6.0,7.0,8.0,9.0,10.0],\"y\":[2.0,1.5,5.0,1.5,3.0,2.5,2.5,1.5,3.5,1.0],\"mode\":\"lines\",\"line\":{},\"marker\":{},\"xaxis\":\"x\",\"yaxis\":\"y2\"},{\"type\":\"scatter\",\"x\":[1.0,2.0,3.0,4.0,5.0,6.0,7.0,8.0,9.0,10.0],\"y\":[2.0,1.5,5.0,1.5,3.0,2.5,2.5,1.5,3.5,1.0],\"mode\":\"lines\",\"line\":{\"shape\":\"spline\"},\"marker\":{},\"xaxis\":\"x\",\"yaxis\":\"y3\"}];",
"            var layout = {\"yaxis\":{\"title\":{\"text\":\"This title must\"}},\"xaxis\":{\"title\":{\"text\":\"im the shared xAxis\"}},\"xaxis2\":{},\"yaxis2\":{\"title\":{\"text\":\"be set on the\"}},\"xaxis3\":{},\"yaxis3\":{\"title\":{\"text\":\"respective subplots\"}},\"grid\":{\"rows\":3,\"columns\":1,\"pattern\":\"coupled\",\"ygap\":0.1},\"title\":{\"text\":\"Hi i am the new SingleStackChart\"}};",
"            var config = {};",
"            Plotly.newPlot(\u002739ec4dc4-19d1-40cf-a618-01317becde73\u0027, data, layout, config);",
"",
"});",
"            };",
"            if ((typeof(requirejs) !==  typeof(Function)) || (typeof(requirejs.config) !== typeof(Function))) {",
"                var script = document.createElement(\"script\");",
"                script.setAttribute(\"src\", \"https://cdnjs.cloudflare.com/ajax/libs/require.js/2.3.6/require.min.js\");",
"                script.onload = function(){",
"                    renderPlotly_39ec4dc419d140cfa61801317becde73();",
"                };",
"                document.getElementsByTagName(\"head\")[0].appendChild(script);",
"            }",
"            else {",
"                renderPlotly_39ec4dc419d140cfa61801317becde73();",
"            }",
"",
"\u003c/script\u003e",
"",
""]
        },
           "execution_count": null,
           "metadata": {},
           "output_type": "execute_result"
          }], 
           "source": ["singleStack\n"]
          }],
            "metadata": {
            "kernelspec": {"display_name": ".NET (F#)", "language": "F#", "name": ".net-fsharp"},
            "langauge_info": {
        "file_extension": ".fs",
        "mimetype": "text/x-fsharp",
        "name": "C#",
        "pygments_lexer": "fsharp",
        "version": "4.5"
        }
        },
            "nbformat": 4,
            "nbformat_minor": 1
        }
        

