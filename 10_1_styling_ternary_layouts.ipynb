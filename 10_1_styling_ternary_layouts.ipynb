
        {
            "cells": [
          {
           "cell_type": "markdown",
           "metadata": {},
           
           "source": ["// can\u0027t yet format YamlFrontmatter ([\"title: Styling ternary layouts\"; \"category: Ternary Plots\"; \"categoryindex: 11\"; \"index: 2\"], Some { StartLine = 2 StartColumn = 0 EndLine = 6 EndColumn = 8 }) to pynb markdown\n",
"\n"]
          }
,
          {
           "cell_type": "code",
           "metadata": {},
            "execution_count": null, "outputs": [], 
           "source": ["#r \"nuget: Plotly.NET, 2.0.0-preview.10\"\n",
"#r \"nuget: Plotly.NET.Interactive, 2.0.0-preview.10\"\n"]
          }
,
          {
           "cell_type": "markdown",
           "metadata": {},
           
           "source": ["# Styling ternary layouts\n",
"\n",
"[![Binder](https://plotly.net/img/badge-binder.svg)](https://mybinder.org/v2/gh/plotly/Plotly.NET/gh-pages?filepath=10_1_styling_ternary_layouts.ipynb)\u0026emsp;\n",
"[![Script](https://plotly.net/img/badge-script.svg)](https://plotly.net/10_1_styling_ternary_layouts.fsx)\u0026emsp;\n",
"[![Notebook](https://plotly.net/img/badge-notebook.svg)](https://plotly.net/10_1_styling_ternary_layouts.ipynb)\n",
"\n",
"*Summary:* This example shows how to style polar layouts in F#.\n",
"\n",
"let\u0027s first create some data for the purpose of creating example charts:\n",
"\n"]
          }
,
          {
           "cell_type": "code",
           "metadata": {},
            "execution_count": 3, "outputs": [], 
           "source": ["open Plotly.NET\n",
"\n",
"// a coordinates\n",
"let a  = [ 1; 2; 3; 4; 5; 6; 7;]\n",
"\n",
"// b coordinates\n",
"let b  = a |\u003e List.rev\n",
"\n",
"//c\n",
"let c  = [ 2; 2; 2; 2; 2; 2; 2;]\n"]
          }
,
          {
           "cell_type": "markdown",
           "metadata": {},
           
           "source": ["Consider this combined ternary chart:\n",
"\n"]
          }
,
          {
           "cell_type": "code",
           "metadata": {},
            "execution_count": 4, "outputs": [], 
           "source": ["let combinedTernary =\n",
"    [\n",
"        Chart.PointTernary(a,b,c)\n",
"        Chart.LineTernary(a,c,Sum = 10)\n",
"    ]\n",
"    \n",
"    |\u003e Chart.combine\n"]
          }
,
          {
           "cell_type": "code",
           "metadata": {},
            "execution_count": null, "outputs": [
          {
           "data": {
            "text/html": ["\u003cdiv id=\"c0a94821-65b2-4245-bd56-cb4aa0aec99d\" style=\"width: 600px; height: 600px;\"\u003e\u003c!-- Plotly chart will be drawn inside this DIV --\u003e\u003c/div\u003e",
"\u003cscript type=\"text/javascript\"\u003e",
"",
"            var renderPlotly_c0a9482165b24245bd56cb4aa0aec99d = function() {",
"            var fsharpPlotlyRequire = requirejs.config({context:\u0027fsharp-plotly\u0027,paths:{plotly:\u0027https://cdn.plot.ly/plotly-2.4.2.min\u0027}}) || require;",
"            fsharpPlotlyRequire([\u0027plotly\u0027], function(Plotly) {",
"",
"            var data = [{\"type\":\"scatterternary\",\"mode\":\"markers\",\"a\":[1,2,3,4,5,6,7],\"b\":[7,6,5,4,3,2,1],\"c\":[2,2,2,2,2,2,2],\"marker\":{}},{\"type\":\"scatterternary\",\"mode\":\"lines\",\"a\":[1,2,3,4,5,6,7],\"b\":[2,2,2,2,2,2,2],\"sum\":10,\"line\":{},\"marker\":{}}];",
"            var layout = {};",
"            var config = {};",
"            Plotly.newPlot(\u0027c0a94821-65b2-4245-bd56-cb4aa0aec99d\u0027, data, layout, config);",
"});",
"            };",
"            if ((typeof(requirejs) !==  typeof(Function)) || (typeof(requirejs.config) !== typeof(Function))) {",
"                var script = document.createElement(\"script\");",
"                script.setAttribute(\"src\", \"https://cdnjs.cloudflare.com/ajax/libs/require.js/2.3.6/require.min.js\");",
"                script.onload = function(){",
"                    renderPlotly_c0a9482165b24245bd56cb4aa0aec99d();",
"                };",
"                document.getElementsByTagName(\"head\")[0].appendChild(script);",
"            }",
"            else {",
"                renderPlotly_c0a9482165b24245bd56cb4aa0aec99d();",
"            }",
"\u003c/script\u003e",
""]
        },
           "execution_count": null,
           "metadata": {},
           "output_type": "execute_result"
          }], 
           "source": ["combinedTernary\n"]
          }
,
          {
           "cell_type": "markdown",
           "metadata": {},
           
           "source": ["## Styling the polar layout\n",
"\n",
"Use the `Chart.withTernary` function and initialize a Ternary layout with the desired looks\n",
"\n"]
          }
,
          {
           "cell_type": "code",
           "metadata": {},
            "execution_count": 6, "outputs": [], 
           "source": ["open Plotly.NET.LayoutObjects\n",
"\n",
"let styledTernary = \n",
"    combinedTernary\n",
"    |\u003e Chart.withTernary(\n",
"        Ternary.init(\n",
"            AAxis = LinearAxis.init(Title = Title.init(\"A\"), Color = Color.fromKeyword ColorKeyword.DarkOrchid),\n",
"            BAxis = LinearAxis.init(Title = Title.init(\"B\"), Color = Color.fromKeyword ColorKeyword.DarkRed)\n",
"        )\n",
"    )\n"]
          }
,
          {
           "cell_type": "code",
           "metadata": {},
            "execution_count": null, "outputs": [
          {
           "data": {
            "text/html": ["\u003cdiv id=\"4e0221c6-315f-4c49-9ab8-a6ccb48840ae\" style=\"width: 600px; height: 600px;\"\u003e\u003c!-- Plotly chart will be drawn inside this DIV --\u003e\u003c/div\u003e",
"\u003cscript type=\"text/javascript\"\u003e",
"",
"            var renderPlotly_4e0221c6315f4c499ab8a6ccb48840ae = function() {",
"            var fsharpPlotlyRequire = requirejs.config({context:\u0027fsharp-plotly\u0027,paths:{plotly:\u0027https://cdn.plot.ly/plotly-2.4.2.min\u0027}}) || require;",
"            fsharpPlotlyRequire([\u0027plotly\u0027], function(Plotly) {",
"",
"            var data = [{\"type\":\"scatterternary\",\"mode\":\"markers\",\"a\":[1,2,3,4,5,6,7],\"b\":[7,6,5,4,3,2,1],\"c\":[2,2,2,2,2,2,2],\"marker\":{}},{\"type\":\"scatterternary\",\"mode\":\"lines\",\"a\":[1,2,3,4,5,6,7],\"b\":[2,2,2,2,2,2,2],\"sum\":10,\"line\":{},\"marker\":{}}];",
"            var layout = {\"ternary\":{\"aaxis\":{\"color\":\"rgba(153, 50, 204, 1.0)\",\"title\":{\"text\":\"A\"}},\"baxis\":{\"color\":\"rgba(139, 0, 0, 1.0)\",\"title\":{\"text\":\"B\"}}}};",
"            var config = {};",
"            Plotly.newPlot(\u00274e0221c6-315f-4c49-9ab8-a6ccb48840ae\u0027, data, layout, config);",
"});",
"            };",
"            if ((typeof(requirejs) !==  typeof(Function)) || (typeof(requirejs.config) !== typeof(Function))) {",
"                var script = document.createElement(\"script\");",
"                script.setAttribute(\"src\", \"https://cdnjs.cloudflare.com/ajax/libs/require.js/2.3.6/require.min.js\");",
"                script.onload = function(){",
"                    renderPlotly_4e0221c6315f4c499ab8a6ccb48840ae();",
"                };",
"                document.getElementsByTagName(\"head\")[0].appendChild(script);",
"            }",
"            else {",
"                renderPlotly_4e0221c6315f4c499ab8a6ccb48840ae();",
"            }",
"\u003c/script\u003e",
""]
        },
           "execution_count": null,
           "metadata": {},
           "output_type": "execute_result"
          }], 
           "source": ["styledTernary\n"]
          }
,
          {
           "cell_type": "markdown",
           "metadata": {},
           
           "source": ["## Styling A, B, and C Axes\n",
"\n",
"You could pass these axes to `Chart.withTernary` as above, but for the case where you want to specifically set one axis, there are the `Chart.withAAxis`, `Chart.withBAxis`, `Chart.withCAxis` functions:\n",
"\n"]
          }
,
          {
           "cell_type": "code",
           "metadata": {},
            "execution_count": 8, "outputs": [], 
           "source": ["let styledTernary2 =\n",
"    styledTernary\n",
"    |\u003e Chart.withCAxis(LinearAxis.init(Title = Title.init(\"C\"), Color = Color.fromKeyword ColorKeyword.DarkCyan))\n",
"    \n"]
          }
,
          {
           "cell_type": "code",
           "metadata": {},
            "execution_count": null, "outputs": [
          {
           "data": {
            "text/html": ["\u003cdiv id=\"68f15fd5-c4ed-4092-b302-1275e77a34a6\" style=\"width: 600px; height: 600px;\"\u003e\u003c!-- Plotly chart will be drawn inside this DIV --\u003e\u003c/div\u003e",
"\u003cscript type=\"text/javascript\"\u003e",
"",
"            var renderPlotly_68f15fd5c4ed4092b3021275e77a34a6 = function() {",
"            var fsharpPlotlyRequire = requirejs.config({context:\u0027fsharp-plotly\u0027,paths:{plotly:\u0027https://cdn.plot.ly/plotly-2.4.2.min\u0027}}) || require;",
"            fsharpPlotlyRequire([\u0027plotly\u0027], function(Plotly) {",
"",
"            var data = [{\"type\":\"scatterternary\",\"mode\":\"markers\",\"a\":[1,2,3,4,5,6,7],\"b\":[7,6,5,4,3,2,1],\"c\":[2,2,2,2,2,2,2],\"marker\":{}},{\"type\":\"scatterternary\",\"mode\":\"lines\",\"a\":[1,2,3,4,5,6,7],\"b\":[2,2,2,2,2,2,2],\"sum\":10,\"line\":{},\"marker\":{}}];",
"            var layout = {\"ternary\":{\"aaxis\":{\"color\":\"rgba(153, 50, 204, 1.0)\",\"title\":{\"text\":\"A\"}},\"baxis\":{\"color\":\"rgba(139, 0, 0, 1.0)\",\"title\":{\"text\":\"B\"}},\"caxis\":{\"color\":\"rgba(0, 139, 139, 1.0)\",\"title\":{\"text\":\"C\"}}}};",
"            var config = {};",
"            Plotly.newPlot(\u002768f15fd5-c4ed-4092-b302-1275e77a34a6\u0027, data, layout, config);",
"});",
"            };",
"            if ((typeof(requirejs) !==  typeof(Function)) || (typeof(requirejs.config) !== typeof(Function))) {",
"                var script = document.createElement(\"script\");",
"                script.setAttribute(\"src\", \"https://cdnjs.cloudflare.com/ajax/libs/require.js/2.3.6/require.min.js\");",
"                script.onload = function(){",
"                    renderPlotly_68f15fd5c4ed4092b3021275e77a34a6();",
"                };",
"                document.getElementsByTagName(\"head\")[0].appendChild(script);",
"            }",
"            else {",
"                renderPlotly_68f15fd5c4ed4092b3021275e77a34a6();",
"            }",
"\u003c/script\u003e",
""]
        },
           "execution_count": null,
           "metadata": {},
           "output_type": "execute_result"
          }], 
           "source": ["styledTernary2\n"]
          }],
            "metadata": {
            "kernelspec": {"display_name": ".NET (F#)", "language": "F#", "name": ".net-fsharp"},
            "langauge_info": {
        "file_extension": ".fs",
        "mimetype": "text/x-fsharp",
        "name": "C#",
        "pygments_lexer": "fsharp",
        "version": "4.5"
        }
        },
            "nbformat": 4,
            "nbformat_minor": 1
        }
        

