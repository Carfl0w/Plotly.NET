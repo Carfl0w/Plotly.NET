
        {
            "cells": [
          {
           "cell_type": "code",
           "metadata": {},
            "execution_count": null, "outputs": [], 
           "source": ["#r \"nuget: Plotly.NET, 2.0.0-beta8\"\n",
"#r \"nuget: Plotly.NET.Interactive, 2.0.0-beta8\"\n"]
          }
,
          {
           "cell_type": "markdown",
           "metadata": {},
           
           "source": ["# Parallel categories\n",
"\n",
"[![Binder](https://mybinder.org/badge_logo.svg)](https://mybinder.org/v2/gh/plotly/Plotly.NET/gh-pages?filepath=8_0_parallel-categories.ipynb)\n",
"\n",
"*Summary:* This example shows how to create parallel categories plot in F#.\n",
"\n",
"The parallel categories diagram (also known as parallel sets or alluvial diagram) is a visualization of multi-dimensional categorical data sets. Each variable in the data set is represented by a column of rectangles, where each rectangle corresponds to a discrete value taken on by that variable. The relative heights of the rectangles reflect the relative frequency of occurrence of the corresponding value.\n",
"\n",
"Combinations of category rectangles across dimensions are connected by ribbons, where the height of the ribbon corresponds to the relative frequency of occurrence of the combination of categories in the data set.\n"]
          }
,
          {
           "cell_type": "code",
           "metadata": {},
            "execution_count": 3, "outputs": [], 
           "source": ["open Plotly.NET\n",
"\n",
"let dims =\n",
"    [\n",
"        Dimensions.init([\"Cat1\";\"Cat1\";\"Cat1\";\"Cat1\";\"Cat2\";\"Cat2\";\"Cat3\"],Label=\"A\")\n",
"        Dimensions.init([0;1;0;1;0;0;0],Label=\"B\",TickText=[\"YES\",\"NO\"])\n",
"    ]\n",
"\n",
"let parcats =\n",
"    Chart.ParallelCategories(\n",
"        dims,\n",
"        Color=[0.;1.;0.;1.;0.;0.;0.],\n",
"        Colorscale = StyleParam.Colorscale.Blackbody\n",
"    )\n"]
          }
,
          {
           "cell_type": "code",
           "metadata": {},
            "execution_count": null, "outputs": [
          {
           "data": {
            "text/html": ["\u003cdiv id=\"6a859868-72f3-4f97-a4a8-720d8a5a06db\" style=\"width: 600px; height: 600px;\"\u003e\u003c!-- Plotly chart will be drawn inside this DIV --\u003e\u003c/div\u003e",
"",
"\u003cscript type=\"text/javascript\"\u003e",
"",
"",
"            var renderPlotly_6a85986872f34f97a4a8720d8a5a06db = function() {",
"            var fsharpPlotlyRequire = requirejs.config({context:\u0027fsharp-plotly\u0027,paths:{plotly:\u0027https://cdn.plot.ly/plotly-latest.min\u0027}}) || require;",
"            fsharpPlotlyRequire([\u0027plotly\u0027], function(Plotly) {",
"",
"",
"            var data = [{\"type\":\"parcats\",\"dimensions\":[{\"values\":[\"Cat1\",\"Cat1\",\"Cat1\",\"Cat1\",\"Cat2\",\"Cat2\",\"Cat3\"],\"label\":\"A\"},{\"values\":[0,1,0,1,0,0,0],\"label\":\"B\",\"ticktext\":[{\"Item1\":\"YES\",\"Item2\":\"NO\"}]}],\"line\":{\"width\":{},\"color\":[0.0,1.0,0.0,1.0,0.0,0.0,0.0],\"colorscale\":\"Blackbody\"}}];",
"            var layout = {};",
"            var config = {};",
"            Plotly.newPlot(\u00276a859868-72f3-4f97-a4a8-720d8a5a06db\u0027, data, layout, config);",
"",
"});",
"            };",
"            if ((typeof(requirejs) !==  typeof(Function)) || (typeof(requirejs.config) !== typeof(Function))) {",
"                var script = document.createElement(\"script\");",
"                script.setAttribute(\"src\", \"https://cdnjs.cloudflare.com/ajax/libs/require.js/2.3.6/require.min.js\");",
"                script.onload = function(){",
"                    renderPlotly_6a85986872f34f97a4a8720d8a5a06db();",
"                };",
"                document.getElementsByTagName(\"head\")[0].appendChild(script);",
"            }",
"            else {",
"                renderPlotly_6a85986872f34f97a4a8720d8a5a06db();",
"            }",
"",
"\u003c/script\u003e",
"",
""]
        },
           "execution_count": null,
           "metadata": {},
           "output_type": "execute_result"
          }], 
           "source": ["parcats\n"]
          }],
            "metadata": {
            "kernelspec": {"display_name": ".NET (F#)", "language": "F#", "name": ".net-fsharp"},
            "langauge_info": {
        "file_extension": ".fs",
        "mimetype": "text/x-fsharp",
        "name": "C#",
        "pygments_lexer": "fsharp",
        "version": "4.5"
        }
        },
            "nbformat": 4,
            "nbformat_minor": 1
        }
        

