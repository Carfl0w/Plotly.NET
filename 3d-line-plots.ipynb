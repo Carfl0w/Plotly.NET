
        {
            "cells": [
          {
           "cell_type": "code",
           "metadata": {},
            "execution_count": null, "outputs": [], 
           "source": ["#r \"nuget: Plotly.NET, 2.0.0-beta1\"\n",
"#r \"nuget: Plotly.NET.Interactive, 2.0.0-alpha5\"\n"]
          }
,
          {
           "cell_type": "markdown",
           "metadata": {},
           
           "source": ["# 3D line charts\n",
"\n",
"[![Binder](https://mybinder.org/badge_logo.svg)](https://mybinder.org/v2/gh/plotly/Plotly.NET/gh-pages?filepath=3d-line-plots.ipynb)\n",
"\n",
"*Summary:* This example shows how to create three-dimensional scatter charts in F#.\n",
"\n",
"let\u0027s first create some data for the purpose of creating example charts:\n"]
          }
,
          {
           "cell_type": "code",
           "metadata": {},
            "execution_count": 3, "outputs": [], 
           "source": ["open Plotly.NET \n",
"open System\n",
" \n",
"let c = [0. .. 0.5 .. 15.]\n",
"\n",
"let x,y,z =  \n",
"    c\n",
"    |\u003e List.map (fun i -\u003e\n",
"        let i\u0027 = float i \n",
"        let r = 10. * Math.Cos (i\u0027 / 10.)\n",
"        (r*Math.Cos i\u0027,r*Math.Sin i\u0027,i\u0027)\n",
"    )\n",
"    |\u003e List.unzip3\n"]
          }
,
          {
           "cell_type": "markdown",
           "metadata": {},
           
           "source": ["A Scatter3 chart shows a three-dimensional spinnable view of your data.\n",
"When using `Lines_Markers` as the mode of the chart, you additionally render a line between the points:\n"]
          }
,
          {
           "cell_type": "code",
           "metadata": {},
            "execution_count": 4, "outputs": [], 
           "source": ["let scatter3dLine = \n",
"    Chart.Scatter3d(x,y,z,StyleParam.Mode.Lines_Markers)\n",
"    |\u003e Chart.withX_AxisStyle(\"x-axis\")\n",
"    |\u003e Chart.withY_AxisStyle(\"y-axis\")\n",
"    |\u003e Chart.withZ_AxisStyle(\"z-axis\")\n",
"    |\u003e Chart.withSize(800.,800.)\n"]
          }
,
          {
           "cell_type": "code",
           "metadata": {},
            "execution_count": null, "outputs": [
          {
           "data": {
            "text/plain": ["No value returned by any evaluator"]
        },
           "execution_count": null,
           "metadata": {},
           "output_type": "execute_result"
          }], 
           "source": ["scatter3dLine\n"]
          }],
            "metadata": {
            "kernelspec": {"display_name": ".NET (F#)", "language": "F#", "name": ".net-fsharp"},
            "langauge_info": {
        "file_extension": ".fs",
        "mimetype": "text/x-fsharp",
        "name": "C#",
        "pygments_lexer": "fsharp",
        "version": "4.5"
        }
        },
            "nbformat": 4,
            "nbformat_minor": 1
        }
        

