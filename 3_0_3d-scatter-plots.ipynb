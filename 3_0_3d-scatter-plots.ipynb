
        {
            "cells": [
          {
           "cell_type": "markdown",
           "metadata": {},
           
           "source": ["// can\u0027t yet format YamlFrontmatter ([\"title: 3D point and line charts\"; \"category: 3D Charts\"; \"categoryindex: 4\"; \"index: 1\"], Some { StartLine = 2 StartColumn = 0 EndLine = 6 EndColumn = 8 }) to pynb markdown\n",
"\n"]
          }
,
          {
           "cell_type": "code",
           "metadata": {},
            "execution_count": null, "outputs": [], 
           "source": ["#r \"nuget: Plotly.NET, 2.0.0-preview.7\"\n",
"#r \"nuget: Plotly.NET.Interactive, 2.0.0-preview.7\"\n"]
          }
,
          {
           "cell_type": "markdown",
           "metadata": {},
           
           "source": ["# 3D point plots\n",
"\n",
"[![Binder](https://plotly.net/img/badge-binder.svg)](https://mybinder.org/v2/gh/plotly/Plotly.NET/gh-pages?filepath=3_0_3d-scatter-plots.ipynb)\u0026emsp;\n",
"[![Script](https://plotly.net/img/badge-script.svg)](https://plotly.net/3_0_3d-scatter-plots.fsx)\u0026emsp;\n",
"[![Notebook](https://plotly.net/img/badge-notebook.svg)](https://plotly.net/3_0_3d-scatter-plots.ipynb)\n",
"\n",
"*Summary:* This example shows how to create three-dimensional point and line charts in F#.\n",
"\n",
"A Scatter3d chart report shows a three-dimensional spinnable view of your data\n"]
          }
,
          {
           "cell_type": "code",
           "metadata": {},
            "execution_count": 3, "outputs": [], 
           "source": ["open Plotly.NET \n",
"  \n",
"let point3d = \n",
"    Chart.Point3d(\n",
"        [1,3,2; 6,5,4; 7,9,8],\n",
"        Labels = [\"A\"; \"B\"; \"C\"],\n",
"        TextPosition = StyleParam.TextPosition.BottomCenter\n",
"    )\n",
"    |\u003e Chart.withXAxisStyle(\"my x-axis\", Id=StyleParam.SubPlotId.Scene 1) // in contrast to 2D plots, x and y axes of 3D charts have to be set via the scene object\n",
"    |\u003e Chart.withYAxisStyle(\"my y-axis\", Id=StyleParam.SubPlotId.Scene 1) // in contrast to 2D plots, x and y axes of 3D charts have to be set via the scene object\n",
"    |\u003e Chart.withZAxisStyle(\"my z-axis\")\n",
"    |\u003e Chart.withSize(800.,800.)\n"]
          }
,
          {
           "cell_type": "code",
           "metadata": {},
            "execution_count": null, "outputs": [
          {
           "data": {
            "text/html": ["\u003cdiv id=\"2ecfcdc7-31b4-4383-8f1f-be69e97ed99a\" style=\"width: 800px; height: 800px;\"\u003e\u003c!-- Plotly chart will be drawn inside this DIV --\u003e\u003c/div\u003e",
"",
"\u003cscript type=\"text/javascript\"\u003e",
"",
"",
"            var renderPlotly_2ecfcdc731b443838f1fbe69e97ed99a = function() {",
"            var fsharpPlotlyRequire = requirejs.config({context:\u0027fsharp-plotly\u0027,paths:{plotly:\u0027https://cdn.plot.ly/plotly-latest.min\u0027}}) || require;",
"            fsharpPlotlyRequire([\u0027plotly\u0027], function(Plotly) {",
"",
"",
"            var data = [{\"type\":\"scatter3d\",\"mode\":\"markers+text\",\"x\":[1,6,7],\"y\":[3,5,9],\"z\":[2,4,8],\"line\":{},\"marker\":{},\"text\":[\"A\",\"B\",\"C\"],\"textposition\":\"bottom center\"}];",
"            var layout = {\"scene\":{\"xaxis\":{\"title\":{\"text\":\"my x-axis\"}},\"yaxis\":{\"title\":{\"text\":\"my y-axis\"}},\"zaxis\":{\"title\":{\"text\":\"my z-axis\"}}},\"width\":800.0,\"height\":800.0};",
"            var config = {};",
"            Plotly.newPlot(\u00272ecfcdc7-31b4-4383-8f1f-be69e97ed99a\u0027, data, layout, config);",
"",
"});",
"            };",
"            if ((typeof(requirejs) !==  typeof(Function)) || (typeof(requirejs.config) !== typeof(Function))) {",
"                var script = document.createElement(\"script\");",
"                script.setAttribute(\"src\", \"https://cdnjs.cloudflare.com/ajax/libs/require.js/2.3.6/require.min.js\");",
"                script.onload = function(){",
"                    renderPlotly_2ecfcdc731b443838f1fbe69e97ed99a();",
"                };",
"                document.getElementsByTagName(\"head\")[0].appendChild(script);",
"            }",
"            else {",
"                renderPlotly_2ecfcdc731b443838f1fbe69e97ed99a();",
"            }",
"",
"\u003c/script\u003e",
"",
""]
        },
           "execution_count": null,
           "metadata": {},
           "output_type": "execute_result"
          }], 
           "source": ["point3d\n"]
          }
,
          {
           "cell_type": "markdown",
           "metadata": {},
           
           "source": ["# 3D Line plots\n"]
          }
,
          {
           "cell_type": "code",
           "metadata": {},
            "execution_count": 5, "outputs": [], 
           "source": ["let line3d = \n",
"    Chart.Line3d(\n",
"        [1,3,2; 6,5,4; 7,9,8],\n",
"        Labels = [\"A\"; \"B\"; \"C\"],\n",
"        TextPosition = StyleParam.TextPosition.BottomCenter,\n",
"        ShowMarkers = true\n",
"    )\n"]
          }
,
          {
           "cell_type": "code",
           "metadata": {},
            "execution_count": null, "outputs": [
          {
           "data": {
            "text/html": ["\u003cdiv id=\"f28c684b-25b2-4769-9789-b2c05c01abe5\" style=\"width: 600px; height: 600px;\"\u003e\u003c!-- Plotly chart will be drawn inside this DIV --\u003e\u003c/div\u003e",
"",
"\u003cscript type=\"text/javascript\"\u003e",
"",
"",
"            var renderPlotly_f28c684b25b247699789b2c05c01abe5 = function() {",
"            var fsharpPlotlyRequire = requirejs.config({context:\u0027fsharp-plotly\u0027,paths:{plotly:\u0027https://cdn.plot.ly/plotly-latest.min\u0027}}) || require;",
"            fsharpPlotlyRequire([\u0027plotly\u0027], function(Plotly) {",
"",
"",
"            var data = [{\"type\":\"scatter3d\",\"mode\":\"lines+markers+text\",\"x\":[1,6,7],\"y\":[3,5,9],\"z\":[2,4,8],\"line\":{},\"marker\":{},\"text\":[\"A\",\"B\",\"C\"],\"textposition\":\"bottom center\"}];",
"            var layout = {};",
"            var config = {};",
"            Plotly.newPlot(\u0027f28c684b-25b2-4769-9789-b2c05c01abe5\u0027, data, layout, config);",
"",
"});",
"            };",
"            if ((typeof(requirejs) !==  typeof(Function)) || (typeof(requirejs.config) !== typeof(Function))) {",
"                var script = document.createElement(\"script\");",
"                script.setAttribute(\"src\", \"https://cdnjs.cloudflare.com/ajax/libs/require.js/2.3.6/require.min.js\");",
"                script.onload = function(){",
"                    renderPlotly_f28c684b25b247699789b2c05c01abe5();",
"                };",
"                document.getElementsByTagName(\"head\")[0].appendChild(script);",
"            }",
"            else {",
"                renderPlotly_f28c684b25b247699789b2c05c01abe5();",
"            }",
"",
"\u003c/script\u003e",
"",
""]
        },
           "execution_count": null,
           "metadata": {},
           "output_type": "execute_result"
          }], 
           "source": ["line3d\n"]
          }
,
          {
           "cell_type": "markdown",
           "metadata": {},
           
           "source": ["# 3D Bubble plots\n"]
          }
,
          {
           "cell_type": "code",
           "metadata": {},
            "execution_count": 7, "outputs": [], 
           "source": ["let bubble3d =\n",
"    Chart.Bubble3d(\n",
"        [1,3,2; 6,5,4; 7,9,8],\n",
"        [10;20;30],\n",
"        Labels = [\"A\"; \"B\"; \"C\"],\n",
"        TextPosition = StyleParam.TextPosition.BottomCenter\n",
"    )\n"]
          }
,
          {
           "cell_type": "code",
           "metadata": {},
            "execution_count": null, "outputs": [
          {
           "data": {
            "text/html": ["\u003cdiv id=\"b0716b9f-c900-491f-afe9-7317f044a4a8\" style=\"width: 600px; height: 600px;\"\u003e\u003c!-- Plotly chart will be drawn inside this DIV --\u003e\u003c/div\u003e",
"",
"\u003cscript type=\"text/javascript\"\u003e",
"",
"",
"            var renderPlotly_b0716b9fc900491fafe97317f044a4a8 = function() {",
"            var fsharpPlotlyRequire = requirejs.config({context:\u0027fsharp-plotly\u0027,paths:{plotly:\u0027https://cdn.plot.ly/plotly-latest.min\u0027}}) || require;",
"            fsharpPlotlyRequire([\u0027plotly\u0027], function(Plotly) {",
"",
"",
"            var data = [{\"type\":\"scatter3d\",\"mode\":\"markers+text\",\"x\":[1,6,7],\"y\":[3,5,9],\"z\":[2,4,8],\"marker\":{\"size\":[10,20,30]},\"text\":[\"A\",\"B\",\"C\"],\"textposition\":\"bottom center\"}];",
"            var layout = {};",
"            var config = {};",
"            Plotly.newPlot(\u0027b0716b9f-c900-491f-afe9-7317f044a4a8\u0027, data, layout, config);",
"",
"});",
"            };",
"            if ((typeof(requirejs) !==  typeof(Function)) || (typeof(requirejs.config) !== typeof(Function))) {",
"                var script = document.createElement(\"script\");",
"                script.setAttribute(\"src\", \"https://cdnjs.cloudflare.com/ajax/libs/require.js/2.3.6/require.min.js\");",
"                script.onload = function(){",
"                    renderPlotly_b0716b9fc900491fafe97317f044a4a8();",
"                };",
"                document.getElementsByTagName(\"head\")[0].appendChild(script);",
"            }",
"            else {",
"                renderPlotly_b0716b9fc900491fafe97317f044a4a8();",
"            }",
"",
"\u003c/script\u003e",
"",
""]
        },
           "execution_count": null,
           "metadata": {},
           "output_type": "execute_result"
          }], 
           "source": ["bubble3d\n"]
          }],
            "metadata": {
            "kernelspec": {"display_name": ".NET (F#)", "language": "F#", "name": ".net-fsharp"},
            "langauge_info": {
        "file_extension": ".fs",
        "mimetype": "text/x-fsharp",
        "name": "C#",
        "pygments_lexer": "fsharp",
        "version": "4.5"
        }
        },
            "nbformat": 4,
            "nbformat_minor": 1
        }
        

