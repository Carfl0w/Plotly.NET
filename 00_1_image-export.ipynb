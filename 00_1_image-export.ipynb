
        {
            "cells": [
          {
           "cell_type": "markdown",
           "metadata": {},
           
           "source": ["// can\u0027t yet format YamlFrontmatter ([\"title: Static image export\"; \"category: General\"; \"categoryindex: 1\"; \"index: 2\"], Some { StartLine = 2 StartColumn = 0 EndLine = 6 EndColumn = 8 }) to pynb markdown\n",
"\n"]
          }
,
          {
           "cell_type": "code",
           "metadata": {},
            "execution_count": null, "outputs": [], 
           "source": ["#r \"nuget: Plotly.NET, 2.0.0-preview.11\"\n",
"#r \"nuget: Plotly.NET.Interactive, 2.0.0-preview.11\"\n",
"#r \"nuget: Plotly.NET.ImageExport, 2.0.0-preview.11\"\n"]
          }
,
          {
           "cell_type": "markdown",
           "metadata": {},
           
           "source": ["[![Binder](https://plotly.net/img/badge-binder.svg)](https://mybinder.org/v2/gh/plotly/Plotly.NET/gh-pages?filepath=00_1_image-export.ipynb)\u0026emsp;\n",
"[![Script](https://plotly.net/img/badge-script.svg)](https://plotly.net/00_1_image-export.fsx)\u0026emsp;\n",
"[![Notebook](https://plotly.net/img/badge-notebook.svg)](https://plotly.net/00_1_image-export.ipynb)\n",
"\n",
"# Static image export\n",
"\n",
"### Table of contents\n",
"\n",
"- [Saving static images](#Saving-static-images)\n",
"- [Generating URIs for static chart images](#Generating-URIs-for-static-chart-images)\n",
"- [Including static images in dotnet interactive notebooks](#Including-static-images-in-dotnet-interactive-notebooks)\n",
"\n",
"As Plotly.NET generates static html pages that contain charts rendered by plotly.js, static image export needs a lot more overhead under the hood \n",
"than you might expect. The underlying renderer needs to execute javascript, leading to the usage of headless browsers.\n",
"\n",
"The package `Plotly.NET.ImageExport` contains extensions for Plotly.NET to render static images. It is designed with extensibility in mind and\n",
"it is very easy to add a new rendering engine. The current engines are provided:\n",
"\n",
"| Rendering engine | Type | Prerequisites |\n",
"|-|-|-|\n",
"| [PuppeteerSharp](https://github.com/hardkoded/puppeteer-sharp) | headless browser | [read more here](https://github.com/hardkoded/puppeteer-sharp#prerequisites) |\n",
"\n",
"## Saving static images\n",
"\n",
"By referencing the `Plotly.NET.ImageExport` package, you get access to:\n",
"\n",
" - jpg via `Chart.SaveJPG`\n",
" - png via `Chart.SavePNG`\n",
" - svg via `Chart.SaveSVG`\n",
"\n",
"(and Extensions for C# style fluent interfaces by opening the `GenericChartExtensions` namespace)\n",
"\n",
"The parameters for all three functions are exactly the same. \n",
"\n"]
          }
,
          {
           "cell_type": "code",
           "metadata": {},
            "execution_count": 3, "outputs": [], 
           "source": ["open Plotly.NET\n",
"open Plotly.NET.ImageExport\n",
"\n",
"let exampleChart = \n",
"    Chart.Histogram2DContour(\n",
"        [1.;2.;2.;4.;5.],\n",
"        [1.;2.;2.;4.;5.]\n",
"    )\n"]
          }
,
          {
           "cell_type": "code",
           "metadata": {},
            "execution_count": null, "outputs": [], 
           "source": ["exampleChart\n",
"|\u003e Chart.saveJPG(\n",
"    \"/your/path/without/extension/here\",\n",
"    Width=300,\n",
"    Height=300\n",
")\n"]
          }
,
          {
           "cell_type": "code",
           "metadata": {},
            "execution_count": null, "outputs": [
          {
           "data": {
            "text/plain": ["No value returned by any evaluator"]
        },
           "execution_count": null,
           "metadata": {},
           "output_type": "execute_result"
          }], 
           "source": ["let imgString = $\"\"\"\u003cimg\n",
"    src= \"{exampleChart|\u003e Chart.toBase64JPGString(Width=300,Height=300)}\"\n",
"/\u003e\"\"\"\n",
"DisplayExtensions.DisplayAs(imgString,\"text/html\")\n"]
          }
,
          {
           "cell_type": "markdown",
           "metadata": {},
           
           "source": ["## Generating URIs for static chart images\n",
"\n",
"By referencing the `Plotly.NET.ImageExport` package, you get access to:\n",
"\n",
" - jpg via `Chart.toBase64JPGString`\n",
" - png via `Chart.toBase64PNGString`\n",
" - svg via `Chart.toSVGString`\n",
"\n",
"(and Extensions for C# style fluent interfaces by opening the `GenericChartExtensions` namespace)\n",
"\n",
"\n"]
          }
,
          {
           "cell_type": "code",
           "metadata": {},
            "execution_count": 5, "outputs": [], 
           "source": ["let base64JPG =\n",
"    exampleChart\n",
"    |\u003e Chart.toBase64JPGString(\n",
"        Width=300,\n",
"        Height=300\n",
"    )\n"]
          }
,
          {
           "cell_type": "markdown",
           "metadata": {},
           
           "source": ["It is very easy to construct a html tag that includes this image via a base64 uri. For SVGs, \n",
"not even that is necessary and just the SVG string can be used.\n",
"\n"]
          }
,
          {
           "cell_type": "code",
           "metadata": {},
            "execution_count": 6, "outputs": [], 
           "source": ["$\"\"\"\u003cimg\n",
"    src= \"{base64JPG}\"\n",
"/\u003e\"\"\"\n"]
          }
,
          {
           "cell_type": "code",
           "metadata": {},
            "execution_count": null, "outputs": [
          {
           "data": {
            "text/plain": ["No value returned by any evaluator"]
        },
           "execution_count": null,
           "metadata": {},
           "output_type": "execute_result"
          }], 
           "source": ["let imgString = $\"\"\"\u003cimg\n",
"    src= \"{base64JPG}\"\n",
"/\u003e\"\"\"\n",
"DisplayExtensions.DisplayAs(imgString,\"text/html\")\n"]
          }
,
          {
           "cell_type": "markdown",
           "metadata": {},
           
           "source": ["SVGs can be included without the image tag:\n",
"\n"]
          }
,
          {
           "cell_type": "code",
           "metadata": {},
            "execution_count": 7, "outputs": [
          {
           "data": {
            "text/plain": [""]
        },
           "execution_count": 7,
           "metadata": {},
           "output_type": "execute_result"
          }], 
           "source": ["let svgString =\n",
"    exampleChart\n",
"    |\u003e Chart.toSVGString(\n",
"        Width=300,\n",
"        Height=300\n",
"    )\n",
"\n",
"svgString.Substring(0,300)\n",
"|\u003e printfn \"%s\"\n"]
          }
,
          {
           "cell_type": "markdown",
           "metadata": {},
           
           "source": ["In fact, the images shown on this site are included just the same way.\n",
"\n",
"## Including static images in dotnet interactive notebooks\n",
"\n",
"To include the images in dotnet interactive, convert them to html tags as above and include them via \n",
"dotnet interactive\u0027s `DisplayAs` function. The content type for PNG/JPG is \"text/html\", and \"image/svg+xml\" for SVG.\n",
"\n"]
          }
,
          {
           "cell_type": "code",
           "metadata": {},
            "execution_count": 8, "outputs": [], 
           "source": ["let base64PNGTag =\n",
"    let base64 =\n",
"        exampleChart\n",
"        |\u003e Chart.toBase64PNGString(\n",
"            Width=300,\n",
"            Height=300\n",
"        )\n",
"    $\"\"\"\u003cimg src= \"{base64JPG}\"/\u003e\"\"\"\n",
"\n",
"let svgString2 =\n",
"    exampleChart\n",
"    |\u003e Chart.toSVGString(\n",
"        Width=300,\n",
"        Height=300\n",
"    )\n",
"\n",
"// DisplayExtensions.DisplayAs(base64PNG,\"text/html\")\n",
"// DisplayExtensions.DisplayAs(svgString2,\"image/svg+xml\")\n"]
          }
,
          {
           "cell_type": "code",
           "metadata": {},
            "execution_count": null, "outputs": [], 
           "source": ["DisplayExtensions.DisplayAs(base64PNG,\"text/html\")\n",
"DisplayExtensions.DisplayAs(svgString,\"image/svg+xml\")\n"]
          }],
            "metadata": {
            "kernelspec": {"display_name": ".NET (F#)", "language": "F#", "name": ".net-fsharp"},
            "langauge_info": {
        "file_extension": ".fs",
        "mimetype": "text/x-fsharp",
        "name": "C#",
        "pygments_lexer": "fsharp",
        "version": "4.5"
        }
        },
            "nbformat": 4,
            "nbformat_minor": 1
        }
        

