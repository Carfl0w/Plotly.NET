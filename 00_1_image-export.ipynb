
        {
            "cells": [
          {
           "cell_type": "markdown",
           "metadata": {},
           
           "source": ["// can\u0027t yet format YamlFrontmatter ([\"title: Static image export\"; \"category: General\"; \"categoryindex: 1\"; \"index: 2\"], Some { StartLine = 2 StartColumn = 0 EndLine = 6 EndColumn = 8 }) to pynb markdown\n",
"\n"]
          }
,
          {
           "cell_type": "code",
           "metadata": {},
            "execution_count": null, "outputs": [], 
           "source": ["#r \"nuget: Plotly.NET, 2.0.0-preview.12\"\n",
"#r \"nuget: Plotly.NET.Interactive, 2.0.0-preview.12\"\n",
"#r \"nuget: Plotly.NET.ImageExport, 2.0.0-preview.12\"\n"]
          }
,
          {
           "cell_type": "markdown",
           "metadata": {},
           
           "source": ["[![Binder](https://plotly.net/img/badge-binder.svg)](https://mybinder.org/v2/gh/plotly/Plotly.NET/gh-pages?filepath=00_1_image-export.ipynb)\u0026emsp;\n",
"[![Script](https://plotly.net/img/badge-script.svg)](https://plotly.net/00_1_image-export.fsx)\u0026emsp;\n",
"[![Notebook](https://plotly.net/img/badge-notebook.svg)](https://plotly.net/00_1_image-export.ipynb)\n",
"\n",
"# Static image export\n",
"\n",
"### Table of contents\n",
"\n",
"- [Saving static images](#Saving-static-images)\n",
"- [Generating URIs for static chart images](#Generating-URIs-for-static-chart-images)\n",
"- [Including static images in dotnet interactive notebooks](#Including-static-images-in-dotnet-interactive-notebooks)\n",
"\n",
"As Plotly.NET generates static html pages that contain charts rendered by plotly.js, static image export needs a lot more overhead under the hood \n",
"than you might expect. The underlying renderer needs to execute javascript, leading to the usage of headless browsers.\n",
"\n",
"The package `Plotly.NET.ImageExport` contains extensions for Plotly.NET to render static images. It is designed with extensibility in mind and\n",
"it is very easy to add a new rendering engine. The current engines are provided:\n",
"\n",
"| Rendering engine | Type | Prerequisites |\n",
"|-|-|-|\n",
"| [PuppeteerSharp](https://github.com/hardkoded/puppeteer-sharp) | headless browser | [read more here](https://github.com/hardkoded/puppeteer-sharp#prerequisites) |\n",
"\n",
"## Saving static images\n",
"\n",
"By referencing the `Plotly.NET.ImageExport` package, you get access to:\n",
"\n",
" - jpg via `Chart.SaveJPG`\n",
" - png via `Chart.SavePNG`\n",
" - svg via `Chart.SaveSVG`\n",
"\n",
"(and Extensions for C# style fluent interfaces by opening the `GenericChartExtensions` namespace)\n",
"\n",
"The parameters for all three functions are exactly the same. \n",
"\n"]
          }
,
          {
           "cell_type": "code",
           "metadata": {},
            "execution_count": 3, "outputs": [], 
           "source": ["open Plotly.NET\n",
"open Plotly.NET.ImageExport\n",
"\n",
"let exampleChart = \n",
"    Chart.Histogram2DContour(\n",
"        [1.;2.;2.;4.;5.],\n",
"        [1.;2.;2.;4.;5.]\n",
"    )\n"]
          }
,
          {
           "cell_type": "code",
           "metadata": {},
            "execution_count": null, "outputs": [], 
           "source": ["exampleChart\n",
"|\u003e Chart.saveJPG(\n",
"    \"/your/path/without/extension/here\",\n",
"    Width=300,\n",
"    Height=300\n",
")\n"]
          }
,
          {
           "cell_type": "code",
           "metadata": {},
            "execution_count": null, "outputs": [
          {
           "data": {
            "text/html": ["\u003cimg",
"    src= \"data:image/jpeg;base64,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\"",
"/\u003e"]
        },
           "execution_count": null,
           "metadata": {},
           "output_type": "execute_result"
          }], 
           "source": ["let imgString = $\"\"\"\u003cimg\n",
"    src= \"{exampleChart|\u003e Chart.toBase64JPGString(Width=300,Height=300)}\"\n",
"/\u003e\"\"\"\n",
"DisplayExtensions.DisplayAs(imgString,\"text/html\")\n"]
          }
,
          {
           "cell_type": "markdown",
           "metadata": {},
           
           "source": ["## Generating URIs for static chart images\n",
"\n",
"By referencing the `Plotly.NET.ImageExport` package, you get access to:\n",
"\n",
" - jpg via `Chart.toBase64JPGString`\n",
" - png via `Chart.toBase64PNGString`\n",
" - svg via `Chart.toSVGString`\n",
"\n",
"(and Extensions for C# style fluent interfaces by opening the `GenericChartExtensions` namespace)\n",
"\n",
"\n"]
          }
,
          {
           "cell_type": "code",
           "metadata": {},
            "execution_count": 5, "outputs": [], 
           "source": ["let base64JPG =\n",
"    exampleChart\n",
"    |\u003e Chart.toBase64JPGString(\n",
"        Width=300,\n",
"        Height=300\n",
"    )\n"]
          }
,
          {
           "cell_type": "markdown",
           "metadata": {},
           
           "source": ["It is very easy to construct a html tag that includes this image via a base64 uri. For SVGs, \n",
"not even that is necessary and just the SVG string can be used.\n",
"\n"]
          }
,
          {
           "cell_type": "code",
           "metadata": {},
            "execution_count": 6, "outputs": [], 
           "source": ["$\"\"\"\u003cimg\n",
"    src= \"{base64JPG}\"\n",
"/\u003e\"\"\"\n"]
          }
,
          {
           "cell_type": "code",
           "metadata": {},
            "execution_count": null, "outputs": [
          {
           "data": {
            "text/html": ["\u003cimg",
"    src= \"data:image/jpeg;base64,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\"",
"/\u003e"]
        },
           "execution_count": null,
           "metadata": {},
           "output_type": "execute_result"
          }], 
           "source": ["let imgString = $\"\"\"\u003cimg\n",
"    src= \"{base64JPG}\"\n",
"/\u003e\"\"\"\n",
"DisplayExtensions.DisplayAs(imgString,\"text/html\")\n"]
          }
,
          {
           "cell_type": "markdown",
           "metadata": {},
           
           "source": ["SVGs can be included without the image tag:\n",
"\n"]
          }
,
          {
           "cell_type": "code",
           "metadata": {},
            "execution_count": 7, "outputs": [
          {
           "data": {
            "text/plain": ["\u003csvg class=\"main-svg\" xmlns=\"http://www.w3.org/2000/svg\" xmlns:xlink=\"http://www.w3.org/1999/xlink\" width=\"300\" height=\"300\" style=\"\" viewBox=\"0 0 300 300\"\u003e\u003crect x=\"0\" y=\"0\" width=\"300\" height=\"300\" style=\"fill: rgb(255, 255, 255); fill-opacity: 1;\"/\u003e\u003cdefs id=\"defs-dcecf3\"\u003e\u003cg class=\"clips\"\u003e\u003cclipPath"]
        },
           "execution_count": 7,
           "metadata": {},
           "output_type": "execute_result"
          }], 
           "source": ["let svgString =\n",
"    exampleChart\n",
"    |\u003e Chart.toSVGString(\n",
"        Width=300,\n",
"        Height=300\n",
"    )\n",
"\n",
"svgString.Substring(0,300)\n",
"|\u003e printfn \"%s\"\n"]
          }
,
          {
           "cell_type": "markdown",
           "metadata": {},
           
           "source": ["In fact, the images shown on this site are included just the same way.\n",
"\n",
"## Including static images in dotnet interactive notebooks\n",
"\n",
"To include the images in dotnet interactive, convert them to html tags as above and include them via \n",
"dotnet interactive\u0027s `DisplayAs` function. The content type for PNG/JPG is \"text/html\", and \"image/svg+xml\" for SVG.\n",
"\n"]
          }
,
          {
           "cell_type": "code",
           "metadata": {},
            "execution_count": 8, "outputs": [], 
           "source": ["let base64PNGTag =\n",
"    let base64 =\n",
"        exampleChart\n",
"        |\u003e Chart.toBase64PNGString(\n",
"            Width=300,\n",
"            Height=300\n",
"        )\n",
"    $\"\"\"\u003cimg src= \"{base64JPG}\"/\u003e\"\"\"\n",
"\n",
"let svgString2 =\n",
"    exampleChart\n",
"    |\u003e Chart.toSVGString(\n",
"        Width=300,\n",
"        Height=300\n",
"    )\n",
"\n",
"// DisplayExtensions.DisplayAs(base64PNG,\"text/html\")\n",
"// DisplayExtensions.DisplayAs(svgString2,\"image/svg+xml\")\n"]
          }
,
          {
           "cell_type": "code",
           "metadata": {},
            "execution_count": null, "outputs": [], 
           "source": ["DisplayExtensions.DisplayAs(base64PNG,\"text/html\")\n",
"DisplayExtensions.DisplayAs(svgString,\"image/svg+xml\")\n"]
          }],
            "metadata": {
            "kernelspec": {"display_name": ".NET (F#)", "language": "F#", "name": ".net-fsharp"},
            "langauge_info": {
        "file_extension": ".fs",
        "mimetype": "text/x-fsharp",
        "name": "C#",
        "pygments_lexer": "fsharp",
        "version": "4.5"
        }
        },
            "nbformat": 4,
            "nbformat_minor": 1
        }
        

