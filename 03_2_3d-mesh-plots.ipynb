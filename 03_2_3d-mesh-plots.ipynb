
        {
            "cells": [
          {
           "cell_type": "markdown",
           "metadata": {},
           
           "source": ["// can\u0027t yet format YamlFrontmatter ([\"title: 3D Mesh plots\"; \"category: 3D Charts\"; \"categoryindex: 4\"; \"index: 3\"], Some { StartLine = 2 StartColumn = 0 EndLine = 6 EndColumn = 8 }) to pynb markdown\n",
"\n"]
          }
,
          {
           "cell_type": "code",
           "metadata": {},
            "execution_count": null, "outputs": [], 
           "source": ["#r \"nuget: Plotly.NET, 2.0.0-preview.9\"\n",
"#r \"nuget: Plotly.NET.Interactive, 2.0.0-preview.9\"\n"]
          }
,
          {
           "cell_type": "markdown",
           "metadata": {},
           
           "source": ["# 3D Mesh plots\n",
"\n",
"[![Binder](https://plotly.net/img/badge-binder.svg)](https://mybinder.org/v2/gh/plotly/Plotly.NET/gh-pages?filepath=03_2_3d-mesh-plots.ipynb)\u0026emsp;\n",
"[![Script](https://plotly.net/img/badge-script.svg)](https://plotly.net/03_2_3d-mesh-plots.fsx)\u0026emsp;\n",
"[![Notebook](https://plotly.net/img/badge-notebook.svg)](https://plotly.net/03_2_3d-mesh-plots.ipynb)\n",
"\n",
"*Summary:* This example shows how to create 3D-Mesh charts in F#.\n",
"\n",
"let\u0027s first create some data for the purpose of creating example charts:\n",
"\n"]
          }
,
          {
           "cell_type": "code",
           "metadata": {},
            "execution_count": 3, "outputs": [], 
           "source": ["open System\n",
"open Plotly.NET \n",
"\n",
"\n",
"//---------------------- Generate linearly spaced vector ----------------------\n",
"let linspace (min,max,n) = \n",
"    if n \u003c= 2 then failwithf \"n needs to be larger then 2\"\n",
"    let bw = float (max - min) / (float n - 1.)\n",
"    Array.init n (fun i -\u003e min + (bw * float i))\n",
"    //[|min ..bw ..max|]\n",
"\n",
"//---------------------- Create example data ----------------------\n",
"let size = 100\n",
"let x = linspace(-2. * Math.PI, 2. * Math.PI, size)\n",
"let y = linspace(-2. * Math.PI, 2. * Math.PI, size)\n",
"\n",
"let f x y = - (5. * x / (x**2. + y**2. + 1.) )\n",
"\n",
"let z = \n",
"    Array.init size (fun i -\u003e \n",
"        Array.init size (fun j -\u003e \n",
"            f x.[j] y.[i] \n",
"        )\n",
"    )\n",
"\n",
"let rnd = System.Random()\n",
"let a = Array.init 50 (fun _ -\u003e rnd.NextDouble())\n",
"let b = Array.init 50 (fun _ -\u003e rnd.NextDouble())\n",
"let c = Array.init 50 (fun _ -\u003e rnd.NextDouble())\n",
"\n",
"open Plotly.NET.TraceObjects\n",
"\n",
"let mesh3d =\n",
"    Trace3D.initMesh3d \n",
"        (fun mesh3d -\u003e\n",
"            mesh3d?x \u003c- a\n",
"            mesh3d?y \u003c- b\n",
"            mesh3d?z \u003c- c\n",
"            mesh3d?flatshading \u003c- true\n",
"            mesh3d?contour \u003c- Contours.initXyz(Show=true)\n",
"            mesh3d\n",
"            )\n",
"    |\u003e GenericChart.ofTraceObject \n",
"    \n"]
          }
,
          {
           "cell_type": "code",
           "metadata": {},
            "execution_count": null, "outputs": [
          {
           "data": {
            "text/html": ["\u003cdiv id=\"b9115214-0e83-477b-a852-b2217418b7ed\" style=\"width: 600px; height: 600px;\"\u003e\u003c!-- Plotly chart will be drawn inside this DIV --\u003e\u003c/div\u003e",
"\u003cscript type=\"text/javascript\"\u003e",
"",
"            var renderPlotly_b91152140e83477ba852b2217418b7ed = function() {",
"            var fsharpPlotlyRequire = requirejs.config({context:\u0027fsharp-plotly\u0027,paths:{plotly:\u0027https://cdn.plot.ly/plotly-2.4.2.min\u0027}}) || require;",
"            fsharpPlotlyRequire([\u0027plotly\u0027], function(Plotly) {",
"",
"            var data = [{\"type\":\"mesh3d\",\"x\":[0.7343446084923785,0.0167615581381887,0.42624546514183537,0.407206116433817,0.05926879265311583,0.2522166339923705,0.7324263149557758,0.780229866867992,0.716475874053536,0.35517080051599575,0.6749527192092281,0.6507889962060326,0.3965758101067393,0.16489186750952706,0.32885676404873687,0.3526127805712692,0.7023121331363508,0.9744399990767427,0.14137028536823126,0.876440943161231,0.4890058913682615,0.09018935779584077,0.5364764260763658,0.9881523577441239,0.7260483883908244,0.852719454491846,0.005384899212692352,0.12001065310091276,0.3019290246544075,0.7140526984418056,0.8017424688682624,0.49055160791173186,0.6822638384449593,0.23223791235696428,0.6295123582843283,0.14955039701869263,0.0005359784702472288,0.19694920778132471,0.6460459328470965,0.16223407963394842,0.14840050653945677,0.029294533668688748,0.41515259696876283,0.6164653304109654,0.30014691329568016,0.5786431588133066,0.9812691756436923,0.01955348254160652,0.5778563635320665,0.1094925515863544],\"y\":[0.6467750252442318,0.9554599635095615,0.15632563650436962,0.5571987957494328,0.3324798552004992,0.6441552506965377,0.4802851320618229,0.4380931073977114,0.6811577280429927,0.20654933816126983,0.24683173477967815,0.612415661854863,0.4783008422135845,0.002423175611730281,0.5534283316477334,0.18440111129749617,0.9685251577610733,0.16433789774977503,0.5353795092251987,0.17930636703004427,0.352076802101022,0.505362925355026,0.3283940662296461,0.9791362057342828,0.7280404366217742,0.4597113576995727,0.6750367608270779,0.9200110956654004,0.6880054444484438,0.1474052295775177,0.8714502788481536,0.9858314166710859,0.5421542895688463,0.19243647306805312,0.06727767319757383,0.8462825053587009,0.33422597140736227,0.1250650426955265,0.8997580571564651,0.9853571075877906,0.6692652649568698,0.5624428710725358,0.5157914797383321,0.43949659468582675,0.9154023448542703,0.5359848446845937,0.5509936914551042,0.41272942135703256,0.06303699876323203,0.11574580199818398],\"z\":[0.6101180010522333,0.8169312778939173,0.48417397331640777,0.3985499965020223,0.7574157494853324,0.1414120998892058,0.6270658972799154,0.17718943077008678,0.8291583591276586,0.8727684975009264,0.9691184898694598,0.5602740363964225,0.7500876629492677,0.5337524984654749,0.3350990593131162,0.2610003181085923,0.07026137228601675,0.28586436914553137,0.9351455024141565,0.7071458262890326,0.8501751398901339,0.8434601150655467,0.26457984059331,0.5500224016374081,0.5100411020731744,0.7896339310284862,0.9895714456166939,0.8888974715438194,0.06373386088001257,0.19205559193718041,0.9087176662444685,0.2623073394700453,0.8569740969021684,0.5722596424502598,0.5372872285252843,0.05451900095423637,0.5016574433546781,0.14360429306682398,0.4350207235827207,0.925865573308368,0.2192166080787855,0.15703654063727546,0.2959066835678679,0.026989559655538554,0.01623861771833087,0.10899122856044734,0.8123552081232682,0.9820389812728572,0.10439753537271057,0.6544020267456779],\"flatshading\":true,\"contour\":{\"x\":{\"show\":true},\"y\":{\"show\":true},\"z\":{\"show\":true}}}];",
"            var layout = {};",
"            var config = {};",
"            Plotly.newPlot(\u0027b9115214-0e83-477b-a852-b2217418b7ed\u0027, data, layout, config);",
"});",
"            };",
"            if ((typeof(requirejs) !==  typeof(Function)) || (typeof(requirejs.config) !== typeof(Function))) {",
"                var script = document.createElement(\"script\");",
"                script.setAttribute(\"src\", \"https://cdnjs.cloudflare.com/ajax/libs/require.js/2.3.6/require.min.js\");",
"                script.onload = function(){",
"                    renderPlotly_b91152140e83477ba852b2217418b7ed();",
"                };",
"                document.getElementsByTagName(\"head\")[0].appendChild(script);",
"            }",
"            else {",
"                renderPlotly_b91152140e83477ba852b2217418b7ed();",
"            }",
"\u003c/script\u003e",
""]
        },
           "execution_count": null,
           "metadata": {},
           "output_type": "execute_result"
          }], 
           "source": ["mesh3d\n"]
          }],
            "metadata": {
            "kernelspec": {"display_name": ".NET (F#)", "language": "F#", "name": ".net-fsharp"},
            "langauge_info": {
        "file_extension": ".fs",
        "mimetype": "text/x-fsharp",
        "name": "C#",
        "pygments_lexer": "fsharp",
        "version": "4.5"
        }
        },
            "nbformat": 4,
            "nbformat_minor": 1
        }
        

