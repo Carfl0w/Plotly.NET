
        {
            "cells": [
          {
           "cell_type": "markdown",
           "metadata": {},
           
           "source": ["// can\u0027t yet format YamlFrontmatter ([\"title: 3D Mesh plots\"; \"category: 3D Charts\"; \"categoryindex: 4\"; \"index: 3\"], Some { StartLine = 2 StartColumn = 0 EndLine = 6 EndColumn = 8 }) to pynb markdown\n",
"\n"]
          }
,
          {
           "cell_type": "code",
           "metadata": {},
            "execution_count": null, "outputs": [], 
           "source": ["#r \"nuget: Plotly.NET, 2.0.0-preview.12\"\n",
"#r \"nuget: Plotly.NET.Interactive, 2.0.0-preview.12\"\n"]
          }
,
          {
           "cell_type": "markdown",
           "metadata": {},
           
           "source": ["# 3D Mesh plots\n",
"\n",
"[![Binder](https://plotly.net/img/badge-binder.svg)](https://mybinder.org/v2/gh/plotly/Plotly.NET/gh-pages?filepath=03_2_3d-mesh-plots.ipynb)\u0026emsp;\n",
"[![Script](https://plotly.net/img/badge-script.svg)](https://plotly.net/03_2_3d-mesh-plots.fsx)\u0026emsp;\n",
"[![Notebook](https://plotly.net/img/badge-notebook.svg)](https://plotly.net/03_2_3d-mesh-plots.ipynb)\n",
"\n",
"*Summary:* This example shows how to create 3D-Mesh charts in F#.\n",
"\n",
"let\u0027s first create some data for the purpose of creating example charts:\n",
"\n"]
          }
,
          {
           "cell_type": "code",
           "metadata": {},
            "execution_count": 3, "outputs": [], 
           "source": ["open System\n",
"open Plotly.NET \n",
"\n",
"\n",
"//---------------------- Generate linearly spaced vector ----------------------\n",
"let linspace (min,max,n) = \n",
"    if n \u003c= 2 then failwithf \"n needs to be larger then 2\"\n",
"    let bw = float (max - min) / (float n - 1.)\n",
"    Array.init n (fun i -\u003e min + (bw * float i))\n",
"    //[|min ..bw ..max|]\n",
"\n",
"//---------------------- Create example data ----------------------\n",
"let size = 100\n",
"let x = linspace(-2. * Math.PI, 2. * Math.PI, size)\n",
"let y = linspace(-2. * Math.PI, 2. * Math.PI, size)\n",
"\n",
"let f x y = - (5. * x / (x**2. + y**2. + 1.) )\n",
"\n",
"let z = \n",
"    Array.init size (fun i -\u003e \n",
"        Array.init size (fun j -\u003e \n",
"            f x.[j] y.[i] \n",
"        )\n",
"    )\n",
"\n",
"let rnd = System.Random()\n",
"let a = Array.init 50 (fun _ -\u003e rnd.NextDouble())\n",
"let b = Array.init 50 (fun _ -\u003e rnd.NextDouble())\n",
"let c = Array.init 50 (fun _ -\u003e rnd.NextDouble())\n",
"\n",
"open Plotly.NET.TraceObjects\n",
"\n",
"let mesh3d =\n",
"    Trace3D.initMesh3d \n",
"        (fun mesh3d -\u003e\n",
"            mesh3d?x \u003c- a\n",
"            mesh3d?y \u003c- b\n",
"            mesh3d?z \u003c- c\n",
"            mesh3d?flatshading \u003c- true\n",
"            mesh3d?contour \u003c- Contours.initXyz(Show=true)\n",
"            mesh3d\n",
"            )\n",
"    |\u003e GenericChart.ofTraceObject \n",
"    \n"]
          }
,
          {
           "cell_type": "code",
           "metadata": {},
            "execution_count": null, "outputs": [
          {
           "data": {
            "text/html": ["\u003cdiv id=\"090fcb28-c5ca-4bfd-8673-50116fbb9462\" style=\"width: 600px; height: 600px;\"\u003e\u003c!-- Plotly chart will be drawn inside this DIV --\u003e\u003c/div\u003e",
"\u003cscript type=\"text/javascript\"\u003e",
"",
"            var renderPlotly_090fcb28c5ca4bfd867350116fbb9462 = function() {",
"            var fsharpPlotlyRequire = requirejs.config({context:\u0027fsharp-plotly\u0027,paths:{plotly:\u0027https://cdn.plot.ly/plotly-2.4.2.min\u0027}}) || require;",
"            fsharpPlotlyRequire([\u0027plotly\u0027], function(Plotly) {",
"",
"            var data = [{\"type\":\"mesh3d\",\"x\":[0.7117238648756052,0.16401598796435446,0.5205197206328249,0.3126217864046906,0.6670358053720723,0.6949463592353027,0.014403924818338791,0.7686628805327522,0.9772093505492477,0.6404226811790944,0.5906026319556882,0.09754091412645807,0.7876146150695228,0.8315930505430293,0.8115355706827415,0.4600441336911377,0.12569021718841522,0.4357247913422644,0.5658819952820809,0.3556180258074859,0.812070519575882,0.03430872319001179,0.1161308927070959,0.04057079182964321,0.22765991428292354,0.03285903205762572,0.07748493695514506,0.791192122172188,0.9590447116452477,0.3203247749806963,0.49047027132030124,0.9977268385690297,0.7362898172514,0.5526672655496129,0.8716773921026277,0.5724865806160898,0.6229982020440503,0.2771334016123476,0.8245964412691986,0.8696978370983609,0.33571502675102793,0.24088566714938994,0.5742034751801768,0.48321699420139985,0.8755451039762912,0.915051006672462,0.2728351090442553,0.23489147808164892,0.36799471237137665,0.6611367844329853],\"y\":[0.6862388200528169,0.5386191590403295,0.7109773665252036,0.1428939244443988,0.5055340493589332,0.6774151416855935,0.04788509525725855,0.4799489288031817,0.08496187212176708,0.6341767733144466,0.6174614222801577,0.22321180264615073,0.8096181688875045,0.6568845755685515,0.1499524098587932,0.5928757933866585,0.3612510968750581,0.23494734951990998,0.9599156584404016,0.23904899006665173,0.8370459316470874,0.8485568155760675,0.6111283500730658,0.69618415818372,0.019902999056458006,0.5711848524264921,0.46010524800983504,0.632913898505696,0.16502568785335203,0.31260890761046156,0.7600239230133704,0.8425934588734961,0.4231974098008114,0.2979079272122625,0.6340859549278793,0.9518511122799717,0.286749472043826,0.5933958928070012,0.04713321619067957,0.19426225041703427,0.5246014853588312,0.1430492732408686,0.19217152949058056,0.19041966795475207,0.25223641481820325,0.1125032241048772,0.4312674982618855,0.9173188996116253,0.33326458434260664,0.2826693105896326],\"z\":[0.5537999097974039,0.03788775952434528,0.2749758196412473,0.12894572230472495,0.8240908527858979,0.8376820044767493,0.9274908089672638,0.01479320834148359,0.1229909253879408,0.9343491969324412,0.21730989367575845,0.4149711967515625,0.3149232409498297,0.7723529645113055,0.8741528503010761,0.7748679634066615,0.8000143928453394,0.5117102416752419,0.0227986206406721,0.19810129757882156,0.3061263213428326,0.7678552040680569,0.18781413332923041,0.7656534080233673,0.7144475047078205,0.6939966584062188,0.656385286085487,0.4207086821183137,0.4439477433655168,0.9073997749515809,0.1399173541646066,0.5427863483982097,0.29964931416308943,0.8823563772637194,0.7588089978130577,0.7221361634890252,0.5676176392322488,0.29425168749608643,0.47381707442636467,0.79640395045113,0.024360303312707835,0.2719562637023424,0.4704049674190604,0.11278401925823839,0.9769523567412758,0.10963028860726873,0.8281260322910389,0.419818564979275,0.3162668176536759,0.47736845141154177],\"flatshading\":true,\"contour\":{\"x\":{\"show\":true},\"y\":{\"show\":true},\"z\":{\"show\":true}}}];",
"            var layout = {};",
"            var config = {};",
"            Plotly.newPlot(\u0027090fcb28-c5ca-4bfd-8673-50116fbb9462\u0027, data, layout, config);",
"});",
"            };",
"            if ((typeof(requirejs) !==  typeof(Function)) || (typeof(requirejs.config) !== typeof(Function))) {",
"                var script = document.createElement(\"script\");",
"                script.setAttribute(\"src\", \"https://cdnjs.cloudflare.com/ajax/libs/require.js/2.3.6/require.min.js\");",
"                script.onload = function(){",
"                    renderPlotly_090fcb28c5ca4bfd867350116fbb9462();",
"                };",
"                document.getElementsByTagName(\"head\")[0].appendChild(script);",
"            }",
"            else {",
"                renderPlotly_090fcb28c5ca4bfd867350116fbb9462();",
"            }",
"\u003c/script\u003e",
""]
        },
           "execution_count": null,
           "metadata": {},
           "output_type": "execute_result"
          }], 
           "source": ["mesh3d\n"]
          }],
            "metadata": {
            "kernelspec": {"display_name": ".NET (F#)", "language": "F#", "name": ".net-fsharp"},
            "langauge_info": {
        "file_extension": ".fs",
        "mimetype": "text/x-fsharp",
        "name": "C#",
        "pygments_lexer": "fsharp",
        "version": "4.5"
        }
        },
            "nbformat": 4,
            "nbformat_minor": 1
        }
        

