
        {
            "cells": [
          {
           "cell_type": "markdown",
           "metadata": {},
           
           "source": ["// can\u0027t yet format YamlFrontmatter ([\"title: 3D Mesh plots\"; \"category: 3D Charts\"; \"categoryindex: 4\"; \"index: 3\"], Some { StartLine = 2 StartColumn = 0 EndLine = 6 EndColumn = 8 }) to pynb markdown\n",
"\n"]
          }
,
          {
           "cell_type": "code",
           "metadata": {},
            "execution_count": null, "outputs": [], 
           "source": ["#r \"nuget: Plotly.NET, 2.0.0-preview.10\"\n",
"#r \"nuget: Plotly.NET.Interactive, 2.0.0-preview.10\"\n"]
          }
,
          {
           "cell_type": "markdown",
           "metadata": {},
           
           "source": ["# 3D Mesh plots\n",
"\n",
"[![Binder](https://plotly.net/img/badge-binder.svg)](https://mybinder.org/v2/gh/plotly/Plotly.NET/gh-pages?filepath=03_2_3d-mesh-plots.ipynb)\u0026emsp;\n",
"[![Script](https://plotly.net/img/badge-script.svg)](https://plotly.net/03_2_3d-mesh-plots.fsx)\u0026emsp;\n",
"[![Notebook](https://plotly.net/img/badge-notebook.svg)](https://plotly.net/03_2_3d-mesh-plots.ipynb)\n",
"\n",
"*Summary:* This example shows how to create 3D-Mesh charts in F#.\n",
"\n",
"let\u0027s first create some data for the purpose of creating example charts:\n",
"\n"]
          }
,
          {
           "cell_type": "code",
           "metadata": {},
            "execution_count": 3, "outputs": [], 
           "source": ["open System\n",
"open Plotly.NET \n",
"\n",
"\n",
"//---------------------- Generate linearly spaced vector ----------------------\n",
"let linspace (min,max,n) = \n",
"    if n \u003c= 2 then failwithf \"n needs to be larger then 2\"\n",
"    let bw = float (max - min) / (float n - 1.)\n",
"    Array.init n (fun i -\u003e min + (bw * float i))\n",
"    //[|min ..bw ..max|]\n",
"\n",
"//---------------------- Create example data ----------------------\n",
"let size = 100\n",
"let x = linspace(-2. * Math.PI, 2. * Math.PI, size)\n",
"let y = linspace(-2. * Math.PI, 2. * Math.PI, size)\n",
"\n",
"let f x y = - (5. * x / (x**2. + y**2. + 1.) )\n",
"\n",
"let z = \n",
"    Array.init size (fun i -\u003e \n",
"        Array.init size (fun j -\u003e \n",
"            f x.[j] y.[i] \n",
"        )\n",
"    )\n",
"\n",
"let rnd = System.Random()\n",
"let a = Array.init 50 (fun _ -\u003e rnd.NextDouble())\n",
"let b = Array.init 50 (fun _ -\u003e rnd.NextDouble())\n",
"let c = Array.init 50 (fun _ -\u003e rnd.NextDouble())\n",
"\n",
"open Plotly.NET.TraceObjects\n",
"\n",
"let mesh3d =\n",
"    Trace3D.initMesh3d \n",
"        (fun mesh3d -\u003e\n",
"            mesh3d?x \u003c- a\n",
"            mesh3d?y \u003c- b\n",
"            mesh3d?z \u003c- c\n",
"            mesh3d?flatshading \u003c- true\n",
"            mesh3d?contour \u003c- Contours.initXyz(Show=true)\n",
"            mesh3d\n",
"            )\n",
"    |\u003e GenericChart.ofTraceObject \n",
"    \n"]
          }
,
          {
           "cell_type": "code",
           "metadata": {},
            "execution_count": null, "outputs": [
          {
           "data": {
            "text/html": ["\u003cdiv id=\"7fe4c71a-68c8-4292-9b0f-d4615ef4a7c3\" style=\"width: 600px; height: 600px;\"\u003e\u003c!-- Plotly chart will be drawn inside this DIV --\u003e\u003c/div\u003e",
"\u003cscript type=\"text/javascript\"\u003e",
"",
"            var renderPlotly_7fe4c71a68c842929b0fd4615ef4a7c3 = function() {",
"            var fsharpPlotlyRequire = requirejs.config({context:\u0027fsharp-plotly\u0027,paths:{plotly:\u0027https://cdn.plot.ly/plotly-2.4.2.min\u0027}}) || require;",
"            fsharpPlotlyRequire([\u0027plotly\u0027], function(Plotly) {",
"",
"            var data = [{\"type\":\"mesh3d\",\"x\":[0.18014348073869174,0.3801804149431085,0.869362549329811,0.9137137652904325,0.05699678792478367,0.5746157539890221,0.38966082799698265,0.08167562451291625,0.7181603408968823,0.18314601489489246,0.3165402893519682,0.6231296270262122,0.4176429172128639,0.7055408073149346,0.9902360332152974,0.9723136895207286,0.9584474460959655,0.6401596887224166,0.6792346125837576,0.2552066511731626,0.1877436662035732,0.9977755350981725,0.8658573035457439,0.7568335755527176,0.9306677956742551,0.8155786329021578,0.11566686169973894,0.6278783430475176,0.5506581648023139,0.46747798354713155,0.5216294911325116,0.7232720641061999,0.4227842578770519,0.28157307034431633,0.49322409717981897,0.4306739682474518,0.9992834087457896,0.7887691453978276,0.16584390130166146,0.8552916053940037,0.5327076038963663,0.1295046895414147,0.9808008610181514,0.7265523242422157,0.2672309862762834,0.0235128630993482,0.014573603409609573,0.2685078113658856,0.039647626243367616,0.16330601841365266],\"y\":[0.6622008814766076,0.5798095886501529,0.5796729994843123,0.918539180382406,0.6242763551996445,0.18236794564051922,0.5143231113973646,0.11252897377709345,0.9830459696161775,0.2414181550226259,0.45894889228928315,0.7617824849494651,0.5310174597106024,0.25068235734975075,0.6615165237623809,0.5932682252457683,0.2003453691491603,0.13606984686854753,0.21231671013511563,0.5595620649678456,0.973030280774939,0.169678300698138,0.47431578742075514,0.8239430071897539,0.7224990472767964,0.05823897666215849,0.01697467408002106,0.1393049793035281,0.4896025892764342,0.9071549325749069,0.8010050294925483,0.8471590503338534,0.5882307168041498,0.38735214638866117,0.8052771020705239,0.9418199024823587,0.14359906462188768,0.504245077494646,0.6572967151446718,0.3108561515392997,0.9163508568500871,0.8867544349686962,0.8057231757816501,0.9244257462790356,0.3963427131047206,0.7709251189469011,0.5984872298308123,0.7301185036684007,0.0650358004798348,0.6739627610305151],\"z\":[0.823167493950188,0.878503756541062,0.05619110123076993,0.48008556127552204,0.19027573763871367,0.4925225807784696,0.10549380122939768,0.7557299922945583,0.19604013310560964,0.566037378537486,0.16539327156049818,0.3750181320938366,0.6229263845006593,0.07589103704127066,0.44041312553007766,0.6117898419554298,0.17355176814531525,0.1436653133219412,0.4454052552792268,0.7196966212800222,0.4496691606238806,0.6961002916545143,0.4787731317238757,0.901460558595816,0.6432112081177584,0.08627584580624283,0.3639551249164879,0.5498900411417196,0.42760029408503336,0.9515739283298952,0.4597517468313462,0.28685617041162037,0.07426917882369327,0.8156398282459191,0.0839874386247189,0.9225012729514862,0.7909679491030834,0.10814515552862787,0.1970764087499475,0.31275452129205433,0.836326101252961,0.38786907232732937,0.30820494438903634,0.09125933660718581,0.14546287997880153,0.5413327247562505,0.2638280504680369,0.7298321387403794,0.4840126207489579,0.7845528711492907],\"flatshading\":true,\"contour\":{\"x\":{\"show\":true},\"y\":{\"show\":true},\"z\":{\"show\":true}}}];",
"            var layout = {};",
"            var config = {};",
"            Plotly.newPlot(\u00277fe4c71a-68c8-4292-9b0f-d4615ef4a7c3\u0027, data, layout, config);",
"});",
"            };",
"            if ((typeof(requirejs) !==  typeof(Function)) || (typeof(requirejs.config) !== typeof(Function))) {",
"                var script = document.createElement(\"script\");",
"                script.setAttribute(\"src\", \"https://cdnjs.cloudflare.com/ajax/libs/require.js/2.3.6/require.min.js\");",
"                script.onload = function(){",
"                    renderPlotly_7fe4c71a68c842929b0fd4615ef4a7c3();",
"                };",
"                document.getElementsByTagName(\"head\")[0].appendChild(script);",
"            }",
"            else {",
"                renderPlotly_7fe4c71a68c842929b0fd4615ef4a7c3();",
"            }",
"\u003c/script\u003e",
""]
        },
           "execution_count": null,
           "metadata": {},
           "output_type": "execute_result"
          }], 
           "source": ["mesh3d\n"]
          }],
            "metadata": {
            "kernelspec": {"display_name": ".NET (F#)", "language": "F#", "name": ".net-fsharp"},
            "langauge_info": {
        "file_extension": ".fs",
        "mimetype": "text/x-fsharp",
        "name": "C#",
        "pygments_lexer": "fsharp",
        "version": "4.5"
        }
        },
            "nbformat": 4,
            "nbformat_minor": 1
        }
        

