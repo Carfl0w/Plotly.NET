
        {
            "cells": [
          {
           "cell_type": "markdown",
           "metadata": {},
           
           "source": ["// can\u0027t yet format YamlFrontmatter ([\"title: 3D Mesh plots\"; \"category: 3D Charts\"; \"categoryindex: 4\"; \"index: 3\"], Some { StartLine = 2 StartColumn = 0 EndLine = 6 EndColumn = 8 }) to pynb markdown\n",
"\n"]
          }
,
          {
           "cell_type": "code",
           "metadata": {},
            "execution_count": null, "outputs": [], 
           "source": ["#r \"nuget: Plotly.NET, 2.0.0-preview.11\"\n",
"#r \"nuget: Plotly.NET.Interactive, 2.0.0-preview.11\"\n"]
          }
,
          {
           "cell_type": "markdown",
           "metadata": {},
           
           "source": ["# 3D Mesh plots\n",
"\n",
"[![Binder](https://plotly.net/img/badge-binder.svg)](https://mybinder.org/v2/gh/plotly/Plotly.NET/gh-pages?filepath=03_2_3d-mesh-plots.ipynb)\u0026emsp;\n",
"[![Script](https://plotly.net/img/badge-script.svg)](https://plotly.net/03_2_3d-mesh-plots.fsx)\u0026emsp;\n",
"[![Notebook](https://plotly.net/img/badge-notebook.svg)](https://plotly.net/03_2_3d-mesh-plots.ipynb)\n",
"\n",
"*Summary:* This example shows how to create 3D-Mesh charts in F#.\n",
"\n",
"let\u0027s first create some data for the purpose of creating example charts:\n",
"\n"]
          }
,
          {
           "cell_type": "code",
           "metadata": {},
            "execution_count": 3, "outputs": [], 
           "source": ["open System\n",
"open Plotly.NET \n",
"\n",
"\n",
"//---------------------- Generate linearly spaced vector ----------------------\n",
"let linspace (min,max,n) = \n",
"    if n \u003c= 2 then failwithf \"n needs to be larger then 2\"\n",
"    let bw = float (max - min) / (float n - 1.)\n",
"    Array.init n (fun i -\u003e min + (bw * float i))\n",
"    //[|min ..bw ..max|]\n",
"\n",
"//---------------------- Create example data ----------------------\n",
"let size = 100\n",
"let x = linspace(-2. * Math.PI, 2. * Math.PI, size)\n",
"let y = linspace(-2. * Math.PI, 2. * Math.PI, size)\n",
"\n",
"let f x y = - (5. * x / (x**2. + y**2. + 1.) )\n",
"\n",
"let z = \n",
"    Array.init size (fun i -\u003e \n",
"        Array.init size (fun j -\u003e \n",
"            f x.[j] y.[i] \n",
"        )\n",
"    )\n",
"\n",
"let rnd = System.Random()\n",
"let a = Array.init 50 (fun _ -\u003e rnd.NextDouble())\n",
"let b = Array.init 50 (fun _ -\u003e rnd.NextDouble())\n",
"let c = Array.init 50 (fun _ -\u003e rnd.NextDouble())\n",
"\n",
"open Plotly.NET.TraceObjects\n",
"\n",
"let mesh3d =\n",
"    Trace3D.initMesh3d \n",
"        (fun mesh3d -\u003e\n",
"            mesh3d?x \u003c- a\n",
"            mesh3d?y \u003c- b\n",
"            mesh3d?z \u003c- c\n",
"            mesh3d?flatshading \u003c- true\n",
"            mesh3d?contour \u003c- Contours.initXyz(Show=true)\n",
"            mesh3d\n",
"            )\n",
"    |\u003e GenericChart.ofTraceObject \n",
"    \n"]
          }
,
          {
           "cell_type": "code",
           "metadata": {},
            "execution_count": null, "outputs": [
          {
           "data": {
            "text/html": ["\u003cdiv id=\"b50c4e6e-dd26-404d-9e4d-1f2bda93590f\" style=\"width: 600px; height: 600px;\"\u003e\u003c!-- Plotly chart will be drawn inside this DIV --\u003e\u003c/div\u003e",
"\u003cscript type=\"text/javascript\"\u003e",
"",
"            var renderPlotly_b50c4e6edd26404d9e4d1f2bda93590f = function() {",
"            var fsharpPlotlyRequire = requirejs.config({context:\u0027fsharp-plotly\u0027,paths:{plotly:\u0027https://cdn.plot.ly/plotly-2.4.2.min\u0027}}) || require;",
"            fsharpPlotlyRequire([\u0027plotly\u0027], function(Plotly) {",
"",
"            var data = [{\"type\":\"mesh3d\",\"x\":[0.7733695566530198,0.37760483211726176,0.772502156799893,0.3441235652864555,0.9693937930135959,0.6538414473896108,0.2606986096411471,0.9980908888383261,0.1648493069991699,0.38882119925172126,0.7743136048197344,0.7292039611978475,0.20952463997971482,0.4822816706645683,0.9250252921716428,0.697832054783512,0.25050698046130454,0.6970958177452422,0.6178295284592684,0.6175301827571961,0.5719394439700709,0.8647783332805979,0.4711223856877174,0.6118830720018051,0.9966467409379066,0.6039460271615283,0.9511554175760389,0.016833735172093724,0.4525704609474961,0.32301290208614103,0.43878750197532934,0.9847717545855659,0.2199145207274307,0.35431054064739054,0.36967074981409626,0.29210593518433436,0.4251205611159655,0.705122859545575,0.6931392600262255,0.7497206310507472,0.5484053192419956,0.737379080027984,0.3196976102514647,0.14449797344603482,0.06456367627930067,0.6476976334339463,0.37559987296145403,0.007912002973217518,0.9349807602981948,0.3078236995766981],\"y\":[0.008568867113706129,0.0170310055916342,0.303196118354423,0.35675420069915903,0.5663842566154824,0.9085912233724218,0.9064824464295443,0.16061908479808787,0.3474768243485488,0.3654477658520675,0.7026860298135719,0.24386487446905342,0.54552042789083,0.8418364049130289,0.9500336972763919,0.7895418502341686,0.5092894404704168,0.8552140993323243,0.11261092085047202,0.6329193569873084,0.27271149366754643,0.5453841209157296,0.003956557719016708,0.8681088974085213,0.0691248635152005,0.8345603639420869,0.5450807230291332,0.3266244122416826,0.5473193957225044,0.3489491075039604,0.22834615420007434,0.9432434146028215,0.081852974873899,0.144746761370798,0.3144440349724349,0.42175649638369517,0.6815756362311428,0.8631603200282717,0.7879262840319081,0.46107952644167444,0.38562348875479,0.2645014763178776,0.3576460351970261,0.32769149417415794,0.04703460123717534,0.3045404447729422,0.19185865213715408,0.4778612053384358,0.19446427616964293,0.27502182604513215],\"z\":[0.13840819296352946,0.5203857736291297,0.8953010821227455,0.3020614033108863,0.03511220590915168,0.4631847461979765,0.01307444787261749,0.4350872209459018,0.28762933718395856,0.7318238926733955,0.3635105003432885,0.5798580341878617,0.6132996890755834,0.9985277168445884,0.13710161165199317,0.7594426152107504,0.1620118995951544,0.40077366652003193,0.527392369940594,0.5282772008926967,0.10796621400302565,0.6461291204421451,0.06728781530041611,0.6515313944087976,0.24729586823251837,0.008210017349668787,0.18773808571870348,0.6762650635448587,0.8210742961713459,0.7645844187422582,0.6427017118049327,0.06721951769069746,0.13216013607203966,0.2722975696773723,0.21054091454043095,0.7079603805709446,0.04794233248007592,0.7797915715630127,0.10963455546164631,0.8512592887744583,0.4086820485110777,0.24648841528524104,0.5755309828443131,0.05610239135851264,0.09756902609838593,0.8057654545669283,0.6512017872422942,0.35911831835243774,0.1905898825221648,0.2875919860264249],\"flatshading\":true,\"contour\":{\"x\":{\"show\":true},\"y\":{\"show\":true},\"z\":{\"show\":true}}}];",
"            var layout = {};",
"            var config = {};",
"            Plotly.newPlot(\u0027b50c4e6e-dd26-404d-9e4d-1f2bda93590f\u0027, data, layout, config);",
"});",
"            };",
"            if ((typeof(requirejs) !==  typeof(Function)) || (typeof(requirejs.config) !== typeof(Function))) {",
"                var script = document.createElement(\"script\");",
"                script.setAttribute(\"src\", \"https://cdnjs.cloudflare.com/ajax/libs/require.js/2.3.6/require.min.js\");",
"                script.onload = function(){",
"                    renderPlotly_b50c4e6edd26404d9e4d1f2bda93590f();",
"                };",
"                document.getElementsByTagName(\"head\")[0].appendChild(script);",
"            }",
"            else {",
"                renderPlotly_b50c4e6edd26404d9e4d1f2bda93590f();",
"            }",
"\u003c/script\u003e",
""]
        },
           "execution_count": null,
           "metadata": {},
           "output_type": "execute_result"
          }], 
           "source": ["mesh3d\n"]
          }],
            "metadata": {
            "kernelspec": {"display_name": ".NET (F#)", "language": "F#", "name": ".net-fsharp"},
            "langauge_info": {
        "file_extension": ".fs",
        "mimetype": "text/x-fsharp",
        "name": "C#",
        "pygments_lexer": "fsharp",
        "version": "4.5"
        }
        },
            "nbformat": 4,
            "nbformat_minor": 1
        }
        

