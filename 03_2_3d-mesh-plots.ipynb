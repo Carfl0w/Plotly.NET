
        {
            "cells": [
          {
           "cell_type": "markdown",
           "metadata": {},
           
           "source": ["// can\u0027t yet format YamlFrontmatter ([\"title: 3D Mesh plots\"; \"category: 3D Charts\"; \"categoryindex: 4\"; \"index: 3\"], Some { StartLine = 2 StartColumn = 0 EndLine = 6 EndColumn = 8 }) to pynb markdown\n",
"\n"]
          }
,
          {
           "cell_type": "code",
           "metadata": {},
            "execution_count": null, "outputs": [], 
           "source": ["#r \"nuget: Plotly.NET, 2.0.0-preview.8\"\n",
"#r \"nuget: Plotly.NET.Interactive, 2.0.0-preview.8\"\n"]
          }
,
          {
           "cell_type": "markdown",
           "metadata": {},
           
           "source": ["# 3D Mesh plots\n",
"\n",
"[![Binder](https://plotly.net/img/badge-binder.svg)](https://mybinder.org/v2/gh/plotly/Plotly.NET/gh-pages?filepath=03_2_3d-mesh-plots.ipynb)\u0026emsp;\n",
"[![Script](https://plotly.net/img/badge-script.svg)](https://plotly.net/03_2_3d-mesh-plots.fsx)\u0026emsp;\n",
"[![Notebook](https://plotly.net/img/badge-notebook.svg)](https://plotly.net/03_2_3d-mesh-plots.ipynb)\n",
"\n",
"*Summary:* This example shows how to create 3D-Mesh charts in F#.\n",
"\n",
"let\u0027s first create some data for the purpose of creating example charts:\n",
"\n"]
          }
,
          {
           "cell_type": "code",
           "metadata": {},
            "execution_count": 3, "outputs": [], 
           "source": ["open System\n",
"open Plotly.NET \n",
"\n",
"\n",
"//---------------------- Generate linearly spaced vector ----------------------\n",
"let linspace (min,max,n) = \n",
"    if n \u003c= 2 then failwithf \"n needs to be larger then 2\"\n",
"    let bw = float (max - min) / (float n - 1.)\n",
"    Array.init n (fun i -\u003e min + (bw * float i))\n",
"    //[|min ..bw ..max|]\n",
"\n",
"//---------------------- Create example data ----------------------\n",
"let size = 100\n",
"let x = linspace(-2. * Math.PI, 2. * Math.PI, size)\n",
"let y = linspace(-2. * Math.PI, 2. * Math.PI, size)\n",
"\n",
"let f x y = - (5. * x / (x**2. + y**2. + 1.) )\n",
"\n",
"let z = \n",
"    Array.init size (fun i -\u003e \n",
"        Array.init size (fun j -\u003e \n",
"            f x.[j] y.[i] \n",
"        )\n",
"    )\n",
"\n",
"let rnd = System.Random()\n",
"let a = Array.init 50 (fun _ -\u003e rnd.NextDouble())\n",
"let b = Array.init 50 (fun _ -\u003e rnd.NextDouble())\n",
"let c = Array.init 50 (fun _ -\u003e rnd.NextDouble())\n",
"\n",
"open Plotly.NET.TraceObjects\n",
"\n",
"let mesh3d =\n",
"    Trace3D.initMesh3d \n",
"        (fun mesh3d -\u003e\n",
"            mesh3d?x \u003c- a\n",
"            mesh3d?y \u003c- b\n",
"            mesh3d?z \u003c- c\n",
"            mesh3d?flatshading \u003c- true\n",
"            mesh3d?contour \u003c- Contours.initXyz(Show=true)\n",
"            mesh3d\n",
"            )\n",
"    |\u003e GenericChart.ofTraceObject \n",
"    \n"]
          }
,
          {
           "cell_type": "code",
           "metadata": {},
            "execution_count": null, "outputs": [
          {
           "data": {
            "text/html": ["\u003cdiv id=\"c87b9c17-0046-4620-958f-3133cbd714d0\" style=\"width: 600px; height: 600px;\"\u003e\u003c!-- Plotly chart will be drawn inside this DIV --\u003e\u003c/div\u003e",
"\u003cscript type=\"text/javascript\"\u003e",
"",
"            var renderPlotly_c87b9c1700464620958f3133cbd714d0 = function() {",
"            var fsharpPlotlyRequire = requirejs.config({context:\u0027fsharp-plotly\u0027,paths:{plotly:\u0027https://cdn.plot.ly/plotly-latest.min\u0027}}) || require;",
"            fsharpPlotlyRequire([\u0027plotly\u0027], function(Plotly) {",
"",
"            var data = [{\"type\":\"mesh3d\",\"x\":[0.6228337281489902,0.4502549541416834,0.9683220642471323,0.39455041307702216,0.1268648324193735,0.8916276068853343,0.6271695655897118,0.8558432668707535,0.8764436081407795,0.04308574043358012,0.6710477949450946,0.14087546856183347,0.7010933541232224,0.057431402177285124,0.5251430350007225,0.7391011448293464,0.17158785656634154,0.8430107561140371,0.8054333868461816,0.18103429124738754,0.7529384213280578,0.6208443295307664,0.7610107784909247,0.5266155388795843,0.4795694665422521,0.7741366702942815,0.5595833931861368,0.8084158938417285,0.8667941097481149,0.8478421870841841,0.8471716511282937,0.2419517344059198,0.6891385981296835,0.006778983402428675,0.785656834852722,0.5310425388305646,0.896285813253506,0.9023902038589074,0.7144097414400474,0.9495345502856815,0.9445770969356303,0.1065233303730019,0.5850999087957199,0.7352697848040936,0.07166689032300697,0.8988779559260597,0.8867309088291279,0.3700408839481142,0.15945839796190076,0.6958952609896172],\"y\":[0.8143359445102215,0.1508511086696997,0.37343982903912654,0.0970213758279669,0.2913261956029228,0.0019893986182237967,0.6892441756507588,0.441706525367548,0.91498094653477,0.35272816212509206,0.3320442136991975,0.8187536717479833,0.9890491571226386,0.028601421056595362,0.19591408930528634,0.4290960605391749,0.45173687043215005,0.6943143707207937,0.2717745673245632,0.9941004961701578,0.8428153315758404,0.2691976527074341,0.12860101467398974,0.8558988365605003,0.23645719431175719,0.6464150909550558,0.03574442073504646,0.02574099368683109,0.45494864855657735,0.5806915106161924,0.8874057614651536,0.18954250923802263,0.6489574958798278,0.17089884875849767,0.03350624257396266,0.6963205424585941,0.8685119053667932,0.5921172223017166,0.7154527877995058,0.7836674362344981,0.8417983631798058,0.45457928788595797,0.9874092573241374,0.3616815793149553,0.6174903365864839,0.12582342518764708,0.11747417325036329,0.5564984877391246,0.5393556954988072,0.6425708297838321],\"z\":[0.4471410854939097,0.1924165381083342,0.09826631662355098,0.16535790179174295,0.8530799294137769,0.5451382918027874,0.022250093995709947,0.5175409924786263,0.8605641815162097,0.6449111046478669,0.9662449778831773,0.6635031819639277,0.9867578768109707,0.3342894359185777,0.4653224006599385,0.14250170446117488,0.1697961758681555,0.8181503083641409,0.9950951784826327,0.4995935468466922,0.5605841551723816,0.8596196481304335,0.9788615829212878,0.48810713109006504,0.15230213299035195,0.3882360436898824,0.2817883953832967,0.7669194353590344,0.23840849997401634,0.11063376912411012,0.5289409177046925,0.4792459329959219,0.4863852981880239,0.8123778187727453,0.13355042512228266,0.6949892233568193,0.09127619261447163,0.4835995940880848,0.31781891934472084,0.4883679507711753,0.6740704484628841,0.3509709128881669,0.7315530407855069,0.07054168315163892,0.8174224583513208,0.1782951812158782,0.4678214110749873,0.6531198214055597,0.8963591786550168,0.474988632125309],\"flatshading\":true,\"contour\":{\"x\":{\"show\":true},\"y\":{\"show\":true},\"z\":{\"show\":true}}}];",
"            var layout = {};",
"            var config = {};",
"            Plotly.newPlot(\u0027c87b9c17-0046-4620-958f-3133cbd714d0\u0027, data, layout, config);",
"});",
"            };",
"            if ((typeof(requirejs) !==  typeof(Function)) || (typeof(requirejs.config) !== typeof(Function))) {",
"                var script = document.createElement(\"script\");",
"                script.setAttribute(\"src\", \"https://cdnjs.cloudflare.com/ajax/libs/require.js/2.3.6/require.min.js\");",
"                script.onload = function(){",
"                    renderPlotly_c87b9c1700464620958f3133cbd714d0();",
"                };",
"                document.getElementsByTagName(\"head\")[0].appendChild(script);",
"            }",
"            else {",
"                renderPlotly_c87b9c1700464620958f3133cbd714d0();",
"            }",
"\u003c/script\u003e",
""]
        },
           "execution_count": null,
           "metadata": {},
           "output_type": "execute_result"
          }], 
           "source": ["mesh3d\n"]
          }],
            "metadata": {
            "kernelspec": {"display_name": ".NET (F#)", "language": "F#", "name": ".net-fsharp"},
            "langauge_info": {
        "file_extension": ".fs",
        "mimetype": "text/x-fsharp",
        "name": "C#",
        "pygments_lexer": "fsharp",
        "version": "4.5"
        }
        },
            "nbformat": 4,
            "nbformat_minor": 1
        }
        

