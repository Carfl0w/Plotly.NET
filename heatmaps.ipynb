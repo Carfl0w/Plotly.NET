
        {
            "cells": [
          {
           "cell_type": "code",
           "metadata": {},
            "execution_count": null, "outputs": [], 
           "source": ["#r \"nuget: Plotly.NET, 2.0.0-beta1\"\n",
"#r \"nuget: Plotly.NET.Interactive, 2.0.0-alpha5\"\n"]
          }
,
          {
           "cell_type": "markdown",
           "metadata": {},
           
           "source": ["# Heatmaps\n",
"\n",
"[![Binder](https://mybinder.org/badge_logo.svg)](https://mybinder.org/v2/gh/plotly/Plotly.NET/gh-pages?filepath=heatmaps.ipynb)\n",
"\n",
"*Summary:* This example shows how to create heatmap charts in F#.\n",
"\n",
"let\u0027s first create some data for the purpose of creating example charts:\n",
"\n"]
          }
,
          {
           "cell_type": "code",
           "metadata": {},
            "execution_count": 3, "outputs": [], 
           "source": ["open Plotly.NET \n",
" \n",
"let matrix =\n",
"    [[1.;1.5;0.7;2.7];\n",
"    [2.;0.5;1.2;1.4];\n",
"    [0.1;2.6;2.4;3.0];]\n",
"\n",
"let rownames = [\"p3\";\"p2\";\"p1\"]\n",
"let colnames = [\"Tp0\";\"Tp30\";\"Tp60\";\"Tp160\"]\n",
"\n",
"let colorscaleValue = \n",
"    StyleParam.Colorscale.Custom [(0.0,\"#3D9970\");(1.0,\"#001f3f\")]\n",
"\n",
"// Generating the Heatmap \n",
"let heat1 =\n",
"    Chart.Heatmap(\n",
"        matrix,colnames,rownames,\n",
"        Colorscale=colorscaleValue,\n",
"        Showscale=true\n",
"    )\n",
"    |\u003e Chart.withSize(700.,500.)\n",
"    |\u003e Chart.withMarginSize(Left=200.)\n"]
          }
,
          {
           "cell_type": "code",
           "metadata": {},
            "execution_count": null, "outputs": [
          {
           "data": {
            "text/plain": ["No value returned by any evaluator"]
        },
           "execution_count": null,
           "metadata": {},
           "output_type": "execute_result"
          }], 
           "source": ["heat1\n"]
          }
,
          {
           "cell_type": "markdown",
           "metadata": {},
           
           "source": ["A heatmap chart can be created using the `Chart.HeatMap` functions.\n",
"When creating heatmap charts, it is usually desirable to provide the values in matrix form, rownames and colnames.\n",
"## Styling Colorbars\n",
"\n",
"All charts that contain colorbars can be styled by the `Chart.withColorBarStyle` function.\n",
"Here is an example that adds a title to the colorbar:\n"]
          }
,
          {
           "cell_type": "code",
           "metadata": {},
            "execution_count": 5, "outputs": [], 
           "source": ["let heat2 =\n",
"    heat1\n",
"    |\u003e Chart.withColorBarStyle(\n",
"        \"Im the Colorbar\",\n",
"        TitleSide = StyleParam.Side.Right,\n",
"        TitleFont = Font.init(Size=20)\n",
"    )\n"]
          }
,
          {
           "cell_type": "code",
           "metadata": {},
            "execution_count": null, "outputs": [
          {
           "data": {
            "text/plain": ["No value returned by any evaluator"]
        },
           "execution_count": null,
           "metadata": {},
           "output_type": "execute_result"
          }], 
           "source": ["heat2\n"]
          }],
            "metadata": {
            "kernelspec": {"display_name": ".NET (F#)", "language": "F#", "name": ".net-fsharp"},
            "langauge_info": {
        "file_extension": ".fs",
        "mimetype": "text/x-fsharp",
        "name": "C#",
        "pygments_lexer": "fsharp",
        "version": "4.5"
        }
        },
            "nbformat": 4,
            "nbformat_minor": 1
        }
        

