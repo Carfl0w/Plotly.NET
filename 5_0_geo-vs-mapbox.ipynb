
        {
            "cells": [
          {
           "cell_type": "markdown",
           "metadata": {},
           
           "source": ["// can\u0027t yet format YamlFrontmatter ([\"title: Geo vs. Mapbox\"; \"category: Geo map charts\"; \"categoryindex: 6\"; \"index: 1\"], Some { StartLine = 2 StartColumn = 0 EndLine = 6 EndColumn = 8 }) to pynb markdown\n",
"\n"]
          }
,
          {
           "cell_type": "code",
           "metadata": {},
            "execution_count": null, "outputs": [], 
           "source": ["#r \"nuget: Plotly.NET, 2.0.0-preview.7\"\n",
"#r \"nuget: Plotly.NET.Interactive, 2.0.0-preview.7\"\n"]
          }
,
          {
           "cell_type": "markdown",
           "metadata": {},
           
           "source": ["# Mapbox Maps vs Geo Maps\n",
"\n",
"[![Binder](https://plotly.net/img/badge-binder.svg)](https://mybinder.org/v2/gh/plotly/Plotly.NET/gh-pages?filepath=5_0_geo-vs-mapbox.ipynb)\u0026emsp;\n",
"[![Script](https://plotly.net/img/badge-script.svg)](https://plotly.net/5_0_geo-vs-mapbox.fsx)\u0026emsp;\n",
"[![Notebook](https://plotly.net/img/badge-notebook.svg)](https://plotly.net/5_0_geo-vs-mapbox.ipynb)\n",
"\n",
"*Summary:* This introduction shows the differences between Geo and Mapbox based geographical charts.\n",
"\n",
"Plotly and therefore Plotly.NET supports two different kinds of maps:\n",
"\n",
"- **Mapbox maps** are tile-based maps. If your figure is created with a `Chart.*Mapbox` function or otherwise contains one or more traces of type `scattermapbox`, \n",
"    `choroplethmapbox` or `densitymapbox`, the layout.mapbox object in your figure contains configuration information for the map itself.\n",
"    \n",
"- **Geo maps** are outline-based maps. If your figure is created with a `Chart.ScatterGeo, `Chart.PointGeo`, `Chart.LineGeo` or `Chart.Choropleth` function or \n",
"    otherwise contains one or more traces of type `scattergeo` or `choropleth`, the layout.geo object in your figure contains configuration information for the map itself.\n",
"    \n",
"_This page documents Geo outline-based maps, and the [Mapbox Layers documentation](https://plotly.net//6_0_geo-vs-mapbox.html) describes how to configure Mapbox tile-based maps._\n",
"\n",
"## Physical Base Maps\n",
"\n",
"Plotly Geo maps have a built-in base map layer composed of \"physical\" and \"cultural\" (i.e. administrative border) data from the Natural Earth Dataset. \n",
"Various lines and area fills can be shown or hidden, and their color and line-widths specified. \n",
"In the default plotly template, a map frame and physical features such as a coastal outline and filled land areas are shown, at a small-scale 1:110m resolution:\n",
"\n"]
          }
,
          {
           "cell_type": "code",
           "metadata": {},
            "execution_count": 3, "outputs": [], 
           "source": ["open Plotly.NET\n",
"\n",
"let baseMapOnly = \n",
"    Chart.PointGeo([]) // deliberately empty chart to show the base map only\n",
"    |\u003e Chart.withMarginSize(0,0,0,0)\n"]
          }
,
          {
           "cell_type": "code",
           "metadata": {},
            "execution_count": null, "outputs": [
          {
           "data": {
            "text/html": ["\u003cdiv id=\"1228b3d7-40d1-4823-949e-f598510b3db2\" style=\"width: 600px; height: 600px;\"\u003e\u003c!-- Plotly chart will be drawn inside this DIV --\u003e\u003c/div\u003e",
"",
"\u003cscript type=\"text/javascript\"\u003e",
"",
"",
"            var renderPlotly_1228b3d740d14823949ef598510b3db2 = function() {",
"            var fsharpPlotlyRequire = requirejs.config({context:\u0027fsharp-plotly\u0027,paths:{plotly:\u0027https://cdn.plot.ly/plotly-latest.min\u0027}}) || require;",
"            fsharpPlotlyRequire([\u0027plotly\u0027], function(Plotly) {",
"",
"",
"            var data = [{\"type\":\"scattergeo\",\"mode\":\"markers\",\"lon\":[],\"lat\":[],\"marker\":{}}];",
"            var layout = {\"margin\":{\"l\":0,\"r\":0,\"t\":0,\"b\":0}};",
"            var config = {};",
"            Plotly.newPlot(\u00271228b3d7-40d1-4823-949e-f598510b3db2\u0027, data, layout, config);",
"",
"});",
"            };",
"            if ((typeof(requirejs) !==  typeof(Function)) || (typeof(requirejs.config) !== typeof(Function))) {",
"                var script = document.createElement(\"script\");",
"                script.setAttribute(\"src\", \"https://cdnjs.cloudflare.com/ajax/libs/require.js/2.3.6/require.min.js\");",
"                script.onload = function(){",
"                    renderPlotly_1228b3d740d14823949ef598510b3db2();",
"                };",
"                document.getElementsByTagName(\"head\")[0].appendChild(script);",
"            }",
"            else {",
"                renderPlotly_1228b3d740d14823949ef598510b3db2();",
"            }",
"",
"\u003c/script\u003e",
"",
""]
        },
           "execution_count": null,
           "metadata": {},
           "output_type": "execute_result"
          }], 
           "source": ["baseLayerOnly\n"]
          }
,
          {
           "cell_type": "markdown",
           "metadata": {},
           
           "source": ["To control the features of the map, a `Geo` object is used that can be associtaed with a given chart using the `Chart.WithGeo` function.\n",
"Here is a map with all physical features enabled and styled, at a larger-scale 1:50m resolution:\n"]
          }
,
          {
           "cell_type": "code",
           "metadata": {},
            "execution_count": 5, "outputs": [], 
           "source": ["let myGeo =\n",
"    Geo.init(\n",
"        Resolution=StyleParam.GeoResolution.R50,\n",
"        ShowCoastLines=true, \n",
"        CoastLineColor=\"RebeccaPurple\",\n",
"        ShowLand=true, \n",
"        LandColor=\"LightGreen\",\n",
"        ShowOcean=true, \n",
"        OceanColor=\"LightBlue\",\n",
"        ShowLakes=true, \n",
"        LakeColor=\"Blue\",\n",
"        ShowRivers=true, \n",
"        RiverColor=\"Blue\"\n",
"    )\n",
"\n",
"let moreFeaturesBaseMap =\n",
"    Chart.PointGeo([])\n",
"    |\u003e Chart.withGeo myGeo\n",
"    |\u003e Chart.withMarginSize(0,0,0,0)\n"]
          }
,
          {
           "cell_type": "code",
           "metadata": {},
            "execution_count": null, "outputs": [
          {
           "data": {
            "text/html": ["\u003cdiv id=\"2115435b-9152-4d97-9546-72c7564ed598\" style=\"width: 600px; height: 600px;\"\u003e\u003c!-- Plotly chart will be drawn inside this DIV --\u003e\u003c/div\u003e",
"",
"\u003cscript type=\"text/javascript\"\u003e",
"",
"",
"            var renderPlotly_2115435b91524d97954672c7564ed598 = function() {",
"            var fsharpPlotlyRequire = requirejs.config({context:\u0027fsharp-plotly\u0027,paths:{plotly:\u0027https://cdn.plot.ly/plotly-latest.min\u0027}}) || require;",
"            fsharpPlotlyRequire([\u0027plotly\u0027], function(Plotly) {",
"",
"",
"            var data = [{\"type\":\"scattergeo\",\"mode\":\"markers\",\"lon\":[],\"lat\":[],\"marker\":{}}];",
"            var layout = {\"geo\":{\"resolution\":\"50\",\"showcoastline\":true,\"coastlinecolor\":\"RebeccaPurple\",\"showland\":true,\"landcolor\":\"LightGreen\",\"showocean\":true,\"oceancolor\":\"LightBlue\",\"showlakes\":true,\"lakecolor\":\"Blue\",\"showrivers\":true,\"rivercolor\":\"Blue\"},\"margin\":{\"l\":0,\"r\":0,\"t\":0,\"b\":0}};",
"            var config = {};",
"            Plotly.newPlot(\u00272115435b-9152-4d97-9546-72c7564ed598\u0027, data, layout, config);",
"",
"});",
"            };",
"            if ((typeof(requirejs) !==  typeof(Function)) || (typeof(requirejs.config) !== typeof(Function))) {",
"                var script = document.createElement(\"script\");",
"                script.setAttribute(\"src\", \"https://cdnjs.cloudflare.com/ajax/libs/require.js/2.3.6/require.min.js\");",
"                script.onload = function(){",
"                    renderPlotly_2115435b91524d97954672c7564ed598();",
"                };",
"                document.getElementsByTagName(\"head\")[0].appendChild(script);",
"            }",
"            else {",
"                renderPlotly_2115435b91524d97954672c7564ed598();",
"            }",
"",
"\u003c/script\u003e",
"",
""]
        },
           "execution_count": null,
           "metadata": {},
           "output_type": "execute_result"
          }], 
           "source": ["moreFeaturesBaseMap\n"]
          }
,
          {
           "cell_type": "markdown",
           "metadata": {},
           
           "source": ["## Cultural Base Maps\n",
"\n",
"In addition to physical base map features, a \"cultural\" base map is included which is composed of country borders and selected sub-country borders such as states.\n",
"\n",
"_Note and disclaimer: cultural features are by definition subject to change, debate and dispute. Plotly includes data from Natural Earth \"as-is\" and defers to the Natural Earth policy regarding disputed borders which read:_\n",
"\n",
"\u003e Natural Earth Vector draws boundaries of countries according to defacto status. We show who actually controls the situation on the ground.\n",
"\n",
"Here is a map with only cultural features enabled and styled, at a 1:50m resolution, which includes only country boundaries. See below for country sub-unit cultural base map features:\n"]
          }
,
          {
           "cell_type": "code",
           "metadata": {},
            "execution_count": 7, "outputs": [], 
           "source": ["let countryGeo =\n",
"    Geo.init(\n",
"        Visible=false, \n",
"        Resolution=StyleParam.GeoResolution.R50,\n",
"        ShowCountries=true, \n",
"        CountryColor=\"RebeccaPurple\"\n",
"    )\n",
"\n",
"\n",
"let countryBaseMap =\n",
"    Chart.PointGeo([])\n",
"    |\u003e Chart.withGeo countryGeo\n",
"    |\u003e Chart.withMarginSize(0,0,0,0)\n"]
          }
,
          {
           "cell_type": "code",
           "metadata": {},
            "execution_count": null, "outputs": [
          {
           "data": {
            "text/html": ["\u003cdiv id=\"f50b619e-0d67-418b-8fc1-dd30475327ff\" style=\"width: 600px; height: 600px;\"\u003e\u003c!-- Plotly chart will be drawn inside this DIV --\u003e\u003c/div\u003e",
"",
"\u003cscript type=\"text/javascript\"\u003e",
"",
"",
"            var renderPlotly_f50b619e0d67418b8fc1dd30475327ff = function() {",
"            var fsharpPlotlyRequire = requirejs.config({context:\u0027fsharp-plotly\u0027,paths:{plotly:\u0027https://cdn.plot.ly/plotly-latest.min\u0027}}) || require;",
"            fsharpPlotlyRequire([\u0027plotly\u0027], function(Plotly) {",
"",
"",
"            var data = [{\"type\":\"scattergeo\",\"mode\":\"markers\",\"lon\":[],\"lat\":[],\"marker\":{}}];",
"            var layout = {\"geo\":{\"resolution\":\"50\",\"visible\":false,\"showcountries\":true,\"countrycolor\":\"RebeccaPurple\"},\"margin\":{\"l\":0,\"r\":0,\"t\":0,\"b\":0}};",
"            var config = {};",
"            Plotly.newPlot(\u0027f50b619e-0d67-418b-8fc1-dd30475327ff\u0027, data, layout, config);",
"",
"});",
"            };",
"            if ((typeof(requirejs) !==  typeof(Function)) || (typeof(requirejs.config) !== typeof(Function))) {",
"                var script = document.createElement(\"script\");",
"                script.setAttribute(\"src\", \"https://cdnjs.cloudflare.com/ajax/libs/require.js/2.3.6/require.min.js\");",
"                script.onload = function(){",
"                    renderPlotly_f50b619e0d67418b8fc1dd30475327ff();",
"                };",
"                document.getElementsByTagName(\"head\")[0].appendChild(script);",
"            }",
"            else {",
"                renderPlotly_f50b619e0d67418b8fc1dd30475327ff();",
"            }",
"",
"\u003c/script\u003e",
"",
""]
        },
           "execution_count": null,
           "metadata": {},
           "output_type": "execute_result"
          }], 
           "source": ["countryBaseMap\n"]
          }],
            "metadata": {
            "kernelspec": {"display_name": ".NET (F#)", "language": "F#", "name": ".net-fsharp"},
            "langauge_info": {
        "file_extension": ".fs",
        "mimetype": "text/x-fsharp",
        "name": "C#",
        "pygments_lexer": "fsharp",
        "version": "4.5"
        }
        },
            "nbformat": 4,
            "nbformat_minor": 1
        }
        

