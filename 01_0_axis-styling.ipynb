
        {
            "cells": [
          {
           "cell_type": "markdown",
           "metadata": {},
           
           "source": ["// can\u0027t yet format YamlFrontmatter ([\"title: Axis styling\"; \"category: Chart Layout\"; \"categoryindex: 2\"; \"index: 1\"], Some { StartLine = 2 StartColumn = 0 EndLine = 6 EndColumn = 8 }) to pynb markdown\n",
"\n"]
          }
,
          {
           "cell_type": "code",
           "metadata": {},
            "execution_count": null, "outputs": [], 
           "source": ["#r \"nuget: Plotly.NET, 2.0.0-preview.11\"\n",
"#r \"nuget: Plotly.NET.Interactive, 2.0.0-preview.11\"\n"]
          }
,
          {
           "cell_type": "markdown",
           "metadata": {},
           
           "source": ["# Axis styling\n",
"\n",
"[![Binder](https://plotly.net/img/badge-binder.svg)](https://mybinder.org/v2/gh/plotly/Plotly.NET/gh-pages?filepath=01_0_axis-styling.ipynb)\u0026emsp;\n",
"[![Script](https://plotly.net/img/badge-script.svg)](https://plotly.net/01_0_axis-styling.fsx)\u0026emsp;\n",
"[![Notebook](https://plotly.net/img/badge-notebook.svg)](https://plotly.net/01_0_axis-styling.ipynb)\n",
"\n",
"*Summary:* This example shows how to style chart axes in F#.\n",
"\n",
"let\u0027s first create some data for the purpose of creating example charts:\n",
"\n"]
          }
,
          {
           "cell_type": "code",
           "metadata": {},
            "execution_count": 3, "outputs": [], 
           "source": ["open Plotly.NET \n",
"  \n",
"let x = [1.; 2.; 3.; 4.; 5.; 6.; 7.; 8.; 9.; 10.; ]\n",
"let y = [2.; 1.5; 5.; 1.5; 3.; 2.5; 2.5; 1.5; 3.5; 1.]\n",
"let y\u0027 = y |\u003e List.map (fun y -\u003e y * 2.) |\u003e List.rev\n"]
          }
,
          {
           "cell_type": "markdown",
           "metadata": {},
           
           "source": ["## Single axis styling\n",
"\n",
"To style a specific axis of a plot, use the respective `Chart.with*_AxisStyle` function:\n",
"\n",
"\n"]
          }
,
          {
           "cell_type": "code",
           "metadata": {},
            "execution_count": 4, "outputs": [], 
           "source": ["let plot1 =\n",
"    Chart.Point(x,y)\n",
"    |\u003e Chart.withXAxisStyle (\"X axis title\", MinMax = (-1.,10.))\n",
"    |\u003e Chart.withYAxisStyle (\"Y axis title\", MinMax = (-1.,10.))\n"]
          }
,
          {
           "cell_type": "code",
           "metadata": {},
            "execution_count": null, "outputs": [
          {
           "data": {
            "text/html": ["\u003cdiv id=\"a1af31dc-8861-4cad-9996-352892a1b969\" style=\"width: 600px; height: 600px;\"\u003e\u003c!-- Plotly chart will be drawn inside this DIV --\u003e\u003c/div\u003e",
"\u003cscript type=\"text/javascript\"\u003e",
"",
"            var renderPlotly_a1af31dc88614cad9996352892a1b969 = function() {",
"            var fsharpPlotlyRequire = requirejs.config({context:\u0027fsharp-plotly\u0027,paths:{plotly:\u0027https://cdn.plot.ly/plotly-2.4.2.min\u0027}}) || require;",
"            fsharpPlotlyRequire([\u0027plotly\u0027], function(Plotly) {",
"",
"            var data = [{\"type\":\"scatter\",\"mode\":\"markers\",\"x\":[1.0,2.0,3.0,4.0,5.0,6.0,7.0,8.0,9.0,10.0],\"y\":[2.0,1.5,5.0,1.5,3.0,2.5,2.5,1.5,3.5,1.0],\"marker\":{}}];",
"            var layout = {\"xaxis\":{\"title\":{\"text\":\"X axis title\"},\"range\":[-1.0,10.0]},\"yaxis\":{\"title\":{\"text\":\"Y axis title\"},\"range\":[-1.0,10.0]}};",
"            var config = {};",
"            Plotly.newPlot(\u0027a1af31dc-8861-4cad-9996-352892a1b969\u0027, data, layout, config);",
"});",
"            };",
"            if ((typeof(requirejs) !==  typeof(Function)) || (typeof(requirejs.config) !== typeof(Function))) {",
"                var script = document.createElement(\"script\");",
"                script.setAttribute(\"src\", \"https://cdnjs.cloudflare.com/ajax/libs/require.js/2.3.6/require.min.js\");",
"                script.onload = function(){",
"                    renderPlotly_a1af31dc88614cad9996352892a1b969();",
"                };",
"                document.getElementsByTagName(\"head\")[0].appendChild(script);",
"            }",
"            else {",
"                renderPlotly_a1af31dc88614cad9996352892a1b969();",
"            }",
"\u003c/script\u003e",
""]
        },
           "execution_count": null,
           "metadata": {},
           "output_type": "execute_result"
          }], 
           "source": ["plot1\n"]
          }
,
          {
           "cell_type": "markdown",
           "metadata": {},
           
           "source": ["for even more fine-grained control, initialize a new axis and replace the old one of the plot with ````.\n",
"The following example creates two mirrored axes with inside ticks, one of them with a log scale:\n",
"\n"]
          }
,
          {
           "cell_type": "code",
           "metadata": {},
            "execution_count": 6, "outputs": [], 
           "source": ["open Plotly.NET.LayoutObjects // this namespace contains all object abstractions for layout styling\n",
"\n",
"let mirroredXAxis =\n",
"    LinearAxis.init(\n",
"        Title = Title.init(Text=\"Mirrored axis\"),\n",
"        ShowLine = true,\n",
"        Mirror = StyleParam.Mirror.AllTicks,\n",
"        ShowGrid = false,\n",
"        Ticks = StyleParam.TickOptions.Inside\n",
"    )\n",
"\n",
"let mirroredLogYAxis = \n",
"    LinearAxis.init(\n",
"        Title = Title.init(Text=\"Log axis\"),\n",
"        AxisType = StyleParam.AxisType.Log,\n",
"        ShowLine = true,\n",
"        Mirror = StyleParam.Mirror.AllTicks,\n",
"        ShowGrid = false,\n",
"        Ticks = StyleParam.TickOptions.Inside\n",
"    )\n",
"\n",
"let plot2 =\n",
"    Chart.Point(x,y)\n",
"    |\u003e Chart.withXAxis mirroredXAxis\n",
"    |\u003e Chart.withYAxis mirroredLogYAxis\n"]
          }
,
          {
           "cell_type": "code",
           "metadata": {},
            "execution_count": null, "outputs": [
          {
           "data": {
            "text/html": ["\u003cdiv id=\"7a2cd025-aa43-449b-b045-9c18494504a1\" style=\"width: 600px; height: 600px;\"\u003e\u003c!-- Plotly chart will be drawn inside this DIV --\u003e\u003c/div\u003e",
"\u003cscript type=\"text/javascript\"\u003e",
"",
"            var renderPlotly_7a2cd025aa43449bb0459c18494504a1 = function() {",
"            var fsharpPlotlyRequire = requirejs.config({context:\u0027fsharp-plotly\u0027,paths:{plotly:\u0027https://cdn.plot.ly/plotly-2.4.2.min\u0027}}) || require;",
"            fsharpPlotlyRequire([\u0027plotly\u0027], function(Plotly) {",
"",
"            var data = [{\"type\":\"scatter\",\"mode\":\"markers\",\"x\":[1.0,2.0,3.0,4.0,5.0,6.0,7.0,8.0,9.0,10.0],\"y\":[2.0,1.5,5.0,1.5,3.0,2.5,2.5,1.5,3.5,1.0],\"marker\":{}}];",
"            var layout = {\"xaxis\":{\"title\":{\"text\":\"Mirrored axis\"},\"ticks\":\"inside\",\"mirror\":\"allticks\",\"showline\":true,\"showgrid\":false},\"yaxis\":{\"title\":{\"text\":\"Log axis\"},\"type\":\"log\",\"ticks\":\"inside\",\"mirror\":\"allticks\",\"showline\":true,\"showgrid\":false}};",
"            var config = {};",
"            Plotly.newPlot(\u00277a2cd025-aa43-449b-b045-9c18494504a1\u0027, data, layout, config);",
"});",
"            };",
"            if ((typeof(requirejs) !==  typeof(Function)) || (typeof(requirejs.config) !== typeof(Function))) {",
"                var script = document.createElement(\"script\");",
"                script.setAttribute(\"src\", \"https://cdnjs.cloudflare.com/ajax/libs/require.js/2.3.6/require.min.js\");",
"                script.onload = function(){",
"                    renderPlotly_7a2cd025aa43449bb0459c18494504a1();",
"                };",
"                document.getElementsByTagName(\"head\")[0].appendChild(script);",
"            }",
"            else {",
"                renderPlotly_7a2cd025aa43449bb0459c18494504a1();",
"            }",
"\u003c/script\u003e",
""]
        },
           "execution_count": null,
           "metadata": {},
           "output_type": "execute_result"
          }], 
           "source": ["plot2\n"]
          }
,
          {
           "cell_type": "markdown",
           "metadata": {},
           
           "source": ["## Multiple axes\n",
"\n",
"Assign different axis anchors to subplots to map them to different axes.\n",
"\n",
"### Multiple axes on different sides of the chart\n",
"\n",
"The following example first creates a multichart containing two plots with different axis anchors.\n",
"Subsequently, multiple axes with the respective anchors are added to the plot. \n",
"Note that the same can be done as above, defining axes beforehand.\n",
"\n",
"\n"]
          }
,
          {
           "cell_type": "code",
           "metadata": {},
            "execution_count": 8, "outputs": [], 
           "source": ["let anchoredAt1 =\n",
"    Chart.Line (x,y,Name=\"anchor 1\")\n",
"        |\u003e Chart.withAxisAnchor(Y=1)\n",
"\n",
"let anchoredAt2 =\n",
"     Chart.Line (x,y\u0027,Name=\"anchor 2\")\n",
"        |\u003e Chart.withAxisAnchor(Y=2)\n",
"\n",
"let twoXAxes1 = \n",
"    [\n",
"       anchoredAt1\n",
"       anchoredAt2\n",
"    ]\n",
"    |\u003e Chart.combine\n",
"    |\u003e Chart.withYAxisStyle(\n",
"        \"axis 1\",\n",
"        Side=StyleParam.Side.Left,\n",
"        Id=StyleParam.SubPlotId.YAxis 1\n",
"    )\n",
"    |\u003e Chart.withYAxisStyle(\n",
"        \"axis2\",\n",
"        Side=StyleParam.Side.Right,\n",
"        Id=StyleParam.SubPlotId.YAxis 2,\n",
"        Overlaying=StyleParam.LinearAxisId.Y 1\n",
"    )\n",
"        \n"]
          }
,
          {
           "cell_type": "code",
           "metadata": {},
            "execution_count": null, "outputs": [
          {
           "data": {
            "text/html": ["\u003cdiv id=\"c82f3580-c8f8-44c2-a451-71ea29840155\" style=\"width: 600px; height: 600px;\"\u003e\u003c!-- Plotly chart will be drawn inside this DIV --\u003e\u003c/div\u003e",
"\u003cscript type=\"text/javascript\"\u003e",
"",
"            var renderPlotly_c82f3580c8f844c2a45171ea29840155 = function() {",
"            var fsharpPlotlyRequire = requirejs.config({context:\u0027fsharp-plotly\u0027,paths:{plotly:\u0027https://cdn.plot.ly/plotly-2.4.2.min\u0027}}) || require;",
"            fsharpPlotlyRequire([\u0027plotly\u0027], function(Plotly) {",
"",
"            var data = [{\"type\":\"scatter\",\"mode\":\"lines\",\"x\":[1.0,2.0,3.0,4.0,5.0,6.0,7.0,8.0,9.0,10.0],\"y\":[2.0,1.5,5.0,1.5,3.0,2.5,2.5,1.5,3.5,1.0],\"line\":{},\"name\":\"anchor 1\",\"marker\":{},\"yaxis\":\"y\"},{\"type\":\"scatter\",\"mode\":\"lines\",\"x\":[1.0,2.0,3.0,4.0,5.0,6.0,7.0,8.0,9.0,10.0],\"y\":[2.0,7.0,3.0,5.0,5.0,6.0,3.0,10.0,3.0,4.0],\"line\":{},\"name\":\"anchor 2\",\"marker\":{},\"yaxis\":\"y2\"}];",
"            var layout = {\"yaxis\":{\"title\":{\"text\":\"axis 1\"},\"side\":\"left\"},\"yaxis2\":{\"title\":{\"text\":\"axis2\"},\"side\":\"right\",\"overlaying\":\"y\"}};",
"            var config = {};",
"            Plotly.newPlot(\u0027c82f3580-c8f8-44c2-a451-71ea29840155\u0027, data, layout, config);",
"});",
"            };",
"            if ((typeof(requirejs) !==  typeof(Function)) || (typeof(requirejs.config) !== typeof(Function))) {",
"                var script = document.createElement(\"script\");",
"                script.setAttribute(\"src\", \"https://cdnjs.cloudflare.com/ajax/libs/require.js/2.3.6/require.min.js\");",
"                script.onload = function(){",
"                    renderPlotly_c82f3580c8f844c2a45171ea29840155();",
"                };",
"                document.getElementsByTagName(\"head\")[0].appendChild(script);",
"            }",
"            else {",
"                renderPlotly_c82f3580c8f844c2a45171ea29840155();",
"            }",
"\u003c/script\u003e",
""]
        },
           "execution_count": null,
           "metadata": {},
           "output_type": "execute_result"
          }], 
           "source": ["twoXAxes1\n"]
          }
,
          {
           "cell_type": "markdown",
           "metadata": {},
           
           "source": ["### Multiple axes on the same side of the chart\n",
"\n",
"Analogous to above, but move the whole plot to the right by adjusting its domain, and then add a second axis to the left:\n",
"\n",
"\n"]
          }
,
          {
           "cell_type": "code",
           "metadata": {},
            "execution_count": 10, "outputs": [], 
           "source": ["let twoXAxes2 =\n",
"    [\n",
"        anchoredAt1\n",
"        anchoredAt2\n",
"    ]\n",
"    |\u003e Chart.combine\n",
"    |\u003e Chart.withYAxisStyle(\n",
"            \"first y-axis\",\n",
"            ShowLine=true\n",
"            )\n",
"    |\u003e Chart.withXAxisStyle(\n",
"        \"x-axis\",\n",
"        Domain=(0.3, 1.0) // moves the first axis and the whole plot to the right\n",
"    ) \n",
"    |\u003e Chart.withYAxisStyle(\n",
"        \"second y-axis\",\n",
"        Side=StyleParam.Side.Left,\n",
"        Id=StyleParam.SubPlotId.YAxis 2,\n",
"        Overlaying=StyleParam.LinearAxisId.Y 1,\n",
"        Position=0.10, // position the axis beteen the leftmost edge and the firt axis at 0.3\n",
"        //Anchor=StyleParam.AxisAnchorId.Free,\n",
"        ShowLine=true\n",
"    )\n"]
          }
,
          {
           "cell_type": "code",
           "metadata": {},
            "execution_count": null, "outputs": [
          {
           "data": {
            "text/html": ["\u003cdiv id=\"25bb235e-d69f-4bb9-91b5-6b8aa3dfb826\" style=\"width: 600px; height: 600px;\"\u003e\u003c!-- Plotly chart will be drawn inside this DIV --\u003e\u003c/div\u003e",
"\u003cscript type=\"text/javascript\"\u003e",
"",
"            var renderPlotly_25bb235ed69f4bb991b56b8aa3dfb826 = function() {",
"            var fsharpPlotlyRequire = requirejs.config({context:\u0027fsharp-plotly\u0027,paths:{plotly:\u0027https://cdn.plot.ly/plotly-2.4.2.min\u0027}}) || require;",
"            fsharpPlotlyRequire([\u0027plotly\u0027], function(Plotly) {",
"",
"            var data = [{\"type\":\"scatter\",\"mode\":\"lines\",\"x\":[1.0,2.0,3.0,4.0,5.0,6.0,7.0,8.0,9.0,10.0],\"y\":[2.0,1.5,5.0,1.5,3.0,2.5,2.5,1.5,3.5,1.0],\"line\":{},\"name\":\"anchor 1\",\"marker\":{},\"yaxis\":\"y\"},{\"type\":\"scatter\",\"mode\":\"lines\",\"x\":[1.0,2.0,3.0,4.0,5.0,6.0,7.0,8.0,9.0,10.0],\"y\":[2.0,7.0,3.0,5.0,5.0,6.0,3.0,10.0,3.0,4.0],\"line\":{},\"name\":\"anchor 2\",\"marker\":{},\"yaxis\":\"y2\"}];",
"            var layout = {\"yaxis\":{\"title\":{\"text\":\"first y-axis\"},\"side\":\"left\",\"showline\":true},\"yaxis2\":{\"title\":{\"text\":\"second y-axis\"},\"side\":\"left\",\"overlaying\":\"y\",\"showline\":true,\"position\":0.1},\"xaxis\":{\"title\":{\"text\":\"x-axis\"},\"domain\":[0.3,1.0]}};",
"            var config = {};",
"            Plotly.newPlot(\u002725bb235e-d69f-4bb9-91b5-6b8aa3dfb826\u0027, data, layout, config);",
"});",
"            };",
"            if ((typeof(requirejs) !==  typeof(Function)) || (typeof(requirejs.config) !== typeof(Function))) {",
"                var script = document.createElement(\"script\");",
"                script.setAttribute(\"src\", \"https://cdnjs.cloudflare.com/ajax/libs/require.js/2.3.6/require.min.js\");",
"                script.onload = function(){",
"                    renderPlotly_25bb235ed69f4bb991b56b8aa3dfb826();",
"                };",
"                document.getElementsByTagName(\"head\")[0].appendChild(script);",
"            }",
"            else {",
"                renderPlotly_25bb235ed69f4bb991b56b8aa3dfb826();",
"            }",
"\u003c/script\u003e",
""]
        },
           "execution_count": null,
           "metadata": {},
           "output_type": "execute_result"
          }], 
           "source": ["twoXAxes2\n"]
          }],
            "metadata": {
            "kernelspec": {"display_name": ".NET (F#)", "language": "F#", "name": ".net-fsharp"},
            "langauge_info": {
        "file_extension": ".fs",
        "mimetype": "text/x-fsharp",
        "name": "C#",
        "pygments_lexer": "fsharp",
        "version": "4.5"
        }
        },
            "nbformat": 4,
            "nbformat_minor": 1
        }
        

