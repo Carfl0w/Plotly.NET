
        {
            "cells": [
          {
           "cell_type": "code",
           "metadata": {},
            "execution_count": null, "outputs": [], 
           "source": ["#r \"nuget: Plotly.NET, 2.0.0-beta1\"\n",
"#r \"nuget: Plotly.NET.Interactive, 2.0.0-alpha5\"\n"]
          }
,
          {
           "cell_type": "markdown",
           "metadata": {},
           
           "source": ["# Parallel coordinates\n",
"\n",
"[![Binder](https://mybinder.org/badge_logo.svg)](https://mybinder.org/v2/gh/plotly/Plotly.NET/gh-pages?filepath=parallel-coords.ipynb)\n",
"\n",
"*Summary:* This example shows how to create parallel coordinates plot in F#.\n",
"\n",
"let\u0027s first create some data for the purpose of creating example charts:\n",
"\n"]
          }
,
          {
           "cell_type": "code",
           "metadata": {},
            "execution_count": 3, "outputs": [], 
           "source": ["open Plotly.NET \n",
"\n",
"let data = \n",
"    [\n",
"        \u0027A\u0027,[1.;4.;3.4;0.7;]\n",
"        \u0027B\u0027,[3.;1.5;1.7;2.3;]\n",
"        \u0027C\u0027,[2.;4.;3.1;5.]\n",
"        \u0027D\u0027,[4.;2.;2.;4.;]\n",
"    ]\n"]
          }
,
          {
           "cell_type": "markdown",
           "metadata": {},
           
           "source": ["Parallel coordinates are a common way of visualizing high-dimensional geometry and analyzing multivariate data.\n",
"To show a set of points in an n-dimensional space, a backdrop is drawn consisting of n parallel lines, typically \n",
"vertical and equally spaced. A point in n-dimensional space is represented as a polyline with vertices on the parallel axes; \n",
"the position of the vertex on the i-th axis corresponds to the i-th coordinate of the point.\n"]
          }
,
          {
           "cell_type": "code",
           "metadata": {},
            "execution_count": 4, "outputs": [], 
           "source": ["let parcoords1 =\n",
"    Chart.ParallelCoord(data,Color=\"blue\")\n"]
          }
,
          {
           "cell_type": "code",
           "metadata": {},
            "execution_count": null, "outputs": [
          {
           "data": {
            "text/plain": ["No value returned by any evaluator"]
        },
           "execution_count": null,
           "metadata": {},
           "output_type": "execute_result"
          }], 
           "source": ["parcoords1\n"]
          }
,
          {
           "cell_type": "code",
           "metadata": {},
            "execution_count": 6, "outputs": [], 
           "source": ["// Dynamic object version\n",
"let parcoords = \n",
"    let v = [|\n",
"        Dimensions.init([|1.;4.;|],  \n",
"            StyleParam.Range.MinMax (1.,5.),StyleParam.Range.MinMax (1.,2.),Label=\u0027A\u0027);\n",
"        Dimensions.init([|3.;1.5;|], \n",
"            StyleParam.Range.MinMax (1.,5.),Label=\u0027B\u0027,Tickvals=[|1.5;3.;4.;5.;|]);\n",
"        Dimensions.init([|2.;4.;|],  \n",
"            StyleParam.Range.MinMax (1.,5.),Label=\u0027C\u0027,Tickvals=[|1.;2.;4.;5.;|],\n",
"                TickText=[|\"txt 1\";\"txt 2\";\"txt 4\";\"txt 5\";|]);\n",
"        Dimensions.init([|4.;2.;|],  \n",
"            StyleParam.Range.MinMax (1.,5.),Label=\u0027D\u0027);\n",
"    |]\n",
"\n",
"    let dyn = Trace(\"parcoords\")\n",
"\n",
"    dyn?dimensions \u003c- v\n",
"    dyn?line \u003c- Line.init(Color = \"blue\")\n",
"\n",
"    dyn\n",
"    |\u003e GenericChart.ofTraceObject\n"]
          }
,
          {
           "cell_type": "code",
           "metadata": {},
            "execution_count": null, "outputs": [
          {
           "data": {
            "text/plain": ["No value returned by any evaluator"]
        },
           "execution_count": null,
           "metadata": {},
           "output_type": "execute_result"
          }], 
           "source": ["parcoords\n"]
          }],
            "metadata": {
            "kernelspec": {"display_name": ".NET (F#)", "language": "F#", "name": ".net-fsharp"},
            "langauge_info": {
        "file_extension": ".fs",
        "mimetype": "text/x-fsharp",
        "name": "C#",
        "pygments_lexer": "fsharp",
        "version": "4.5"
        }
        },
            "nbformat": 4,
            "nbformat_minor": 1
        }
        

