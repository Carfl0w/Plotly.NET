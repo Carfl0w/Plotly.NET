
        {
            "cells": [
          {
           "cell_type": "markdown",
           "metadata": {},
           
           "source": ["// can\u0027t yet format YamlFrontmatter ([\"title: Polar bar charts\"; \"category: Polar Charts\"; \"categoryindex: 9 \"; \"index: 2\"], Some { StartLine = 2 StartColumn = 0 EndLine = 6 EndColumn = 8 }) to pynb markdown\n",
"\n"]
          }
,
          {
           "cell_type": "code",
           "metadata": {},
            "execution_count": null, "outputs": [], 
           "source": ["#r \"nuget: Plotly.NET, 2.0.0-preview.7\"\n",
"#r \"nuget: Plotly.NET.Interactive, 2.0.0-preview.7\"\n"]
          }
,
          {
           "cell_type": "markdown",
           "metadata": {},
           
           "source": ["# Polar bar charts\n",
"\n",
"[![Binder](https://plotly.net/img/badge-binder.svg)](https://mybinder.org/v2/gh/plotly/Plotly.NET/gh-pages?filepath=8_1_polar_bar_charts.ipynb)\u0026emsp;\n",
"[![Script](https://plotly.net/img/badge-script.svg)](https://plotly.net/8_1_polar_bar_charts.fsx)\u0026emsp;\n",
"[![Notebook](https://plotly.net/img/badge-notebook.svg)](https://plotly.net/8_1_polar_bar_charts.ipynb)\n",
"\n",
"*Summary:* This example shows how to create polar bar charts in F#.\n",
"\n",
"let\u0027s first create some data for the purpose of creating example charts:\n",
"\n"]
          }
,
          {
           "cell_type": "code",
           "metadata": {},
            "execution_count": 3, "outputs": [], 
           "source": ["open Plotly.NET \n",
"  \n",
"let r   = [77.5; 72.5; 70.0; 45.0; 22.5; 42.5; 40.0; 62.5]\n",
"let r2  = [57.5; 50.0; 45.0; 35.0; 20.0; 22.5; 37.5; 55.0]\n",
"let r3  = [40.0; 30.0; 30.0; 35.0; 7.5; 7.5; 32.5; 40.0]\n",
"let r4  = [20.0; 7.5; 15.0; 22.5; 2.5; 2.5; 12.5; 22.5]\n",
"\n",
"let t = [\"North\"; \"N-E\"; \"East\"; \"S-E\"; \"South\"; \"S-W\"; \"West\"; \"N-W\"]\n"]
          }
,
          {
           "cell_type": "markdown",
           "metadata": {},
           
           "source": ["Polar bar charts plot data on a radial axis and a categorical angular axis. \n",
"\n",
"A common use case is the **windrose chart**.\n",
"\n",
"A wind rose is a graphic tool used by meteorologists to give a succinct view \n",
"of how wind speed and direction are typically distributed at a particular location.\n"]
          }
,
          {
           "cell_type": "code",
           "metadata": {},
            "execution_count": 4, "outputs": [], 
           "source": ["let windrose1 =\n",
"    [\n",
"        Chart.BarPolar (r , t, Name=\"11-14 m/s\")\n",
"        Chart.BarPolar (r2, t, Name=\"8-11 m/s\")\n",
"        Chart.BarPolar (r3, t, Name=\"5-8 m/s\")\n",
"        Chart.BarPolar (r4, t, Name=\"\u003c 5 m/s\")\n",
"    ]\n",
"    |\u003e Chart.combine\n",
"    |\u003e Chart.withAngularAxis(\n",
"        Axis.AngularAxis.init(\n",
"            CategoryOrder = StyleParam.CategoryOrder.Array,\n",
"            CategoryArray = ([\"East\"; \"N-E\"; \"North\"; \"N-W\"; \"West\"; \"S-W\"; \"South\"; \"S-E\";]) // set the order of the categorical axis\n",
"        )\n",
"    )\n"]
          }
,
          {
           "cell_type": "code",
           "metadata": {},
            "execution_count": null, "outputs": [
          {
           "data": {
            "text/html": ["\u003cdiv id=\"2c5a7d78-0ee4-4805-ad59-6763db6cbebb\" style=\"width: 600px; height: 600px;\"\u003e\u003c!-- Plotly chart will be drawn inside this DIV --\u003e\u003c/div\u003e",
"",
"\u003cscript type=\"text/javascript\"\u003e",
"",
"",
"            var renderPlotly_2c5a7d780ee44805ad596763db6cbebb = function() {",
"            var fsharpPlotlyRequire = requirejs.config({context:\u0027fsharp-plotly\u0027,paths:{plotly:\u0027https://cdn.plot.ly/plotly-latest.min\u0027}}) || require;",
"            fsharpPlotlyRequire([\u0027plotly\u0027], function(Plotly) {",
"",
"",
"            var data = [{\"type\":\"barpolar\",\"r\":[77.5,72.5,70.0,45.0,22.5,42.5,40.0,62.5],\"theta\":[\"North\",\"N-E\",\"East\",\"S-E\",\"South\",\"S-W\",\"West\",\"N-W\"],\"name\":\"11-14 m/s\",\"line\":{},\"marker\":{}},{\"type\":\"barpolar\",\"r\":[57.5,50.0,45.0,35.0,20.0,22.5,37.5,55.0],\"theta\":[\"North\",\"N-E\",\"East\",\"S-E\",\"South\",\"S-W\",\"West\",\"N-W\"],\"name\":\"8-11 m/s\",\"line\":{},\"marker\":{}},{\"type\":\"barpolar\",\"r\":[40.0,30.0,30.0,35.0,7.5,7.5,32.5,40.0],\"theta\":[\"North\",\"N-E\",\"East\",\"S-E\",\"South\",\"S-W\",\"West\",\"N-W\"],\"name\":\"5-8 m/s\",\"line\":{},\"marker\":{}},{\"type\":\"barpolar\",\"r\":[20.0,7.5,15.0,22.5,2.5,2.5,12.5,22.5],\"theta\":[\"North\",\"N-E\",\"East\",\"S-E\",\"South\",\"S-W\",\"West\",\"N-W\"],\"name\":\"\u003c 5 m/s\",\"line\":{},\"marker\":{}}];",
"            var layout = {\"polar\":{\"angularaxis\":{\"categoryorder\":\"array\",\"categoryarray\":[\"East\",\"N-E\",\"North\",\"N-W\",\"West\",\"S-W\",\"South\",\"S-E\"]}}};",
"            var config = {};",
"            Plotly.newPlot(\u00272c5a7d78-0ee4-4805-ad59-6763db6cbebb\u0027, data, layout, config);",
"",
"});",
"            };",
"            if ((typeof(requirejs) !==  typeof(Function)) || (typeof(requirejs.config) !== typeof(Function))) {",
"                var script = document.createElement(\"script\");",
"                script.setAttribute(\"src\", \"https://cdnjs.cloudflare.com/ajax/libs/require.js/2.3.6/require.min.js\");",
"                script.onload = function(){",
"                    renderPlotly_2c5a7d780ee44805ad596763db6cbebb();",
"                };",
"                document.getElementsByTagName(\"head\")[0].appendChild(script);",
"            }",
"            else {",
"                renderPlotly_2c5a7d780ee44805ad596763db6cbebb();",
"            }",
"",
"\u003c/script\u003e",
"",
""]
        },
           "execution_count": null,
           "metadata": {},
           "output_type": "execute_result"
          }], 
           "source": ["windrose1\n"]
          }],
            "metadata": {
            "kernelspec": {"display_name": ".NET (F#)", "language": "F#", "name": ".net-fsharp"},
            "langauge_info": {
        "file_extension": ".fs",
        "mimetype": "text/x-fsharp",
        "name": "C#",
        "pygments_lexer": "fsharp",
        "version": "4.5"
        }
        },
            "nbformat": 4,
            "nbformat_minor": 1
        }
        

