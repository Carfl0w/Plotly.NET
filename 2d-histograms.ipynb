
        {
            "cells": [
          {
           "cell_type": "code",
           "metadata": {},
            "execution_count": null, "outputs": [], 
           "source": ["#r \"nuget: Plotly.NET, 2.0.0-beta1\"\n",
"#r \"nuget: Plotly.NET.Interactive, 2.0.0-alpha5\"\n"]
          }
,
          {
           "cell_type": "markdown",
           "metadata": {},
           
           "source": ["# Histogram2D\n",
"\n",
"[![Binder](https://mybinder.org/badge_logo.svg)](https://mybinder.org/v2/gh/plotly/Plotly.NET/gh-pages?filepath=2d-histograms.ipynb)\n",
"\n",
"*Summary:* This example shows how to create a bi-dimensional histogram of two data samples in F#.\n",
"\n",
"let\u0027s first create some data for the purpose of creating example charts:\n"]
          }
,
          {
           "cell_type": "code",
           "metadata": {},
            "execution_count": 3, "outputs": [], 
           "source": ["open Plotly.NET \n",
"\n",
"//---------------------- generate random normally distributed data ---------------------- \n",
"let normal (rnd:System.Random) mu tau =\n",
"    let mutable v1 = 2.0 * rnd.NextDouble() - 1.0\n",
"    let mutable v2 = 2.0 * rnd.NextDouble() - 1.0\n",
"    let mutable r = v1 * v1 + v2 * v2\n",
"    while (r \u003e= 1.0 || r = 0.0) do\n",
"        v1 \u003c- 2.0 * rnd.NextDouble() - 1.0\n",
"        v2 \u003c- 2.0 * rnd.NextDouble() - 1.0\n",
"        r \u003c- v1 * v1 + v2 * v2\n",
"    let fac = sqrt(-2.0*(log r)/r)\n",
"    (tau * v1 * fac + mu)\n",
"\n",
"let rnd = System.Random()\n",
"let n = 2000\n",
"let a = -1.\n",
"let b = 1.2\n",
"let step i = a +  ((b - a) / float (n - 1)) * float i\n",
"\n",
"//---------------------- generate data distributed in x and y direction ---------------------- \n",
"let x = Array.init n (fun i -\u003e ((step i)**3.) + (0.3 * (normal (rnd) 0. 2.) ))\n",
"let y = Array.init n (fun i -\u003e ((step i)**6.) + (0.3 * (normal (rnd) 0. 2.) ))\n"]
          }
,
          {
           "cell_type": "markdown",
           "metadata": {},
           
           "source": ["A Histogram2d chart can be created using the `Chart.Histogram2d` or `Chart.Histogram2dContour` functions.\n"]
          }
,
          {
           "cell_type": "code",
           "metadata": {},
            "execution_count": 4, "outputs": [], 
           "source": ["let histogramContour =\n",
"    [\n",
"        Chart.Histogram2dContour (x,y,Line=Line.init(Width=0))\n",
"        Chart.Point(x,y,Opacity=0.3)\n",
"    ]\n",
"    |\u003e Chart.Combine\n"]
          }
,
          {
           "cell_type": "code",
           "metadata": {},
            "execution_count": null, "outputs": [
          {
           "data": {
            "text/plain": ["No value returned by any evaluator"]
        },
           "execution_count": null,
           "metadata": {},
           "output_type": "execute_result"
          }], 
           "source": ["histogramContour\n"]
          }
,
          {
           "cell_type": "code",
           "metadata": {},
            "execution_count": 6, "outputs": [], 
           "source": ["let histogram2d = \n",
"    Chart.Histogram2d (x,y)\n"]
          }
,
          {
           "cell_type": "code",
           "metadata": {},
            "execution_count": null, "outputs": [
          {
           "data": {
            "text/plain": ["No value returned by any evaluator"]
        },
           "execution_count": null,
           "metadata": {},
           "output_type": "execute_result"
          }], 
           "source": ["histogram2d\n"]
          }],
            "metadata": {
            "kernelspec": {"display_name": ".NET (F#)", "language": "F#", "name": ".net-fsharp"},
            "langauge_info": {
        "file_extension": ".fs",
        "mimetype": "text/x-fsharp",
        "name": "C#",
        "pygments_lexer": "fsharp",
        "version": "4.5"
        }
        },
            "nbformat": 4,
            "nbformat_minor": 1
        }
        

