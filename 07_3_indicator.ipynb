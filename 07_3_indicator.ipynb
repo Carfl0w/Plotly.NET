
        {
            "cells": [
          {
           "cell_type": "markdown",
           "metadata": {},
           
           "source": ["// can\u0027t yet format YamlFrontmatter ([\"title: Indicator Charts\"; \"category: Finance Charts\"; \"categoryindex: 7\"; \"index: 4\"], Some { StartLine = 2 StartColumn = 0 EndLine = 6 EndColumn = 8 }) to pynb markdown\n",
"\n"]
          }
,
          {
           "cell_type": "code",
           "metadata": {},
            "execution_count": null, "outputs": [], 
           "source": ["#r \"nuget: Plotly.NET, 2.0.0-preview.11\"\n",
"#r \"nuget: Plotly.NET.Interactive, 2.0.0-preview.11\"\n"]
          }
,
          {
           "cell_type": "markdown",
           "metadata": {},
           
           "source": ["# Indicator Charts\n",
"\n",
"[![Binder](https://plotly.net/img/badge-binder.svg)](https://mybinder.org/v2/gh/plotly/Plotly.NET/gh-pages?filepath=07_3_indicator.ipynb)\u0026emsp;\n",
"[![Script](https://plotly.net/img/badge-script.svg)](https://plotly.net/07_3_indicator.fsx)\u0026emsp;\n",
"[![Notebook](https://plotly.net/img/badge-notebook.svg)](https://plotly.net/07_3_indicator.ipynb)\n",
"\n",
"*Summary:* This example shows how to create indicator charts in F#.\n",
"\n",
"Indicator Charts visualize the evolution of a value compared to a reference value, optionally inside a range.\n",
"\n",
"There are different types of indicator charts, depending on the `IndicatorMode` used in chart generation:\n",
"\n",
"- `Delta`/`Number` (and combinations) simply shows if the value is increasing or decreasing compared to the reference\n",
"- Any combination of the above with `Gauge` adds a customizable gauge that indicates where the value lies inside a given range.\n",
"\n"]
          }
,
          {
           "cell_type": "code",
           "metadata": {},
            "execution_count": 3, "outputs": [], 
           "source": ["open Plotly.NET \n",
"open Plotly.NET.TraceObjects\n",
"open Plotly.NET.LayoutObjects\n",
"\n",
"let allIndicatorTypes =\n",
"    [\n",
"        Chart.Indicator(\n",
"            120., StyleParam.IndicatorMode.NumberDeltaGauge,\n",
"            Title = \"Bullet gauge\",\n",
"            DeltaReference = 90.,\n",
"            Range = StyleParam.Range.MinMax(-200., 200.),\n",
"            GaugeShape = StyleParam.IndicatorGaugeShape.Bullet,\n",
"            ShowGaugeAxis = false,\n",
"            Domain  = Domain.init(Row = 0, Column = 0)\n",
"        )\n",
"        Chart.Indicator(\n",
"            200., StyleParam.IndicatorMode.NumberDeltaGauge,\n",
"            Title = \"Angular gauge\",\n",
"            Delta = IndicatorDelta.init(Reference=160),\n",
"            Range = StyleParam.Range.MinMax(0., 250.),\n",
"            Domain = Domain.init(Row = 0, Column = 1)\n",
"        )\n",
"        Chart.Indicator(\n",
"            300., StyleParam.IndicatorMode.NumberDelta,\n",
"            Title = \"number and delta\",\n",
"            DeltaReference = 90.,\n",
"            Domain  = Domain.init(Row = 1, Column = 0)\n",
"        )        \n",
"        Chart.Indicator(\n",
"            40., StyleParam.IndicatorMode.Delta,\n",
"            Title = \"delta\",\n",
"            DeltaReference = 90.,\n",
"            Domain  = Domain.init(Row = 1, Column = 1)\n",
"        )\n",
"    ]\n",
"    |\u003e Chart.combine\n",
"    |\u003e Chart.withLayoutGridStyle(Rows = 2, Columns = 2)\n",
"    |\u003e Chart.withMarginSize(Left = 200)\n"]
          }
,
          {
           "cell_type": "code",
           "metadata": {},
            "execution_count": null, "outputs": [
          {
           "data": {
            "text/html": ["\u003cdiv id=\"22da659f-57b2-46b9-bd49-dca7e5554098\" style=\"width: 600px; height: 600px;\"\u003e\u003c!-- Plotly chart will be drawn inside this DIV --\u003e\u003c/div\u003e",
"\u003cscript type=\"text/javascript\"\u003e",
"",
"            var renderPlotly_22da659f57b246b9bd49dca7e5554098 = function() {",
"            var fsharpPlotlyRequire = requirejs.config({context:\u0027fsharp-plotly\u0027,paths:{plotly:\u0027https://cdn.plot.ly/plotly-2.4.2.min\u0027}}) || require;",
"            fsharpPlotlyRequire([\u0027plotly\u0027], function(Plotly) {",
"",
"            var data = [{\"type\":\"indicator\",\"title\":\"Bullet gauge\",\"mode\":\"number+delta+gauge\",\"value\":120.0,\"domain\":{\"row\":0,\"column\":0},\"delta\":{\"reference\":90.0},\"gauge\":{\"axis\":{\"visible\":false,\"range\":[-200.0,200.0]},\"shape\":\"bullet\"}},{\"type\":\"indicator\",\"title\":\"Angular gauge\",\"mode\":\"number+delta+gauge\",\"value\":200.0,\"domain\":{\"row\":0,\"column\":1},\"delta\":{\"reference\":160},\"gauge\":{\"axis\":{\"range\":[0.0,250.0]}}},{\"type\":\"indicator\",\"title\":\"number and delta\",\"mode\":\"number+delta\",\"value\":300.0,\"domain\":{\"row\":1,\"column\":0},\"delta\":{\"reference\":90.0},\"gauge\":{\"axis\":{}}},{\"type\":\"indicator\",\"title\":\"delta\",\"mode\":\"delta\",\"value\":40.0,\"domain\":{\"row\":1,\"column\":1},\"delta\":{\"reference\":90.0},\"gauge\":{\"axis\":{}}}];",
"            var layout = {\"grid\":{\"rows\":2,\"columns\":2},\"margin\":{\"l\":200}};",
"            var config = {};",
"            Plotly.newPlot(\u002722da659f-57b2-46b9-bd49-dca7e5554098\u0027, data, layout, config);",
"});",
"            };",
"            if ((typeof(requirejs) !==  typeof(Function)) || (typeof(requirejs.config) !== typeof(Function))) {",
"                var script = document.createElement(\"script\");",
"                script.setAttribute(\"src\", \"https://cdnjs.cloudflare.com/ajax/libs/require.js/2.3.6/require.min.js\");",
"                script.onload = function(){",
"                    renderPlotly_22da659f57b246b9bd49dca7e5554098();",
"                };",
"                document.getElementsByTagName(\"head\")[0].appendChild(script);",
"            }",
"            else {",
"                renderPlotly_22da659f57b246b9bd49dca7e5554098();",
"            }",
"\u003c/script\u003e",
""]
        },
           "execution_count": null,
           "metadata": {},
           "output_type": "execute_result"
          }], 
           "source": ["allIndicatorTypes\n"]
          }],
            "metadata": {
            "kernelspec": {"display_name": ".NET (F#)", "language": "F#", "name": ".net-fsharp"},
            "langauge_info": {
        "file_extension": ".fs",
        "mimetype": "text/x-fsharp",
        "name": "C#",
        "pygments_lexer": "fsharp",
        "version": "4.5"
        }
        },
            "nbformat": 4,
            "nbformat_minor": 1
        }
        

