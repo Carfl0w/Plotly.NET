
        {
            "cells": [
          {
           "cell_type": "markdown",
           "metadata": {},
           
           "source": ["// can\u0027t yet format YamlFrontmatter ([\"title: Pie and doughnut Charts\"; \"category: Simple Charts\"; \"categoryindex: 3\"; \"index: 6\"], Some { StartLine = 2 StartColumn = 0 EndLine = 6 EndColumn = 8 }) to pynb markdown\n",
"\n"]
          }
,
          {
           "cell_type": "code",
           "metadata": {},
            "execution_count": null, "outputs": [], 
           "source": ["#r \"nuget: Plotly.NET, 2.0.0-preview.10\"\n",
"#r \"nuget: Plotly.NET.Interactive, 2.0.0-preview.10\"\n"]
          }
,
          {
           "cell_type": "markdown",
           "metadata": {},
           
           "source": ["# Pie and doughnut Charts\n",
"\n",
"[![Binder](https://plotly.net/img/badge-binder.svg)](https://mybinder.org/v2/gh/plotly/Plotly.NET/gh-pages?filepath=02_5_pie-doughnut-charts.ipynb)\u0026emsp;\n",
"[![Script](https://plotly.net/img/badge-script.svg)](https://plotly.net/02_5_pie-doughnut-charts.fsx)\u0026emsp;\n",
"[![Notebook](https://plotly.net/img/badge-notebook.svg)](https://plotly.net/02_5_pie-doughnut-charts.ipynb)\n",
"\n",
"*Summary:* This example shows how to create pie and doughnut charts in F#.\n",
"\n",
"let\u0027s first create some data for the purpose of creating example charts:\n",
"\n",
"\n"]
          }
,
          {
           "cell_type": "code",
           "metadata": {},
            "execution_count": 3, "outputs": [], 
           "source": ["open Plotly.NET \n",
"  \n",
"let values = [19; 26; 55;]\n",
"let labels = [\"Residential\"; \"Non-Residential\"; \"Utility\"]\n"]
          }
,
          {
           "cell_type": "markdown",
           "metadata": {},
           
           "source": ["A pie, doughnut, or sunburst chart can be created using the `Chart.Pie`, `Chart.Doughnut`, and `Chart.Sunburst` functions.\n",
"When creating pie charts, it is usually desirable to provide both labels and values.\n",
"\n",
"\n"]
          }
,
          {
           "cell_type": "code",
           "metadata": {},
            "execution_count": 4, "outputs": [], 
           "source": ["let pie1 =\n",
"    Chart.Pie(values,labels)\n"]
          }
,
          {
           "cell_type": "code",
           "metadata": {},
            "execution_count": null, "outputs": [
          {
           "data": {
            "text/html": ["\u003cdiv id=\"f7d85b12-72d1-4eb8-a75b-4534769f8c5c\" style=\"width: 600px; height: 600px;\"\u003e\u003c!-- Plotly chart will be drawn inside this DIV --\u003e\u003c/div\u003e",
"\u003cscript type=\"text/javascript\"\u003e",
"",
"            var renderPlotly_f7d85b1272d14eb8a75b4534769f8c5c = function() {",
"            var fsharpPlotlyRequire = requirejs.config({context:\u0027fsharp-plotly\u0027,paths:{plotly:\u0027https://cdn.plot.ly/plotly-2.4.2.min\u0027}}) || require;",
"            fsharpPlotlyRequire([\u0027plotly\u0027], function(Plotly) {",
"",
"            var data = [{\"type\":\"pie\",\"values\":[19,26,55],\"labels\":[\"Residential\",\"Non-Residential\",\"Utility\"],\"marker\":{},\"text\":[\"Residential\",\"Non-Residential\",\"Utility\"]}];",
"            var layout = {};",
"            var config = {};",
"            Plotly.newPlot(\u0027f7d85b12-72d1-4eb8-a75b-4534769f8c5c\u0027, data, layout, config);",
"});",
"            };",
"            if ((typeof(requirejs) !==  typeof(Function)) || (typeof(requirejs.config) !== typeof(Function))) {",
"                var script = document.createElement(\"script\");",
"                script.setAttribute(\"src\", \"https://cdnjs.cloudflare.com/ajax/libs/require.js/2.3.6/require.min.js\");",
"                script.onload = function(){",
"                    renderPlotly_f7d85b1272d14eb8a75b4534769f8c5c();",
"                };",
"                document.getElementsByTagName(\"head\")[0].appendChild(script);",
"            }",
"            else {",
"                renderPlotly_f7d85b1272d14eb8a75b4534769f8c5c();",
"            }",
"\u003c/script\u003e",
""]
        },
           "execution_count": null,
           "metadata": {},
           "output_type": "execute_result"
          }], 
           "source": ["pie1\n"]
          }
,
          {
           "cell_type": "code",
           "metadata": {},
            "execution_count": 6, "outputs": [], 
           "source": ["let doughnut1 =\n",
"    Chart.Doughnut(\n",
"        values,\n",
"        labels,\n",
"        Hole=0.3,\n",
"        TextLabels=labels\n",
"    )\n"]
          }
,
          {
           "cell_type": "code",
           "metadata": {},
            "execution_count": null, "outputs": [
          {
           "data": {
            "text/html": ["\u003cdiv id=\"00a066e2-0298-4395-a0cb-9430707fae6c\" style=\"width: 600px; height: 600px;\"\u003e\u003c!-- Plotly chart will be drawn inside this DIV --\u003e\u003c/div\u003e",
"\u003cscript type=\"text/javascript\"\u003e",
"",
"            var renderPlotly_00a066e202984395a0cb9430707fae6c = function() {",
"            var fsharpPlotlyRequire = requirejs.config({context:\u0027fsharp-plotly\u0027,paths:{plotly:\u0027https://cdn.plot.ly/plotly-2.4.2.min\u0027}}) || require;",
"            fsharpPlotlyRequire([\u0027plotly\u0027], function(Plotly) {",
"",
"            var data = [{\"type\":\"pie\",\"values\":[19,26,55],\"labels\":[\"Residential\",\"Non-Residential\",\"Utility\"],\"text\":[\"Residential\",\"Non-Residential\",\"Utility\"],\"hole\":0.3,\"marker\":{}}];",
"            var layout = {};",
"            var config = {};",
"            Plotly.newPlot(\u002700a066e2-0298-4395-a0cb-9430707fae6c\u0027, data, layout, config);",
"});",
"            };",
"            if ((typeof(requirejs) !==  typeof(Function)) || (typeof(requirejs.config) !== typeof(Function))) {",
"                var script = document.createElement(\"script\");",
"                script.setAttribute(\"src\", \"https://cdnjs.cloudflare.com/ajax/libs/require.js/2.3.6/require.min.js\");",
"                script.onload = function(){",
"                    renderPlotly_00a066e202984395a0cb9430707fae6c();",
"                };",
"                document.getElementsByTagName(\"head\")[0].appendChild(script);",
"            }",
"            else {",
"                renderPlotly_00a066e202984395a0cb9430707fae6c();",
"            }",
"\u003c/script\u003e",
""]
        },
           "execution_count": null,
           "metadata": {},
           "output_type": "execute_result"
          }], 
           "source": ["doughnut1\n"]
          }
,
          {
           "cell_type": "code",
           "metadata": {},
            "execution_count": 8, "outputs": [], 
           "source": ["let sunburst1 =\n",
"    Chart.Sunburst(\n",
"        [\"A\";\"B\";\"C\";\"D\";\"E\"],\n",
"        [\"\";\"\";\"B\";\"B\";\"\"],\n",
"        Values=[5.;0.;3.;2.;3.],\n",
"        Text=[\"At\";\"Bt\";\"Ct\";\"Dt\";\"Et\"]\n",
"    )\n"]
          }
,
          {
           "cell_type": "code",
           "metadata": {},
            "execution_count": null, "outputs": [
          {
           "data": {
            "text/html": ["\u003cdiv id=\"1f3ea28e-0b33-4c1b-843c-019191aad216\" style=\"width: 600px; height: 600px;\"\u003e\u003c!-- Plotly chart will be drawn inside this DIV --\u003e\u003c/div\u003e",
"\u003cscript type=\"text/javascript\"\u003e",
"",
"            var renderPlotly_1f3ea28e0b334c1b843c019191aad216 = function() {",
"            var fsharpPlotlyRequire = requirejs.config({context:\u0027fsharp-plotly\u0027,paths:{plotly:\u0027https://cdn.plot.ly/plotly-2.4.2.min\u0027}}) || require;",
"            fsharpPlotlyRequire([\u0027plotly\u0027], function(Plotly) {",
"",
"            var data = [{\"type\":\"sunburst\",\"labels\":[\"A\",\"B\",\"C\",\"D\",\"E\"],\"parents\":[\"\",\"\",\"B\",\"B\",\"\"],\"values\":[5.0,0.0,3.0,2.0,3.0],\"text\":[\"At\",\"Bt\",\"Ct\",\"Dt\",\"Et\"],\"marker\":{}}];",
"            var layout = {};",
"            var config = {};",
"            Plotly.newPlot(\u00271f3ea28e-0b33-4c1b-843c-019191aad216\u0027, data, layout, config);",
"});",
"            };",
"            if ((typeof(requirejs) !==  typeof(Function)) || (typeof(requirejs.config) !== typeof(Function))) {",
"                var script = document.createElement(\"script\");",
"                script.setAttribute(\"src\", \"https://cdnjs.cloudflare.com/ajax/libs/require.js/2.3.6/require.min.js\");",
"                script.onload = function(){",
"                    renderPlotly_1f3ea28e0b334c1b843c019191aad216();",
"                };",
"                document.getElementsByTagName(\"head\")[0].appendChild(script);",
"            }",
"            else {",
"                renderPlotly_1f3ea28e0b334c1b843c019191aad216();",
"            }",
"\u003c/script\u003e",
""]
        },
           "execution_count": null,
           "metadata": {},
           "output_type": "execute_result"
          }], 
           "source": ["sunburst1\n"]
          }],
            "metadata": {
            "kernelspec": {"display_name": ".NET (F#)", "language": "F#", "name": ".net-fsharp"},
            "langauge_info": {
        "file_extension": ".fs",
        "mimetype": "text/x-fsharp",
        "name": "C#",
        "pygments_lexer": "fsharp",
        "version": "4.5"
        }
        },
            "nbformat": 4,
            "nbformat_minor": 1
        }
        

