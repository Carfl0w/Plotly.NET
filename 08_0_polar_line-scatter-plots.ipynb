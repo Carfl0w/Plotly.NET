
        {
            "cells": [
          {
           "cell_type": "markdown",
           "metadata": {},
           
           "source": ["// can\u0027t yet format YamlFrontmatter ([\"title: Polar line and scatter plots\"; \"category: Polar Charts\"; \"categoryindex: 8\"; \"index: 1\"], Some { StartLine = 2 StartColumn = 0 EndLine = 6 EndColumn = 8 }) to pynb markdown\n",
"\n"]
          }
,
          {
           "cell_type": "code",
           "metadata": {},
            "execution_count": null, "outputs": [], 
           "source": ["#r \"nuget: Plotly.NET, 2.0.0-preview.8\"\n",
"#r \"nuget: Plotly.NET.Interactive, 2.0.0-preview.8\"\n"]
          }
,
          {
           "cell_type": "markdown",
           "metadata": {},
           
           "source": ["# Polar charts\n",
"\n",
"[![Binder](https://plotly.net/img/badge-binder.svg)](https://mybinder.org/v2/gh/plotly/Plotly.NET/gh-pages?filepath=08_0_polar_line-scatter-plots.ipynb)\u0026emsp;\n",
"[![Script](https://plotly.net/img/badge-script.svg)](https://plotly.net/08_0_polar_line-scatter-plots.fsx)\u0026emsp;\n",
"[![Notebook](https://plotly.net/img/badge-notebook.svg)](https://plotly.net/08_0_polar_line-scatter-plots.ipynb)\n",
"\n",
"*Summary:* This example shows how to create polar charts in F#.\n",
"\n",
"let\u0027s first create some data for the purpose of creating example charts:\n",
"\n",
"\n"]
          }
,
          {
           "cell_type": "code",
           "metadata": {},
            "execution_count": 3, "outputs": [], 
           "source": ["open Plotly.NET \n",
"  \n",
"// radial coordinates\n",
"let radial  = [ 1; 2; 3; 4; 5; 6; 7;]\n",
"\n",
"// angular coordinates\n",
"let theta  = [0; 45; 90; 135; 200; 320; 184;]\n"]
          }
,
          {
           "cell_type": "markdown",
           "metadata": {},
           
           "source": ["A polar chart is a graphical method of displaying multivariate data in the form of a two-dimensional chart \n",
"of three or more quantitative variables represented on axes starting from the same point.\n",
"\n",
"The relative position and angle of the axes is typically uninformative.\n",
"\n",
"In Polar Charts, a series is represented by a closed curve that connects points in the polar coordinate system. \n",
"Each data point is determined by the distance from the pole (the radial coordinate) and the angle from the fixed direction (the angular coordinate).\n",
"\n",
"## Polar point charts\n",
"\n",
"use `Chart.PointPolar` to create a polar plot that displays points on a polar coordinate system:\n",
"\n"]
          }
,
          {
           "cell_type": "code",
           "metadata": {},
            "execution_count": 4, "outputs": [], 
           "source": ["let pointPolar = Chart.PointPolar(radial,theta)\n"]
          }
,
          {
           "cell_type": "code",
           "metadata": {},
            "execution_count": null, "outputs": [
          {
           "data": {
            "text/html": ["\u003cdiv id=\"d5fd52c9-34e3-4b57-9791-df7b58cdac20\" style=\"width: 600px; height: 600px;\"\u003e\u003c!-- Plotly chart will be drawn inside this DIV --\u003e\u003c/div\u003e",
"\u003cscript type=\"text/javascript\"\u003e",
"",
"            var renderPlotly_d5fd52c934e34b579791df7b58cdac20 = function() {",
"            var fsharpPlotlyRequire = requirejs.config({context:\u0027fsharp-plotly\u0027,paths:{plotly:\u0027https://cdn.plot.ly/plotly-latest.min\u0027}}) || require;",
"            fsharpPlotlyRequire([\u0027plotly\u0027], function(Plotly) {",
"",
"            var data = [{\"type\":\"scatterpolar\",\"mode\":\"markers\",\"r\":[1,2,3,4,5,6,7],\"theta\":[0,45,90,135,200,320,184],\"marker\":{}}];",
"            var layout = {};",
"            var config = {};",
"            Plotly.newPlot(\u0027d5fd52c9-34e3-4b57-9791-df7b58cdac20\u0027, data, layout, config);",
"});",
"            };",
"            if ((typeof(requirejs) !==  typeof(Function)) || (typeof(requirejs.config) !== typeof(Function))) {",
"                var script = document.createElement(\"script\");",
"                script.setAttribute(\"src\", \"https://cdnjs.cloudflare.com/ajax/libs/require.js/2.3.6/require.min.js\");",
"                script.onload = function(){",
"                    renderPlotly_d5fd52c934e34b579791df7b58cdac20();",
"                };",
"                document.getElementsByTagName(\"head\")[0].appendChild(script);",
"            }",
"            else {",
"                renderPlotly_d5fd52c934e34b579791df7b58cdac20();",
"            }",
"\u003c/script\u003e",
""]
        },
           "execution_count": null,
           "metadata": {},
           "output_type": "execute_result"
          }], 
           "source": ["pointPolar\n"]
          }
,
          {
           "cell_type": "markdown",
           "metadata": {},
           
           "source": ["## Polar line charts\n",
"\n",
"use `Chart.LinePolar` to create a polar plot that displays a line connecting input the data on a polar coordinate system.\n",
"\n",
"You can for example change the line style using `Chart.withLineStyle`\n",
"\n"]
          }
,
          {
           "cell_type": "code",
           "metadata": {},
            "execution_count": 6, "outputs": [], 
           "source": ["let linePolar = \n",
"    Chart.LinePolar(radial,theta)\n",
"    |\u003e Chart.withLineStyle(Color=Color.fromString \"purple\",Dash=StyleParam.DrawingStyle.DashDot)\n"]
          }
,
          {
           "cell_type": "code",
           "metadata": {},
            "execution_count": null, "outputs": [
          {
           "data": {
            "text/html": ["\u003cdiv id=\"eceb0dd3-a4c9-47da-93c1-5456b630d7ab\" style=\"width: 600px; height: 600px;\"\u003e\u003c!-- Plotly chart will be drawn inside this DIV --\u003e\u003c/div\u003e",
"\u003cscript type=\"text/javascript\"\u003e",
"",
"            var renderPlotly_eceb0dd3a4c947da93c15456b630d7ab = function() {",
"            var fsharpPlotlyRequire = requirejs.config({context:\u0027fsharp-plotly\u0027,paths:{plotly:\u0027https://cdn.plot.ly/plotly-latest.min\u0027}}) || require;",
"            fsharpPlotlyRequire([\u0027plotly\u0027], function(Plotly) {",
"",
"            var data = [{\"type\":\"scatterpolar\",\"mode\":\"lines\",\"r\":[1,2,3,4,5,6,7],\"theta\":[0,45,90,135,200,320,184],\"line\":{\"color\":\"purple\",\"dash\":\"dashdot\"},\"marker\":{}}];",
"            var layout = {};",
"            var config = {};",
"            Plotly.newPlot(\u0027eceb0dd3-a4c9-47da-93c1-5456b630d7ab\u0027, data, layout, config);",
"});",
"            };",
"            if ((typeof(requirejs) !==  typeof(Function)) || (typeof(requirejs.config) !== typeof(Function))) {",
"                var script = document.createElement(\"script\");",
"                script.setAttribute(\"src\", \"https://cdnjs.cloudflare.com/ajax/libs/require.js/2.3.6/require.min.js\");",
"                script.onload = function(){",
"                    renderPlotly_eceb0dd3a4c947da93c15456b630d7ab();",
"                };",
"                document.getElementsByTagName(\"head\")[0].appendChild(script);",
"            }",
"            else {",
"                renderPlotly_eceb0dd3a4c947da93c15456b630d7ab();",
"            }",
"\u003c/script\u003e",
""]
        },
           "execution_count": null,
           "metadata": {},
           "output_type": "execute_result"
          }], 
           "source": ["linePolar\n"]
          }
,
          {
           "cell_type": "markdown",
           "metadata": {},
           
           "source": ["## Polar Spline charts\n",
"\n",
"use `Chart.SpinePolar` to create a polar plot that displays a smoothed line connecting input the data on a polar coordinate system.\n",
"\n",
"As for all other plots above, You can for example add labels to each datum:\n",
"\n"]
          }
,
          {
           "cell_type": "code",
           "metadata": {},
            "execution_count": 8, "outputs": [], 
           "source": ["let splinePolar = \n",
"    Chart.SplinePolar(\n",
"        radial,\n",
"        theta,\n",
"        Labels=[\"one\";\"two\";\"three\";\"four\";\"five\";\"six\";\"seven\"],\n",
"        TextPosition=StyleParam.TextPosition.TopCenter,\n",
"        ShowMarkers=true\n",
"    )\n"]
          }
,
          {
           "cell_type": "code",
           "metadata": {},
            "execution_count": null, "outputs": [
          {
           "data": {
            "text/html": ["\u003cdiv id=\"8136b5a5-a02d-41d0-ae62-55ebe6b9412b\" style=\"width: 600px; height: 600px;\"\u003e\u003c!-- Plotly chart will be drawn inside this DIV --\u003e\u003c/div\u003e",
"\u003cscript type=\"text/javascript\"\u003e",
"",
"            var renderPlotly_8136b5a5a02d41d0ae6255ebe6b9412b = function() {",
"            var fsharpPlotlyRequire = requirejs.config({context:\u0027fsharp-plotly\u0027,paths:{plotly:\u0027https://cdn.plot.ly/plotly-latest.min\u0027}}) || require;",
"            fsharpPlotlyRequire([\u0027plotly\u0027], function(Plotly) {",
"",
"            var data = [{\"type\":\"scatterpolar\",\"mode\":\"lines+markers+text\",\"r\":[1,2,3,4,5,6,7],\"theta\":[0,45,90,135,200,320,184],\"line\":{\"shape\":\"spline\"},\"marker\":{},\"text\":[\"one\",\"two\",\"three\",\"four\",\"five\",\"six\",\"seven\"],\"textposition\":\"top center\"}];",
"            var layout = {};",
"            var config = {};",
"            Plotly.newPlot(\u00278136b5a5-a02d-41d0-ae62-55ebe6b9412b\u0027, data, layout, config);",
"});",
"            };",
"            if ((typeof(requirejs) !==  typeof(Function)) || (typeof(requirejs.config) !== typeof(Function))) {",
"                var script = document.createElement(\"script\");",
"                script.setAttribute(\"src\", \"https://cdnjs.cloudflare.com/ajax/libs/require.js/2.3.6/require.min.js\");",
"                script.onload = function(){",
"                    renderPlotly_8136b5a5a02d41d0ae6255ebe6b9412b();",
"                };",
"                document.getElementsByTagName(\"head\")[0].appendChild(script);",
"            }",
"            else {",
"                renderPlotly_8136b5a5a02d41d0ae6255ebe6b9412b();",
"            }",
"\u003c/script\u003e",
""]
        },
           "execution_count": null,
           "metadata": {},
           "output_type": "execute_result"
          }], 
           "source": ["splinePolar\n"]
          }],
            "metadata": {
            "kernelspec": {"display_name": ".NET (F#)", "language": "F#", "name": ".net-fsharp"},
            "langauge_info": {
        "file_extension": ".fs",
        "mimetype": "text/x-fsharp",
        "name": "C#",
        "pygments_lexer": "fsharp",
        "version": "4.5"
        }
        },
            "nbformat": 4,
            "nbformat_minor": 1
        }
        

