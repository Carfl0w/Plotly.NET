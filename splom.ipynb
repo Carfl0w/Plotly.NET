
        {
            "cells": [
          {
           "cell_type": "code",
           "metadata": {},
            "execution_count": null, "outputs": [], 
           "source": ["#r \"nuget: Plotly.NET, 2.0.0-beta1\"\n",
"#r \"nuget: Plotly.NET.Interactive, 2.0.0-alpha5\"\n"]
          }
,
          {
           "cell_type": "markdown",
           "metadata": {},
           
           "source": ["# Scatterplot matrix \n",
"\n",
"[![Binder](https://mybinder.org/badge_logo.svg)](https://mybinder.org/v2/gh/plotly/Plotly.NET/gh-pages?filepath=splom.ipynb)\n",
"\n",
"*Summary:* This example shows how to plot a scatterplot matrix (splom) in F#.\n",
"\n",
"let\u0027s first create some data for the purpose of creating example charts:\n",
"\n"]
          }
,
          {
           "cell_type": "code",
           "metadata": {},
            "execution_count": 3, "outputs": [], 
           "source": ["open Plotly.NET \n",
"\n",
"let data = \n",
"    [\n",
"        \u0027A\u0027,[|1.;4.;3.4;0.7;|]\n",
"        \u0027B\u0027,[|3.;1.5;1.7;2.3;|]\n",
"        \u0027C\u0027,[|2.;4.;3.1;5.|]\n",
"        \u0027D\u0027,[|4.;2.;2.;4.;|]\n",
"    ]\n"]
          }
,
          {
           "cell_type": "markdown",
           "metadata": {},
           
           "source": ["Using a scatterplot matrix of several different variables can help to determine whether there are any\n",
"relationships among the variables in the dataset.\n",
"\n",
"**Attention**: this function is not very well tested and does not use the `Chart.Grid` functionality. \n",
"Until that is fixed, consider creating splom plot programatically using `Chart.Grid` for more control.\n"]
          }
,
          {
           "cell_type": "code",
           "metadata": {},
            "execution_count": 4, "outputs": [], 
           "source": ["let splom1 =\n",
"    Chart.Splom(data,Color=\"blue\")\n"]
          }
,
          {
           "cell_type": "code",
           "metadata": {},
            "execution_count": null, "outputs": [
          {
           "data": {
            "text/plain": ["No value returned by any evaluator"]
        },
           "execution_count": null,
           "metadata": {},
           "output_type": "execute_result"
          }], 
           "source": ["splom1\n"]
          }],
            "metadata": {
            "kernelspec": {"display_name": ".NET (F#)", "language": "F#", "name": ".net-fsharp"},
            "langauge_info": {
        "file_extension": ".fs",
        "mimetype": "text/x-fsharp",
        "name": "C#",
        "pygments_lexer": "fsharp",
        "version": "4.5"
        }
        },
            "nbformat": 4,
            "nbformat_minor": 1
        }
        

