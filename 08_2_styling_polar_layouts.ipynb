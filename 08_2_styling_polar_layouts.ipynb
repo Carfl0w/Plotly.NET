
        {
            "cells": [
          {
           "cell_type": "markdown",
           "metadata": {},
           
           "source": ["// can\u0027t yet format YamlFrontmatter ([\"title: Styling polar layouts\"; \"category: Polar Charts\"; \"categoryindex: 9 \"; \"index: 3\"], Some { StartLine = 2 StartColumn = 0 EndLine = 6 EndColumn = 8 }) to pynb markdown\n",
"\n"]
          }
,
          {
           "cell_type": "code",
           "metadata": {},
            "execution_count": null, "outputs": [], 
           "source": ["#r \"nuget: Plotly.NET, 2.0.0-preview.10\"\n",
"#r \"nuget: Plotly.NET.Interactive, 2.0.0-preview.10\"\n"]
          }
,
          {
           "cell_type": "markdown",
           "metadata": {},
           
           "source": ["# Styling polar layouts\n",
"\n",
"[![Binder](https://plotly.net/img/badge-binder.svg)](https://mybinder.org/v2/gh/plotly/Plotly.NET/gh-pages?filepath=08_2_styling_polar_layouts.ipynb)\u0026emsp;\n",
"[![Script](https://plotly.net/img/badge-script.svg)](https://plotly.net/08_2_styling_polar_layouts.fsx)\u0026emsp;\n",
"[![Notebook](https://plotly.net/img/badge-notebook.svg)](https://plotly.net/08_2_styling_polar_layouts.ipynb)\n",
"\n",
"*Summary:* This example shows how to style polar layouts in F#.\n",
"\n",
"let\u0027s first create some data for the purpose of creating example charts:\n",
"\n"]
          }
,
          {
           "cell_type": "code",
           "metadata": {},
            "execution_count": 3, "outputs": [], 
           "source": ["open Plotly.NET\n",
"\n",
"let r  = [ 1; 2; 3; 4; 5; 6; 7;] |\u003e List.map ((*) 10000)\n",
"let r2 = [ 5; 6; 7; 1; 2; 3; 4;] |\u003e List.map ((*) 10000)\n",
"let r3 = [ 3; 1; 5; 2; 8; 7; 5;] |\u003e List.map ((*) 10000)\n",
"\n",
"let t  = [0; 45; 90; 135; 200; 320; 184;]\n"]
          }
,
          {
           "cell_type": "markdown",
           "metadata": {},
           
           "source": ["Consider this combined polar chart:\n",
"\n"]
          }
,
          {
           "cell_type": "code",
           "metadata": {},
            "execution_count": 4, "outputs": [], 
           "source": ["let combinedPolar =\n",
"    [\n",
"        Chart.PointPolar(r,t,Name=\"PointPolar\")\n",
"        Chart.LinePolar(r2,t,Name=\"LinePolar\", ShowMarkers = true)\n",
"        Chart.SplinePolar(r3,t,Name=\"SplinePolar\", ShowMarkers = true)\n",
"    ]\n",
"    \n",
"    |\u003e Chart.combine\n"]
          }
,
          {
           "cell_type": "code",
           "metadata": {},
            "execution_count": null, "outputs": [
          {
           "data": {
            "text/html": ["\u003cdiv id=\"91791540-5bec-4d21-882c-36c8f87aaf81\" style=\"width: 600px; height: 600px;\"\u003e\u003c!-- Plotly chart will be drawn inside this DIV --\u003e\u003c/div\u003e",
"\u003cscript type=\"text/javascript\"\u003e",
"",
"            var renderPlotly_917915405bec4d21882c36c8f87aaf81 = function() {",
"            var fsharpPlotlyRequire = requirejs.config({context:\u0027fsharp-plotly\u0027,paths:{plotly:\u0027https://cdn.plot.ly/plotly-2.4.2.min\u0027}}) || require;",
"            fsharpPlotlyRequire([\u0027plotly\u0027], function(Plotly) {",
"",
"            var data = [{\"type\":\"scatterpolar\",\"mode\":\"markers\",\"r\":[10000,20000,30000,40000,50000,60000,70000],\"theta\":[0,45,90,135,200,320,184],\"name\":\"PointPolar\",\"marker\":{}},{\"type\":\"scatterpolar\",\"mode\":\"lines+markers\",\"r\":[50000,60000,70000,10000,20000,30000,40000],\"theta\":[0,45,90,135,200,320,184],\"name\":\"LinePolar\",\"line\":{},\"marker\":{}},{\"type\":\"scatterpolar\",\"mode\":\"lines+markers\",\"r\":[30000,10000,50000,20000,80000,70000,50000],\"theta\":[0,45,90,135,200,320,184],\"name\":\"SplinePolar\",\"line\":{\"shape\":\"spline\"},\"marker\":{}}];",
"            var layout = {};",
"            var config = {};",
"            Plotly.newPlot(\u002791791540-5bec-4d21-882c-36c8f87aaf81\u0027, data, layout, config);",
"});",
"            };",
"            if ((typeof(requirejs) !==  typeof(Function)) || (typeof(requirejs.config) !== typeof(Function))) {",
"                var script = document.createElement(\"script\");",
"                script.setAttribute(\"src\", \"https://cdnjs.cloudflare.com/ajax/libs/require.js/2.3.6/require.min.js\");",
"                script.onload = function(){",
"                    renderPlotly_917915405bec4d21882c36c8f87aaf81();",
"                };",
"                document.getElementsByTagName(\"head\")[0].appendChild(script);",
"            }",
"            else {",
"                renderPlotly_917915405bec4d21882c36c8f87aaf81();",
"            }",
"\u003c/script\u003e",
""]
        },
           "execution_count": null,
           "metadata": {},
           "output_type": "execute_result"
          }], 
           "source": ["combinedPolar\n"]
          }
,
          {
           "cell_type": "markdown",
           "metadata": {},
           
           "source": ["## Styling the polar layout\n",
"\n",
"Use the `Chart.withPolar` function and initialize a Polar layout with the desired looks\n",
"\n"]
          }
,
          {
           "cell_type": "code",
           "metadata": {},
            "execution_count": 6, "outputs": [], 
           "source": ["open Plotly.NET.LayoutObjects\n",
"\n",
"let styledPolar = \n",
"    combinedPolar\n",
"    |\u003e Chart.withPolar(\n",
"        Polar.init(\n",
"            Sector= (0., 270.),\n",
"            Hole=0.1\n",
"        )\n",
"    )\n"]
          }
,
          {
           "cell_type": "code",
           "metadata": {},
            "execution_count": null, "outputs": [
          {
           "data": {
            "text/html": ["\u003cdiv id=\"8af5f3fd-19ca-4d99-8d87-188353f38a75\" style=\"width: 600px; height: 600px;\"\u003e\u003c!-- Plotly chart will be drawn inside this DIV --\u003e\u003c/div\u003e",
"\u003cscript type=\"text/javascript\"\u003e",
"",
"            var renderPlotly_8af5f3fd19ca4d998d87188353f38a75 = function() {",
"            var fsharpPlotlyRequire = requirejs.config({context:\u0027fsharp-plotly\u0027,paths:{plotly:\u0027https://cdn.plot.ly/plotly-2.4.2.min\u0027}}) || require;",
"            fsharpPlotlyRequire([\u0027plotly\u0027], function(Plotly) {",
"",
"            var data = [{\"type\":\"scatterpolar\",\"mode\":\"markers\",\"r\":[10000,20000,30000,40000,50000,60000,70000],\"theta\":[0,45,90,135,200,320,184],\"name\":\"PointPolar\",\"marker\":{}},{\"type\":\"scatterpolar\",\"mode\":\"lines+markers\",\"r\":[50000,60000,70000,10000,20000,30000,40000],\"theta\":[0,45,90,135,200,320,184],\"name\":\"LinePolar\",\"line\":{},\"marker\":{}},{\"type\":\"scatterpolar\",\"mode\":\"lines+markers\",\"r\":[30000,10000,50000,20000,80000,70000,50000],\"theta\":[0,45,90,135,200,320,184],\"name\":\"SplinePolar\",\"line\":{\"shape\":\"spline\"},\"marker\":{}}];",
"            var layout = {\"polar\":{\"sector\":[0.0,270.0],\"hole\":0.1}};",
"            var config = {};",
"            Plotly.newPlot(\u00278af5f3fd-19ca-4d99-8d87-188353f38a75\u0027, data, layout, config);",
"});",
"            };",
"            if ((typeof(requirejs) !==  typeof(Function)) || (typeof(requirejs.config) !== typeof(Function))) {",
"                var script = document.createElement(\"script\");",
"                script.setAttribute(\"src\", \"https://cdnjs.cloudflare.com/ajax/libs/require.js/2.3.6/require.min.js\");",
"                script.onload = function(){",
"                    renderPlotly_8af5f3fd19ca4d998d87188353f38a75();",
"                };",
"                document.getElementsByTagName(\"head\")[0].appendChild(script);",
"            }",
"            else {",
"                renderPlotly_8af5f3fd19ca4d998d87188353f38a75();",
"            }",
"\u003c/script\u003e",
""]
        },
           "execution_count": null,
           "metadata": {},
           "output_type": "execute_result"
          }], 
           "source": ["styledPolar\n"]
          }
,
          {
           "cell_type": "markdown",
           "metadata": {},
           
           "source": ["## Styling radial and angular axes\n",
"\n",
"You could pass these axes to `Chart.withPolar`, but for the case where you want to specifically set the angular or radial axis, there are the `Chart.withAngularAxis` and `Chart.withRadialAxis` functions:\n",
"\n"]
          }
,
          {
           "cell_type": "code",
           "metadata": {},
            "execution_count": 8, "outputs": [], 
           "source": ["let styledPolar2 =\n",
"    styledPolar\n",
"    |\u003e Chart.withAngularAxis(\n",
"        AngularAxis.init(\n",
"            Color=Color.fromString \"darkblue\"\n",
"        )\n",
"    )\n",
"    |\u003e Chart.withRadialAxis(\n",
"        RadialAxis.init(\n",
"            Title = Title.init(\"Hi, i am the radial axis\"),\n",
"            Color=Color.fromString \"darkblue\",\n",
"            SeparateThousands = true\n",
"        )\n",
"    )\n"]
          }
,
          {
           "cell_type": "code",
           "metadata": {},
            "execution_count": null, "outputs": [
          {
           "data": {
            "text/html": ["\u003cdiv id=\"5625d67f-2d13-4eea-85d5-3c6269f505bc\" style=\"width: 600px; height: 600px;\"\u003e\u003c!-- Plotly chart will be drawn inside this DIV --\u003e\u003c/div\u003e",
"\u003cscript type=\"text/javascript\"\u003e",
"",
"            var renderPlotly_5625d67f2d134eea85d53c6269f505bc = function() {",
"            var fsharpPlotlyRequire = requirejs.config({context:\u0027fsharp-plotly\u0027,paths:{plotly:\u0027https://cdn.plot.ly/plotly-2.4.2.min\u0027}}) || require;",
"            fsharpPlotlyRequire([\u0027plotly\u0027], function(Plotly) {",
"",
"            var data = [{\"type\":\"scatterpolar\",\"mode\":\"markers\",\"r\":[10000,20000,30000,40000,50000,60000,70000],\"theta\":[0,45,90,135,200,320,184],\"name\":\"PointPolar\",\"marker\":{}},{\"type\":\"scatterpolar\",\"mode\":\"lines+markers\",\"r\":[50000,60000,70000,10000,20000,30000,40000],\"theta\":[0,45,90,135,200,320,184],\"name\":\"LinePolar\",\"line\":{},\"marker\":{}},{\"type\":\"scatterpolar\",\"mode\":\"lines+markers\",\"r\":[30000,10000,50000,20000,80000,70000,50000],\"theta\":[0,45,90,135,200,320,184],\"name\":\"SplinePolar\",\"line\":{\"shape\":\"spline\"},\"marker\":{}}];",
"            var layout = {\"polar\":{\"sector\":[0.0,270.0],\"hole\":0.1,\"angularaxis\":{\"color\":\"darkblue\"},\"radialaxis\":{\"title\":{\"text\":\"Hi, i am the radial axis\"},\"color\":\"darkblue\",\"separatethousands\":true}}};",
"            var config = {};",
"            Plotly.newPlot(\u00275625d67f-2d13-4eea-85d5-3c6269f505bc\u0027, data, layout, config);",
"});",
"            };",
"            if ((typeof(requirejs) !==  typeof(Function)) || (typeof(requirejs.config) !== typeof(Function))) {",
"                var script = document.createElement(\"script\");",
"                script.setAttribute(\"src\", \"https://cdnjs.cloudflare.com/ajax/libs/require.js/2.3.6/require.min.js\");",
"                script.onload = function(){",
"                    renderPlotly_5625d67f2d134eea85d53c6269f505bc();",
"                };",
"                document.getElementsByTagName(\"head\")[0].appendChild(script);",
"            }",
"            else {",
"                renderPlotly_5625d67f2d134eea85d53c6269f505bc();",
"            }",
"\u003c/script\u003e",
""]
        },
           "execution_count": null,
           "metadata": {},
           "output_type": "execute_result"
          }], 
           "source": ["styledPolar2\n"]
          }],
            "metadata": {
            "kernelspec": {"display_name": ".NET (F#)", "language": "F#", "name": ".net-fsharp"},
            "langauge_info": {
        "file_extension": ".fs",
        "mimetype": "text/x-fsharp",
        "name": "C#",
        "pygments_lexer": "fsharp",
        "version": "4.5"
        }
        },
            "nbformat": 4,
            "nbformat_minor": 1
        }
        

