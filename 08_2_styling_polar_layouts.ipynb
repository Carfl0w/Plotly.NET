
        {
            "cells": [
          {
           "cell_type": "markdown",
           "metadata": {},
           
           "source": ["// can\u0027t yet format YamlFrontmatter ([\"title: Styling polar layouts\"; \"category: Polar Charts\"; \"categoryindex: 9 \"; \"index: 3\"], Some { StartLine = 2 StartColumn = 0 EndLine = 6 EndColumn = 8 }) to pynb markdown\n",
"\n"]
          }
,
          {
           "cell_type": "code",
           "metadata": {},
            "execution_count": null, "outputs": [], 
           "source": ["#r \"nuget: Plotly.NET, 2.0.0-preview.8\"\n",
"#r \"nuget: Plotly.NET.Interactive, 2.0.0-preview.8\"\n"]
          }
,
          {
           "cell_type": "markdown",
           "metadata": {},
           
           "source": ["# Styling polar layouts\n",
"\n",
"[![Binder](https://plotly.net/img/badge-binder.svg)](https://mybinder.org/v2/gh/plotly/Plotly.NET/gh-pages?filepath=08_2_styling_polar_layouts.ipynb)\u0026emsp;\n",
"[![Script](https://plotly.net/img/badge-script.svg)](https://plotly.net/08_2_styling_polar_layouts.fsx)\u0026emsp;\n",
"[![Notebook](https://plotly.net/img/badge-notebook.svg)](https://plotly.net/08_2_styling_polar_layouts.ipynb)\n",
"\n",
"*Summary:* This example shows how to style polar layouts in F#.\n",
"\n",
"let\u0027s first create some data for the purpose of creating example charts:\n",
"\n"]
          }
,
          {
           "cell_type": "code",
           "metadata": {},
            "execution_count": 3, "outputs": [], 
           "source": ["open Plotly.NET\n",
"\n",
"let r  = [ 1; 2; 3; 4; 5; 6; 7;] |\u003e List.map ((*) 10000)\n",
"let r2 = [ 5; 6; 7; 1; 2; 3; 4;] |\u003e List.map ((*) 10000)\n",
"let r3 = [ 3; 1; 5; 2; 8; 7; 5;] |\u003e List.map ((*) 10000)\n",
"\n",
"let t  = [0; 45; 90; 135; 200; 320; 184;]\n"]
          }
,
          {
           "cell_type": "markdown",
           "metadata": {},
           
           "source": ["Consider this combined polar chart:\n",
"\n"]
          }
,
          {
           "cell_type": "code",
           "metadata": {},
            "execution_count": 4, "outputs": [], 
           "source": ["let combinedPolar =\n",
"    [\n",
"        Chart.PointPolar(r,t,Name=\"PointPolar\")\n",
"        Chart.LinePolar(r2,t,Name=\"LinePolar\", ShowMarkers = true)\n",
"        Chart.SplinePolar(r3,t,Name=\"SplinePolar\", ShowMarkers = true)\n",
"    ]\n",
"    \n",
"    |\u003e Chart.combine\n"]
          }
,
          {
           "cell_type": "code",
           "metadata": {},
            "execution_count": null, "outputs": [
          {
           "data": {
            "text/html": ["\u003cdiv id=\"945bbc0c-ca65-4aa4-ba93-49aaff764075\" style=\"width: 600px; height: 600px;\"\u003e\u003c!-- Plotly chart will be drawn inside this DIV --\u003e\u003c/div\u003e",
"\u003cscript type=\"text/javascript\"\u003e",
"",
"            var renderPlotly_945bbc0cca654aa4ba9349aaff764075 = function() {",
"            var fsharpPlotlyRequire = requirejs.config({context:\u0027fsharp-plotly\u0027,paths:{plotly:\u0027https://cdn.plot.ly/plotly-latest.min\u0027}}) || require;",
"            fsharpPlotlyRequire([\u0027plotly\u0027], function(Plotly) {",
"",
"            var data = [{\"type\":\"scatterpolar\",\"mode\":\"markers\",\"r\":[10000,20000,30000,40000,50000,60000,70000],\"theta\":[0,45,90,135,200,320,184],\"name\":\"PointPolar\",\"marker\":{}},{\"type\":\"scatterpolar\",\"mode\":\"lines+markers\",\"r\":[50000,60000,70000,10000,20000,30000,40000],\"theta\":[0,45,90,135,200,320,184],\"name\":\"LinePolar\",\"line\":{},\"marker\":{}},{\"type\":\"scatterpolar\",\"mode\":\"lines+markers\",\"r\":[30000,10000,50000,20000,80000,70000,50000],\"theta\":[0,45,90,135,200,320,184],\"name\":\"SplinePolar\",\"line\":{\"shape\":\"spline\"},\"marker\":{}}];",
"            var layout = {};",
"            var config = {};",
"            Plotly.newPlot(\u0027945bbc0c-ca65-4aa4-ba93-49aaff764075\u0027, data, layout, config);",
"});",
"            };",
"            if ((typeof(requirejs) !==  typeof(Function)) || (typeof(requirejs.config) !== typeof(Function))) {",
"                var script = document.createElement(\"script\");",
"                script.setAttribute(\"src\", \"https://cdnjs.cloudflare.com/ajax/libs/require.js/2.3.6/require.min.js\");",
"                script.onload = function(){",
"                    renderPlotly_945bbc0cca654aa4ba9349aaff764075();",
"                };",
"                document.getElementsByTagName(\"head\")[0].appendChild(script);",
"            }",
"            else {",
"                renderPlotly_945bbc0cca654aa4ba9349aaff764075();",
"            }",
"\u003c/script\u003e",
""]
        },
           "execution_count": null,
           "metadata": {},
           "output_type": "execute_result"
          }], 
           "source": ["combinedPolar\n"]
          }
,
          {
           "cell_type": "markdown",
           "metadata": {},
           
           "source": ["## Styling the polar layout\n",
"\n",
"Use the `Chart.withPolar` function and initialize a Polar layout with the desired looks\n",
"\n"]
          }
,
          {
           "cell_type": "code",
           "metadata": {},
            "execution_count": 6, "outputs": [], 
           "source": ["open Plotly.NET.LayoutObjects\n",
"\n",
"let styledPolar = \n",
"    combinedPolar\n",
"    |\u003e Chart.withPolar(\n",
"        Polar.init(\n",
"            Sector= (0., 270.),\n",
"            Hole=0.1\n",
"        )\n",
"    )\n"]
          }
,
          {
           "cell_type": "code",
           "metadata": {},
            "execution_count": null, "outputs": [
          {
           "data": {
            "text/html": ["\u003cdiv id=\"7f6e18c0-baa0-43dc-95c7-9f13d98588bb\" style=\"width: 600px; height: 600px;\"\u003e\u003c!-- Plotly chart will be drawn inside this DIV --\u003e\u003c/div\u003e",
"\u003cscript type=\"text/javascript\"\u003e",
"",
"            var renderPlotly_7f6e18c0baa043dc95c79f13d98588bb = function() {",
"            var fsharpPlotlyRequire = requirejs.config({context:\u0027fsharp-plotly\u0027,paths:{plotly:\u0027https://cdn.plot.ly/plotly-latest.min\u0027}}) || require;",
"            fsharpPlotlyRequire([\u0027plotly\u0027], function(Plotly) {",
"",
"            var data = [{\"type\":\"scatterpolar\",\"mode\":\"markers\",\"r\":[10000,20000,30000,40000,50000,60000,70000],\"theta\":[0,45,90,135,200,320,184],\"name\":\"PointPolar\",\"marker\":{}},{\"type\":\"scatterpolar\",\"mode\":\"lines+markers\",\"r\":[50000,60000,70000,10000,20000,30000,40000],\"theta\":[0,45,90,135,200,320,184],\"name\":\"LinePolar\",\"line\":{},\"marker\":{}},{\"type\":\"scatterpolar\",\"mode\":\"lines+markers\",\"r\":[30000,10000,50000,20000,80000,70000,50000],\"theta\":[0,45,90,135,200,320,184],\"name\":\"SplinePolar\",\"line\":{\"shape\":\"spline\"},\"marker\":{}}];",
"            var layout = {\"polar\":{\"sector\":[0.0,270.0],\"hole\":0.1}};",
"            var config = {};",
"            Plotly.newPlot(\u00277f6e18c0-baa0-43dc-95c7-9f13d98588bb\u0027, data, layout, config);",
"});",
"            };",
"            if ((typeof(requirejs) !==  typeof(Function)) || (typeof(requirejs.config) !== typeof(Function))) {",
"                var script = document.createElement(\"script\");",
"                script.setAttribute(\"src\", \"https://cdnjs.cloudflare.com/ajax/libs/require.js/2.3.6/require.min.js\");",
"                script.onload = function(){",
"                    renderPlotly_7f6e18c0baa043dc95c79f13d98588bb();",
"                };",
"                document.getElementsByTagName(\"head\")[0].appendChild(script);",
"            }",
"            else {",
"                renderPlotly_7f6e18c0baa043dc95c79f13d98588bb();",
"            }",
"\u003c/script\u003e",
""]
        },
           "execution_count": null,
           "metadata": {},
           "output_type": "execute_result"
          }], 
           "source": ["styledPolar\n"]
          }
,
          {
           "cell_type": "markdown",
           "metadata": {},
           
           "source": ["## Styling radial and angular axes\n",
"\n",
"You could pass these axes to `Chart.withPolar`, but for the case where you want to specifically set the angular or radial axis, there are the `Chart.withAngularAxis` and `Chart.withRadialAxis` functions:\n",
"\n"]
          }
,
          {
           "cell_type": "code",
           "metadata": {},
            "execution_count": 8, "outputs": [], 
           "source": ["let styledPolar2 =\n",
"    styledPolar\n",
"    |\u003e Chart.withAngularAxis(\n",
"        AngularAxis.init(\n",
"            Color=Color.fromString \"darkblue\"\n",
"        )\n",
"    )\n",
"    |\u003e Chart.withRadialAxis(\n",
"        RadialAxis.init(\n",
"            Title = Title.init(\"Hi, i am the radial axis\"),\n",
"            Color=Color.fromString \"darkblue\",\n",
"            SeparateThousands = true\n",
"        )\n",
"    )\n"]
          }
,
          {
           "cell_type": "code",
           "metadata": {},
            "execution_count": null, "outputs": [
          {
           "data": {
            "text/html": ["\u003cdiv id=\"396a58ef-1952-476f-8ee1-5bb7563bfffc\" style=\"width: 600px; height: 600px;\"\u003e\u003c!-- Plotly chart will be drawn inside this DIV --\u003e\u003c/div\u003e",
"\u003cscript type=\"text/javascript\"\u003e",
"",
"            var renderPlotly_396a58ef1952476f8ee15bb7563bfffc = function() {",
"            var fsharpPlotlyRequire = requirejs.config({context:\u0027fsharp-plotly\u0027,paths:{plotly:\u0027https://cdn.plot.ly/plotly-latest.min\u0027}}) || require;",
"            fsharpPlotlyRequire([\u0027plotly\u0027], function(Plotly) {",
"",
"            var data = [{\"type\":\"scatterpolar\",\"mode\":\"markers\",\"r\":[10000,20000,30000,40000,50000,60000,70000],\"theta\":[0,45,90,135,200,320,184],\"name\":\"PointPolar\",\"marker\":{}},{\"type\":\"scatterpolar\",\"mode\":\"lines+markers\",\"r\":[50000,60000,70000,10000,20000,30000,40000],\"theta\":[0,45,90,135,200,320,184],\"name\":\"LinePolar\",\"line\":{},\"marker\":{}},{\"type\":\"scatterpolar\",\"mode\":\"lines+markers\",\"r\":[30000,10000,50000,20000,80000,70000,50000],\"theta\":[0,45,90,135,200,320,184],\"name\":\"SplinePolar\",\"line\":{\"shape\":\"spline\"},\"marker\":{}}];",
"            var layout = {\"polar\":{\"sector\":[0.0,270.0],\"hole\":0.1,\"angularaxis\":{\"color\":\"darkblue\"},\"radialaxis\":{\"title\":{\"text\":\"Hi, i am the radial axis\"},\"color\":\"darkblue\",\"separatethousands\":true}}};",
"            var config = {};",
"            Plotly.newPlot(\u0027396a58ef-1952-476f-8ee1-5bb7563bfffc\u0027, data, layout, config);",
"});",
"            };",
"            if ((typeof(requirejs) !==  typeof(Function)) || (typeof(requirejs.config) !== typeof(Function))) {",
"                var script = document.createElement(\"script\");",
"                script.setAttribute(\"src\", \"https://cdnjs.cloudflare.com/ajax/libs/require.js/2.3.6/require.min.js\");",
"                script.onload = function(){",
"                    renderPlotly_396a58ef1952476f8ee15bb7563bfffc();",
"                };",
"                document.getElementsByTagName(\"head\")[0].appendChild(script);",
"            }",
"            else {",
"                renderPlotly_396a58ef1952476f8ee15bb7563bfffc();",
"            }",
"\u003c/script\u003e",
""]
        },
           "execution_count": null,
           "metadata": {},
           "output_type": "execute_result"
          }], 
           "source": ["styledPolar2\n"]
          }],
            "metadata": {
            "kernelspec": {"display_name": ".NET (F#)", "language": "F#", "name": ".net-fsharp"},
            "langauge_info": {
        "file_extension": ".fs",
        "mimetype": "text/x-fsharp",
        "name": "C#",
        "pygments_lexer": "fsharp",
        "version": "4.5"
        }
        },
            "nbformat": 4,
            "nbformat_minor": 1
        }
        

