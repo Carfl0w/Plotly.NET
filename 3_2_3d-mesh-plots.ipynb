
        {
            "cells": [
          {
           "cell_type": "markdown",
           "metadata": {},
           
           "source": ["// can\u0027t yet format YamlFrontmatter ([\"title: 3D Mesh plots\"; \"category: 3D Charts\"; \"categoryindex: 4\"; \"index: 3\"], Some { StartLine = 2 StartColumn = 0 EndLine = 6 EndColumn = 8 }) to pynb markdown\n",
"\n"]
          }
,
          {
           "cell_type": "code",
           "metadata": {},
            "execution_count": null, "outputs": [], 
           "source": ["#r \"nuget: Plotly.NET, 2.0.0-preview.7\"\n",
"#r \"nuget: Plotly.NET.Interactive, 2.0.0-preview.7\"\n"]
          }
,
          {
           "cell_type": "markdown",
           "metadata": {},
           
           "source": ["# 3D Mesh plots\n",
"\n",
"[![Binder](https://plotly.net/img/badge-binder.svg)](https://mybinder.org/v2/gh/plotly/Plotly.NET/gh-pages?filepath=3_2_3d-mesh-plots.ipynb)\u0026emsp;\n",
"[![Script](https://plotly.net/img/badge-script.svg)](https://plotly.net/3_2_3d-mesh-plots.fsx)\u0026emsp;\n",
"[![Notebook](https://plotly.net/img/badge-notebook.svg)](https://plotly.net/3_2_3d-mesh-plots.ipynb)\n",
"\n",
"*Summary:* This example shows how to create 3D-Mesh charts in F#.\n",
"\n",
"let\u0027s first create some data for the purpose of creating example charts:\n"]
          }
,
          {
           "cell_type": "code",
           "metadata": {},
            "execution_count": 3, "outputs": [], 
           "source": ["open System\n",
"open Plotly.NET \n",
"\n",
"\n",
"//---------------------- Generate linearly spaced vector ----------------------\n",
"let linspace (min,max,n) = \n",
"    if n \u003c= 2 then failwithf \"n needs to be larger then 2\"\n",
"    let bw = float (max - min) / (float n - 1.)\n",
"    Array.init n (fun i -\u003e min + (bw * float i))\n",
"    //[|min ..bw ..max|]\n",
"\n",
"//---------------------- Create example data ----------------------\n",
"let size = 100\n",
"let x = linspace(-2. * Math.PI, 2. * Math.PI, size)\n",
"let y = linspace(-2. * Math.PI, 2. * Math.PI, size)\n",
"\n",
"let f x y = - (5. * x / (x**2. + y**2. + 1.) )\n",
"\n",
"let z = \n",
"    Array.init size (fun i -\u003e \n",
"        Array.init size (fun j -\u003e \n",
"            f x.[j] y.[i] \n",
"        )\n",
"    )\n",
"\n",
"let rnd = System.Random()\n",
"let a = Array.init 50 (fun _ -\u003e rnd.NextDouble())\n",
"let b = Array.init 50 (fun _ -\u003e rnd.NextDouble())\n",
"let c = Array.init 50 (fun _ -\u003e rnd.NextDouble())\n",
"\n",
"\n",
"let mesh3d =\n",
"    Trace3d.initMesh3d \n",
"        (fun mesh3d -\u003e\n",
"            mesh3d?x \u003c- a\n",
"            mesh3d?y \u003c- b\n",
"            mesh3d?z \u003c- c\n",
"            mesh3d?flatshading \u003c- true\n",
"            mesh3d?contour \u003c- Contours.initXyz(Show=true)\n",
"            mesh3d\n",
"            )\n",
"    |\u003e GenericChart.ofTraceObject \n",
"    \n"]
          }
,
          {
           "cell_type": "code",
           "metadata": {},
            "execution_count": null, "outputs": [
          {
           "data": {
            "text/html": ["\u003cdiv id=\"3bcce812-918d-4722-89ef-e60701ef875e\" style=\"width: 600px; height: 600px;\"\u003e\u003c!-- Plotly chart will be drawn inside this DIV --\u003e\u003c/div\u003e",
"",
"\u003cscript type=\"text/javascript\"\u003e",
"",
"",
"            var renderPlotly_3bcce812918d472289efe60701ef875e = function() {",
"            var fsharpPlotlyRequire = requirejs.config({context:\u0027fsharp-plotly\u0027,paths:{plotly:\u0027https://cdn.plot.ly/plotly-latest.min\u0027}}) || require;",
"            fsharpPlotlyRequire([\u0027plotly\u0027], function(Plotly) {",
"",
"",
"            var data = [{\"type\":\"mesh3d\",\"x\":[0.7539109297813433,0.9459553747186229,0.34101497677202103,0.3970689696246148,0.3634359083899464,0.09667239482359606,0.4773228790039769,0.48950202366779655,0.6094339548654081,0.116735664716333,0.4182522168467996,0.5660440281806719,0.09437291561363867,0.9812035658309253,0.8714568260458563,0.09444924727755098,0.840151723399829,0.15414060193772455,0.2886621427203818,0.9558500260840403,0.8389053269470601,0.27541884792755306,0.570777013232362,0.2364977156913363,0.7261996272607705,0.7701478296751845,0.9025844479457403,0.15938587401033652,0.6876860008052019,0.6116261601502198,0.48770978464172676,0.1843926516288857,0.7753407725949496,0.8760709831845346,0.4634084838737773,0.3233312942661956,0.13820253086192652,0.09228010386800398,0.26999491977970813,0.34601597876568135,0.23120311658419815,0.9311200910858438,0.7829806785019956,0.13009468984328895,0.43828877128580995,0.028877813382483,0.2955248650608234,0.4206041099599582,0.28841402069125976,0.26609878021576383],\"y\":[0.9713506628625797,0.8623231900214792,0.44291885310919904,0.1006560428536758,0.6026225060236745,0.4784920818537903,0.37517836148626094,0.10451726108068472,0.6708693423638443,0.593288078714762,0.19408794687785577,0.31793700499364036,0.8018160228625946,0.9978077947151883,0.6290258800746062,0.23385956521791385,0.7907032555857223,0.2183019324291041,0.517795081957148,0.5481255317796606,0.9562467164156244,0.747871619531825,0.8841456821580165,0.9426461639547005,0.7246469094998421,0.9077852358612163,0.49243816942555746,0.44068232338907304,0.7982089444055264,0.6973218138782875,0.47462296461436104,0.4819803379857821,0.8709718533190768,0.4215872205894381,0.6402754972876401,0.6253865946202476,0.7414737985196868,0.6746847297412738,0.27344847716086007,0.9849164020199871,0.9481529327799347,0.03368526978124178,0.4214107615041597,0.6767068410649462,0.15192803188782558,0.9132661115905578,0.1293040682232492,0.7851728837868073,0.5010688097686827,0.20442920606789608],\"z\":[0.23817455779676072,0.07722293263171937,0.9028090280028103,0.7402884889115992,0.3098520638001394,0.22347904333075463,0.9781775078634627,0.5002726891544986,0.3760091333538336,0.6948372701624582,0.9860539124282328,0.9344960380971878,0.30630831667515834,0.9735475284855568,0.11866511410040087,0.7121076088920737,0.4469651516745636,0.3802288022731565,0.3575322974275482,0.003639285454358573,0.49238576669822715,0.1160185258444485,0.944853455268244,0.5328786799371609,0.5999725989997259,0.9225614466343827,0.32646085802766533,0.20743884109307026,0.7907181320668748,0.8113807979092844,0.7784811676379672,0.7072652856387502,0.9396135136203904,0.5937797383376303,0.45914725608152673,0.3974000319826417,0.579171309982972,0.1306833644074776,0.11173515678929871,0.41679645395688547,0.647209086756785,0.2412011093651881,0.2986755963874401,0.5786112069984019,0.9988624895917543,0.013656894682746798,0.7273769531060834,0.4478632330186028,0.5580417269645453,0.4398204229957519],\"flatshading\":true,\"contour\":{\"x\":{\"show\":true},\"y\":{\"show\":true},\"z\":{\"show\":true}}}];",
"            var layout = {};",
"            var config = {};",
"            Plotly.newPlot(\u00273bcce812-918d-4722-89ef-e60701ef875e\u0027, data, layout, config);",
"",
"});",
"            };",
"            if ((typeof(requirejs) !==  typeof(Function)) || (typeof(requirejs.config) !== typeof(Function))) {",
"                var script = document.createElement(\"script\");",
"                script.setAttribute(\"src\", \"https://cdnjs.cloudflare.com/ajax/libs/require.js/2.3.6/require.min.js\");",
"                script.onload = function(){",
"                    renderPlotly_3bcce812918d472289efe60701ef875e();",
"                };",
"                document.getElementsByTagName(\"head\")[0].appendChild(script);",
"            }",
"            else {",
"                renderPlotly_3bcce812918d472289efe60701ef875e();",
"            }",
"",
"\u003c/script\u003e",
"",
""]
        },
           "execution_count": null,
           "metadata": {},
           "output_type": "execute_result"
          }], 
           "source": ["mesh3d\n"]
          }],
            "metadata": {
            "kernelspec": {"display_name": ".NET (F#)", "language": "F#", "name": ".net-fsharp"},
            "langauge_info": {
        "file_extension": ".fs",
        "mimetype": "text/x-fsharp",
        "name": "C#",
        "pygments_lexer": "fsharp",
        "version": "4.5"
        }
        },
            "nbformat": 4,
            "nbformat_minor": 1
        }
        

