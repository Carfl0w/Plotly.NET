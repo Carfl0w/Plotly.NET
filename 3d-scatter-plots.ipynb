
        {
            "cells": [
          {
           "cell_type": "code",
           "metadata": {},
            "execution_count": null, "outputs": [], 
           "source": ["#r \"nuget: Plotly.NET, 2.0.0-beta1\"\n",
"#r \"nuget: Plotly.NET.Interactive, 2.0.0-alpha5\"\n"]
          }
,
          {
           "cell_type": "markdown",
           "metadata": {},
           
           "source": ["# Scatter3d charts\n",
"\n",
"[![Binder](https://mybinder.org/badge_logo.svg)](https://mybinder.org/v2/gh/plotly/Plotly.NET/gh-pages?filepath=3d-scatter-plots.ipynb)\n",
"\n",
"*Summary:* This example shows how to create three-dimensional scatter charts in F#.\n",
"\n",
"A Scatter3d chart report shows a three-dimensional spinnable view of your data\n"]
          }
,
          {
           "cell_type": "code",
           "metadata": {},
            "execution_count": 3, "outputs": [], 
           "source": ["open Plotly.NET \n",
"  \n",
"let x = [19; 26; 55;]\n",
"let y = [19; 26; 55;]\n",
"let z = [19; 26; 55;]\n",
"\n",
"let scatter3d = \n",
"    Chart.Scatter3d(x,y,z,StyleParam.Mode.Markers)\n",
"    |\u003e Chart.withX_AxisStyle(\"my x-axis\")\n",
"    |\u003e Chart.withY_AxisStyle(\"my y-axis\")\n",
"    |\u003e Chart.withZ_AxisStyle(\"my z-axis\")\n",
"    |\u003e Chart.withSize(800.,800.)\n"]
          }
,
          {
           "cell_type": "code",
           "metadata": {},
            "execution_count": null, "outputs": [
          {
           "data": {
            "text/plain": ["No value returned by any evaluator"]
        },
           "execution_count": null,
           "metadata": {},
           "output_type": "execute_result"
          }], 
           "source": ["scatter3d\n"]
          }],
            "metadata": {
            "kernelspec": {"display_name": ".NET (F#)", "language": "F#", "name": ".net-fsharp"},
            "langauge_info": {
        "file_extension": ".fs",
        "mimetype": "text/x-fsharp",
        "name": "C#",
        "pygments_lexer": "fsharp",
        "version": "4.5"
        }
        },
            "nbformat": 4,
            "nbformat_minor": 1
        }
        

