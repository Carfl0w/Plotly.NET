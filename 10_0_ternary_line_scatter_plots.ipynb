
        {
            "cells": [
          {
           "cell_type": "markdown",
           "metadata": {},
           
           "source": ["// can\u0027t yet format YamlFrontmatter ([\"title: Ternary line and scatter plots\"; \"category: Ternary Plots\"; \"categoryindex: 11\"; \"index: 1\"], Some { StartLine = 2 StartColumn = 0 EndLine = 6 EndColumn = 8 }) to pynb markdown\n",
"\n"]
          }
,
          {
           "cell_type": "code",
           "metadata": {},
            "execution_count": null, "outputs": [], 
           "source": ["#r \"nuget: Plotly.NET, 2.0.0-preview.13\"\n",
"#r \"nuget: Plotly.NET.Interactive, 2.0.0-preview.13\"\n"]
          }
,
          {
           "cell_type": "markdown",
           "metadata": {},
           
           "source": ["# Ternary charts\n",
"\n",
"[![Binder](https://plotly.net/img/badge-binder.svg)](https://mybinder.org/v2/gh/plotly/Plotly.NET/gh-pages?filepath=10_0_ternary_line_scatter_plots.ipynb)\u0026emsp;\n",
"[![Script](https://plotly.net/img/badge-script.svg)](https://plotly.net/10_0_ternary_line_scatter_plots.fsx)\u0026emsp;\n",
"[![Notebook](https://plotly.net/img/badge-notebook.svg)](https://plotly.net/10_0_ternary_line_scatter_plots.ipynb)\n",
"\n",
"*Summary:* This example shows how to create ternary charts in F#.\n",
"\n",
"let\u0027s first create some data for the purpose of creating example charts:\n",
"\n",
"\n"]
          }
,
          {
           "cell_type": "code",
           "metadata": {},
            "execution_count": 3, "outputs": [], 
           "source": ["open Plotly.NET \n",
"  \n",
"// a coordinates\n",
"let a  = [ 1; 2; 3; 4; 5; 6; 7;]\n",
"\n",
"// b coordinates\n",
"let b  = a |\u003e List.rev\n",
"\n",
"//c\n",
"let c  = [ 2; 2; 2; 2; 2; 2; 2;]\n"]
          }
,
          {
           "cell_type": "markdown",
           "metadata": {},
           
           "source": ["A Ternary plot is a barycentric plot on three variables which sum to a constant.\n",
"\n",
"It graphically depicts the ratios of the three variables as positions in an equilateral triangle. \n",
"\n",
"It is used in physical chemistry, petrology, mineralogy, metallurgy, and other physical sciences to show the compositions of systems composed of three species. \n",
"In population genetics, a triangle plot of genotype frequencies is called a de Finetti diagram. In game theory, it is often called a simplex plot.\n",
"\n",
"Ternary plots are tools for analyzing compositional data in the three-dimensional case.\n",
"\n",
"## Ternary point charts\n",
"\n",
"use `Chart.PointTernary` to create a ternary plot that displays points on a ternary coordinate system:\n",
"\n"]
          }
,
          {
           "cell_type": "code",
           "metadata": {},
            "execution_count": 4, "outputs": [], 
           "source": ["let ternaryPoint = Chart.PointTernary(a,b,c)\n"]
          }
,
          {
           "cell_type": "code",
           "metadata": {},
            "execution_count": null, "outputs": [
          {
           "data": {
            "text/html": ["\u003cdiv id=\"c0bc6c7c-e134-4619-804b-cf1b4e1a3dfc\"\u003e\u003c!-- Plotly chart will be drawn inside this DIV --\u003e\u003c/div\u003e",
"\u003cscript type=\"text/javascript\"\u003e",
"",
"            var renderPlotly_c0bc6c7ce1344619804bcf1b4e1a3dfc = function() {",
"            var fsharpPlotlyRequire = requirejs.config({context:\u0027fsharp-plotly\u0027,paths:{plotly:\u0027https://cdn.plot.ly/plotly-2.4.2.min\u0027}}) || require;",
"            fsharpPlotlyRequire([\u0027plotly\u0027], function(Plotly) {",
"",
"            var data = [{\"type\":\"scatterternary\",\"mode\":\"markers\",\"a\":[1,2,3,4,5,6,7],\"b\":[7,6,5,4,3,2,1],\"c\":[2,2,2,2,2,2,2],\"marker\":{}}];",
"            var layout = {\"width\":600,\"height\":600,\"template\":{\"layout\":{\"paper_bgcolor\":\"white\",\"plot_bgcolor\":\"white\",\"xaxis\":{\"ticks\":\"inside\",\"mirror\":\"all\",\"showline\":true,\"zeroline\":true},\"yaxis\":{\"ticks\":\"inside\",\"mirror\":\"all\",\"showline\":true,\"zeroline\":true}},\"data\":{}}};",
"            var config = {\"responsive\":true};",
"            Plotly.newPlot(\u0027c0bc6c7c-e134-4619-804b-cf1b4e1a3dfc\u0027, data, layout, config);",
"});",
"            };",
"            if ((typeof(requirejs) !==  typeof(Function)) || (typeof(requirejs.config) !== typeof(Function))) {",
"                var script = document.createElement(\"script\");",
"                script.setAttribute(\"src\", \"https://cdnjs.cloudflare.com/ajax/libs/require.js/2.3.6/require.min.js\");",
"                script.onload = function(){",
"                    renderPlotly_c0bc6c7ce1344619804bcf1b4e1a3dfc();",
"                };",
"                document.getElementsByTagName(\"head\")[0].appendChild(script);",
"            }",
"            else {",
"                renderPlotly_c0bc6c7ce1344619804bcf1b4e1a3dfc();",
"            }",
"\u003c/script\u003e",
""]
        },
           "execution_count": null,
           "metadata": {},
           "output_type": "execute_result"
          }], 
           "source": ["ternaryPoint\n"]
          }
,
          {
           "cell_type": "markdown",
           "metadata": {},
           
           "source": ["## Ternary line charts\n",
"\n",
"use `Chart.LineTernary` to create a ternary plot that displays a line connecting input the data on a ternary coordinate system:\n",
"\n",
"As values on ternary plots sum to a constant, you can omit one dimension ofd the data by providing that sum.\n",
"\n",
"You can also for example change the line style using `Chart.withLineStyle`\n",
"\n"]
          }
,
          {
           "cell_type": "code",
           "metadata": {},
            "execution_count": 6, "outputs": [], 
           "source": ["let lineTernary = \n",
"    Chart.LineTernary(a,b,Sum = 10)\n",
"    |\u003e Chart.withLineStyle(Color=Color.fromString \"purple\",Dash=StyleParam.DrawingStyle.DashDot)\n"]
          }
,
          {
           "cell_type": "code",
           "metadata": {},
            "execution_count": null, "outputs": [
          {
           "data": {
            "text/html": ["\u003cdiv id=\"40dcc8d9-b447-411f-90f1-5a7a7dd3121a\"\u003e\u003c!-- Plotly chart will be drawn inside this DIV --\u003e\u003c/div\u003e",
"\u003cscript type=\"text/javascript\"\u003e",
"",
"            var renderPlotly_40dcc8d9b447411f90f15a7a7dd3121a = function() {",
"            var fsharpPlotlyRequire = requirejs.config({context:\u0027fsharp-plotly\u0027,paths:{plotly:\u0027https://cdn.plot.ly/plotly-2.4.2.min\u0027}}) || require;",
"            fsharpPlotlyRequire([\u0027plotly\u0027], function(Plotly) {",
"",
"            var data = [{\"type\":\"scatterternary\",\"mode\":\"lines\",\"a\":[1,2,3,4,5,6,7],\"b\":[7,6,5,4,3,2,1],\"sum\":10,\"line\":{\"color\":\"purple\",\"dash\":\"dashdot\"},\"marker\":{}}];",
"            var layout = {\"width\":600,\"height\":600,\"template\":{\"layout\":{\"paper_bgcolor\":\"white\",\"plot_bgcolor\":\"white\",\"xaxis\":{\"ticks\":\"inside\",\"mirror\":\"all\",\"showline\":true,\"zeroline\":true},\"yaxis\":{\"ticks\":\"inside\",\"mirror\":\"all\",\"showline\":true,\"zeroline\":true}},\"data\":{}}};",
"            var config = {\"responsive\":true};",
"            Plotly.newPlot(\u002740dcc8d9-b447-411f-90f1-5a7a7dd3121a\u0027, data, layout, config);",
"});",
"            };",
"            if ((typeof(requirejs) !==  typeof(Function)) || (typeof(requirejs.config) !== typeof(Function))) {",
"                var script = document.createElement(\"script\");",
"                script.setAttribute(\"src\", \"https://cdnjs.cloudflare.com/ajax/libs/require.js/2.3.6/require.min.js\");",
"                script.onload = function(){",
"                    renderPlotly_40dcc8d9b447411f90f15a7a7dd3121a();",
"                };",
"                document.getElementsByTagName(\"head\")[0].appendChild(script);",
"            }",
"            else {",
"                renderPlotly_40dcc8d9b447411f90f15a7a7dd3121a();",
"            }",
"\u003c/script\u003e",
""]
        },
           "execution_count": null,
           "metadata": {},
           "output_type": "execute_result"
          }], 
           "source": ["lineTernary\n"]
          }],
            "metadata": {
            "kernelspec": {"display_name": ".NET (F#)", "language": "F#", "name": ".net-fsharp"},
            "langauge_info": {
        "file_extension": ".fs",
        "mimetype": "text/x-fsharp",
        "name": "C#",
        "pygments_lexer": "fsharp",
        "version": "4.5"
        }
        },
            "nbformat": 4,
            "nbformat_minor": 1
        }
        

