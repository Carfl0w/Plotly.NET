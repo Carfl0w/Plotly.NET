
        {
            "cells": [
          {
           "cell_type": "markdown",
           "metadata": {},
           
           "source": ["// can\u0027t yet format YamlFrontmatter ([\"title: Chart config\"; \"category: General\"; \"categoryindex: 1\"; \"index: 4\"], Some { StartLine = 2 StartColumn = 0 EndLine = 6 EndColumn = 8 }) to pynb markdown\n",
"\n"]
          }
,
          {
           "cell_type": "code",
           "metadata": {},
            "execution_count": null, "outputs": [], 
           "source": ["#r \"nuget: Plotly.NET, 2.0.0-preview.12\"\n",
"#r \"nuget: Plotly.NET.Interactive, 2.0.0-preview.12\"\n"]
          }
,
          {
           "cell_type": "markdown",
           "metadata": {},
           
           "source": ["# Chart config\n",
"\n",
"[![Binder](https://plotly.net/img/badge-binder.svg)](https://mybinder.org/v2/gh/plotly/Plotly.NET/gh-pages?filepath=00_3_chart-config.ipynb)\u0026emsp;\n",
"[![Script](https://plotly.net/img/badge-script.svg)](https://plotly.net/00_3_chart-config.fsx)\u0026emsp;\n",
"[![Notebook](https://plotly.net/img/badge-notebook.svg)](https://plotly.net/00_3_chart-config.ipynb)\n",
"\n",
"`Config` is an object that configures high level properties of the chart like making all chart elements editable or the tool bar on top\n",
"\n",
"## Image button options\n",
"\n",
"Options for chart export can be set in the config at `ToImageButtonOptions`:\n",
"\n",
"  - Three file formats for chart exports are supported (SVG, PNG, JPEG) and can be set as `Format`. \n",
"\n",
"  - A predefined name for the downloaded chart can be set at `Filename`. \n",
"\n",
"  - The dimensions of the downloaded chart are set at `Width` and `Height`.\n",
"\n",
"  - The `Scale` defines the size of the exported svg.\n",
"\n",
"The settings do not apply for the html document containing the chart but for charts that are exported by clicking the camera icon in the menu bar.\n",
"\n",
"\n"]
          }
,
          {
           "cell_type": "code",
           "metadata": {},
            "execution_count": 3, "outputs": [], 
           "source": ["open Plotly.NET\n",
"open Plotly.NET.ConfigObjects\n",
"\n",
"let svgConfig =\n",
"    Config.init (\n",
"        ToImageButtonOptions = ToImageButtonOptions.init(\n",
"            Format = StyleParam.ImageFormat.JPEG,\n",
"            Filename = \"mySvgChart\",\n",
"            Width = 900.,\n",
"            Height = 600.,\n",
"            Scale = 10.\n",
"        )\n",
"    )\n",
"\n",
"let svgButtonChart = \n",
"    Chart.Point([(1.,2.)])\n",
"    |\u003e Chart.withConfig svgConfig\n"]
          }
,
          {
           "cell_type": "code",
           "metadata": {},
            "execution_count": null, "outputs": [
          {
           "data": {
            "text/html": ["\u003cdiv id=\"4f3caefd-450b-4850-a7c2-21f439efdb67\" style=\"width: 600px; height: 600px;\"\u003e\u003c!-- Plotly chart will be drawn inside this DIV --\u003e\u003c/div\u003e",
"\u003cscript type=\"text/javascript\"\u003e",
"",
"            var renderPlotly_4f3caefd450b4850a7c221f439efdb67 = function() {",
"            var fsharpPlotlyRequire = requirejs.config({context:\u0027fsharp-plotly\u0027,paths:{plotly:\u0027https://cdn.plot.ly/plotly-2.4.2.min\u0027}}) || require;",
"            fsharpPlotlyRequire([\u0027plotly\u0027], function(Plotly) {",
"",
"            var data = [{\"type\":\"scatter\",\"mode\":\"markers\",\"x\":[1.0],\"y\":[2.0],\"marker\":{}}];",
"            var layout = {};",
"            var config = {\"toImageButtonOptions\":{\"format\":\"jpeg\",\"filename\":\"mySvgChart\",\"width\":900.0,\"height\":600.0,\"scale\":10.0}};",
"            Plotly.newPlot(\u00274f3caefd-450b-4850-a7c2-21f439efdb67\u0027, data, layout, config);",
"});",
"            };",
"            if ((typeof(requirejs) !==  typeof(Function)) || (typeof(requirejs.config) !== typeof(Function))) {",
"                var script = document.createElement(\"script\");",
"                script.setAttribute(\"src\", \"https://cdnjs.cloudflare.com/ajax/libs/require.js/2.3.6/require.min.js\");",
"                script.onload = function(){",
"                    renderPlotly_4f3caefd450b4850a7c221f439efdb67();",
"                };",
"                document.getElementsByTagName(\"head\")[0].appendChild(script);",
"            }",
"            else {",
"                renderPlotly_4f3caefd450b4850a7c221f439efdb67();",
"            }",
"\u003c/script\u003e",
""]
        },
           "execution_count": null,
           "metadata": {},
           "output_type": "execute_result"
          }], 
           "source": ["svgButtonChart\n"]
          }
,
          {
           "cell_type": "markdown",
           "metadata": {},
           
           "source": ["## Static plots\n",
"\n",
"To create a static plot that has no hoverable elements, use `StaticPlot=true` on the Config:\n",
"\n",
"\n"]
          }
,
          {
           "cell_type": "code",
           "metadata": {},
            "execution_count": 5, "outputs": [], 
           "source": ["let staticConfig = Config.init(StaticPlot=true)\n",
"\n",
"let staticPlot =\n",
"    Chart.Point([(1.,2.)])\n",
"    |\u003e Chart.withConfig staticConfig\n"]
          }
,
          {
           "cell_type": "code",
           "metadata": {},
            "execution_count": null, "outputs": [
          {
           "data": {
            "text/html": ["\u003cdiv id=\"14e429ea-1c19-4a68-bc40-6c79cc7542e3\" style=\"width: 600px; height: 600px;\"\u003e\u003c!-- Plotly chart will be drawn inside this DIV --\u003e\u003c/div\u003e",
"\u003cscript type=\"text/javascript\"\u003e",
"",
"            var renderPlotly_14e429ea1c194a68bc406c79cc7542e3 = function() {",
"            var fsharpPlotlyRequire = requirejs.config({context:\u0027fsharp-plotly\u0027,paths:{plotly:\u0027https://cdn.plot.ly/plotly-2.4.2.min\u0027}}) || require;",
"            fsharpPlotlyRequire([\u0027plotly\u0027], function(Plotly) {",
"",
"            var data = [{\"type\":\"scatter\",\"mode\":\"markers\",\"x\":[1.0],\"y\":[2.0],\"marker\":{}}];",
"            var layout = {};",
"            var config = {\"staticPlot\":true};",
"            Plotly.newPlot(\u002714e429ea-1c19-4a68-bc40-6c79cc7542e3\u0027, data, layout, config);",
"});",
"            };",
"            if ((typeof(requirejs) !==  typeof(Function)) || (typeof(requirejs.config) !== typeof(Function))) {",
"                var script = document.createElement(\"script\");",
"                script.setAttribute(\"src\", \"https://cdnjs.cloudflare.com/ajax/libs/require.js/2.3.6/require.min.js\");",
"                script.onload = function(){",
"                    renderPlotly_14e429ea1c194a68bc406c79cc7542e3();",
"                };",
"                document.getElementsByTagName(\"head\")[0].appendChild(script);",
"            }",
"            else {",
"                renderPlotly_14e429ea1c194a68bc406c79cc7542e3();",
"            }",
"\u003c/script\u003e",
""]
        },
           "execution_count": null,
           "metadata": {},
           "output_type": "execute_result"
          }], 
           "source": ["staticPlot\n"]
          }
,
          {
           "cell_type": "markdown",
           "metadata": {},
           
           "source": ["## Editable charts\n",
"\n",
"You can define fields that can be edited on the chart by setting `Editable = true` on the config, optionally explicitly setting the editable parts via `EditableAnnotations`\n",
"\n",
"\n"]
          }
,
          {
           "cell_type": "code",
           "metadata": {},
            "execution_count": 7, "outputs": [], 
           "source": ["let editableConfig = \n",
"    Config.init(\n",
"        Editable = true,\n",
"        EditableAnnotations = [\n",
"            StyleParam.AnnotationEditOptions.LegendPosition\n",
"            StyleParam.AnnotationEditOptions.AxisTitleText\n",
"            StyleParam.AnnotationEditOptions.LegendText\n",
"        ]\n",
"    )\n",
"\n",
"let editablePlot =\n",
"    Chart.Point([(1.,2.)])\n",
"    |\u003e Chart.withConfig editableConfig\n"]
          }
,
          {
           "cell_type": "code",
           "metadata": {},
            "execution_count": null, "outputs": [
          {
           "data": {
            "text/html": ["\u003cdiv id=\"d0872dd3-698a-46f9-a059-e54c1006b1b5\" style=\"width: 600px; height: 600px;\"\u003e\u003c!-- Plotly chart will be drawn inside this DIV --\u003e\u003c/div\u003e",
"\u003cscript type=\"text/javascript\"\u003e",
"",
"            var renderPlotly_d0872dd3698a46f9a059e54c1006b1b5 = function() {",
"            var fsharpPlotlyRequire = requirejs.config({context:\u0027fsharp-plotly\u0027,paths:{plotly:\u0027https://cdn.plot.ly/plotly-2.4.2.min\u0027}}) || require;",
"            fsharpPlotlyRequire([\u0027plotly\u0027], function(Plotly) {",
"",
"            var data = [{\"type\":\"scatter\",\"mode\":\"markers\",\"x\":[1.0],\"y\":[2.0],\"marker\":{}}];",
"            var layout = {};",
"            var config = {\"editable\":true,\"edits\":{\"legendPosition\":true,\"axisTitleText\":true,\"legendText\":true}};",
"            Plotly.newPlot(\u0027d0872dd3-698a-46f9-a059-e54c1006b1b5\u0027, data, layout, config);",
"});",
"            };",
"            if ((typeof(requirejs) !==  typeof(Function)) || (typeof(requirejs.config) !== typeof(Function))) {",
"                var script = document.createElement(\"script\");",
"                script.setAttribute(\"src\", \"https://cdnjs.cloudflare.com/ajax/libs/require.js/2.3.6/require.min.js\");",
"                script.onload = function(){",
"                    renderPlotly_d0872dd3698a46f9a059e54c1006b1b5();",
"                };",
"                document.getElementsByTagName(\"head\")[0].appendChild(script);",
"            }",
"            else {",
"                renderPlotly_d0872dd3698a46f9a059e54c1006b1b5();",
"            }",
"\u003c/script\u003e",
""]
        },
           "execution_count": null,
           "metadata": {},
           "output_type": "execute_result"
          }], 
           "source": ["editablePlot\n"]
          }
,
          {
           "cell_type": "markdown",
           "metadata": {},
           
           "source": ["## Responsive charts\n",
"\n",
"To create a chart that is reponsive to its container size, use `Responsive=true` on the Config:\n",
"\n",
"(try resizing the window)\n",
"\n"]
          }
,
          {
           "cell_type": "code",
           "metadata": {},
            "execution_count": 9, "outputs": [], 
           "source": ["let responsiveConfig = Config.init(Responsive=true)\n",
"\n",
"let responsivePlot =\n",
"    Chart.Point([(1.,2.)])\n",
"    |\u003e Chart.withConfig responsiveConfig\n"]
          }
,
          {
           "cell_type": "code",
           "metadata": {},
            "execution_count": null, "outputs": [
          {
           "data": {
            "text/html": ["\u003cdiv id=\"60d6e99c-33fd-4163-bbef-65a2add4fe84\" style=\"width: 600px; height: 600px;\"\u003e\u003c!-- Plotly chart will be drawn inside this DIV --\u003e\u003c/div\u003e",
"\u003cscript type=\"text/javascript\"\u003e",
"",
"            var renderPlotly_60d6e99c33fd4163bbef65a2add4fe84 = function() {",
"            var fsharpPlotlyRequire = requirejs.config({context:\u0027fsharp-plotly\u0027,paths:{plotly:\u0027https://cdn.plot.ly/plotly-2.4.2.min\u0027}}) || require;",
"            fsharpPlotlyRequire([\u0027plotly\u0027], function(Plotly) {",
"",
"            var data = [{\"type\":\"scatter\",\"mode\":\"markers\",\"x\":[1.0],\"y\":[2.0],\"marker\":{}}];",
"            var layout = {};",
"            var config = {\"responsive\":true};",
"            Plotly.newPlot(\u002760d6e99c-33fd-4163-bbef-65a2add4fe84\u0027, data, layout, config);",
"});",
"            };",
"            if ((typeof(requirejs) !==  typeof(Function)) || (typeof(requirejs.config) !== typeof(Function))) {",
"                var script = document.createElement(\"script\");",
"                script.setAttribute(\"src\", \"https://cdnjs.cloudflare.com/ajax/libs/require.js/2.3.6/require.min.js\");",
"                script.onload = function(){",
"                    renderPlotly_60d6e99c33fd4163bbef65a2add4fe84();",
"                };",
"                document.getElementsByTagName(\"head\")[0].appendChild(script);",
"            }",
"            else {",
"                renderPlotly_60d6e99c33fd4163bbef65a2add4fe84();",
"            }",
"\u003c/script\u003e",
""]
        },
           "execution_count": null,
           "metadata": {},
           "output_type": "execute_result"
          }], 
           "source": ["responsivePlot\n"]
          }],
            "metadata": {
            "kernelspec": {"display_name": ".NET (F#)", "language": "F#", "name": ".net-fsharp"},
            "langauge_info": {
        "file_extension": ".fs",
        "mimetype": "text/x-fsharp",
        "name": "C#",
        "pygments_lexer": "fsharp",
        "version": "4.5"
        }
        },
            "nbformat": 4,
            "nbformat_minor": 1
        }
        

