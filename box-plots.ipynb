
        {
            "cells": [
          {
           "cell_type": "code",
           "metadata": {},
            "execution_count": null, "outputs": [], 
           "source": ["#r \"nuget: Plotly.NET, 2.0.0-beta1\"\n",
"#r \"nuget: Plotly.NET.Interactive, 2.0.0-alpha5\"\n"]
          }
,
          {
           "cell_type": "markdown",
           "metadata": {},
           
           "source": ["# BoxPlots\n",
"\n",
"[![Binder](https://mybinder.org/badge_logo.svg)](https://mybinder.org/v2/gh/plotly/Plotly.NET/gh-pages?filepath=box-plots.ipynb)\n",
"\n",
"*Summary:* This example shows how to create boxplot charts in F#.\n",
"\n",
"let\u0027s first create some data for the purpose of creating example charts:\n"]
          }
,
          {
           "cell_type": "code",
           "metadata": {},
            "execution_count": 3, "outputs": [], 
           "source": ["open Plotly.NET \n",
"\n",
"let y =  [2.; 1.5; 5.; 1.5; 3.; 2.5; 2.5; 1.5; 3.5; 1.]\n",
"let x = [\"bin1\";\"bin2\";\"bin1\";\"bin2\";\"bin1\";\"bin2\";\"bin1\";\"bin1\";\"bin2\";\"bin1\"]\n"]
          }
,
          {
           "cell_type": "markdown",
           "metadata": {},
           
           "source": ["A box plot or boxplot is a convenient way of graphically depicting groups of numerical data through their quartiles. \n",
"Box plots may also have lines extending vertically from the boxes (whiskers) indicating variability outside the upper\n",
"and lower quartiles, hence the terms box-and-whisker plot and box-and-whisker diagram. \n",
"Outliers may be plotted as individual points.\n"]
          }
,
          {
           "cell_type": "code",
           "metadata": {},
            "execution_count": 4, "outputs": [], 
           "source": ["let box1 =\n",
"    Chart.BoxPlot(x,y,Jitter=0.1,Boxpoints=StyleParam.Boxpoints.All)\n"]
          }
,
          {
           "cell_type": "code",
           "metadata": {},
            "execution_count": null, "outputs": [
          {
           "data": {
            "text/plain": ["No value returned by any evaluator"]
        },
           "execution_count": null,
           "metadata": {},
           "output_type": "execute_result"
          }], 
           "source": ["box1\n"]
          }
,
          {
           "cell_type": "markdown",
           "metadata": {},
           
           "source": ["By swapping x and y plus using `StyleParam.Orientation.Horizontal` we can flip the chart horizontaly.\n"]
          }
,
          {
           "cell_type": "code",
           "metadata": {},
            "execution_count": 6, "outputs": [], 
           "source": ["let box2 =\n",
"    Chart.BoxPlot(y,x,Jitter=0.1,Boxpoints=StyleParam.Boxpoints.All,Orientation=StyleParam.Orientation.Horizontal)\n"]
          }
,
          {
           "cell_type": "code",
           "metadata": {},
            "execution_count": null, "outputs": [
          {
           "data": {
            "text/plain": ["No value returned by any evaluator"]
        },
           "execution_count": null,
           "metadata": {},
           "output_type": "execute_result"
          }], 
           "source": ["box2\n"]
          }
,
          {
           "cell_type": "markdown",
           "metadata": {},
           
           "source": ["You can also produce a boxplot using the `Chart.Combine` syntax.\n"]
          }
,
          {
           "cell_type": "code",
           "metadata": {},
            "execution_count": 8, "outputs": [], 
           "source": ["let y\u0027 =  [2.; 1.5; 5.; 1.5; 2.; 2.5; 2.1; 2.5; 1.5; 1.;2.; 1.5; 5.; 1.5; 3.; 2.5; 2.5; 1.5; 3.5; 1.]\n",
"\n",
"let box3 =\n",
"    [\n",
"        Chart.BoxPlot(\"y\" ,y,Name=\"bin1\",Jitter=0.1,Boxpoints=StyleParam.Boxpoints.All);\n",
"        Chart.BoxPlot(\"y\u0027\",y\u0027,Name=\"bin2\",Jitter=0.1,Boxpoints=StyleParam.Boxpoints.All);\n",
"    ]\n",
"    |\u003e Chart.Combine\n"]
          }
,
          {
           "cell_type": "code",
           "metadata": {},
            "execution_count": null, "outputs": [
          {
           "data": {
            "text/plain": ["No value returned by any evaluator"]
        },
           "execution_count": null,
           "metadata": {},
           "output_type": "execute_result"
          }], 
           "source": ["box3\n"]
          }],
            "metadata": {
            "kernelspec": {"display_name": ".NET (F#)", "language": "F#", "name": ".net-fsharp"},
            "langauge_info": {
        "file_extension": ".fs",
        "mimetype": "text/x-fsharp",
        "name": "C#",
        "pygments_lexer": "fsharp",
        "version": "4.5"
        }
        },
            "nbformat": 4,
            "nbformat_minor": 1
        }
        

