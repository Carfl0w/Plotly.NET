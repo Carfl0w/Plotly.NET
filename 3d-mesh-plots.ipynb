
        {
            "cells": [
          {
           "cell_type": "code",
           "metadata": {},
            "execution_count": null, "outputs": [], 
           "source": ["#r \"nuget: Plotly.NET, 2.0.0-beta1\"\n",
"#r \"nuget: Plotly.NET.Interactive, 2.0.0-alpha5\"\n"]
          }
,
          {
           "cell_type": "markdown",
           "metadata": {},
           
           "source": ["# Mesh3d\n",
"\n",
"[![Binder](https://mybinder.org/badge_logo.svg)](https://mybinder.org/v2/gh/plotly/Plotly.NET/gh-pages?filepath=3d-mesh-plots.ipynb)\n",
"\n",
"*Summary:* This example shows how to create 3D-Mesh charts in F#.\n",
"\n",
"let\u0027s first create some data for the purpose of creating example charts:\n"]
          }
,
          {
           "cell_type": "code",
           "metadata": {},
            "execution_count": 3, "outputs": [], 
           "source": ["open System\n",
"open Plotly.NET \n",
"\n",
"\n",
"//---------------------- Generate linearly spaced vector ----------------------\n",
"let linspace (min,max,n) = \n",
"    if n \u003c= 2 then failwithf \"n needs to be larger then 2\"\n",
"    let bw = float (max - min) / (float n - 1.)\n",
"    Array.init n (fun i -\u003e min + (bw * float i))\n",
"    //[|min ..bw ..max|]\n",
"\n",
"//---------------------- Create example data ----------------------\n",
"let size = 100\n",
"let x = linspace(-2. * Math.PI, 2. * Math.PI, size)\n",
"let y = linspace(-2. * Math.PI, 2. * Math.PI, size)\n",
"\n",
"let f x y = - (5. * x / (x**2. + y**2. + 1.) )\n",
"\n",
"let z = \n",
"    Array.init size (fun i -\u003e \n",
"        Array.init size (fun j -\u003e \n",
"            f x.[j] y.[i] \n",
"        )\n",
"    )\n",
"\n",
"let rnd = System.Random()\n",
"let a = Array.init 50 (fun _ -\u003e rnd.NextDouble())\n",
"let b = Array.init 50 (fun _ -\u003e rnd.NextDouble())\n",
"let c = Array.init 50 (fun _ -\u003e rnd.NextDouble())\n",
"\n",
"\n",
"let mesh3d =\n",
"    Trace3d.initMesh3d \n",
"        (fun mesh3d -\u003e\n",
"            mesh3d?x \u003c- a\n",
"            mesh3d?y \u003c- b\n",
"            mesh3d?z \u003c- c\n",
"            mesh3d?flatshading \u003c- true\n",
"            mesh3d?contour \u003c- Contours.initXyz(Show=true)\n",
"            mesh3d\n",
"            )\n",
"    |\u003e GenericChart.ofTraceObject \n",
"    \n"]
          }
,
          {
           "cell_type": "code",
           "metadata": {},
            "execution_count": null, "outputs": [
          {
           "data": {
            "text/html": ["\u003cdiv id=\"de54ed00-3118-4d74-8259-e025e07a0feb\" style=\"width: 600px; height: 600px;\"\u003e\u003c!-- Plotly chart will be drawn inside this DIV --\u003e\u003c/div\u003e",
"",
"\u003cscript type=\"text/javascript\"\u003e",
"",
"",
"            var renderPlotly_de54ed0031184d748259e025e07a0feb = function() {",
"            var fsharpPlotlyRequire = requirejs.config({context:\u0027fsharp-plotly\u0027,paths:{plotly:\u0027https://cdn.plot.ly/plotly-latest.min\u0027}}) || require;",
"            fsharpPlotlyRequire([\u0027plotly\u0027], function(Plotly) {",
"",
"",
"            var data = [{\"type\":\"mesh3d\",\"x\":[0.3172590859780363,0.43940036904038876,0.049893240933256804,0.9413613597589365,0.7854455312646206,0.23713887028262898,0.5222231408218961,0.29087356212123927,0.5919911966621835,0.7454723160459997,0.09201016421057757,0.7566921109131967,0.7818317430940604,0.303975657701481,0.8575558796793017,0.2187045557511526,0.27823516646317914,0.18891855989998138,0.7290740426299507,0.013578708755587558,0.09263666956342602,0.2002919205465782,0.3764962523134873,0.4162210041732625,0.6433706803449293,0.8065857634910316,0.25763793534489254,0.8735780473209815,0.00114853959584075,0.7986484928050305,0.5396388999836701,0.3584957096532433,0.5861842979612687,0.36447809094771655,0.7046428805704428,0.34574279717437123,0.39037691866530894,0.9416078016821331,0.8651894730819341,0.968797164488955,0.20776288966078446,0.7715213702858991,0.05709010085886815,0.941643483443951,0.6287191108002882,0.6080739165693866,0.544939142905613,0.9933094605772335,0.24580713233249593,0.4320021697469066],\"y\":[0.20444123875556572,0.08449817545921456,0.3996620599178886,0.7528548509594308,0.008406443990956268,0.11696716543145812,0.06290411672690144,0.6336722367599943,0.2979906794140072,0.978859767773589,0.9795009349377365,0.6486450935009146,0.28972502252539856,0.793342703857153,0.20583341606232963,0.7335144545573343,0.1705078129519279,0.4173536521463439,0.5993327771310382,0.5118130825049305,0.8283276370858437,0.336627364781046,0.32372908681804735,0.7602768781409956,0.8058158190948032,0.3211152992775269,0.14320181968771006,0.43485276886953633,0.7875018933729743,0.035296763775542736,0.2616466205854186,0.2643284747676591,0.6277709149884856,0.5691463698489342,0.5942072540494647,0.4551407245244555,0.9588336497353547,0.8333294470018379,0.35607164695676025,0.5876757151389848,0.2828386804474698,0.7567046819053146,0.643617122268126,0.886329705308345,0.9892962295512185,0.5591177961598699,0.48179634776050057,0.2637473970017151,0.7358100673816214,0.8952046562429539],\"z\":[0.4375661036174587,0.1275854907592691,0.3939766834461953,0.7339940498275654,0.603674532661063,0.8678138739745197,0.7607690886411672,0.639385181776893,0.9470390318646278,0.6872911447134293,0.9737653457437481,0.628051347857365,0.84617034338702,0.26269391563846445,0.7172131471881704,0.7151724601700774,0.02087417851242897,0.7205786526764644,0.19913544980768833,0.7506926915378741,0.7746808048219797,0.33717836595009004,0.06128200518958364,0.011657061992053437,0.2289744020574607,0.07162295518052902,0.6930102425129201,0.43739938150970237,0.7709806485897771,0.2466980229349332,0.8393189515170264,0.8794544226859949,0.699042701487915,0.8922972371300204,0.5977306601580841,0.1340611298261495,0.8703517913214638,0.8937768651609201,0.9654718371878712,0.726393380074945,0.6943716358832883,0.3194484679584617,0.8862904151372101,0.668780502243331,0.6139103693952367,0.6547873325901047,0.9105343385182947,0.38092320662966145,0.1691165581201746,0.2741237693811412],\"flatshading\":true,\"contour\":{\"x\":{\"show\":true},\"y\":{\"show\":true},\"z\":{\"show\":true}}}];",
"            var layout = {};",
"            var config = {};",
"            Plotly.newPlot(\u0027de54ed00-3118-4d74-8259-e025e07a0feb\u0027, data, layout, config);",
"",
"});",
"            };",
"            if ((typeof(requirejs) !==  typeof(Function)) || (typeof(requirejs.config) !== typeof(Function))) {",
"                var script = document.createElement(\"script\");",
"                script.setAttribute(\"src\", \"https://cdnjs.cloudflare.com/ajax/libs/require.js/2.3.6/require.min.js\");",
"                script.onload = function(){",
"                    renderPlotly_de54ed0031184d748259e025e07a0feb();",
"                };",
"                document.getElementsByTagName(\"head\")[0].appendChild(script);",
"            }",
"            else {",
"                renderPlotly_de54ed0031184d748259e025e07a0feb();",
"            }",
"",
"\u003c/script\u003e",
"",
""]
        },
           "execution_count": null,
           "metadata": {},
           "output_type": "execute_result"
          }], 
           "source": ["mesh3d\n"]
          }],
            "metadata": {
            "kernelspec": {"display_name": ".NET (F#)", "language": "F#", "name": ".net-fsharp"},
            "langauge_info": {
        "file_extension": ".fs",
        "mimetype": "text/x-fsharp",
        "name": "C#",
        "pygments_lexer": "fsharp",
        "version": "4.5"
        }
        },
            "nbformat": 4,
            "nbformat_minor": 1
        }
        

