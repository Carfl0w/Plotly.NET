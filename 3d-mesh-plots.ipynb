
        {
            "cells": [
          {
           "cell_type": "code",
           "metadata": {},
            "execution_count": null, "outputs": [], 
           "source": ["#r \"nuget: Plotly.NET, 2.0.0-beta1\"\n",
"#r \"nuget: Plotly.NET.Interactive, 2.0.0-alpha5\"\n"]
          }
,
          {
           "cell_type": "markdown",
           "metadata": {},
           
           "source": ["# Mesh3d\n",
"\n",
"[![Binder](https://mybinder.org/badge_logo.svg)](https://mybinder.org/v2/gh/plotly/Plotly.NET/gh-pages?filepath=3d-mesh-plots.ipynb)\n",
"\n",
"*Summary:* This example shows how to create 3D-Mesh charts in F#.\n",
"\n",
"let\u0027s first create some data for the purpose of creating example charts:\n"]
          }
,
          {
           "cell_type": "code",
           "metadata": {},
            "execution_count": 3, "outputs": [], 
           "source": ["open System\n",
"open Plotly.NET \n",
"\n",
"\n",
"//---------------------- Generate linearly spaced vector ----------------------\n",
"let linspace (min,max,n) = \n",
"    if n \u003c= 2 then failwithf \"n needs to be larger then 2\"\n",
"    let bw = float (max - min) / (float n - 1.)\n",
"    Array.init n (fun i -\u003e min + (bw * float i))\n",
"    //[|min ..bw ..max|]\n",
"\n",
"//---------------------- Create example data ----------------------\n",
"let size = 100\n",
"let x = linspace(-2. * Math.PI, 2. * Math.PI, size)\n",
"let y = linspace(-2. * Math.PI, 2. * Math.PI, size)\n",
"\n",
"let f x y = - (5. * x / (x**2. + y**2. + 1.) )\n",
"\n",
"let z = \n",
"    Array.init size (fun i -\u003e \n",
"        Array.init size (fun j -\u003e \n",
"            f x.[j] y.[i] \n",
"        )\n",
"    )\n",
"\n",
"let rnd = System.Random()\n",
"let a = Array.init 50 (fun _ -\u003e rnd.NextDouble())\n",
"let b = Array.init 50 (fun _ -\u003e rnd.NextDouble())\n",
"let c = Array.init 50 (fun _ -\u003e rnd.NextDouble())\n",
"\n",
"\n",
"let mesh3d =\n",
"    Trace3d.initMesh3d \n",
"        (fun mesh3d -\u003e\n",
"            mesh3d?x \u003c- a\n",
"            mesh3d?y \u003c- b\n",
"            mesh3d?z \u003c- c\n",
"            mesh3d?flatshading \u003c- true\n",
"            mesh3d?contour \u003c- Contours.initXyz(Show=true)\n",
"            mesh3d\n",
"            )\n",
"    |\u003e GenericChart.ofTraceObject \n",
"    \n"]
          }
,
          {
           "cell_type": "code",
           "metadata": {},
            "execution_count": null, "outputs": [
          {
           "data": {
            "text/html": ["\u003cdiv id=\"074a028a-771b-4bf3-9bf9-bf13d67364f2\" style=\"width: 600px; height: 600px;\"\u003e\u003c!-- Plotly chart will be drawn inside this DIV --\u003e\u003c/div\u003e",
"",
"\u003cscript type=\"text/javascript\"\u003e",
"",
"",
"            var renderPlotly_074a028a771b4bf39bf9bf13d67364f2 = function() {",
"            var fsharpPlotlyRequire = requirejs.config({context:\u0027fsharp-plotly\u0027,paths:{plotly:\u0027https://cdn.plot.ly/plotly-latest.min\u0027}}) || require;",
"            fsharpPlotlyRequire([\u0027plotly\u0027], function(Plotly) {",
"",
"",
"            var data = [{\"type\":\"mesh3d\",\"x\":[0.9980359664177689,0.5514985954163124,0.6589640228352341,0.35135082870319057,0.09896856970105719,0.6087511152069788,0.6574693558073925,0.7419473169101157,0.1695646788783207,0.3438529331906945,0.4190947610973822,0.9238655832241595,0.3832224567342654,0.8222630228019613,0.6516918501126077,0.38630126620936267,0.9549026684625552,0.055251842856058775,0.38665687776480656,0.4742403162989022,0.4014029555960572,0.3972395660342833,0.9889137535304361,0.992452201429965,0.7783322407763136,0.924489905556892,0.12915195484140513,0.8328845556047207,0.6884355282822789,0.34685209642483483,0.35481268789377657,0.19662269027746407,0.8568599279303383,0.9990027095186537,0.7622407533983889,0.9030699957642099,0.19122026310824802,0.7621302622194077,0.7442264108658891,0.7577422236826933,0.859862797362666,0.9159771692547841,0.8837806931155644,0.8171638934021648,0.7201464738324966,0.2667635782932693,0.7738700955053186,0.18022039354789088,0.8307538702295878,0.6528386667616846],\"y\":[0.20516004842014984,0.1682527331487521,0.38637138362339296,0.1403356809822543,0.40161682218388506,0.6007964003834857,0.5625848418858763,0.6665118214052691,0.573018587926877,0.17447866414416519,0.47959916036557365,0.8245848002026718,0.05351178862783675,0.8227125824534859,0.9890402452969179,0.2224720708199181,0.0670056552938212,0.38421974721561175,0.06002226940357232,0.7486218543483978,0.19508100310111465,0.1927724062431475,0.31102543199016963,0.6289146540821132,0.6143775189362362,0.48542578634127315,0.513458872918719,0.17174986012827131,0.2723057275974684,0.5115686624830442,0.15061981005157335,0.9489315612935142,0.002130685375132917,0.03559686152059439,0.141692048004685,0.18655995474502443,0.8102513066540711,0.716524246948084,0.5973858873347686,0.1614443530149033,0.34048515387833356,0.5247084417029789,0.1891116742925307,0.5697477467217239,0.27814306331711963,0.035277997159994204,0.8624653806269473,0.06106811066207854,0.8281236481052467,0.49767440301257854],\"z\":[0.1997579229994481,0.3896503482897069,0.12019812414431857,0.08213201588119008,0.4577576636605699,0.012387642177002337,0.8572273011585825,0.7574567295412797,0.5259581620460181,0.916191035842612,0.08733752746476676,0.39083498175760495,0.3942060938078007,0.06144992544383273,0.02385885409259184,0.5306675990720594,0.8224541148275389,0.01791492710724237,0.6810205344488008,0.8024802905518935,0.41222076416584696,0.3504814083457372,0.7868338598808431,0.898577916388669,0.4081367004700642,0.6703725613981357,0.003660731950616805,0.7412776852684457,0.3507715907649936,0.5790995217762419,0.6229604057143258,0.4523907622566404,0.34362621202302457,0.7746313245848898,0.31181073948359617,0.7609694617618664,0.8287334371491957,0.9199986694939428,0.5778391978600245,0.12930440582768266,0.329332653586442,0.0527945771127914,0.19056608490206584,0.6811948514921566,0.07410682555013653,0.9496501721207287,0.13050234789517817,0.127661748848698,0.5458888926291321,0.7474754642450602],\"flatshading\":true,\"contour\":{\"x\":{\"show\":true},\"y\":{\"show\":true},\"z\":{\"show\":true}}}];",
"            var layout = {};",
"            var config = {};",
"            Plotly.newPlot(\u0027074a028a-771b-4bf3-9bf9-bf13d67364f2\u0027, data, layout, config);",
"",
"});",
"            };",
"            if ((typeof(requirejs) !==  typeof(Function)) || (typeof(requirejs.config) !== typeof(Function))) {",
"                var script = document.createElement(\"script\");",
"                script.setAttribute(\"src\", \"https://cdnjs.cloudflare.com/ajax/libs/require.js/2.3.6/require.min.js\");",
"                script.onload = function(){",
"                    renderPlotly_074a028a771b4bf39bf9bf13d67364f2();",
"                };",
"                document.getElementsByTagName(\"head\")[0].appendChild(script);",
"            }",
"            else {",
"                renderPlotly_074a028a771b4bf39bf9bf13d67364f2();",
"            }",
"",
"\u003c/script\u003e",
"",
""]
        },
           "execution_count": null,
           "metadata": {},
           "output_type": "execute_result"
          }], 
           "source": ["mesh3d\n"]
          }],
            "metadata": {
            "kernelspec": {"display_name": ".NET (F#)", "language": "F#", "name": ".net-fsharp"},
            "langauge_info": {
        "file_extension": ".fs",
        "mimetype": "text/x-fsharp",
        "name": "C#",
        "pygments_lexer": "fsharp",
        "version": "4.5"
        }
        },
            "nbformat": 4,
            "nbformat_minor": 1
        }
        

