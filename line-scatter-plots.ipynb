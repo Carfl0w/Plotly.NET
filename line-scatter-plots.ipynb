
        {
            "cells": [
          {
           "cell_type": "code",
           "metadata": {},
            "execution_count": null, "outputs": [], 
           "source": ["#r \"nuget: Plotly.NET, 2.0.0-beta1\"\n",
"#r \"nuget: Plotly.NET.Interactive, 2.0.0-alpha5\"\n"]
          }
,
          {
           "cell_type": "markdown",
           "metadata": {},
           
           "source": ["# Line and scatter plots\n",
"\n",
"[![Binder](https://mybinder.org/badge_logo.svg)](https://mybinder.org/v2/gh/plotly/Plotly.NET/gh-pages?filepath=line-scatter-plots.ipynb)\n",
"\n",
"*Summary:* This example shows how to create line and point charts in F#.\n",
"\n",
"let\u0027s first create some data for the purpose of creating example charts:\n",
"\n"]
          }
,
          {
           "cell_type": "code",
           "metadata": {},
            "execution_count": 3, "outputs": [], 
           "source": ["open Plotly.NET \n",
"  \n",
"let x  = [1.; 2.; 3.; 4.; 5.; 6.; 7.; 8.; 9.; 10.; ]\n",
"let y = [2.; 1.5; 5.; 1.5; 3.; 2.5; 2.5; 1.5; 3.5; 1.]\n"]
          }
,
          {
           "cell_type": "markdown",
           "metadata": {},
           
           "source": ["A line or a point chart can be created using the `Chart.Line` and `Chart.Point` functions. \n",
"\n",
"## Chart.Line with LineStyle\n",
"\n",
"The following example generates a line Plot containing X and Y values and applies a line style to it.\n"]
          }
,
          {
           "cell_type": "code",
           "metadata": {},
            "execution_count": 4, "outputs": [], 
           "source": ["let line1 =\n",
"    Chart.Line(\n",
"        x,y,\n",
"        Name=\"line\",\n",
"        ShowMarkers=true,\n",
"        MarkerSymbol=StyleParam.Symbol.Square)    \n",
"    |\u003e Chart.withLineStyle(Width=2,Dash=StyleParam.DrawingStyle.Dot)\n"]
          }
,
          {
           "cell_type": "code",
           "metadata": {},
            "execution_count": null, "outputs": [
          {
           "data": {
            "text/plain": ["No value returned by any evaluator"]
        },
           "execution_count": null,
           "metadata": {},
           "output_type": "execute_result"
          }], 
           "source": ["line1\n"]
          }
,
          {
           "cell_type": "markdown",
           "metadata": {},
           
           "source": ["## Pipelining into Chart.Line\n",
"The following example calls the `Chart.Line` method with a list of X and Y values as tuples. The snippet generates\n",
"values of a simple function, f(x)=x^2. The values of the function are generated for X ranging from 1 to 100. The chart generated is \n",
"shown below.\n"]
          }
,
          {
           "cell_type": "code",
           "metadata": {},
            "execution_count": 6, "outputs": [], 
           "source": ["let line2 =\n",
"    // Drawing graph of a \u0027square\u0027 function \n",
"    [ for x in 1.0 .. 100.0 -\u003e (x, x ** 2.0) ]\n",
"    |\u003e Chart.Line\n"]
          }
,
          {
           "cell_type": "code",
           "metadata": {},
            "execution_count": null, "outputs": [
          {
           "data": {
            "text/plain": ["No value returned by any evaluator"]
        },
           "execution_count": null,
           "metadata": {},
           "output_type": "execute_result"
          }], 
           "source": ["line2\n"]
          }
,
          {
           "cell_type": "markdown",
           "metadata": {},
           
           "source": ["## Spline charts\n",
"\n",
"Spline charts interpolate the curves between single points of \n",
"the chart to generate a smoother version of the line chart.\n"]
          }
,
          {
           "cell_type": "code",
           "metadata": {},
            "execution_count": 8, "outputs": [], 
           "source": ["let spline1 = Chart.Spline(x,y,Name=\"spline\")    \n"]
          }
,
          {
           "cell_type": "code",
           "metadata": {},
            "execution_count": null, "outputs": [
          {
           "data": {
            "text/plain": ["No value returned by any evaluator"]
        },
           "execution_count": null,
           "metadata": {},
           "output_type": "execute_result"
          }], 
           "source": ["spline1\n"]
          }
,
          {
           "cell_type": "code",
           "metadata": {},
            "execution_count": 10, "outputs": [], 
           "source": ["let spline2 = \n",
"    Chart.Spline(\n",
"        x,y,\n",
"        Name=\"spline\",\n",
"        Smoothing = 0.4\n",
"    )      \n",
"    \n"]
          }
,
          {
           "cell_type": "code",
           "metadata": {},
            "execution_count": null, "outputs": [
          {
           "data": {
            "text/plain": ["No value returned by any evaluator"]
        },
           "execution_count": null,
           "metadata": {},
           "output_type": "execute_result"
          }], 
           "source": ["spline2\n"]
          }
,
          {
           "cell_type": "markdown",
           "metadata": {},
           
           "source": ["## Point chart with text label\n",
"\n",
"The following example calls the `Chart.Point` function to generate a scatter Plot containing X and Y values.\n",
"Addtionally, text labels are added . \n",
"\n",
"If `TextPosition` is set the labels are drawn otherwise only shown when hovering over the points.\n"]
          }
,
          {
           "cell_type": "code",
           "metadata": {},
            "execution_count": 12, "outputs": [], 
           "source": ["let labels  = [\"a\";\"b\";\"c\";\"d\";\"e\";\"f\";\"g\";\"h\";\"i\";\"j\";]\n",
"\n",
"let pointsWithLabels =\n",
"    Chart.Point(\n",
"        x,y,\n",
"        Name=\"points\",\n",
"        Labels=labels,\n",
"        TextPosition=StyleParam.TextPosition.TopRight\n",
"    )    \n"]
          }
,
          {
           "cell_type": "code",
           "metadata": {},
            "execution_count": null, "outputs": [
          {
           "data": {
            "text/plain": ["No value returned by any evaluator"]
        },
           "execution_count": null,
           "metadata": {},
           "output_type": "execute_result"
          }], 
           "source": ["pointsWithLabels\n"]
          }],
            "metadata": {
            "kernelspec": {"display_name": ".NET (F#)", "language": "F#", "name": ".net-fsharp"},
            "langauge_info": {
        "file_extension": ".fs",
        "mimetype": "text/x-fsharp",
        "name": "C#",
        "pygments_lexer": "fsharp",
        "version": "4.5"
        }
        },
            "nbformat": 4,
            "nbformat_minor": 1
        }
        

